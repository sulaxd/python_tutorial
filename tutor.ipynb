{
 "cells": [
  {
   "cell_type": "markdown",
   "metadata": {},
   "source": [
    "![Python](_img/python-logo.png)\n",
    "\n",
    "\n",
    "湯明軒(Andrew)\n",
    "\n",
    "析客數據有限公司\n"
   ]
  },
  {
   "cell_type": "markdown",
   "metadata": {
    "toc": "true"
   },
   "source": [
    "# Table of Contents\n",
    " <p><div class=\"lev1 toc-item\"><a href=\"#前言\" data-toc-modified-id=\"前言-1\"><span class=\"toc-item-num\">1&nbsp;&nbsp;</span>前言</a></div><div class=\"lev1 toc-item\"><a href=\"#Python-Shell\" data-toc-modified-id=\"Python-Shell-2\"><span class=\"toc-item-num\">2&nbsp;&nbsp;</span>Python Shell</a></div><div class=\"lev2 toc-item\"><a href=\"#Python-Shell的加強版-IPython\" data-toc-modified-id=\"Python-Shell的加強版-IPython-21\"><span class=\"toc-item-num\">2.1&nbsp;&nbsp;</span>Python Shell的加強版 IPython</a></div><div class=\"lev1 toc-item\"><a href=\"#第一個-Python-指令\" data-toc-modified-id=\"第一個-Python-指令-3\"><span class=\"toc-item-num\">3&nbsp;&nbsp;</span>第一個 Python 指令</a></div><div class=\"lev1 toc-item\"><a href=\"#說明文件\" data-toc-modified-id=\"說明文件-4\"><span class=\"toc-item-num\">4&nbsp;&nbsp;</span>說明文件</a></div><div class=\"lev1 toc-item\"><a href=\"#套件安裝與載入\" data-toc-modified-id=\"套件安裝與載入-5\"><span class=\"toc-item-num\">5&nbsp;&nbsp;</span>套件安裝與載入</a></div><div class=\"lev2 toc-item\"><a href=\"#套件管理程式pip\" data-toc-modified-id=\"套件管理程式pip-51\"><span class=\"toc-item-num\">5.1&nbsp;&nbsp;</span>套件管理程式pip</a></div><div class=\"lev2 toc-item\"><a href=\"#套件載入\" data-toc-modified-id=\"套件載入-52\"><span class=\"toc-item-num\">5.2&nbsp;&nbsp;</span>套件載入</a></div><div class=\"lev1 toc-item\"><a href=\"#變數-Variables\" data-toc-modified-id=\"變數-Variables-6\"><span class=\"toc-item-num\">6&nbsp;&nbsp;</span>變數 Variables</a></div><div class=\"lev1 toc-item\"><a href=\"#關鍵字-Keyword\" data-toc-modified-id=\"關鍵字-Keyword-7\"><span class=\"toc-item-num\">7&nbsp;&nbsp;</span>關鍵字 Keyword</a></div><div class=\"lev2 toc-item\"><a href=\"#常數\" data-toc-modified-id=\"常數-71\"><span class=\"toc-item-num\">7.1&nbsp;&nbsp;</span>常數</a></div><div class=\"lev2 toc-item\"><a href=\"#型態定義詞\" data-toc-modified-id=\"型態定義詞-72\"><span class=\"toc-item-num\">7.2&nbsp;&nbsp;</span>型態定義詞</a></div><div class=\"lev2 toc-item\"><a href=\"#控制陳述\" data-toc-modified-id=\"控制陳述-73\"><span class=\"toc-item-num\">7.3&nbsp;&nbsp;</span>控制陳述</a></div><div class=\"lev2 toc-item\"><a href=\"#運算子\" data-toc-modified-id=\"運算子-74\"><span class=\"toc-item-num\">7.4&nbsp;&nbsp;</span>運算子</a></div><div class=\"lev2 toc-item\"><a href=\"#模組相關\" data-toc-modified-id=\"模組相關-75\"><span class=\"toc-item-num\">7.5&nbsp;&nbsp;</span>模組相關</a></div><div class=\"lev1 toc-item\"><a href=\"#識別字\" data-toc-modified-id=\"識別字-8\"><span class=\"toc-item-num\">8&nbsp;&nbsp;</span>識別字</a></div><div class=\"lev2 toc-item\"><a href=\"#命名習慣\" data-toc-modified-id=\"命名習慣-81\"><span class=\"toc-item-num\">8.1&nbsp;&nbsp;</span>命名習慣</a></div><div class=\"lev1 toc-item\"><a href=\"#運算子\" data-toc-modified-id=\"運算子-9\"><span class=\"toc-item-num\">9&nbsp;&nbsp;</span>運算子</a></div><div class=\"lev2 toc-item\"><a href=\"#算術運算子\" data-toc-modified-id=\"算術運算子-91\"><span class=\"toc-item-num\">9.1&nbsp;&nbsp;</span>算術運算子</a></div><div class=\"lev2 toc-item\"><a href=\"#位移運算子\" data-toc-modified-id=\"位移運算子-92\"><span class=\"toc-item-num\">9.2&nbsp;&nbsp;</span>位移運算子</a></div><div class=\"lev2 toc-item\"><a href=\"#位元運算子\" data-toc-modified-id=\"位元運算子-93\"><span class=\"toc-item-num\">9.3&nbsp;&nbsp;</span>位元運算子</a></div><div class=\"lev2 toc-item\"><a href=\"#關係運算子\" data-toc-modified-id=\"關係運算子-94\"><span class=\"toc-item-num\">9.4&nbsp;&nbsp;</span>關係運算子</a></div><div class=\"lev2 toc-item\"><a href=\"#指派運算子\" data-toc-modified-id=\"指派運算子-95\"><span class=\"toc-item-num\">9.5&nbsp;&nbsp;</span>指派運算子</a></div><div class=\"lev2 toc-item\"><a href=\"#分隔符號\" data-toc-modified-id=\"分隔符號-96\"><span class=\"toc-item-num\">9.6&nbsp;&nbsp;</span>分隔符號</a></div><div class=\"lev1 toc-item\"><a href=\"#Python內建資料型別\" data-toc-modified-id=\"Python內建資料型別-10\"><span class=\"toc-item-num\">10&nbsp;&nbsp;</span>Python內建資料型別</a></div><div class=\"lev2 toc-item\"><a href=\"#數值型別-Numeric-types\" data-toc-modified-id=\"數值型別-Numeric-types-101\"><span class=\"toc-item-num\">10.1&nbsp;&nbsp;</span>數值型別 Numeric types</a></div><div class=\"lev2 toc-item\"><a href=\"#序列型別\" data-toc-modified-id=\"序列型別-102\"><span class=\"toc-item-num\">10.2&nbsp;&nbsp;</span>序列型別</a></div><div class=\"lev3 toc-item\"><a href=\"#字串-Strings\" data-toc-modified-id=\"字串-Strings-1021\"><span class=\"toc-item-num\">10.2.1&nbsp;&nbsp;</span>字串 Strings</a></div><div class=\"lev3 toc-item\"><a href=\"#範圍-Range\" data-toc-modified-id=\"範圍-Range-1022\"><span class=\"toc-item-num\">10.2.2&nbsp;&nbsp;</span>範圍 Range</a></div><div class=\"lev3 toc-item\"><a href=\"#串列-List\" data-toc-modified-id=\"串列-List-1023\"><span class=\"toc-item-num\">10.2.3&nbsp;&nbsp;</span>串列 List</a></div><div class=\"lev3 toc-item\"><a href=\"#序對-Tuple\" data-toc-modified-id=\"序對-Tuple-1024\"><span class=\"toc-item-num\">10.2.4&nbsp;&nbsp;</span>序對 Tuple</a></div><div class=\"lev3 toc-item\"><a href=\"#透過「：」控制序列取值\" data-toc-modified-id=\"透過「：」控制序列取值-1025\"><span class=\"toc-item-num\">10.2.5&nbsp;&nbsp;</span>透過「：」控制序列取值</a></div><div class=\"lev2 toc-item\"><a href=\"#集合-Set\" data-toc-modified-id=\"集合-Set-103\"><span class=\"toc-item-num\">10.3&nbsp;&nbsp;</span>集合 Set</a></div><div class=\"lev2 toc-item\"><a href=\"#字典-Dict\" data-toc-modified-id=\"字典-Dict-104\"><span class=\"toc-item-num\">10.4&nbsp;&nbsp;</span>字典 Dict</a></div><div class=\"lev2 toc-item\"><a href=\"#型別轉換-Type-casting\" data-toc-modified-id=\"型別轉換-Type-casting-105\"><span class=\"toc-item-num\">10.5&nbsp;&nbsp;</span>型別轉換 Type casting</a></div><div class=\"lev1 toc-item\"><a href=\"#Python控制敘述\" data-toc-modified-id=\"Python控制敘述-11\"><span class=\"toc-item-num\">11&nbsp;&nbsp;</span>Python控制敘述</a></div><div class=\"lev2 toc-item\"><a href=\"#判斷控制\" data-toc-modified-id=\"判斷控制-111\"><span class=\"toc-item-num\">11.1&nbsp;&nbsp;</span>判斷控制</a></div><div class=\"lev2 toc-item\"><a href=\"#迴圈控制\" data-toc-modified-id=\"迴圈控制-112\"><span class=\"toc-item-num\">11.2&nbsp;&nbsp;</span>迴圈控制</a></div><div class=\"lev1 toc-item\"><a href=\"#Python自定義函數\" data-toc-modified-id=\"Python自定義函數-12\"><span class=\"toc-item-num\">12&nbsp;&nbsp;</span>Python自定義函數</a></div><div class=\"lev2 toc-item\"><a href=\"#Python物件導向觀念\" data-toc-modified-id=\"Python物件導向觀念-121\"><span class=\"toc-item-num\">12.1&nbsp;&nbsp;</span>Python物件導向觀念</a></div><div class=\"lev2 toc-item\"><a href=\"#類別定義與屬性\" data-toc-modified-id=\"類別定義與屬性-122\"><span class=\"toc-item-num\">12.2&nbsp;&nbsp;</span>類別定義與屬性</a></div><div class=\"lev2 toc-item\"><a href=\"#類別方法\" data-toc-modified-id=\"類別方法-123\"><span class=\"toc-item-num\">12.3&nbsp;&nbsp;</span>類別方法</a></div><div class=\"lev2 toc-item\"><a href=\"#子類別繼承與獨特屬性\" data-toc-modified-id=\"子類別繼承與獨特屬性-124\"><span class=\"toc-item-num\">12.4&nbsp;&nbsp;</span>子類別繼承與獨特屬性</a></div><div class=\"lev2 toc-item\"><a href=\"#以self參數調用類別的屬性與方法\" data-toc-modified-id=\"以self參數調用類別的屬性與方法-125\"><span class=\"toc-item-num\">12.5&nbsp;&nbsp;</span>以self參數調用類別的屬性與方法</a></div><div class=\"lev2 toc-item\"><a href=\"#__init__()特殊方法\" data-toc-modified-id=\"__init__()特殊方法-126\"><span class=\"toc-item-num\">12.6&nbsp;&nbsp;</span><code>__</code>init<code>__</code>()特殊方法</a></div><div class=\"lev2 toc-item\"><a href=\"#物件的屬性-vs.-類別的屬性\" data-toc-modified-id=\"物件的屬性-vs.-類別的屬性-127\"><span class=\"toc-item-num\">12.7&nbsp;&nbsp;</span>物件的屬性 vs. 類別的屬性</a></div><div class=\"lev2 toc-item\"><a href=\"#物件導向練習\" data-toc-modified-id=\"物件導向練習-128\"><span class=\"toc-item-num\">12.8&nbsp;&nbsp;</span>物件導向練習</a></div><div class=\"lev1 toc-item\"><a href=\"#References\" data-toc-modified-id=\"References-13\"><span class=\"toc-item-num\">13&nbsp;&nbsp;</span>References</a></div>"
   ]
  },
  {
   "cell_type": "markdown",
   "metadata": {},
   "source": [
    "# 前言"
   ]
  },
  {
   "cell_type": "markdown",
   "metadata": {},
   "source": [
    "- Why python?\n",
    "    - 活躍的社群\n",
    "    - 開放源始碼\n",
    "    - 深思熟慮的設計\n",
    "    - 眾多的第三方資源"
   ]
  },
  {
   "cell_type": "markdown",
   "metadata": {},
   "source": [
    "# Python Shell"
   ]
  },
  {
   "cell_type": "markdown",
   "metadata": {},
   "source": [
    "進入互動模式的方法，是打開終端機，輸入下面的指令："
   ]
  },
  {
   "cell_type": "markdown",
   "metadata": {},
   "source": [
    "python"
   ]
  },
  {
   "cell_type": "markdown",
   "metadata": {},
   "source": [
    "按下 Enter 鍵後，應該會看到類似下面的內容"
   ]
  },
  {
   "cell_type": "markdown",
   "metadata": {},
   "source": [
    "Python 3.5.2 (...)\n",
    "\n",
    "Type \"copyright\", \"credits\" or \"license\" for more information.\n",
    "\n",
    "\\>>>"
   ]
  },
  {
   "cell_type": "markdown",
   "metadata": {},
   "source": [
    "這代表 Python 已經啟動，進入了 **Python shell**。\n",
    "\n",
    "最後一行的 >>> 代表它已經準備接受你的下一個命令。\n",
    "\n",
    "輸入 exit() 並按 Enter，就會退出 **Python shell**，回到原本的提示列。"
   ]
  },
  {
   "cell_type": "markdown",
   "metadata": {},
   "source": [
    "## Python Shell的加強版 IPython\n",
    "進入互動模式的方法，是打開終端機，輸入下面的指令："
   ]
  },
  {
   "cell_type": "markdown",
   "metadata": {},
   "source": [
    "ipython"
   ]
  },
  {
   "cell_type": "markdown",
   "metadata": {},
   "source": [
    "按下 Enter 鍵後，應該會看到類似下面的內容"
   ]
  },
  {
   "cell_type": "markdown",
   "metadata": {},
   "source": [
    "Python 3.5.2 |Anaconda 4.2.0 (x86_64)| (...) \n",
    "\n",
    "Type \"copyright\", \"credits\" or \"license\" for more information.\n",
    "\n",
    "IPython 5.1.0 -- An enhanced Interactive Python.\n",
    "\n",
    "In [1]:"
   ]
  },
  {
   "cell_type": "markdown",
   "metadata": {},
   "source": [
    "最後一行的 In [1]: 代表它已經準備接受你的下一個命令。"
   ]
  },
  {
   "cell_type": "markdown",
   "metadata": {},
   "source": [
    "<font size=6 style=\"text-shadow:0px 0px 15px #FF37FD;\">練習一下</font>\n",
    "<script>\n",
    "   Answer\n",
    "</script>"
   ]
  },
  {
   "cell_type": "markdown",
   "metadata": {},
   "source": [
    "# 第一個 Python 指令"
   ]
  },
  {
   "cell_type": "markdown",
   "metadata": {},
   "source": [
    "我們來讓 Python 執行幾個指令看看。試著輸入 2 + 3，然後按 Enter。你會看到下面的結果："
   ]
  },
  {
   "cell_type": "markdown",
   "metadata": {},
   "source": [
    "\\>>> 2 + 3\n",
    "\n",
    "5"
   ]
  },
  {
   "cell_type": "markdown",
   "metadata": {},
   "source": [
    "這就是 Python 互動模式的標準流程。你問 Python 一個問題，然後它回答你。"
   ]
  },
  {
   "cell_type": "markdown",
   "metadata": {},
   "source": [
    "Python 畢竟是電腦程式，這種計算當然難不倒它。試試看一些更複雜的計算吧！下面是幾個例子：\n",
    "\n",
    "- 987 * 543\n",
    "- 77 / (9 - 4) * 7\n",
    "- 6 ** 8\n",
    "\n",
    "它們各代表什麼意思？多試幾個數字，看看你能不能自己找到答案。"
   ]
  },
  {
   "cell_type": "markdown",
   "metadata": {
    "solution2": "hidden",
    "solution2_first": true
   },
   "source": [
    "<font size=6 style=\"text-shadow:0px 0px 15px #FF37FD;\">考考你</font>\n",
    "- 假設美金匯率31.3、日圓匯率0.273，那麼520美金可以兌換多少日圓？\n",
    "\n",
    "<script>\n",
    "   520 * 31.3 / 0.273\n",
    "</script>\n"
   ]
  },
  {
   "cell_type": "markdown",
   "metadata": {},
   "source": [
    "# 說明文件"
   ]
  },
  {
   "cell_type": "markdown",
   "metadata": {},
   "source": [
    "help(len)"
   ]
  },
  {
   "cell_type": "markdown",
   "metadata": {
    "collapsed": true
   },
   "source": [
    "?requests.get"
   ]
  },
  {
   "cell_type": "markdown",
   "metadata": {},
   "source": [
    "?requests"
   ]
  },
  {
   "cell_type": "markdown",
   "metadata": {},
   "source": [
    "# 套件安裝與載入\n",
    "\n",
    "## 套件管理程式pip\n",
    "\n",
    "- pip 操作命令 **需在CMD(Command Line)下安裝，而非python shell**\n",
    "    - pip list # 看目前系統有安裝哪些套件\n",
    "    - pip search mysql # 搜尋相關套件\n",
    "    - pip install package # 安裝套件\n",
    "    - pip uninstall package # 移除套件\n",
    "    - pip show --files package # 秀套件檔案列表\n",
    "    - pip list --outdated # 列出過期套件\n",
    "    - pip install --upgrade package # 升級\n",
    "    "
   ]
  },
  {
   "cell_type": "markdown",
   "metadata": {
    "solution2": "hidden",
    "solution2_first": true
   },
   "source": [
    "<font size=6 style=\"text-shadow:0px 0px 15px #FF37FD;\">考考你</font>\n",
    "- 請安裝folium套件\n",
    "\n",
    "<script>\n",
    "   pip install folium\n",
    "</script>\n"
   ]
  },
  {
   "cell_type": "markdown",
   "metadata": {},
   "source": [
    "## 套件載入\n",
    "\n",
    "- import, from, as\n",
    "- 大部份時候建議使用import不使用from，環境會比較乾淨\n",
    "    - 例如下面的requests被import之後，使用上還是要requests.xxx\n",
    "    - 若使用了from requests import get，使用上可以直接 get，容易與其他同名函數造成混亂\n",
    "- as只是使用上方便而已，例如：\n",
    "    - pandas as pd, numpy as np (只是慣例，想怎麼as很隨意的)"
   ]
  },
  {
   "cell_type": "code",
   "execution_count": 1,
   "metadata": {
    "scrolled": true
   },
   "outputs": [
    {
     "name": "stdout",
     "output_type": "stream",
     "text": [
      "<!doctype html>\n",
      "<html>\n",
      "<head>\n",
      "    <title>Example Domain</title>\n",
      "\n",
      "    <meta charset=\"utf-8\" />\n",
      "    <meta http-equiv=\"Content-type\" content=\"text/html; charset=utf-8\" />\n",
      "    <meta name=\"viewport\" content=\"width=device-width, initial-scale=1\" />\n",
      "    <style type=\"text/css\">\n",
      "    body {\n",
      "        background-color: #f0f0f2;\n",
      "        margin: 0;\n",
      "        padding: 0;\n",
      "        font-family: \"Open Sans\", \"Helvetica Neue\", Helvetica, Arial, sans-serif;\n",
      "        \n",
      "    }\n",
      "    div {\n",
      "        width: 600px;\n",
      "        margin:\n"
     ]
    }
   ],
   "source": [
    "import requests as rs\n",
    "res_example = rs.get('http://www.example.com/')\n",
    "print(res_example.text[:500])"
   ]
  },
  {
   "cell_type": "code",
   "execution_count": 2,
   "metadata": {},
   "outputs": [
    {
     "data": {
      "image/png": "[encoded data removed]",
      "text/plain": [
       "<matplotlib.figure.Figure at 0x106640e80>"
      ]
     },
     "metadata": {},
     "output_type": "display_data"
    }
   ],
   "source": [
    "import matplotlib.pyplot as plt\n",
    "plt.plot([1,2,3,4])\n",
    "plt.ylabel('some numbers')\n",
    "plt.show()"
   ]
  },
  {
   "cell_type": "markdown",
   "metadata": {},
   "source": [
    "# 變數 Variables"
   ]
  },
  {
   "cell_type": "markdown",
   "metadata": {},
   "source": [
    "有時候，我們會想在很多地方使用同一個東西。但我們要怎麼告訴 Python，我們想要什麼東西？\n",
    "\n",
    "![Python](_img/dollar.jpg)"
   ]
  },
  {
   "cell_type": "code",
   "execution_count": 3,
   "metadata": {},
   "outputs": [
    {
     "data": {
      "text/plain": [
       "3123.2"
      ]
     },
     "execution_count": 3,
     "metadata": {},
     "output_type": "execute_result"
    }
   ],
   "source": [
    "USD = 31.232\n",
    "USD * 100"
   ]
  },
  {
   "cell_type": "markdown",
   "metadata": {},
   "source": [
    "既然是「變」數，代表我們可以改變它的內容："
   ]
  },
  {
   "cell_type": "code",
   "execution_count": 4,
   "metadata": {
    "scrolled": true
   },
   "outputs": [
    {
     "data": {
      "text/plain": [
       "3066.6"
      ]
     },
     "execution_count": 4,
     "metadata": {},
     "output_type": "execute_result"
    }
   ],
   "source": [
    "USD = 30.666\n",
    "USD * 100"
   ]
  },
  {
   "cell_type": "markdown",
   "metadata": {},
   "source": [
    "但如果我們問了 Python 不認得的變數名稱，會怎麼樣呢？"
   ]
  },
  {
   "cell_type": "code",
   "execution_count": 5,
   "metadata": {
    "scrolled": false
   },
   "outputs": [
    {
     "ename": "NameError",
     "evalue": "name 'TWD' is not defined",
     "output_type": "error",
     "traceback": [
      "\u001b[0;31m---------------------------------------------------------------------------\u001b[0m",
      "\u001b[0;31mNameError\u001b[0m                                 Traceback (most recent call last)",
      "\u001b[0;32m<ipython-input-5-ee0ef673ae60>\u001b[0m in \u001b[0;36m<module>\u001b[0;34m()\u001b[0m\n\u001b[0;32m----> 1\u001b[0;31m \u001b[0mTWD\u001b[0m\u001b[0;34m\u001b[0m\u001b[0m\n\u001b[0m",
      "\u001b[0;31mNameError\u001b[0m: name 'TWD' is not defined"
     ]
    }
   ],
   "source": [
    "TWD"
   ]
  },
  {
   "cell_type": "markdown",
   "metadata": {
    "solution2": "hidden",
    "solution2_first": true
   },
   "source": [
    "<font size=6 style=\"text-shadow:0px 0px 15px #FF37FD;\">考考你</font>\n",
    "- 美金=31.3987、日圓=0.2738，那麼美金乘上日圓+日圓除以美金+美金的平方-日圓開根號等於多少？\n",
    "\n",
    "<script>\n",
    "   USD = 31.3987\n",
    "   JPY = 0.2738\n",
    "   USD * JPY + JPY/USD + USD **2 + JPY ** (1/2)\n",
    "</script>"
   ]
  },
  {
   "cell_type": "markdown",
   "metadata": {},
   "source": [
    "# 關鍵字 Keyword"
   ]
  },
  {
   "cell_type": "markdown",
   "metadata": {},
   "source": [
    "<table align=\"center\" width=\"90%\"><tbody><tr><td>False</td><td>class</td><td>finally</td><td>is</td><td>return</td></tr>\n",
    "<tr><td>None</td><td>continue</td><td>for</td><td>lambda</td><td>try</td></tr>\n",
    "<tr><td>True</td><td>def</td><td>from</td><td>nonlocal</td><td>while</td></tr>\n",
    "<tr><td>and</td><td>del</td><td>global</td><td>not</td><td>with</td></tr>\n",
    "<tr><td>as</td><td>elif</td><td>if</td><td>or</td><td>yield</td></tr>\n",
    "<tr><td>assert</td><td>else</td><td>import</td><td>pass</td><td></td></tr>\n",
    "<tr><td>break</td><td>except</td><td>in</td><td>raise</td><td></td></tr>\n",
    "</tbody></table>"
   ]
  },
  {
   "cell_type": "markdown",
   "metadata": {},
   "source": [
    "## 常數\n",
    "\n",
    "- 關鍵字中的常數有\n",
    "    - False\n",
    "    - None\n",
    "    - True\n",
    "\n",
    "False 表示邏輯上的假， True 為邏輯上的真。 None 是一個特別的值，沒有設定回傳值 (return value) 的函數 (function) 實際上會回傳 None ，也就是 null 物件 (object) 。"
   ]
  },
  {
   "cell_type": "markdown",
   "metadata": {},
   "source": [
    "## 型態定義詞\n",
    "\n",
    "- 關鍵字中的型態定義詞有\n",
    "    - class\n",
    "    - def\n",
    "\n",
    "class 用於定義類別 (class) ，類別為建構物件的模板， Python 的一種類別也就是一種型態。 def 用於定義函數，函數屬於 'function' 類別。\n"
   ]
  },
  {
   "cell_type": "markdown",
   "metadata": {},
   "source": [
    "## 控制陳述\n",
    "\n",
    "\n",
    "- 關鍵字中的控制陳述有\n",
    "    - as\n",
    "    - assert\n",
    "    - break\n",
    "    - continue\n",
    "    - del\n",
    "    - elif\n",
    "    - else\n",
    "    - except\n",
    "    - finally\n",
    "    - for\n",
    "    - global\n",
    "    - if\n",
    "    - nonlocal\n",
    "    - pass\n",
    "    - raise\n",
    "    - return\n",
    "    - try\n",
    "    - while\n",
    "    - with\n",
    "    - yield\n",
    "\n",
    "\n",
    "除了 return 作為函數或方法 (method) 回傳值之用，其他如選擇結構 (selection structure) 的 if-elif-else ，重複結構 (repetition structure) 的 for 、 while ，例外處理 (exception handling) 的 try-except-finally 等。"
   ]
  },
  {
   "cell_type": "markdown",
   "metadata": {},
   "source": [
    "## 運算子\n",
    "\n",
    "\n",
    "- 關鍵字中的運算子 (operator) 有\n",
    "    - and\n",
    "    - not\n",
    "    - or\n",
    "    - is\n",
    "    - in\n",
    "    - lambda\n",
    "\n",
    "\n",
    "and 、 or 與 not 為邏輯運算子 (logical operator) ， is 用來判斷兩個物件的 id 是否相同， in 用來判斷某個物件是否存在於某個複合資料型態 (compound data type) 之中， lambda 用來建立無名函數 (anonymous function) 。\n"
   ]
  },
  {
   "cell_type": "markdown",
   "metadata": {},
   "source": [
    "## 模組相關\n",
    "\n",
    "\n",
    "- 關鍵字中跟模組 (module) 相關的有\n",
    "    - from\n",
    "    - import\n",
    "\n",
    "\n",
    "from 與 import 用來引入模組，或模組中的類別、函數等。"
   ]
  },
  {
   "cell_type": "markdown",
   "metadata": {},
   "source": [
    "# 識別字\n",
    "\n",
    "- 識別字 (identifier) 為寫程式時依需求自行定義的名稱，包括變數 (variable) 、函數 (function) 、類別 (class) 等，皆為使用自行定義的識別字。除了關鍵字之外， Python 可用任何 Unicode 編碼的字元當作識別字。\n",
    "- 通常識別字會由具有意義的英文單字組成，因此會由字母開始，而非數字 (0-9) 、底線符號 (_) ，至於單字數量依需要而定。如果單一識別字利用超過一個英文單字組成，**各單字之間不可有空格**，因為空格會讓編譯器認為是前後分別是兩個不同的識別字。\n",
    "- 不能拿數字作為識別字的第一個字元\n",
    "\n",
    "## 命名習慣\n",
    "\n",
    "- 連接多英文單字組合的識別字，可用底線符號 (_) ，或是大寫駝峰型 (upper camel case) 或是小寫駝峰型 (lower camel case) 。\n",
    "\n",
    "- 大寫駝峰型如\n",
    "    - SimpleGame\n",
    "    - MyStory\n",
    "    - ThreadTestDrive\n",
    "    - RunThreads\n",
    "    - TextArea\n",
    "    - Button_One\n",
    "    - Midi_Event\n",
    "    - Short_Message\n",
    "    - My_Object\n",
    "    - B_Example\n",
    "    \n",
    "\n",
    "- 小寫駝峰型如\n",
    "    - actionPerformed\n",
    "    - setUpNetworking\n",
    "    - doSomething\n",
    "    - getField\n",
    "    - getTitle\n",
    "    - make_Event\n",
    "    - turn_Oven_On\n",
    "    - take_Risk\n",
    "    - print_List\n",
    "    - my_Canvas\n",
    "    \n",
    "\n",
    "- 若是只使用一個英文單字，下面是全部用小寫字母的例子\n",
    "    - clone\n",
    "    - equals\n",
    "    - i\n",
    "    - obj1\n",
    "    - move\n",
    "    - paint\n",
    "    - run\n",
    "    - play\n",
    "    - sleep\n",
    "    - name\n",
    "    - color\n",
    "    \n",
    "\n",
    "- 首字母大寫的例子\n",
    "    - Zoo\n",
    "    - Animal\n",
    "    - Bird\n",
    "    - Day\n",
    "    - Outter\n",
    "    - Producer\n",
    "    - Server\n",
    "    - Data\n",
    "    - Filename\n",
    "    - Example\n",
    "    \n",
    "\n",
    "- 或全部的字母都大寫，如用在常數 (constant)\n",
    "    - START\n",
    "    - END\n",
    "    - RIGHT\n",
    "    - BEGIN\n",
    "    "
   ]
  },
  {
   "cell_type": "markdown",
   "metadata": {},
   "source": [
    "# 運算子\n",
    "\n",
    "- Python 提供多樣、功能完整的運算子 (operator) ，如下列表\n",
    "\n",
    "<table align=\"center\" width=\"90%\" border=\"1\"><tbody><tr><td>+</td><td>-</td><td>'*'</td><td>'**'</td><td>/</td><td>//</td><td>%</td></tr>\n",
    "<tr><td>&lt;&lt;</td><td>&gt;&gt;</td><td>&amp;</td><td>|</td><td>^</td><td>~</td><td></td></tr>\n",
    "<tr><td>&lt;</td><td>&gt;</td><td>&lt;=</td><td>&gt;=</td><td>==</td><td>!=</td><td></td></tr>\n",
    "</tbody></table>\n",
    "\n",
    "- 另有一些分隔符號 (delimiter)\n",
    "\n",
    "<table align=\"center\" width=\"90%\" border=\"1\"><tbody><tr><td>(</td><td>)</td><td>[</td><td>]</td><td>{</td><td>}</td></tr>\n",
    "<tr><td>,</td><td>:</td><td>.</td><td>;</td><td>@</td><td>=</td></tr>\n",
    "<tr><td>+=</td><td>-=</td><td>*=</td><td>/=</td><td>//=</td><td>%=</td></tr>\n",
    "<tr><td>&amp;=</td><td>|=</td><td>^=</td><td>&lt;&lt;=</td><td>&gt;&gt;=</td><td>**=</td></tr>\n",
    "</tbody></table>\n",
    "\n",
    "## 算術運算子\n",
    "\n",
    "\n",
    "Python 的算術運算子 (arithmetic operator) 包含加、減、乘、除、取餘數，皆需兩個運算元 (operand) 構成運算式 (expression) ，如下列表\n",
    "\n",
    "<table align=\"center\" width=\"90%\" border=\"1\"><tbody><tr><th align=\"center\">運算子</th><th align=\"center\">功能</th><th align=\"center\">範例</th></tr>\n",
    "<tr><td align=\"center\">+</td><td align=\"center\">加</td><td align=\"center\">a + b</td></tr>\n",
    "<tr><td align=\"center\">-</td><td align=\"center\">減</td><td align=\"center\">a - b</td></tr>\n",
    "<tr><td align=\"center\">＊</td><td align=\"center\">乘</td><td align=\"center\">a * b</td></tr>\n",
    "<tr><td align=\"center\">＊＊</td><td align=\"center\">指數</td><td align=\"center\">a ** b</td></tr>\n",
    "<tr><td align=\"center\">/</td><td align=\"center\">除</td><td align=\"center\">a / b</td></tr>\n",
    "<tr><td align=\"center\">//</td><td align=\"center\">整數除法</td><td align=\"center\">a // b</td></tr>\n",
    "<tr><td align=\"center\">%</td><td align=\"center\">取餘數</td><td align=\"center\">a % b</td></tr>\n",
    "</tbody></table>\n",
    "\n",
    "\n",
    "## 位移運算子\n",
    "\n",
    "\n",
    "位移運算子 (shifting operator) 運用在整數資料型態，向右位移等於 n 除以 pow(2, n) ，向左位移等於 n 乘上 pow(2, n)\n",
    "\n",
    "例如：3`<<`2則是將數字3左移動2位\n",
    "計算過程：\n",
    "3`<<`2首先把3轉換為二進制數字00011\n",
    "然後把該數字高位（左側）的兩個零移出，其他的數字都朝左平移2位，最後在低位（右側）\n",
    "的連個空位補零。則得到的結果是01100，\n",
    "則轉換為十進制是12\n",
    "\n",
    "用bin函數檢查二進制\n",
    "\n",
    "<table align=\"center\" width=\"90%\" border=\"1\"><tbody><tr><th align=\"center\">運算子</th><th align=\"center\">功能</th><th align=\"center\">範例</th></tr>\n",
    "<tr><td align=\"center\">&lt;&lt;</td><td align=\"center\">向左位移</td><td align=\"center\">a &lt;&lt; n</td></tr>\n",
    "<tr><td align=\"center\">&gt;&gt;</td><td align=\"center\">向右位移</td><td align=\"center\">a &gt;&gt; n</td></tr>\n",
    "</tbody></table>\n",
    "\n",
    "## 位元運算子\n",
    "\n",
    "\n",
    "位元運算子 (bitwise operator) 如下列表\n",
    "`print(~3); print(bin(3)); print(bin(~3))`\n",
    "\n",
    "<table align=\"center\" width=\"90%\" border=\"1\"><tbody><tr><th align=\"center\">運算子</th><th align=\"center\">功能</th><th align=\"center\">範例</th></tr>\n",
    "<tr><td align=\"center\">&amp;</td><td align=\"center\">位元且</td><td align=\"center\">a &amp; b</td></tr>\n",
    "<tr><td align=\"center\">|</td><td align=\"center\">位元包含或</td><td align=\"center\">a | b</td></tr>\n",
    "<tr><td align=\"center\">^</td><td align=\"center\">位元互斥或</td><td align=\"center\">a ^ b</td></tr>\n",
    "<tr><td align=\"center\">~</td><td align=\"center\">位元相反</td><td align=\"center\">~a </td></tr>\n",
    "</tbody></table>\n",
    "\n",
    "## 關係運算子\n",
    "\n",
    "關係運算子 (comparison operator) 需要兩個運算元，如下列表\n",
    "\n",
    "<table align=\"center\" width=\"90%\" border=\"1\"><tbody><tr><th align=\"center\">運算子</th><th align=\"center\">功能</th><th align=\"center\">範例</th></tr>\n",
    "<tr><td align=\"center\">&lt;</td><td align=\"center\">小於</td><td align=\"center\">a &lt; b</td></tr>\n",
    "<tr><td align=\"center\">&gt;</td><td align=\"center\">大於</td><td align=\"center\">a &gt; b</td></tr>\n",
    "<tr><td align=\"center\">&lt;=</td><td align=\"center\">小於等於</td><td align=\"center\">a &lt;= b</td></tr>\n",
    "<tr><td align=\"center\">&gt;=</td><td align=\"center\">大於等於</td><td align=\"center\">a &gt;= b</td></tr>\n",
    "<tr><td align=\"center\">==</td><td align=\"center\">相等</td><td align=\"center\">a == b</td></tr>\n",
    "<tr><td align=\"center\">!=</td><td align=\"center\">不相等</td><td align=\"center\">a != b</td></tr>\n",
    "</tbody></table>"
   ]
  },
  {
   "cell_type": "code",
   "execution_count": null,
   "metadata": {
    "collapsed": true
   },
   "outputs": [],
   "source": [
    "1 + 1 == 2"
   ]
  },
  {
   "cell_type": "code",
   "execution_count": null,
   "metadata": {
    "collapsed": true
   },
   "outputs": [],
   "source": [
    "1 + 1 is 2"
   ]
  },
  {
   "cell_type": "code",
   "execution_count": null,
   "metadata": {
    "collapsed": true
   },
   "outputs": [],
   "source": [
    "8 + 7 == 87"
   ]
  },
  {
   "cell_type": "code",
   "execution_count": null,
   "metadata": {
    "collapsed": true
   },
   "outputs": [],
   "source": [
    "8 + 9 is not 1"
   ]
  },
  {
   "cell_type": "code",
   "execution_count": null,
   "metadata": {
    "collapsed": true
   },
   "outputs": [],
   "source": [
    "\"放生\" == \"棄養\""
   ]
  },
  {
   "cell_type": "code",
   "execution_count": null,
   "metadata": {
    "collapsed": true
   },
   "outputs": [],
   "source": [
    "False or True"
   ]
  },
  {
   "cell_type": "code",
   "execution_count": null,
   "metadata": {
    "collapsed": true
   },
   "outputs": [],
   "source": [
    "False and True"
   ]
  },
  {
   "cell_type": "code",
   "execution_count": null,
   "metadata": {
    "collapsed": true
   },
   "outputs": [],
   "source": [
    "False | True"
   ]
  },
  {
   "cell_type": "code",
   "execution_count": null,
   "metadata": {
    "collapsed": true
   },
   "outputs": [],
   "source": [
    "False & True"
   ]
  },
  {
   "cell_type": "code",
   "execution_count": null,
   "metadata": {
    "collapsed": true
   },
   "outputs": [],
   "source": [
    "bool('Hello world!')"
   ]
  },
  {
   "cell_type": "code",
   "execution_count": null,
   "metadata": {
    "collapsed": true
   },
   "outputs": [],
   "source": [
    "bool('')"
   ]
  },
  {
   "cell_type": "code",
   "execution_count": null,
   "metadata": {
    "collapsed": true
   },
   "outputs": [],
   "source": [
    "bool(0)"
   ]
  },
  {
   "cell_type": "code",
   "execution_count": null,
   "metadata": {
    "collapsed": true
   },
   "outputs": [],
   "source": [
    "bool(1)"
   ]
  },
  {
   "cell_type": "markdown",
   "metadata": {},
   "source": [
    "## 指派運算子\n",
    "\n",
    "\n",
    "Python 最基本的指派運算子 (assignment operator) 為單一個等號 = ，這是用來將等號右邊的值拷貝給給左邊的變數 (variable) 資料。等號也可以跟其他運算子合用，會直接將結果儲存到原變數之中，如\n",
    "\n",
    "<table align=\"center\" width=\"90%\" border=\"1\"><tbody><tr><th>運算子</th><th>功能</th><th>範例</th></tr>\n",
    "<tr><td>=</td><td>指派</td><td>a = b</td></tr>\n",
    "<tr><td>+=</td><td>相加同時指派</td><td>a += b</td></tr>\n",
    "<tr><td>-=</td><td>相減同時指派</td><td>a -= b</td></tr>\n",
    "<tr><td>*=</td><td>相乘同時指派</td><td>a *= b</td></tr>\n",
    "<tr><td>**=</td><td>取指數同時指派</td><td>a **= b</td></tr>\n",
    "<tr><td>/=</td><td>相除同時指派</td><td>a /= b</td></tr>\n",
    "<tr><td>/=</td><td>整數相除同時指派</td><td>a //= b</td></tr>\n",
    "<tr><td>%=</td><td>取餘數同時指派</td><td>a %= b</td></tr>\n",
    "<tr><td>&amp;=</td><td>位元且同時指派</td><td>a &amp;= b</td></tr>\n",
    "<tr><td>^=</td><td>位元互斥或同時指派</td><td>a ^= b</td></tr>\n",
    "<tr><td>|=</td><td>位元包含或同時指派</td><td>a |= b</td></tr>\n",
    "<tr><td>&lt;&lt;=</td><td>向左位移同時指派</td><td>a &lt;&lt;= b</td></tr>\n",
    "<tr><td>&gt;&gt;=</td><td>向右位移同時指派</td><td>a &gt;&gt;= b</td></tr>\n",
    "</tbody></table>\n",
    "\n",
    "## 分隔符號\n",
    "\n",
    "\n",
    "其他分隔符號有\n",
    "\n",
    "<table align=\"center\" width=\"90%\" border=\"1\"><tbody><tr><th>分隔符號</th><th>功能</th></tr>\n",
    "<tr><td>( )</td><td>小括弧圍住的運算式會優先計算，函數 (function) 也用小括弧圍住參數列 (parameter list)</td></tr>\n",
    "<tr><td>[ ]</td><td>序列型態 (sequence type) 的索引符號，或用作定義串列 (list)</td></tr>\n",
    "<tr><td>{ }</td><td>用作定義字典 (dictionary)</td></tr>\n",
    "<tr><td>,</td><td>同一行中分隔多個運算式</td></tr>\n",
    "<tr><td>:</td><td>控制陳述條件 (condition) 後的分隔符號</td></tr>\n",
    "<tr><td>.</td><td>用為存取物件的方法 (method) 或屬性 (attribute)</td></tr>\n",
    "<tr><td>;</td><td>可作為單行程式結束的符號，也可不用</td></tr>\n",
    "<tr><td>@</td><td>用作函數或類別 (class) 定義的特殊標記</td></tr>\n",
    "</tbody></table>"
   ]
  },
  {
   "cell_type": "code",
   "execution_count": null,
   "metadata": {
    "collapsed": true,
    "solution2": "hidden"
   },
   "outputs": [],
   "source": [
    "USD = 31.3987\n",
    "JPY = 0.2738\n",
    "USD * JPY + JPY/USD + USD **2 + JPY ** (1/2)"
   ]
  },
  {
   "cell_type": "code",
   "execution_count": null,
   "metadata": {
    "collapsed": true,
    "solution2": "hidden"
   },
   "outputs": [],
   "source": [
    "JPY ** (1/2)"
   ]
  },
  {
   "cell_type": "markdown",
   "metadata": {},
   "source": [
    "# Python內建資料型別"
   ]
  },
  {
   "cell_type": "markdown",
   "metadata": {},
   "source": [
    "## 數值型別 Numeric types\n",
    "\n",
    "內建的數值型別 (numeric types) 共有三種，分別是\n",
    "\n",
    "<table align=\"center\" width=\"90%\" border=\"1\"><tbody><tr><th>型態</th><th>描述</th></tr>\n",
    "<tr><td>int</td><td>整數</td></tr>\n",
    "<tr><td>float</td><td>浮點數</td></tr>\n",
    "<tr><td>complex</td><td>複數</td></tr>\n",
    "</tbody></table>\n",
    "\n",
    "可進行以下的計算\n",
    "\n",
    "<table align=\"center\" width=\"90%\" border=\"1\"><tbody><tr><th>計算</th><th>描述</th></tr>\n",
    "<tr><td>x + y</td><td>x 加 y 之和</td></tr>\n",
    "<tr><td>x - y</td><td>x 剪 y 之差</td></tr>\n",
    "<tr><td>x * y</td><td>x 乘 y 之積</td></tr>\n",
    "<tr><td>x / y</td><td>x 除 y 之商</td></tr>\n",
    "<tr><td>x // y</td><td>x 除 y 之整數商</td></tr>\n",
    "<tr><td>x % y</td><td>x 除 y 之餘數</td></tr>\n",
    "<tr><td>-x</td><td>x 取負數</td></tr>\n",
    "<tr><td>+x</td><td>x 取正數</td></tr>\n",
    "<tr><td>abs(x)</td><td>回傳 x 的絕對值</td></tr>\n",
    "<tr><td>int(x)</td><td>轉換 x 為整數</td></tr>\n",
    "<tr><td>float(x)</td><td>轉換 x 為浮點數</td></tr>\n",
    "<tr><td>complex(re, im)</td><td>轉換 re 為複數的實部， im 為虛部</td></tr>\n",
    "<tr><td>c.conjugate()</td><td>回傳 c 的共軛複數</td></tr>\n",
    "<tr><td>divmod(x, y)</td><td>回傳 (x // y, x % y)</td></tr>\n",
    "<tr><td>pow(x, y)</td><td>x 的 y 次方</td></tr>\n",
    "<tr><td>x ** y</td><td>x 的 y 次方</td></tr>\n",
    "</tbody></table>"
   ]
  },
  {
   "cell_type": "code",
   "execution_count": null,
   "metadata": {
    "collapsed": true
   },
   "outputs": [],
   "source": [
    "x = 17239871\n",
    "x ** 6"
   ]
  },
  {
   "cell_type": "code",
   "execution_count": null,
   "metadata": {
    "collapsed": true
   },
   "outputs": [],
   "source": [
    "type(x)"
   ]
  },
  {
   "cell_type": "code",
   "execution_count": null,
   "metadata": {
    "collapsed": true
   },
   "outputs": [],
   "source": [
    "3 / 2"
   ]
  },
  {
   "cell_type": "code",
   "execution_count": null,
   "metadata": {
    "collapsed": true
   },
   "outputs": [],
   "source": [
    "type(3/2)"
   ]
  },
  {
   "cell_type": "code",
   "execution_count": 2,
   "metadata": {},
   "outputs": [
    {
     "data": {
      "text/plain": [
       "1125.0"
      ]
     },
     "execution_count": 2,
     "metadata": {},
     "output_type": "execute_result"
    }
   ],
   "source": [
    "1.125e+3"
   ]
  },
  {
   "cell_type": "markdown",
   "metadata": {},
   "source": [
    "![](_img/1.125e-1.png)"
   ]
  },
  {
   "cell_type": "markdown",
   "metadata": {},
   "source": [
    "## 序列型別\n",
    "\n",
    "內建的序列型別 (sequence types) 共有六種，分別是\n",
    "\n",
    "<table align=\"center\" width=\"90%\" border=\"1\"><tbody><tr><th>型態</th><th>描述</th></tr>\n",
    "<tr><td>str</td><td>字串 (string) ，不可變 (immutable) </td></tr>\n",
    "<tr><td>bytes</td><td>字節 (byte) ，不可變</td></tr>\n",
    "<tr><td>bytearray</td><td>字節陣列 (byte array) ，可變 (mutable) </td></tr>\n",
    "<tr><td>list</td><td>串列 (list) ，可變</td></tr>\n",
    "<tr><td>tuple</td><td>序對 (tuple) ，不可變</td></tr>\n",
    "<tr><td>range</td><td>內建函數 range() 回傳的物件 (object) ，常用於 <b>for</b> 迴圈 (for loop)</td></tr>\n",
    "</tbody></table>\n",
    "\n",
    "\n",
    "序列通用的運算有下：\n",
    "\n",
    "<table align=\"center\" width=\"90%\" border=\"1\"><tbody><tr><th>計算</th><th>描述</th></tr>\n",
    "<tr><td>x in s</td><td>判斷 x 是否在 s 中</td></tr>\n",
    "<tr><td>x not in s</td><td>判斷 x 是否不在 s 中</td></tr>\n",
    "<tr><td>s + t</td><td>連接 s 及 t</td></tr>\n",
    "<tr><td>s ＊ n, n ＊ s</td><td>將 s 重複 n 次連接 s 本身</td></tr>\n",
    "<tr><td>s[i]</td><td>取得索引值 i 的元素</td></tr>\n",
    "<tr><td>s[i:j]</td><td>取得索引值 i 到 j 的子序列</td></tr>\n",
    "<tr><td>s[i:j:k]</td><td>取得索引值 i 到 j ，間隔 k 的子序列</td></tr>\n",
    "<tr><td>len(s)</td><td>回傳 s 的元素個數</td></tr>\n",
    "<tr><td>min(s)</td><td>回傳 s 中的最小值</td></tr>\n",
    "<tr><td>max(s)</td><td>回傳 s 中的最大值</td></tr>\n",
    "<tr><td>s.index(i)</td><td>取得 s 中第一次出現 i 的索引值</td></tr>\n",
    "<tr><td>s.count(i)</td><td>累計 s 中 i 出現的個數</td></tr>\n",
    "</tbody></table>"
   ]
  },
  {
   "cell_type": "markdown",
   "metadata": {},
   "source": [
    "### 字串 Strings\n",
    "\n",
    "字串 (string) 屬於不可變 (immutable) 的序列 (sequence) 型別，字串型態有以下的方法 (method)\n",
    "\n",
    "<table align=\"center\" width=\"90%\" border=\"1\"><tbody><tr><th>方法</th><th>描述</th></tr>\n",
    "<tr><td><a href=\"http://pydoing.blogspot.com/2011/03/python-strcapitalize.html\">str.capitalize()</a></td><td>回傳將 str 改成首字母大寫，其餘字母小寫的字串</td></tr>\n",
    "<tr><td><a href=\"http://pydoing.blogspot.com/2011/03/python-strcenter.html\">str.center(width[, fillchar])</a></td><td>回傳一個將 str 設置字串中央，長度 width 的新字串， fillchar 為填充字元，預設為空格</td></tr>\n",
    "<tr><td><a href=\"http://pydoing.blogspot.com/2011/03/python-strcount.html\">str.count(sub[, start[, end]])</a></td><td>計算 sub 出現的次數， start 為起始計算索引值， end 為結束索引值</td></tr>\n",
    "<tr><td><a href=\"http://pydoing.blogspot.com/2011/03/python-strencode.html\">str.encode(encoding=\"utf-8\", errors=\"strict\")</a></td><td>回傳 encoding 版本的 bytes 物件</td></tr>\n",
    "<tr><td><a href=\"http://pydoing.blogspot.com/2011/03/python-strendswith.html\">str.endswith(suffix[, start[, end]])</a></td><td>判斷 str 是否以 suffix 結尾</td></tr>\n",
    "<tr><td><a href=\"http://pydoing.blogspot.com/2011/03/python-strexpandtabs.html\">str.expandtabs([tabsize])</a></td><td>將 tab 符號以 tabsize 的空格數替換</td></tr>\n",
    "<tr><td><a href=\"http://pydoing.blogspot.com/2011/03/python-strfind.html\">str.find(sub[, start[, end]])</a></td><td>回傳 sub 第一次出現的索引值</td></tr>\n",
    "<tr><td><a href=\"http://pydoing.blogspot.com/2011/03/python-strformat.html\">str.format(*args, **kwargs)</a></td><td>進行格式化字串運算</td></tr>\n",
    "<tr><td><a href=\"http://pydoing.blogspot.com/2011/03/python-strindex.html\">str.index(sub[, start[, end]])</a></td><td>回傳 sub 第一次出現的索引值</td></tr>\n",
    "<tr><td><a href=\"http://pydoing.blogspot.com/2011/03/python-strisalnum.html\">str.isalnum()</a></td><td>判斷字串中的字元是否都是字母或數字</td></tr>\n",
    "<tr><td><a href=\"http://pydoing.blogspot.com/2011/03/python-strisalpha.html\">str.isalpha()</a></td><td>判斷字串中的字元是否都是字母</td></tr>\n",
    "<tr><td><a href=\"http://pydoing.blogspot.com/2011/03/python-strisdecimal.html\">str.isdecimal()</a></td><td>判斷字串中所有字元是否是十進位數字</td></tr>\n",
    "<tr><td><a href=\"http://pydoing.blogspot.com/2011/03/python-strisdigit.html\">str.isdigit()</a></td><td>判斷字串中所有字元是否是數字</td></tr>\n",
    "<tr><td><a href=\"http://pydoing.blogspot.com/2011/03/python-strisidentifier.html\">str.isidentifier()</a></td><td>判斷字串是否可作為合法的識別字</td></tr>\n",
    "<tr><td><a href=\"http://pydoing.blogspot.com/2011/03/python-strislower.html\">str.islower()</a></td><td>判斷字串中所有字母字元是否都是小寫字母</td></tr>\n",
    "<tr><td><a href=\"http://pydoing.blogspot.com/2011/03/python-strisnumeric.html\">str.isnumeric()</a></td><td>判斷字串中所有字元是否是數字</td></tr>\n",
    "<tr><td><a href=\"http://pydoing.blogspot.com/2011/03/python-strisprintable.html\">str.isprintable()</a></td><td>判斷字串中所有字元是否都屬於可見字元</td></tr>\n",
    "<tr><td><a href=\"http://pydoing.blogspot.com/2011/03/python-strisspace.html\">str.isspace()</a></td><td>判斷字串是否為空格字元</td></tr>\n",
    "<tr><td><a href=\"http://pydoing.blogspot.com/2011/03/python-stristitle.html\">str.istitle()</a></td><td>判斷字串是否適合當作標題</td></tr>\n",
    "<tr><td><a href=\"http://pydoing.blogspot.com/2011/03/python-strisupper.html\">str.isupper()</a></td><td>判斷字串中所有字母字元是否都是大寫字母</td></tr>\n",
    "<tr><td><a href=\"http://pydoing.blogspot.com/2011/03/python-strjoin.html\">str.join(iterable)</a></td><td>回傳將 str 連結 iterable 各元素的字串</td></tr>\n",
    "<tr><td><a href=\"http://pydoing.blogspot.com/2011/03/python-strljust.html\">str.ljust(width[, fillchar])</a></td><td>回傳將 str 在寬度 width 向左對齊的字串， fillchar 為填充字元，預設為空格</td></tr>\n",
    "<tr><td><a href=\"http://pydoing.blogspot.com/2011/03/python-strlower.html\">str.lower()</a></td><td>將 str 的英文字母都改成小寫</td></tr>\n",
    "<tr><td><a href=\"http://pydoing.blogspot.com/2011/03/python-strlstrip.html\">str.lstrip([chars])</a></td><td>回傳將 str 左邊具有 chars 字元去除的拷貝版本， chars 預設為空格符號</td></tr>\n",
    "<tr><td><a href=\"http://pydoing.blogspot.com/2011/03/python-strmaketrans.html\">static str.maketrans(x[, y[, z]])</a></td><td>回傳 x 與 y 配對的 Unicode 編碼字典，若有提供 z ， z 中的字元會跟 None 配對</td></tr>\n",
    "<tr><td><a href=\"http://pydoing.blogspot.com/2011/03/python-strpartition.html\">str.partition(sep)</a></td><td>以 sep 分割 str 為三個部份，結果回傳具有三個子字串的序對</td></tr>\n",
    "<tr><td><a href=\"http://pydoing.blogspot.com/2011/03/python-strreplace.html\">str.replace(old, new[, count])</a></td><td>將 str 中的 old 子字串以 new 代換</td></tr>\n",
    "<tr><td><a href=\"http://pydoing.blogspot.com/2011/03/python-strrfind.html\">str.rfind(sub[, start[, end]])</a></td><td>尋找最右邊的 sub ，也就是索引值最大的 sub</td></tr>\n",
    "<tr><td><a href=\"http://pydoing.blogspot.com/2011/03/python-strrindex.html\">str.rindex(sub[, start[, end]])</a></td><td>尋找最右邊的 sub ，也就是索引值最大的 sub</td></tr>\n",
    "<tr><td><a href=\"http://pydoing.blogspot.com/2011/03/python-strrjust.html\">str.rjust(width[, fillchar])</a></td><td>回傳將 str 在寬度 width 向右對齊的字串， fillchar 為填充字元，預設為空格</td></tr>\n",
    "<tr><td><a href=\"http://pydoing.blogspot.com/2011/03/python-strrpartition.html\">str.rpartition(sep)</a></td><td>以 sep 從最右端分割 str 為三個部份，結果回傳具有三個子字串的序對</td></tr>\n",
    "<tr><td><a href=\"http://pydoing.blogspot.com/2011/03/python-strrsplit.html\">str.rsplit([sep[, maxsplit]])</a></td><td>將 str 從最右端以 sep 分割成子字串，回傳儲存子字串的串列， maxsplit 為子字串最多的數量</td></tr>\n",
    "<tr><td><a href=\"http://pydoing.blogspot.com/2011/03/python-strrstrip.html\">str.rstrip([chars])</a></td><td>從 str 的最右端中移除 chars 字元，預設為空白字元</td></tr>\n",
    "<tr><td><a href=\"http://pydoing.blogspot.com/2011/03/python-strsplit.html\">str.split([sep[, maxsplit]])</a></td><td>將 str 以 sep 分割成子字串，回傳儲存子字串的串列， maxsplit 為子字串最多的數量</td></tr>\n",
    "<tr><td><a href=\"http://pydoing.blogspot.com/2011/03/python-strsplitlines.html\">str.splitlines([keepends])</a></td><td>將 str 以新行符號分割成子字串，回傳儲存子字串的串列</td></tr>\n",
    "<tr><td><a href=\"http://pydoing.blogspot.com/2011/03/python-strstartswith.html\">str.startswith(prefix[, start[, end]])</a></td><td>判斷 str 是否以 prefix 開頭</td></tr>\n",
    "<tr><td><a href=\"http://pydoing.blogspot.com/2011/03/python-strstrip.html\">str.strip([chars])</a></td><td>從 str 中移除 chars 字元，預設為空白字元</td></tr>\n",
    "<tr><td><a href=\"http://pydoing.blogspot.com/2011/03/python-strswapcase.html\">str.swapcase()</a></td><td>將 str 中的英文字母進行大小寫轉換</td></tr>\n",
    "<tr><td><a href=\"http://pydoing.blogspot.com/2011/03/python-strtitle.html\">str.title()</a></td><td>將 str 轉換成作為標題的字串</td></tr>\n",
    "<tr><td><a href=\"http://pydoing.blogspot.com/2011/03/python-strtranslate.html\">str.translate(map)</a></td><td>將 str 中的字元以 map 中配對的字元轉換</td></tr>\n",
    "<tr><td><a href=\"http://pydoing.blogspot.com/2011/03/python-strupper.html\">str.upper()</a></td><td>將 str 的英文字母都改成大寫</td></tr>\n",
    "<tr><td><a href=\"http://pydoing.blogspot.com/2011/03/python-strzfill.html\">str.zfill(width)</a></td><td>回傳以 0 塞滿 width 的新字串</td></tr>\n",
    "</tbody></table>"
   ]
  },
  {
   "cell_type": "markdown",
   "metadata": {},
   "source": [
    "- 加號運算子可以串接字串 Adding two strings together concatenates them and produces a new string."
   ]
  },
  {
   "cell_type": "code",
   "execution_count": null,
   "metadata": {
    "collapsed": true
   },
   "outputs": [],
   "source": [
    "a = 'I have a pen... '\n",
    "b = 'I have a apple...'\n",
    "a + b"
   ]
  },
  {
   "cell_type": "code",
   "execution_count": null,
   "metadata": {
    "collapsed": true
   },
   "outputs": [],
   "source": [
    "a * 3"
   ]
  },
  {
   "cell_type": "markdown",
   "metadata": {},
   "source": [
    "特別注意，字串與數值的區別"
   ]
  },
  {
   "cell_type": "code",
   "execution_count": null,
   "metadata": {
    "collapsed": true,
    "scrolled": true
   },
   "outputs": [],
   "source": [
    "'123' * 2"
   ]
  },
  {
   "cell_type": "code",
   "execution_count": null,
   "metadata": {
    "collapsed": true,
    "scrolled": false
   },
   "outputs": [],
   "source": [
    "'123' ** 2"
   ]
  },
  {
   "cell_type": "code",
   "execution_count": null,
   "metadata": {
    "collapsed": true
   },
   "outputs": [],
   "source": [
    "a = 'hello, world'\n",
    "type(a)"
   ]
  },
  {
   "cell_type": "code",
   "execution_count": null,
   "metadata": {
    "collapsed": true
   },
   "outputs": [],
   "source": [
    "a[10]"
   ]
  },
  {
   "cell_type": "code",
   "execution_count": null,
   "metadata": {
    "collapsed": true
   },
   "outputs": [],
   "source": [
    "a[-7]"
   ]
  },
  {
   "cell_type": "markdown",
   "metadata": {},
   "source": [
    "- 位置這樣算\n",
    "![](_img/hello.png)"
   ]
  },
  {
   "cell_type": "code",
   "execution_count": null,
   "metadata": {
    "collapsed": true
   },
   "outputs": [],
   "source": [
    "a[2:5]"
   ]
  },
  {
   "cell_type": "code",
   "execution_count": null,
   "metadata": {
    "collapsed": true
   },
   "outputs": [],
   "source": [
    "a[4:]"
   ]
  },
  {
   "cell_type": "code",
   "execution_count": null,
   "metadata": {
    "collapsed": true,
    "scrolled": true
   },
   "outputs": [],
   "source": [
    "a[:5]"
   ]
  },
  {
   "cell_type": "code",
   "execution_count": null,
   "metadata": {
    "collapsed": true
   },
   "outputs": [],
   "source": [
    "a[-4:-2]"
   ]
  },
  {
   "cell_type": "markdown",
   "metadata": {
    "solution2": "hidden",
    "solution2_first": true
   },
   "source": [
    "<font size=6 style=\"text-shadow:0px 0px 15px #FF37FD;\">考考你</font>\n",
    "- 請用前面定義的「a = 'hello, world'」，透過字串取值及字串串接的技巧，輸出「how old」字串\n",
    "\n",
    "<script>\n",
    "a = 'hello, world'\n",
    "a[0]+a[4]+a[7]+' '+a[4]+a[-2:]\n",
    "a[0] + a[4] + a[7] + \" \" + a[4] + a[-2:]\n",
    "</script>"
   ]
  },
  {
   "cell_type": "markdown",
   "metadata": {},
   "source": [
    "### 範圍 Range\n",
    "\n",
    "range 屬於不可變 (immutable) 的序列 (sequence) 型別，支援序列的以下計算\n",
    "\n",
    "<table align=\"center\" width=\"90%\" border=\"1\"><tbody><tr><th>計算</th><th>描述</th></tr>\n",
    "<tr><td>x in s</td><td>判斷 x 是否在 s 中</td></tr>\n",
    "<tr><td>x not in s</td><td>判斷 x 是否不在 s 中</td></tr>\n",
    "<tr><td>s[i]</td><td>取得索引值 i 的元素</td></tr>\n",
    "<tr><td>len(s)</td><td>回傳 s 的元素個數</td></tr>\n",
    "<tr><td>min(s)</td><td>回傳 s 中的最小值</td></tr>\n",
    "<tr><td>max(s)</td><td>回傳 s 中的最大值</td></tr>\n",
    "</tbody></table>"
   ]
  },
  {
   "cell_type": "code",
   "execution_count": null,
   "metadata": {
    "collapsed": true
   },
   "outputs": [],
   "source": [
    "range(9)"
   ]
  },
  {
   "cell_type": "code",
   "execution_count": null,
   "metadata": {
    "collapsed": true
   },
   "outputs": [],
   "source": [
    "5 in range(9)"
   ]
  },
  {
   "cell_type": "code",
   "execution_count": null,
   "metadata": {
    "collapsed": true
   },
   "outputs": [],
   "source": [
    "range(9)[9]"
   ]
  },
  {
   "cell_type": "code",
   "execution_count": null,
   "metadata": {
    "collapsed": true
   },
   "outputs": [],
   "source": [
    "len(range(7))"
   ]
  },
  {
   "cell_type": "markdown",
   "metadata": {},
   "source": [
    "### 串列 List\n",
    "串列 (list) 屬於一維、可變 (mutable) 的序列 (sequence) 型態，可進行以下序列通用的計算\n",
    "\n",
    "<table align=\"center\" width=\"90%\" border=\"1\"><tbody><tr><th>計算</th><th>描述</th></tr>\n",
    "<tr><td>x in s</td><td>判斷 x 是否在 s 中</td></tr>\n",
    "<tr><td>x not in s</td><td>判斷 x 是否不在 s 中</td></tr>\n",
    "<tr><td>s + t</td><td>連接 s 及 t</td></tr>\n",
    "<tr><td>s ＊ n, n ＊ s</td><td>將 s 重複 n 次連接 s 本身</td></tr>\n",
    "<tr><td>s[i]</td><td>取得索引值 i 的元素</td></tr>\n",
    "<tr><td>s[i:j]</td><td>取得索引值 i 到 j 的子序列</td></tr>\n",
    "<tr><td>s[i:j:k]</td><td>取得索引值 i 到 j ，間隔 k 的子序列</td></tr>\n",
    "<tr><td>len(s)</td><td>回傳 s 的元素個數</td></tr>\n",
    "<tr><td>min(s)</td><td>回傳 s 中的最小值</td></tr>\n",
    "<tr><td>max(s)</td><td>回傳 s 中的最大值</td></tr>\n",
    "<tr><td>s.index(i)</td><td>取得 s 中第一次出現 i 的索引值</td></tr>\n",
    "<tr><td>s.count(i)</td><td>累計 s 中 i 出現的個數</td></tr>\n",
    "</tbody></table>\n",
    "\n",
    "由於串列是可變的複合資料型態 (compound data type) ，也是 Python 中大量運用的工作型態種類，因此有額外以下的計算\n",
    "\n",
    "<table align=\"center\" width=\"90%\" border=\"1\"><tbody><tr><th>計算</th><th>描述</th></tr>\n",
    "<tr><td>s[i] = x</td><td>將索引值 i 的元素指派為 x</td></tr>\n",
    "<tr><td>s[i:j] = t</td><td>將索引值 i 到 j 的元素指派為 t ， t 為迭代器</td></tr>\n",
    "<tr><td>del s[i:j]</td><td>刪除索引值 i 到 j 的元素</td></tr>\n",
    "<tr><td>s[i:j:k] = t</td><td>將索引值 i 到 j ，間隔 k 的元素指派為 t ， t 為迭代器</td></tr>\n",
    "<tr><td>del s[i:j:k]</td><td>刪除索引值 i 到 j ，間隔 k 的元素</td></tr>\n",
    "<tr><td><a href=\"http://pydoing.blogspot.com/2011/03/python-listcomprehension.html\">串列綜合運算 list comprehension</a></td><td>運用運算式生成新的串列</td></tr>\n",
    "</tbody></table>\n",
    "\n",
    "串列型態有以下的方法 (method)\n",
    "\n",
    "<table align=\"center\" width=\"90%\" border=\"1\"><tbody><tr><th>方法</th><th>描述</th></tr>\n",
    "<tr><td><a href=\"http://pydoing.blogspot.com/2011/03/python-listappend.html\">list.append(x)</a></td><td>將 x 附加到 list 的最後</td></tr>\n",
    "<tr><td><a href=\"http://pydoing.blogspot.com/2011/03/python-listextend.html\">list.extend(x)</a></td><td>將 x 中的元素附加到 list 的最後</td></tr>\n",
    "<tr><td><a href=\"http://pydoing.blogspot.com/2011/03/python-listcount.html\">list.count(x)</a></td><td>計算 list 中 x 出現的次數</td></tr>\n",
    "<tr><td><a href=\"http://pydoing.blogspot.com/2011/03/python-listindex.html\">list.index(x[, i[, j]])</a></td><td>回傳 x 在 list 最小的索引值</td></tr>\n",
    "<tr><td><a href=\"http://pydoing.blogspot.com/2011/03/python-listinsert.html\">list.insert(i, x)</a></td><td>將 x 插入 list 索引值 i 的地方</td></tr>\n",
    "<tr><td><a href=\"http://pydoing.blogspot.com/2011/03/python-listpop.html\">list.pop([i])</a></td><td>取出 list 中索引值為 i 的元素，預設是最後一個</td></tr>\n",
    "<tr><td><a href=\"http://pydoing.blogspot.com/2011/03/python-listremove.html\">list.remove(x)</a></td><td>移除 list 中第一個 x 元素</td></tr>\n",
    "<tr><td><a href=\"http://pydoing.blogspot.com/2011/03/python-listreverse.html\">list.reverse()</a></td><td>倒轉 list 中元素的順序</td></tr>\n",
    "<tr><td><a href=\"http://pydoing.blogspot.com/2011/03/python-listsort.html\">list.sort([key[, reverse]])</a></td><td>排序 list 中的元素</td></tr>\n",
    "</tbody></table>"
   ]
  },
  {
   "cell_type": "markdown",
   "metadata": {},
   "source": [
    "- They can be defined using square brackets [] or using the list type function"
   ]
  },
  {
   "cell_type": "code",
   "execution_count": 3,
   "metadata": {},
   "outputs": [
    {
     "data": {
      "text/plain": [
       "[2, 'peekaboo', 7, None]"
      ]
     },
     "execution_count": 3,
     "metadata": {},
     "output_type": "execute_result"
    }
   ],
   "source": [
    "a_list = [2, 3, 7, None]\n",
    "a_list[1] = 'peekaboo'\n",
    "a_list"
   ]
  },
  {
   "cell_type": "markdown",
   "metadata": {},
   "source": [
    "- 添加與移除串列元素 Adding and removing elements."
   ]
  },
  {
   "cell_type": "code",
   "execution_count": 4,
   "metadata": {},
   "outputs": [
    {
     "data": {
      "text/plain": [
       "[2, 'peekaboo', 7, None, 'dwarf']"
      ]
     },
     "execution_count": 4,
     "metadata": {},
     "output_type": "execute_result"
    }
   ],
   "source": [
    "a_list.append('dwarf')\n",
    "a_list"
   ]
  },
  {
   "cell_type": "markdown",
   "metadata": {},
   "source": [
    "- 在特定位置插入元素 Using insert you can insert an element at a specific location in the list."
   ]
  },
  {
   "cell_type": "code",
   "execution_count": 5,
   "metadata": {},
   "outputs": [
    {
     "data": {
      "text/plain": [
       "[2, 'red', 'peekaboo', 7, None, 'dwarf']"
      ]
     },
     "execution_count": 5,
     "metadata": {},
     "output_type": "execute_result"
    }
   ],
   "source": [
    "a_list.insert(1, 'red')\n",
    "a_list"
   ]
  },
  {
   "cell_type": "markdown",
   "metadata": {},
   "source": [
    "- insert的逆運算是pop，它將特定位置上的元素移出來 The inverse operation to insert is pop, which removes and returns an element at a particular index"
   ]
  },
  {
   "cell_type": "code",
   "execution_count": 6,
   "metadata": {},
   "outputs": [
    {
     "data": {
      "text/plain": [
       "'red'"
      ]
     },
     "execution_count": 6,
     "metadata": {},
     "output_type": "execute_result"
    }
   ],
   "source": [
    "a_list.pop(1)"
   ]
  },
  {
   "cell_type": "code",
   "execution_count": 7,
   "metadata": {},
   "outputs": [
    {
     "data": {
      "text/plain": [
       "[2, 'peekaboo', 7, None, 'dwarf']"
      ]
     },
     "execution_count": 7,
     "metadata": {},
     "output_type": "execute_result"
    }
   ],
   "source": [
    "a_list"
   ]
  },
  {
   "cell_type": "markdown",
   "metadata": {},
   "source": [
    "- 從後方新增append，remove將第一個發現的移除 Elements can be appended to the end of the list with the append method. Elements can be removed by value using remove, which locates the first such value and removes it from the last."
   ]
  },
  {
   "cell_type": "code",
   "execution_count": 8,
   "metadata": {},
   "outputs": [
    {
     "data": {
      "text/plain": [
       "[2, 'peekaboo', 7, None, 'dwarf', 'peekaboo']"
      ]
     },
     "execution_count": 8,
     "metadata": {},
     "output_type": "execute_result"
    }
   ],
   "source": [
    "a_list.append('peekaboo')\n",
    "a_list"
   ]
  },
  {
   "cell_type": "code",
   "execution_count": 9,
   "metadata": {},
   "outputs": [
    {
     "data": {
      "text/plain": [
       "[2, 7, None, 'dwarf', 'peekaboo']"
      ]
     },
     "execution_count": 9,
     "metadata": {},
     "output_type": "execute_result"
    }
   ],
   "source": [
    "a_list.remove('peekaboo')\n",
    "a_list"
   ]
  },
  {
   "cell_type": "markdown",
   "metadata": {},
   "source": [
    "- 以in關鍵字查核串列是否包含某個值 You can check if a list contains a value using the in keyword."
   ]
  },
  {
   "cell_type": "code",
   "execution_count": 10,
   "metadata": {},
   "outputs": [
    {
     "data": {
      "text/plain": [
       "True"
      ]
     },
     "execution_count": 10,
     "metadata": {},
     "output_type": "execute_result"
    }
   ],
   "source": [
    "'dwarf' in a_list"
   ]
  },
  {
   "cell_type": "markdown",
   "metadata": {
    "collapsed": true
   },
   "source": [
    "- 串列串接與結合 Concatenating and combining lists"
   ]
  },
  {
   "cell_type": "code",
   "execution_count": 11,
   "metadata": {},
   "outputs": [
    {
     "data": {
      "text/plain": [
       "[4, None, 'foo', 7, 8, (2, 3)]"
      ]
     },
     "execution_count": 11,
     "metadata": {},
     "output_type": "execute_result"
    }
   ],
   "source": [
    "[4, None, 'foo'] + [7, 8, (2, 3)]"
   ]
  },
  {
   "cell_type": "code",
   "execution_count": 12,
   "metadata": {},
   "outputs": [
    {
     "data": {
      "text/plain": [
       "[4, None, 'foo', 7, 8, (2, 3)]"
      ]
     },
     "execution_count": 12,
     "metadata": {},
     "output_type": "execute_result"
    }
   ],
   "source": [
    "x = [4, None, 'foo']\n",
    "x.extend([7, 8, (2, 3)])\n",
    "x"
   ]
  },
  {
   "cell_type": "markdown",
   "metadata": {},
   "source": [
    "- 注意+串接是相對昂貴的運算，因為新串列必須創立且物件要複製。用extend添加元素到現存串列比較好，尤其是當涉及大形串列物件時 Note that list concatenation is a compartively expensive operation since a new list must be created and the objects copied over. Using extend to append elements to an existing list, especially if you are building up a large list, is usually preferable."
   ]
  },
  {
   "cell_type": "code",
   "execution_count": null,
   "metadata": {
    "collapsed": true
   },
   "outputs": [],
   "source": [
    "#everything = []\n",
    "#for chunk in list_of_lists:\n",
    "#    everything.extend(chunk)\n",
    "\n",
    "#everything = []\n",
    "#for chunk in list_of_lists:\n",
    "#    everything = everything + chunk"
   ]
  },
  {
   "cell_type": "markdown",
   "metadata": {},
   "source": [
    "- 上面比下面快"
   ]
  },
  {
   "cell_type": "markdown",
   "metadata": {},
   "source": [
    "- 排序 Sorting"
   ]
  },
  {
   "cell_type": "code",
   "execution_count": 13,
   "metadata": {},
   "outputs": [
    {
     "data": {
      "text/plain": [
       "[1, 2, 3, 5, 7]"
      ]
     },
     "execution_count": 13,
     "metadata": {},
     "output_type": "execute_result"
    }
   ],
   "source": [
    "a = [7, 2, 5, 1, 3]\n",
    "a.sort()\n",
    "a"
   ]
  },
  {
   "cell_type": "markdown",
   "metadata": {},
   "source": [
    "- sort函數有許多有用的選項，例如下例可依字串長度(當作key)進行排序 Sort has a few options that will occasionally come in handy. One is the ability to pass a secondary sort key, i.e. a function that produces a value to use to sort the objects."
   ]
  },
  {
   "cell_type": "code",
   "execution_count": 14,
   "metadata": {},
   "outputs": [
    {
     "data": {
      "text/plain": [
       "['He', 'saw', 'six', 'small', 'foxes']"
      ]
     },
     "execution_count": 14,
     "metadata": {},
     "output_type": "execute_result"
    }
   ],
   "source": [
    "b = ['saw', 'small', 'He', 'foxes', 'six']\n",
    "b.sort(key=len)\n",
    "b"
   ]
  },
  {
   "cell_type": "markdown",
   "metadata": {},
   "source": [
    "- 二元搜尋與有序的串列 Binary search and maintaining a sorted list\n",
    "- bisect.bisect尋找維持串列有序的新元素插入位置 bisect.bisect finds the location where an element should be inserted to keep it sorted"
   ]
  },
  {
   "cell_type": "code",
   "execution_count": 15,
   "metadata": {},
   "outputs": [
    {
     "data": {
      "text/plain": [
       "4"
      ]
     },
     "execution_count": 15,
     "metadata": {},
     "output_type": "execute_result"
    }
   ],
   "source": [
    "import bisect\n",
    "c = [1, 2, 2, 2, 3, 4, 7]\n",
    "bisect.bisect(c, 2)"
   ]
  },
  {
   "cell_type": "code",
   "execution_count": null,
   "metadata": {
    "collapsed": true,
    "scrolled": true
   },
   "outputs": [],
   "source": [
    "bisect.bisect(c, 5)"
   ]
  },
  {
   "cell_type": "markdown",
   "metadata": {},
   "source": [
    "- bisect.insort不光找尋插入位置，還實際將新元素插入 bisect.insort actually inserts the element into that location."
   ]
  },
  {
   "cell_type": "code",
   "execution_count": null,
   "metadata": {
    "collapsed": true
   },
   "outputs": [],
   "source": [
    "bisect.insort(c, 6)\n",
    "c"
   ]
  },
  {
   "cell_type": "markdown",
   "metadata": {},
   "source": [
    "### 序對 Tuple\n",
    "序對 (tuple) 屬於不可變 (mutable) 的序列 (sequence) 型別，可進行以下序列通用的計算\n",
    "\n",
    "進一步瞭解 http://www.oudahe.com/p/10624/\n",
    "\n",
    "<table align=\"center\" width=\"90%\" border=\"1\"><tbody><tr><th>計算</th><th>描述</th></tr>\n",
    "<tr><td>x in s</td><td>判斷 x 是否在 s 中</td></tr>\n",
    "<tr><td>x not in s</td><td>判斷 x 是否不在 s 中</td></tr>\n",
    "<tr><td>s + t</td><td>連接 s 及 t</td></tr>\n",
    "<tr><td>s * n, n * s</td><td>將 s 重複 n 次連接 s 本身</td></tr>\n",
    "<tr><td>s[i]</td><td>取得索引值 i 的元素</td></tr>\n",
    "<tr><td>s[i:j]</td><td>取得索引值 i 到 j 的子序列</td></tr>\n",
    "<tr><td>s[i:j:k]</td><td>取得索引值 i 到 j ，間隔 k 的子序列</td></tr>\n",
    "<tr><td>len(s)</td><td>回傳 s 的元素個數</td></tr>\n",
    "<tr><td>min(s)</td><td>回傳 s 中的最小值</td></tr>\n",
    "<tr><td>max(s)</td><td>回傳 s 中的最大值</td></tr>\n",
    "<tr><td>s.index(i)</td><td>取得 s 中第一次出現 i 的索引值</td></tr>\n",
    "<tr><td>s.count(i)</td><td>累計 s 中 i 出現的個數</td></tr>\n",
    "</tbody></table>"
   ]
  },
  {
   "cell_type": "code",
   "execution_count": null,
   "metadata": {
    "collapsed": true
   },
   "outputs": [],
   "source": [
    "tup = 4, 5, 6\n",
    "tup"
   ]
  },
  {
   "cell_type": "markdown",
   "metadata": {},
   "source": [
    "- 值組中還有值組，稱為巢狀值組 Creating a tuple of tuples"
   ]
  },
  {
   "cell_type": "code",
   "execution_count": null,
   "metadata": {
    "collapsed": true
   },
   "outputs": [],
   "source": [
    "nested_tup = (4, 5, 6), (7, 8)\n",
    "nested_tup"
   ]
  },
  {
   "cell_type": "markdown",
   "metadata": {},
   "source": [
    "- 透過tupe函數可將序列或迭代物件轉為值組 Any sequence or iterator can be converted to a tuple by invoking tuple."
   ]
  },
  {
   "cell_type": "code",
   "execution_count": null,
   "metadata": {
    "collapsed": true
   },
   "outputs": [],
   "source": [
    "tuple([4, 0, 2])"
   ]
  },
  {
   "cell_type": "code",
   "execution_count": null,
   "metadata": {
    "collapsed": true
   },
   "outputs": [],
   "source": [
    "tup = tuple('string')\n",
    "tup"
   ]
  },
  {
   "cell_type": "markdown",
   "metadata": {},
   "source": [
    "- Python索引從0開始 Zero-Based Numbering."
   ]
  },
  {
   "cell_type": "code",
   "execution_count": null,
   "metadata": {
    "collapsed": true
   },
   "outputs": [],
   "source": [
    "tup[0]"
   ]
  },
  {
   "cell_type": "markdown",
   "metadata": {},
   "source": [
    "- 值組是不可更改的 Tuple is immutable."
   ]
  },
  {
   "cell_type": "code",
   "execution_count": null,
   "metadata": {
    "collapsed": true
   },
   "outputs": [],
   "source": [
    "tup = tuple(['foo', [1, 2], True])\n",
    "tup\n",
    "# tup[2] = False # TypeError: 'tuple' object does not support item assignment"
   ]
  },
  {
   "cell_type": "code",
   "execution_count": null,
   "metadata": {
    "collapsed": true
   },
   "outputs": [],
   "source": [
    "tup[1].append(3)\n",
    "tup"
   ]
  },
  {
   "cell_type": "markdown",
   "metadata": {},
   "source": [
    "- 值組可用+運算子串接成較長的值組 Tuples can be concatenated using the + operator to produce longer tuples"
   ]
  },
  {
   "cell_type": "code",
   "execution_count": null,
   "metadata": {
    "collapsed": true
   },
   "outputs": [],
   "source": [
    "(4, None, 'foo') + (6, 0) + ('bar',)"
   ]
  },
  {
   "cell_type": "markdown",
   "metadata": {},
   "source": [
    "- 值組可用*運算子複製成較長的值組 Multiplying a tuple by an integer, as with lists, has the effect of concatenating together that many copies of the tuple."
   ]
  },
  {
   "cell_type": "code",
   "execution_count": null,
   "metadata": {
    "collapsed": true
   },
   "outputs": [],
   "source": [
    "('foo', 'bar') * 4"
   ]
  },
  {
   "cell_type": "markdown",
   "metadata": {},
   "source": [
    "- 解構值組 Unpacking tuples."
   ]
  },
  {
   "cell_type": "code",
   "execution_count": null,
   "metadata": {
    "collapsed": true
   },
   "outputs": [],
   "source": [
    "tup = (4, 5, 6)\n",
    "a, b, c = tup\n",
    "c"
   ]
  },
  {
   "cell_type": "markdown",
   "metadata": {},
   "source": [
    "- Python的變數交換方式 Pythonic way to swap variables."
   ]
  },
  {
   "cell_type": "code",
   "execution_count": null,
   "metadata": {
    "collapsed": true
   },
   "outputs": [],
   "source": [
    "x, y = 1, 2 # now x is 1, y is 2\n",
    "x, y = y, x # Pythonic way to swap variables; now x is 2, y is 1\n",
    "x"
   ]
  },
  {
   "cell_type": "code",
   "execution_count": null,
   "metadata": {
    "collapsed": true
   },
   "outputs": [],
   "source": [
    "y"
   ]
  },
  {
   "cell_type": "markdown",
   "metadata": {},
   "source": [
    "- count與index是值組的兩個方法 Count and index are two methods for tuple instances."
   ]
  },
  {
   "cell_type": "code",
   "execution_count": null,
   "metadata": {
    "collapsed": true
   },
   "outputs": [],
   "source": [
    "a = (1, 2, 2, 2, 3, 4, 2)\n",
    "a.count(2)"
   ]
  },
  {
   "cell_type": "code",
   "execution_count": null,
   "metadata": {
    "collapsed": true
   },
   "outputs": [],
   "source": [
    "a.index(3)"
   ]
  },
  {
   "cell_type": "code",
   "execution_count": null,
   "metadata": {
    "collapsed": true,
    "scrolled": false
   },
   "outputs": [],
   "source": [
    "c"
   ]
  },
  {
   "cell_type": "markdown",
   "metadata": {},
   "source": [
    "### 透過「：」控制序列取值"
   ]
  },
  {
   "cell_type": "markdown",
   "metadata": {},
   "source": [
    "- Slicing"
   ]
  },
  {
   "cell_type": "code",
   "execution_count": null,
   "metadata": {
    "collapsed": true
   },
   "outputs": [],
   "source": [
    "seq = [7, 2, 3, 7, 5, 6, 0, 1]\n",
    "seq[1:5]"
   ]
  },
  {
   "cell_type": "markdown",
   "metadata": {},
   "source": [
    "- 注意與上面的細微差異 While element at the start index is included, the stop index is not included, so that the number of elements in the result is stop - start"
   ]
  },
  {
   "cell_type": "code",
   "execution_count": null,
   "metadata": {
    "collapsed": true
   },
   "outputs": [],
   "source": [
    "seq[3:4] = [6, 3]\n",
    "seq"
   ]
  },
  {
   "cell_type": "code",
   "execution_count": null,
   "metadata": {
    "collapsed": true
   },
   "outputs": [],
   "source": [
    "seq[:5]"
   ]
  },
  {
   "cell_type": "code",
   "execution_count": null,
   "metadata": {
    "collapsed": true
   },
   "outputs": [],
   "source": [
    "seq[3:]"
   ]
  },
  {
   "cell_type": "code",
   "execution_count": null,
   "metadata": {
    "collapsed": true
   },
   "outputs": [],
   "source": [
    "seq[-4:]"
   ]
  },
  {
   "cell_type": "code",
   "execution_count": null,
   "metadata": {
    "collapsed": true
   },
   "outputs": [],
   "source": [
    "seq[-6:-2]"
   ]
  },
  {
   "cell_type": "code",
   "execution_count": null,
   "metadata": {
    "collapsed": true
   },
   "outputs": [],
   "source": [
    "seq[::2]"
   ]
  },
  {
   "cell_type": "code",
   "execution_count": null,
   "metadata": {
    "collapsed": true,
    "scrolled": true
   },
   "outputs": [],
   "source": [
    "seq[::-1]"
   ]
  },
  {
   "cell_type": "code",
   "execution_count": null,
   "metadata": {
    "collapsed": true
   },
   "outputs": [],
   "source": [
    "a = 'hello, world'\n",
    "type(a)"
   ]
  },
  {
   "cell_type": "code",
   "execution_count": null,
   "metadata": {
    "collapsed": true
   },
   "outputs": [],
   "source": [
    "a[10]"
   ]
  },
  {
   "cell_type": "code",
   "execution_count": null,
   "metadata": {
    "collapsed": true
   },
   "outputs": [],
   "source": [
    "a[-7]"
   ]
  },
  {
   "cell_type": "markdown",
   "metadata": {},
   "source": [
    "- 位置這樣算\n",
    "![](_img/hello.png)"
   ]
  },
  {
   "cell_type": "code",
   "execution_count": null,
   "metadata": {
    "collapsed": true
   },
   "outputs": [],
   "source": [
    "a[2:5]"
   ]
  },
  {
   "cell_type": "code",
   "execution_count": null,
   "metadata": {
    "collapsed": true
   },
   "outputs": [],
   "source": [
    "a[4:]"
   ]
  },
  {
   "cell_type": "code",
   "execution_count": null,
   "metadata": {
    "collapsed": true,
    "scrolled": true
   },
   "outputs": [],
   "source": [
    "a[:5]"
   ]
  },
  {
   "cell_type": "code",
   "execution_count": null,
   "metadata": {
    "collapsed": true
   },
   "outputs": [],
   "source": [
    "a[-4:-2]"
   ]
  },
  {
   "cell_type": "markdown",
   "metadata": {
    "solution2": "hidden",
    "solution2_first": true
   },
   "source": [
    "<font size=6 style=\"text-shadow:0px 0px 15px #FF37FD;\">考考你</font>\n",
    "- 請用前面定義的「a = 'hello, world'」，透過字串取值及字串串接的技巧，輸出「how old」字串\n",
    "\n",
    "<script>\n",
    "a = 'hello, world'\n",
    "a[0]+a[4]+a[7]+' '+a[4]+a[-2:]\n",
    "a[0] + a[4] + a[7] + \" \" + a[4] + a[-2:]\n",
    "</script>"
   ]
  },
  {
   "cell_type": "markdown",
   "metadata": {},
   "source": [
    "## 集合 Set\n",
    "內建的集合型別 (set types) 的字面常數使用大括弧圍起來，其物件屬於複合資料型別 (compound data type) ，也就是說單一集合型別物件可以包含多個元素，但沒有重複的元素。\n",
    "\n",
    "**以無順序的方式存放物件 An unordered collection object for other unique objects**\n",
    "\n",
    "- 例如以下 s1\n",
    "    - s1 = {1, 1, 1, 2, 2, 3, 3, 4, 5}\n",
    "- s1 實際等於 s2\n",
    "    - s2 = {1, 2, 3, 4, 5}\n",
    "\n",
    "- 集合型態的物件可進行以下的運算:\n",
    "\n",
    "<table align=\"center\" width=\"90%\" border=\"1\"><tbody><tr><th>計算</th><th>描述</th></tr>\n",
    "<tr><td>x in s</td><td>判斷 x 是否在 s 中</td></tr>\n",
    "<tr><td>x not in s</td><td>判斷 x 是否不在 s 中</td></tr>\n",
    "<tr><td>s1 &amp; s2</td><td>且運算，取得 s1 與 s2 的交集</td></tr>\n",
    "<tr><td>s2 | s2</td><td>或運算，取得 s1 與 s2 的聯集</td></tr>\n",
    "<tr><td>s1 ^ s2</td><td>對稱差運算，取得 s1 與 s2 的對稱差集</td></tr>\n",
    "<tr><td>s1 - s2</td><td>差運算，取得 s1 與 s2 的差集</td></tr>\n",
    "<tr><td>s1 &lt; s2</td><td>判斷 s1 是否為 s2 的真子集</td></tr>\n",
    "<tr><td>s1 &lt;= s2</td><td>判斷 s1 是否為 s2 的子集</td></tr>\n",
    "<tr><td>s1 &gt; s2</td><td>判斷 s2 是否為 s1 的真子集</td></tr>\n",
    "<tr><td>s1 &gt;= s2</td><td>判斷 s2 是否為 s1 的子集</td></tr>\n",
    "<tr><td>len(s)</td><td>回傳 s 的元素個數</td></tr>\n",
    "<tr><td>min(s)</td><td>回傳 s 中的最小值， s 中的元素必須是相同型態</td></tr>\n",
    "<tr><td>max(s)</td><td>回傳 s 中的最大值， s 中的元素必須是相同型態</td></tr>\n",
    "</tbody></table>\n",
    "\n",
    "- 集合型態物件的運算大都有相對應的方法 (method)：\n",
    "\n",
    "<table align=\"center\" width=\"90%\" border=\"1\"><tbody><tr><th>方法</th><th>描述</th></tr>\n",
    "<tr><td><a href=\"http://pydoing.blogspot.com/2011/03/python-setintersection.html\">s1.intersection(s2)</a></td><td>等於 s1 &amp; s2</td></tr>\n",
    "<tr><td><a href=\"http://pydoing.blogspot.com/2011/03/python-setunion.html\">s1.union(s2)</a></td><td>等於 s1 | s2</td></tr>\n",
    "<tr><td><a href=\"http://pydoing.blogspot.com/2011/03/python-setsymmetricdifference.html\">s1.symmetric_difference(s2)</a></td><td>等於 s1 ^ s2</td></tr>\n",
    "<tr><td><a href=\"http://pydoing.blogspot.com/2011/03/python-setdifference.html\">s1.difference(s2)</a></td><td>等於 s1 - s2</td></tr>\n",
    "<tr><td><a href=\"http://pydoing.blogspot.com/2011/03/python-setissubset.html\">s1.issubset(s2)</a></td><td>等於 s1 &lt;= s2</td></tr>\n",
    "<tr><td><a href=\"http://pydoing.blogspot.com/2011/03/python-setissuperset.html\">s1.issuperset(s2)</a></td><td>等於 s1 &gt;= s2</td></tr>\n",
    "<tr><td><a href=\"http://pydoing.blogspot.com/2011/03/python-setisdisjoint.html\">s1.isdisjoint(s2)</a></td><td>判斷 s1 與 s2 是否無交集，若無交集，回傳 True</td></tr>\n",
    "<tr><td><a href=\"http://pydoing.blogspot.com/2011/03/python-setcopy.html\">s.copy()</a></td><td>回傳 s 的拷貝</td></tr>\n",
    "</tbody></table>\n",
    "\n",
    "- 由於 set 型態是可變的，因此有額外兩個新增與刪除元素的方法：\n",
    "\n",
    "<table align=\"center\" width=\"90%\" border=\"1\"><tbody><tr><th>方法</th><th>描述</th></tr>\n",
    "<tr><td><a href=\"http://pydoing.blogspot.com/2011/03/python-setadd.html\">s.add(e)</a></td><td>增加 e 為 s 的元素</td></tr>\n",
    "<tr><td><a href=\"http://pydoing.blogspot.com/2011/03/python-setremove.html\">s.remove(e)</a></td><td>從 s 中刪除元素 e</td></tr>\n",
    "\n",
    "</tbody></table>"
   ]
  },
  {
   "cell_type": "markdown",
   "metadata": {},
   "source": [
    "- 可將集合視為無鍵的字典物件 You can think of them like dicts, but keys only, no values.\n",
    "- 兩種方式創建集合：set函數與大括弧{}運算子 A set can be created in two ways: via the set function or using a set literal with curly braces."
   ]
  },
  {
   "cell_type": "code",
   "execution_count": null,
   "metadata": {
    "collapsed": true
   },
   "outputs": [],
   "source": [
    "set([2, 2, 2, 1, 3, 3])"
   ]
  },
  {
   "cell_type": "code",
   "execution_count": null,
   "metadata": {
    "collapsed": true,
    "scrolled": true
   },
   "outputs": [],
   "source": [
    "{2, 2, 2, 1, 3, 3}"
   ]
  },
  {
   "cell_type": "markdown",
   "metadata": {},
   "source": [
    "- 集合支援許多數學上的集合運算子 Sets support mathematical set operations like union, intersection, difference, and sym- metric difference."
   ]
  },
  {
   "cell_type": "code",
   "execution_count": null,
   "metadata": {
    "collapsed": true,
    "scrolled": true
   },
   "outputs": [],
   "source": [
    "a = {1, 2, 3, 4, 5}\n",
    "b = {3, 4, 5, 6, 7, 8}\n",
    "a | b # union (or)"
   ]
  },
  {
   "cell_type": "code",
   "execution_count": null,
   "metadata": {
    "collapsed": true
   },
   "outputs": [],
   "source": [
    "a & b # intersection (and)"
   ]
  },
  {
   "cell_type": "code",
   "execution_count": null,
   "metadata": {
    "collapsed": true
   },
   "outputs": [],
   "source": [
    "a - b # difference"
   ]
  },
  {
   "cell_type": "code",
   "execution_count": null,
   "metadata": {
    "collapsed": true
   },
   "outputs": [],
   "source": [
    "a ^ b # symmetric difference (xor)"
   ]
  },
  {
   "cell_type": "code",
   "execution_count": null,
   "metadata": {
    "collapsed": true
   },
   "outputs": [],
   "source": [
    "a_set = {1, 2, 3, 4, 5}\n",
    "{1, 2, 3}.issubset(a_set)"
   ]
  },
  {
   "cell_type": "code",
   "execution_count": null,
   "metadata": {
    "collapsed": true
   },
   "outputs": [],
   "source": [
    "a_set.issuperset({1, 2, 3})"
   ]
  },
  {
   "cell_type": "code",
   "execution_count": null,
   "metadata": {
    "collapsed": true,
    "scrolled": true
   },
   "outputs": [],
   "source": [
    "{1, 2, 3} == {3, 2, 1}"
   ]
  },
  {
   "cell_type": "markdown",
   "metadata": {},
   "source": [
    "- Python集合物件集合物件方法：a.add(x), a.remove(x), a.union(b), a.intersection(b), a.difference(b), a.symmetric_difference(b), a.issubset(b), a.issuperset(b), a.isdisjoint(b)"
   ]
  },
  {
   "cell_type": "markdown",
   "metadata": {},
   "source": [
    "## 字典 Dict\n",
    "\n",
    "可能是Python最重要的資料結構 Dict: dict is likely the most important built-in Python data structure."
   ]
  },
  {
   "cell_type": "markdown",
   "metadata": {},
   "source": [
    "- 常稱為雜湊圖和關聯矩陣 A more common name for it is hash map or associative array.\n",
    "- 可長可短的鍵值對，鍵與值均須為Python物件 It is a flexibly-sized collection of key-value pairs, where key and value are Python objects.\n",
    "- 用大括弧{}以及冒號:來分隔鍵與值，以創建字典物件 One way to create one is by using curly braces {} and using colons to separate keys and values\n",
    "\n",
    "- 建立字典變數可利用大括弧，裡頭以 key:value 為配對的資料項目，每一筆資料再以逗號區隔開，例如\n",
    "    - d1 = {one:\"a\", two:\"b\"}\n",
    "\n",
    "\n",
    "- 上述字典型態的變數 d1 有兩筆資料，第一筆資料的 key 為 one ， value 為 \"a\" ，第二筆資料的 key 為 two ， value 為 \"b\" 。\n",
    "- 使用字典須注意， key 必須是不可變的 (immutable) 資料型態，如數字、字串 (string) 等， value 沒有限制，因此有需要的話，使用串列 (list) 或字典皆可。 \n",
    "\n",
    "\n",
    "- 也可以利用字典型態的建構子 (constructor) 建立物件，如下\n",
    "    - d2 = dict(one=\"a\", two=\"b\")\n",
    "    - d3 = dict({\"one\":\"a\", \"two\":\"b\"})\n",
    "    - d4 = dict(zip((\"one\", \"two\"), (\"a\", \"b\")))\n",
    "    - d5 = dict([[\"one\", \"b\"], [\"two\", \"a\"]])\n",
    "\n",
    "\n",
    "以上 d2 、 d3 、 d4 、 d5 所得到的字典物件，全都會與 d1 相同。\n",
    "\n",
    "- 字典物件可進行以下的運算\n",
    "\n",
    "<table align=\"center\" width=\"90%\" border=\"1\"><tbody><tr><th>計算</th><th>描述</th></tr>\n",
    "<tr><td>d[key]</td><td>從 d 中取得 key 的 value</td></tr>\n",
    "<tr><td>d[key] = value</td><td>將 d 的 key 指定為 value</td></tr>\n",
    "<tr><td>del d[key]</td><td>刪除 d 中 key 所指定的 value</td></tr>\n",
    "<tr><td>key in d</td><td>判斷 key 是否在 d 中</td></tr>\n",
    "<tr><td>key not in d</td><td>判斷 key 是否不在 d 中</td></tr>\n",
    "<tr><td>iter(d)</td><td>回傳由 d 的 key 建立的迭代器</td></tr>\n",
    "<tr><td>len(d)</td><td>回傳 d 的配對資料個數</td></tr>\n",
    "</tbody></table>\n",
    "\n",
    "- 字典物件有以下的方法 (method)\n",
    "\n",
    "<table align=\"center\" width=\"90%\" border=\"1\"><tbody><tr><th>方法</th><th>描述</th></tr>\n",
    "<tr><td><a href=\"http://pydoing.blogspot.com/2011/03/python-dictclear.html\">dict.clear()</a></td><td>清空 dict 的所有配對資料</td></tr>\n",
    "<tr><td><a href=\"http://pydoing.blogspot.com/2011/03/python-dictcopy.html\">dict.copy()</a></td><td>回傳 dict 的拷貝</td></tr>\n",
    "<tr><td><a href=\"http://pydoing.blogspot.com/2011/03/python-dictfromkeys.html\">classmethod dict.fromkeys(seq[, value])</a></td><td>由 seq 中的元素構成 key ，每個 key 都給相同的 value 值</td></tr>\n",
    "<tr><td><a href=\"http://pydoing.blogspot.com/2011/03/python-dictget.html\">dict.get(key[, default])</a></td><td>從 dict 中取得 key 的 value ，若無此 key 則回傳 default ， default 預設為 None</td></tr>\n",
    "<tr><td><a href=\"http://pydoing.blogspot.com/2011/03/python-dictitems.html\">dict.items()</a></td><td>回傳 dict_items 物件，使 key:value 儲存為序對，然後依序儲存在 dict_items 物件中</td></tr>\n",
    "<tr><td><a href=\"http://pydoing.blogspot.com/2011/03/python-dictkeys.html\">dict.keys()</a></td><td>回傳 dict_items 物件，使 key 依序儲存在 dict_items 物件中</td></tr>\n",
    "<tr><td><a href=\"http://pydoing.blogspot.com/2011/03/python-dictpop.html\">dict.pop(key[, default])</a></td><td>將 key 的 value 從 dict 移除，若無此 kay ，回傳 default</td></tr>\n",
    "<tr><td><a href=\"http://pydoing.blogspot.com/2011/03/python-dictpopitem.html\">dict.popitem()</a></td><td>從 dict 移除任意一組 key:value</td></tr>\n",
    "<tr><td><a href=\"http://pydoing.blogspot.com/2011/03/python-dictsetdefault.html\">dict.setdefault(key[, default])</a></td><td>如果 key 在 dict 中，回傳 value 值，反之，將 key:default 加入 dict 之中</td></tr>\n",
    "<tr><td><a href=\"http://pydoing.blogspot.com/2011/03/python-dictupdate.html\">dict.update([other])</a></td><td>將 dict 以 other 更新</td></tr>\n",
    "<tr><td><a href=\"http://pydoing.blogspot.com/2011/03/python-dictvalues.html\">dict.values()</a></td><td>回傳 dict_items 物件，使 value 依序儲存在 dict_items 物件中</td></tr>\n",
    "</tbody></table>"
   ]
  },
  {
   "cell_type": "code",
   "execution_count": 16,
   "metadata": {},
   "outputs": [
    {
     "data": {
      "text/plain": [
       "{'a': 'some value', 'b': [1, 2, 3, 4]}"
      ]
     },
     "execution_count": 16,
     "metadata": {},
     "output_type": "execute_result"
    }
   ],
   "source": [
    "d1 = {'a' : 'some value', 'b' : [1, 2, 3, 4]}\n",
    "d1"
   ]
  },
  {
   "cell_type": "markdown",
   "metadata": {},
   "source": [
    "- 元素存取、插入與指定的語法同串列和值組 Elements can be accessed and inserted or set using the same syntax as accessing elements of a list or tuple."
   ]
  },
  {
   "cell_type": "code",
   "execution_count": null,
   "metadata": {
    "collapsed": true
   },
   "outputs": [],
   "source": [
    "d1[7] = 'an integer'\n",
    "d1"
   ]
  },
  {
   "cell_type": "code",
   "execution_count": null,
   "metadata": {
    "collapsed": true
   },
   "outputs": [],
   "source": [
    "d1['b']"
   ]
  },
  {
   "cell_type": "code",
   "execution_count": null,
   "metadata": {
    "collapsed": true
   },
   "outputs": [],
   "source": [
    "'b' in d1"
   ]
  },
  {
   "cell_type": "code",
   "execution_count": null,
   "metadata": {
    "collapsed": true
   },
   "outputs": [],
   "source": [
    "d1[5] = 'some value'\n",
    "d1['dummy'] = 'another value'\n",
    "d1"
   ]
  },
  {
   "cell_type": "code",
   "execution_count": null,
   "metadata": {
    "collapsed": true
   },
   "outputs": [],
   "source": [
    "del d1[5]\n",
    "d1"
   ]
  },
  {
   "cell_type": "code",
   "execution_count": null,
   "metadata": {
    "collapsed": true
   },
   "outputs": [],
   "source": [
    "ret = d1.pop('dummy')\n",
    "ret"
   ]
  },
  {
   "cell_type": "code",
   "execution_count": 17,
   "metadata": {},
   "outputs": [
    {
     "name": "stdout",
     "output_type": "stream",
     "text": [
      "dict_keys(['b', 'a'])\n"
     ]
    },
    {
     "data": {
      "text/plain": [
       "dict_values([[1, 2, 3, 4], 'some value'])"
      ]
     },
     "execution_count": 17,
     "metadata": {},
     "output_type": "execute_result"
    }
   ],
   "source": [
    "print (d1.keys())\n",
    "d1.values()"
   ]
  },
  {
   "cell_type": "markdown",
   "metadata": {},
   "source": [
    "- 可以update方法將字典合併 One dict can be merged into another using the update method."
   ]
  },
  {
   "cell_type": "code",
   "execution_count": 18,
   "metadata": {},
   "outputs": [
    {
     "data": {
      "text/plain": [
       "{'a': 'some value', 'b': 'foo', 'c': 12}"
      ]
     },
     "execution_count": 18,
     "metadata": {},
     "output_type": "execute_result"
    }
   ],
   "source": [
    "d1.update({'b' : 'foo', 'c' : 12})\n",
    "d1"
   ]
  },
  {
   "cell_type": "markdown",
   "metadata": {},
   "source": [
    "- 常以2值組產生字典 Since a dict is essentially a collection of 2-tuples, it should be no shock that the dict type function accepts a list of 2-tuples"
   ]
  },
  {
   "cell_type": "code",
   "execution_count": null,
   "metadata": {
    "collapsed": true
   },
   "outputs": [],
   "source": [
    "mapping = dict(zip(range(5), reversed(range(5))))\n",
    "mapping"
   ]
  },
  {
   "cell_type": "markdown",
   "metadata": {},
   "source": [
    "- 常用下列方法設定預設值 It’s very common to have logic like the following to set default value."
   ]
  },
  {
   "cell_type": "markdown",
   "metadata": {},
   "source": [
    "if key in some_dict:\n",
    "    value = some_dict[key]\n",
    "else:\n",
    "    value = default_value"
   ]
  },
  {
   "cell_type": "markdown",
   "metadata": {},
   "source": [
    "- dict的get和pop方法可以設定預設值，因此上述if-else程式撰寫方法可以簡單表示如下 The dict methods get and pop can take a default value to be returned, so that the above if-else block can be written simply as follows.\n",
    "- get方法若沒有發現key則回傳空無物件None，然而pop方法未發現key時會發出例外情況訊息 get by default will return None if the key is not present, while pop will raise an exception."
   ]
  },
  {
   "cell_type": "markdown",
   "metadata": {},
   "source": [
    "value = some_dict.get(key, default_value)"
   ]
  },
  {
   "cell_type": "code",
   "execution_count": null,
   "metadata": {
    "collapsed": true
   },
   "outputs": [],
   "source": [
    "words = ['apple', 'bat', 'bar', 'atom', 'book']\n",
    "by_letter = {}\n",
    "for word in words:\n",
    "    letter = word[0]\n",
    "    if letter not in by_letter:\n",
    "        by_letter[letter] = [word]\n",
    "    else:\n",
    "        by_letter[letter].append(word)\n",
    "\n",
    "by_letter"
   ]
  },
  {
   "cell_type": "markdown",
   "metadata": {},
   "source": [
    "- by_letter.setdefault(letter, []).append(word)可以取代上面if-else判斷敘述"
   ]
  },
  {
   "cell_type": "code",
   "execution_count": null,
   "metadata": {
    "collapsed": true
   },
   "outputs": [],
   "source": [
    "words = ['apple', 'bat', 'bar', 'atom', 'book']\n",
    "by_letter = {}\n",
    "for word in words:\n",
    "    letter = word[0]\n",
    "    by_letter.setdefault(letter, []).append(word)\n",
    "\n",
    "by_letter"
   ]
  },
  {
   "cell_type": "markdown",
   "metadata": {},
   "source": [
    "- 內建collections模組有一好用的類別defaultdict，可以傳入一個Python型別或函數以產生字典中每個槽的預設值 The built-in collections module has a useful class, defaultdict, which makes this even easier. One is created by passing a type or function for generating the default value for each slot in the dict."
   ]
  },
  {
   "cell_type": "code",
   "execution_count": null,
   "metadata": {
    "collapsed": true
   },
   "outputs": [],
   "source": [
    "from collections import defaultdict"
   ]
  },
  {
   "cell_type": "markdown",
   "metadata": {},
   "source": [
    "- 空字典，預設的值儲存容器為串列"
   ]
  },
  {
   "cell_type": "code",
   "execution_count": null,
   "metadata": {
    "collapsed": true
   },
   "outputs": [],
   "source": [
    "by_letter = defaultdict(list)\n",
    "by_letter"
   ]
  },
  {
   "cell_type": "markdown",
   "metadata": {},
   "source": [
    "- 以首字為keys，開始加字"
   ]
  },
  {
   "cell_type": "code",
   "execution_count": null,
   "metadata": {
    "collapsed": true
   },
   "outputs": [],
   "source": [
    "for word in words:\n",
    "    by_letter[word[0]].append(word)"
   ]
  },
  {
   "cell_type": "code",
   "execution_count": null,
   "metadata": {
    "collapsed": true
   },
   "outputs": [],
   "source": [
    "by_letter"
   ]
  },
  {
   "cell_type": "markdown",
   "metadata": {},
   "source": [
    "- 字典的值可以是任何的Python物件，但其鍵必須為不可更改的物件，例如：前述的純量型別(整數、浮點數與字串)，或是值組，這種性質稱為可雜湊性 While the values of a dict can be any Python object, the keys have to be immutable objects like scalar types (int, float, string) or tuples (all the objects in the tuple need to be immutable, too). The technical term here is hashability.\n",
    "- 可以hash函數檢查任一物件是否為可雜湊的 You can check whether an object is hashable (can be used as a key in a dict) with the hash function."
   ]
  },
  {
   "cell_type": "code",
   "execution_count": null,
   "metadata": {
    "collapsed": true
   },
   "outputs": [],
   "source": [
    "hash('string')"
   ]
  },
  {
   "cell_type": "code",
   "execution_count": null,
   "metadata": {
    "collapsed": true
   },
   "outputs": [],
   "source": [
    "hash((1, 2, (2, 3)))"
   ]
  },
  {
   "cell_type": "code",
   "execution_count": null,
   "metadata": {
    "collapsed": true
   },
   "outputs": [],
   "source": [
    "# hash((1, 2, [2, 3])) # fails because lists are mutable"
   ]
  },
  {
   "cell_type": "markdown",
   "metadata": {},
   "source": [
    "- 可將list轉換為tuple再設定為key To use a list as a key, an easy fix is to convert it to a tuple:"
   ]
  },
  {
   "cell_type": "code",
   "execution_count": null,
   "metadata": {
    "collapsed": true,
    "scrolled": true
   },
   "outputs": [],
   "source": [
    "d = {}\n",
    "d[tuple([1, 2, 3])] = 5\n",
    "d"
   ]
  },
  {
   "cell_type": "markdown",
   "metadata": {},
   "source": [
    "##  型別轉換 Type casting"
   ]
  },
  {
   "cell_type": "code",
   "execution_count": 19,
   "metadata": {
    "collapsed": true
   },
   "outputs": [],
   "source": [
    "x = 6666666\n",
    "y = 'hello'\n",
    "z = True"
   ]
  },
  {
   "cell_type": "code",
   "execution_count": 20,
   "metadata": {},
   "outputs": [
    {
     "data": {
      "text/plain": [
       "int"
      ]
     },
     "execution_count": 20,
     "metadata": {},
     "output_type": "execute_result"
    }
   ],
   "source": [
    "type(x)"
   ]
  },
  {
   "cell_type": "code",
   "execution_count": 21,
   "metadata": {},
   "outputs": [
    {
     "data": {
      "text/plain": [
       "str"
      ]
     },
     "execution_count": 21,
     "metadata": {},
     "output_type": "execute_result"
    }
   ],
   "source": [
    "type(y)"
   ]
  },
  {
   "cell_type": "code",
   "execution_count": 22,
   "metadata": {},
   "outputs": [
    {
     "data": {
      "text/plain": [
       "bool"
      ]
     },
     "execution_count": 22,
     "metadata": {},
     "output_type": "execute_result"
    }
   ],
   "source": [
    "type(z)"
   ]
  },
  {
   "cell_type": "code",
   "execution_count": 23,
   "metadata": {
    "scrolled": true
   },
   "outputs": [
    {
     "data": {
      "text/plain": [
       "'6666666'"
      ]
     },
     "execution_count": 23,
     "metadata": {},
     "output_type": "execute_result"
    }
   ],
   "source": [
    "str(x)"
   ]
  },
  {
   "cell_type": "code",
   "execution_count": 24,
   "metadata": {
    "scrolled": false
   },
   "outputs": [
    {
     "data": {
      "text/plain": [
       "'True'"
      ]
     },
     "execution_count": 24,
     "metadata": {},
     "output_type": "execute_result"
    }
   ],
   "source": [
    "str(z)"
   ]
  },
  {
   "cell_type": "code",
   "execution_count": 25,
   "metadata": {
    "scrolled": false
   },
   "outputs": [
    {
     "data": {
      "text/plain": [
       "1"
      ]
     },
     "execution_count": 25,
     "metadata": {},
     "output_type": "execute_result"
    }
   ],
   "source": [
    "int(z)"
   ]
  },
  {
   "cell_type": "markdown",
   "metadata": {
    "solution2": "hidden",
    "solution2_first": true
   },
   "source": [
    "<font size=6 style=\"text-shadow:0px 0px 15px #FF37FD;\">考考你</font>\n",
    "- 經過上面三行的執行，變數x, y, z各別有何改變？\n",
    "\n",
    "<script>\n",
    "\n",
    "</script>\n"
   ]
  },
  {
   "cell_type": "markdown",
   "metadata": {},
   "source": [
    "# Python控制敘述"
   ]
  },
  {
   "cell_type": "markdown",
   "metadata": {},
   "source": [
    "## 判斷控制\n",
    "\n",
    "if, elif, and else"
   ]
  },
  {
   "cell_type": "code",
   "execution_count": null,
   "metadata": {
    "collapsed": true
   },
   "outputs": [],
   "source": [
    "if True:\n",
    "    print(\"YES\")"
   ]
  },
  {
   "cell_type": "code",
   "execution_count": 26,
   "metadata": {
    "scrolled": true
   },
   "outputs": [
    {
     "name": "stdout",
     "output_type": "stream",
     "text": [
      "NO\n"
     ]
    }
   ],
   "source": [
    "if False:\n",
    "    print(\"YES\")\n",
    "else:\n",
    "    print(\"NO\")"
   ]
  },
  {
   "cell_type": "code",
   "execution_count": 27,
   "metadata": {
    "scrolled": true
   },
   "outputs": [
    {
     "name": "stdout",
     "output_type": "stream",
     "text": [
      "NO\n"
     ]
    }
   ],
   "source": [
    "if 8+7==87:\n",
    "    print(\"Orz\")\n",
    "elif 8+9==87:\n",
    "    print(\"666\")\n",
    "else:\n",
    "    print(\"NO\")"
   ]
  },
  {
   "cell_type": "markdown",
   "metadata": {
    "solution2": "hidden",
    "solution2_first": true
   },
   "source": [
    "<font size=6 style=\"text-shadow:0px 0px 15px #FF37FD;\">考考你</font>\n",
    "- 練習：\n",
    "    - 令x='晴天'\n",
    "    - 如果x是雨天，print(\"帶雨傘\")，反之print(\"戴墨鏡\")\n",
    "\n",
    "<script>\n",
    "x = '晴天'\n",
    "if x=='雨天':\n",
    "    print(\"帶雨傘\")\n",
    "else:\n",
    "    print(\"戴墨鏡\")\n",
    "</script>\n"
   ]
  },
  {
   "cell_type": "code",
   "execution_count": null,
   "metadata": {
    "collapsed": true
   },
   "outputs": [],
   "source": [
    "a = [1, 2, 3]\n",
    "if a:\n",
    "    print ('I found something!')"
   ]
  },
  {
   "cell_type": "markdown",
   "metadata": {},
   "source": [
    "- 空序列被視為假 Empty sequences (lists, dicts, tuples, etc.) are treated as False if used in control flow."
   ]
  },
  {
   "cell_type": "code",
   "execution_count": null,
   "metadata": {
    "collapsed": true
   },
   "outputs": [],
   "source": [
    "b = []\n",
    "if not b:\n",
    "    print ('Empty!')"
   ]
  },
  {
   "cell_type": "code",
   "execution_count": null,
   "metadata": {
    "collapsed": true
   },
   "outputs": [],
   "source": [
    "x = -99\n",
    "if x < 0:\n",
    "    print ('It is negative')"
   ]
  },
  {
   "cell_type": "code",
   "execution_count": null,
   "metadata": {
    "collapsed": true
   },
   "outputs": [],
   "source": [
    "x = 99\n",
    "if x < 0:\n",
    "    print ('It is negative')\n",
    "elif x == 0:\n",
    "    print ('Equal to zero')\n",
    "elif 0 < x < 5:\n",
    "    print ('Positive but smaller than 5')\n",
    "else:\n",
    "    print ('Positive and larger than or equal to 5')"
   ]
  },
  {
   "cell_type": "markdown",
   "metadata": {},
   "source": [
    "## 迴圈控制"
   ]
  },
  {
   "cell_type": "code",
   "execution_count": 33,
   "metadata": {},
   "outputs": [
    {
     "name": "stdout",
     "output_type": "stream",
     "text": [
      "0 is less than 5\n",
      "1 is less than 5\n",
      "2 is less than 5\n",
      "3 is less than 5\n",
      "4 is less than 5\n"
     ]
    }
   ],
   "source": [
    "x=0\n",
    "while x < 5:\n",
    "    print (x, \"is less than 5\")\n",
    "    x += 1"
   ]
  },
  {
   "cell_type": "code",
   "execution_count": 31,
   "metadata": {},
   "outputs": [
    {
     "name": "stdout",
     "output_type": "stream",
     "text": [
      "0 is less than 5\n",
      "1 is less than 5\n",
      "2 is less than 5\n",
      "3 is less than 5\n",
      "4 is less than 5\n"
     ]
    }
   ],
   "source": [
    "for x in range(5):\n",
    "    print (x, \"is less than 5\")"
   ]
  },
  {
   "cell_type": "code",
   "execution_count": 32,
   "metadata": {},
   "outputs": [
    {
     "name": "stdout",
     "output_type": "stream",
     "text": [
      "0\n",
      "1\n",
      "2\n",
      "4\n"
     ]
    }
   ],
   "source": [
    "for x in range(10):\n",
    "    if x==3:\n",
    "        continue # go immediately to the next iteration\n",
    "    if x==5:\n",
    "        break # quit the loop entirely\n",
    "    print (x)"
   ]
  },
  {
   "cell_type": "markdown",
   "metadata": {},
   "source": [
    "# Python自定義函數"
   ]
  },
  {
   "cell_type": "markdown",
   "metadata": {
    "collapsed": true
   },
   "source": [
    "- Python程式碼最主要的組織與再利用方式就是函數 Functions are the primary and most important method of code organization and reuse in Python.\n",
    "- 函數以def關鍵字定義之，並以return關鍵字回傳函數輸出 Functions are declared using the def keyword and returned from using the return keyword."
   ]
  },
  {
   "cell_type": "code",
   "execution_count": 34,
   "metadata": {
    "collapsed": true
   },
   "outputs": [],
   "source": [
    "def my_function(x, y, z=1.5):\n",
    "    if z > 1:\n",
    "        return z * (x + y)\n",
    "    else:\n",
    "        return z / (x + y)"
   ]
  },
  {
   "cell_type": "markdown",
   "metadata": {},
   "source": [
    "- 如果函數未以return敘述回傳，輸出將為空無物件 If the end of a function is reached without encountering a return statement, None is returned.\n",
    "- 函數參數分為位置引數與關鍵字引數，上例中何引數為前者？何引數為後者？ Each function can have some number of positional arguments and some number of keyword arguments. Keyword arguments are most commonly used to specify default values or optional arguments. In the above function, x and y are positional arguments while z is a keyword argument.\n",
    "- 關鍵字引數必須接續在位置引數(如果有的話)之後，關鍵字引數的順序可以任意，只須記住引數的名稱即可 The main restriction on function arguments it that the keyword arguments must follow the positional arguments (if any). You can specify keyword arguments in any order; this frees you from having to remember which order the function arguments were specified in and only what their names are."
   ]
  },
  {
   "cell_type": "code",
   "execution_count": 7,
   "metadata": {},
   "outputs": [
    {
     "data": {
      "text/plain": [
       "0.06363636363636363"
      ]
     },
     "execution_count": 7,
     "metadata": {},
     "output_type": "execute_result"
    }
   ],
   "source": [
    "my_function(5, 6, z=0.7)"
   ]
  },
  {
   "cell_type": "code",
   "execution_count": 37,
   "metadata": {},
   "outputs": [
    {
     "data": {
      "text/plain": [
       "35.49"
      ]
     },
     "execution_count": 37,
     "metadata": {},
     "output_type": "execute_result"
    }
   ],
   "source": [
    "my_function(3.14, 7, 3.5)"
   ]
  },
  {
   "cell_type": "markdown",
   "metadata": {
    "collapsed": true
   },
   "source": [
    "- Functions can access variables in two different scopes: global and local. An alternate and more descriptive name describing a variable scope in Python is a namespace. Any variables that are assigned within a function by default are assigned to the local name- space. The local namespace is created when the function is called and immediately populated by the function’s arguments. After the function is finished, the local name- space is destroyed (with some exceptions, see section on closures below)."
   ]
  },
  {
   "cell_type": "code",
   "execution_count": 38,
   "metadata": {
    "collapsed": true
   },
   "outputs": [],
   "source": [
    "def func():\n",
    "    a = []\n",
    "    for i in range(5):\n",
    "        a.append(i)"
   ]
  },
  {
   "cell_type": "code",
   "execution_count": 39,
   "metadata": {
    "collapsed": true
   },
   "outputs": [],
   "source": [
    "func() # return nothing because of local scoping\n",
    "# a # NameError: name 'a' is not defined"
   ]
  },
  {
   "cell_type": "code",
   "execution_count": 40,
   "metadata": {
    "collapsed": true
   },
   "outputs": [],
   "source": [
    "a = []\n",
    "def func():\n",
    "    for i in range(5):\n",
    "        a.append(i)"
   ]
  },
  {
   "cell_type": "code",
   "execution_count": 41,
   "metadata": {},
   "outputs": [
    {
     "data": {
      "text/plain": [
       "[0, 1, 2, 3, 4]"
      ]
     },
     "execution_count": 41,
     "metadata": {},
     "output_type": "execute_result"
    }
   ],
   "source": [
    "func()\n",
    "a"
   ]
  },
  {
   "cell_type": "code",
   "execution_count": 13,
   "metadata": {
    "scrolled": true
   },
   "outputs": [
    {
     "data": {
      "text/plain": [
       "[0, 1, 2, 3, 4]"
      ]
     },
     "execution_count": 13,
     "metadata": {},
     "output_type": "execute_result"
    }
   ],
   "source": [
    "a"
   ]
  },
  {
   "cell_type": "markdown",
   "metadata": {
    "solution2": "hidden",
    "solution2_first": true
   },
   "source": [
    "<font size=6 style=\"text-shadow:0px 0px 15px #FF37FD;\">考考你</font>\n",
    "- 將此練習自定義為函數：\n",
    "    - 令x='晴天'\n",
    "    - 如果x是雨天，print(\"帶雨傘\")，反之print(\"戴墨鏡\")\n",
    "\n",
    "<script>\n",
    "x = '晴天'\n",
    "def weather(x):\n",
    "    if x=='雨天':\n",
    "        print(\"帶雨傘\")\n",
    "    else:\n",
    "        print(\"戴墨鏡\")\n",
    "\n",
    "weather(\"雨天\")\n",
    "\n",
    "</script>\n"
   ]
  },
  {
   "cell_type": "code",
   "execution_count": 43,
   "metadata": {},
   "outputs": [
    {
     "data": {
      "text/plain": [
       "'帶雨傘'"
      ]
     },
     "execution_count": 43,
     "metadata": {},
     "output_type": "execute_result"
    }
   ],
   "source": [
    "def weather(x):\n",
    "    if x=='雨天':\n",
    "        return \"帶雨傘\"\n",
    "    else:\n",
    "        return \"戴墨鏡\"\n",
    "\n",
    "weather(\"雨天\")"
   ]
  },
  {
   "cell_type": "markdown",
   "metadata": {},
   "source": [
    "## Python物件導向觀念"
   ]
  },
  {
   "cell_type": "markdown",
   "metadata": {},
   "source": [
    "## 類別定義與屬性"
   ]
  },
  {
   "cell_type": "markdown",
   "metadata": {},
   "source": [
    "- 以保留字class定義類別Bird。\n",
    "- 最底層物件裡面寫object，亦即它沒有父類。\n",
    "- 類別Bird有兩屬性：have_feather與way_of_reproduction。"
   ]
  },
  {
   "cell_type": "code",
   "execution_count": 14,
   "metadata": {
    "collapsed": true
   },
   "outputs": [],
   "source": [
    "class Bird(object):\n",
    "    have_feather = True\n",
    "    way_of_reproduction = 'egg'"
   ]
  },
  {
   "cell_type": "markdown",
   "metadata": {},
   "source": [
    "- 實作一個Bird類的物件bird_obj。\n",
    "- 印出其屬性way_of_reproduction。\n",
    "- 以dir顯示。"
   ]
  },
  {
   "cell_type": "code",
   "execution_count": 15,
   "metadata": {},
   "outputs": [
    {
     "name": "stdout",
     "output_type": "stream",
     "text": [
      "egg\n"
     ]
    },
    {
     "data": {
      "text/plain": [
       "['__class__',\n",
       " '__delattr__',\n",
       " '__dict__',\n",
       " '__dir__',\n",
       " '__doc__',\n",
       " '__eq__',\n",
       " '__format__',\n",
       " '__ge__',\n",
       " '__getattribute__',\n",
       " '__gt__',\n",
       " '__hash__',\n",
       " '__init__',\n",
       " '__le__',\n",
       " '__lt__',\n",
       " '__module__',\n",
       " '__ne__',\n",
       " '__new__',\n",
       " '__reduce__',\n",
       " '__reduce_ex__',\n",
       " '__repr__',\n",
       " '__setattr__',\n",
       " '__sizeof__',\n",
       " '__str__',\n",
       " '__subclasshook__',\n",
       " '__weakref__',\n",
       " 'have_feather',\n",
       " 'way_of_reproduction']"
      ]
     },
     "execution_count": 15,
     "metadata": {},
     "output_type": "execute_result"
    }
   ],
   "source": [
    "bird_obj = Bird()\n",
    "print (bird_obj.way_of_reproduction)\n",
    "dir(bird_obj)"
   ]
  },
  {
   "cell_type": "markdown",
   "metadata": {},
   "source": [
    "- `__`init`__`就是會在物件被建立出來的時候被呼叫的程式碼\n",
    "- `__del__`是物件用完被回收時候執行的程式碼，但發生調用的具體時間是不可知的，所以不建議使用\n",
    "- Python的類別裡，所有的方法預設都是public的，但有些時候程式設計師不想讓method隨便被取用，在別的程式語言裡會有public、protected、private之類的method修飾詞來設定，不過Python沒有這樣的東西，而是使用2個底線。"
   ]
  },
  {
   "cell_type": "markdown",
   "metadata": {},
   "source": [
    "## 類別方法"
   ]
  },
  {
   "cell_type": "markdown",
   "metadata": {},
   "source": [
    "- 物件的行為屬性稱為方法。\n",
    "- Python在類別的內部定義函數以說明方法。\n",
    "- 方法的第一個參數必須是self，無論是否用到。\n",
    "- self參数是為了經常在某些狀況下需引用物件本身。"
   ]
  },
  {
   "cell_type": "code",
   "execution_count": 16,
   "metadata": {
    "collapsed": true
   },
   "outputs": [],
   "source": [
    "class Bird(object):\n",
    "    have_feather = True\n",
    "    way_of_reproduction = 'egg'\n",
    "    def move(self, dx, dy): # 函數參數中有一個self，是為了方便我們引用物件本身。方法的第一個參數必須是self，無論是否用到 !!!\n",
    "        position = [0,0]\n",
    "        position[0] = position[0] + dx\n",
    "        position[1] = position[1] + dy\n",
    "        return position"
   ]
  },
  {
   "cell_type": "code",
   "execution_count": 17,
   "metadata": {},
   "outputs": [
    {
     "name": "stdout",
     "output_type": "stream",
     "text": [
      "after move: [5, 8]\n"
     ]
    },
    {
     "data": {
      "text/plain": [
       "['__class__',\n",
       " '__delattr__',\n",
       " '__dict__',\n",
       " '__dir__',\n",
       " '__doc__',\n",
       " '__eq__',\n",
       " '__format__',\n",
       " '__ge__',\n",
       " '__getattribute__',\n",
       " '__gt__',\n",
       " '__hash__',\n",
       " '__init__',\n",
       " '__le__',\n",
       " '__lt__',\n",
       " '__module__',\n",
       " '__ne__',\n",
       " '__new__',\n",
       " '__reduce__',\n",
       " '__reduce_ex__',\n",
       " '__repr__',\n",
       " '__setattr__',\n",
       " '__sizeof__',\n",
       " '__str__',\n",
       " '__subclasshook__',\n",
       " '__weakref__',\n",
       " 'have_feather',\n",
       " 'move',\n",
       " 'way_of_reproduction']"
      ]
     },
     "execution_count": 17,
     "metadata": {},
     "output_type": "execute_result"
    }
   ],
   "source": [
    "bird_obj = Bird()\n",
    "print ('after move:', bird_obj.move(5,8))\n",
    "dir(bird_obj)"
   ]
  },
  {
   "cell_type": "markdown",
   "metadata": {},
   "source": [
    "## 子類別繼承與獨特屬性"
   ]
  },
  {
   "cell_type": "markdown",
   "metadata": {
    "collapsed": true
   },
   "source": [
    "- 鳥類可進一步分為雞、老鷹、梟。\n",
    "- 物件導向以繼承(inheritance)表達上述概念。\n",
    "- 繼承建立起父子關係，子類自動具有父類的所有屬性。"
   ]
  },
  {
   "cell_type": "code",
   "execution_count": 18,
   "metadata": {},
   "outputs": [
    {
     "name": "stdout",
     "output_type": "stream",
     "text": [
      "True\n",
      "[5, 8]\n"
     ]
    }
   ],
   "source": [
    "class Chicken(Bird): # 繼承自何物件寫在括弧裡，另外再新增兩屬性\n",
    "    way_of_move = 'walk'\n",
    "    possible_in_KFC = True\n",
    "\n",
    "class Oriole(Bird):\n",
    "    way_of_move = 'fly'\n",
    "    possible_in_KFC = False\n",
    "\n",
    "bird_obj = Chicken()\n",
    "dir(bird_obj)\n",
    "print (bird_obj.have_feather) # 繼承自父類的變項屬性\n",
    "print (bird_obj.move(5,8)) # 繼承自父類的方法屬性"
   ]
  },
  {
   "cell_type": "markdown",
   "metadata": {},
   "source": [
    "## 以self參數調用類別的屬性與方法"
   ]
  },
  {
   "cell_type": "markdown",
   "metadata": {},
   "source": [
    "- 以self.xxx調用類別屬性xxx，或是方法xxx。\n",
    "- 透過self物件可以修改類別屬性值，但是不建議此種做法。"
   ]
  },
  {
   "cell_type": "code",
   "execution_count": 19,
   "metadata": {},
   "outputs": [
    {
     "name": "stdout",
     "output_type": "stream",
     "text": [
      "hahahaha\n",
      "hahahaha\n",
      "hahahaha\n",
      "hahahaha\n",
      "hahahaha\n",
      "hahahaha\n",
      "hahahaha\n",
      "hahahaha\n",
      "hahahaha\n",
      "hahahaha\n"
     ]
    }
   ],
   "source": [
    "class Human(object):\n",
    "    laugh = 'hahahaha' # an attribute of class Human\n",
    "    def show_laugh(self): # 參數中有一個self，是為了方便我們引用物件本身。方法的第一個參數必須是self，無論是否用到!!!\n",
    "        print (self.laugh) # 在定義方法時，必須有self參數。這個參數表示某個擁有類別所有屬性的物件，如此我們可以透過self.xxx，\n",
    "    def laugh_10th(self): # 調用類別屬性xxx，或是方法xxx\n",
    "        for i in range(10):\n",
    "            self.show_laugh()\n",
    "\n",
    "vince = Human()\n",
    "vince.laugh_10th()"
   ]
  },
  {
   "cell_type": "markdown",
   "metadata": {},
   "source": [
    "## `__`init`__`()特殊方法"
   ]
  },
  {
   "cell_type": "markdown",
   "metadata": {},
   "source": [
    "- 特殊方法的名字前後有兩個下底線。\n",
    "- 儘管我們只是創建了bird_obj物件，但是`__`init`__`()方法被自動調用了。最後一行的指令(bird_obj = happyBird...)先創建了物件，然後執行bird_obj.`__`init`__`(more_words)，'Happy,Happy!' 就被傳遞给了`__`init`__`()的參數more_words。"
   ]
  },
  {
   "cell_type": "code",
   "execution_count": 20,
   "metadata": {},
   "outputs": [
    {
     "name": "stdout",
     "output_type": "stream",
     "text": [
      "We are happy birds. Happy, Happy!\n"
     ]
    }
   ],
   "source": [
    "class happyBird(Bird): # 類別Bird要先定義, 因為happyBird繼承Bird\n",
    "    def __init__(self, more_words):\n",
    "        print ('We are happy birds.', more_words)\n",
    "\n",
    "bird_obj = happyBird('Happy, Happy!') # 要看初始化函數如何運作！而非class happyBird(Bird)"
   ]
  },
  {
   "cell_type": "markdown",
   "metadata": {},
   "source": [
    "## 物件的屬性 vs. 類別的屬性"
   ]
  },
  {
   "cell_type": "markdown",
   "metadata": {},
   "source": [
    "- 注意！self是物件。\n",
    "- Human類別下定義特殊方法`__`init`__`()。\n",
    "- `__`init`__`(): 在建立物件時自動執行。"
   ]
  },
  {
   "cell_type": "code",
   "execution_count": 90,
   "metadata": {
    "collapsed": true
   },
   "outputs": [],
   "source": [
    "class Human:\n",
    "    def __init__(self, input_gender):\n",
    "        self.gender = input_gender # it's an ***object*** attribute, NOT a class atrribute !\n",
    "    def printGender(self):\n",
    "        print (self.gender) # use the gender attribute of object itself"
   ]
  },
  {
   "cell_type": "markdown",
   "metadata": {},
   "source": [
    "- 有些屬性的值會隨著物件的不同而不同。\n",
    "- 我們可以透過操縱self，來修改某個物件的屬性。比如用類別在新建一物件時(自動調用`__init__()`函數時)，透過self賦值給self.attribute，比如說給物件vince增加一些屬性，下例中的男女性别。\n",
    "- 通過self也可以將屬性傳遞給各個方法，在方法内部，可以透過引用self.attribute，查詢或修改物件的屬性。\n",
    "- 如此，在類別屬性之外，又能給每個物件增添各自特色的屬性，從而能描述多樣的世界。"
   ]
  },
  {
   "cell_type": "code",
   "execution_count": 22,
   "metadata": {},
   "outputs": [
    {
     "name": "stdout",
     "output_type": "stream",
     "text": [
      "male\n",
      "male\n"
     ]
    },
    {
     "data": {
      "text/plain": [
       "type"
      ]
     },
     "execution_count": 22,
     "metadata": {},
     "output_type": "execute_result"
    }
   ],
   "source": [
    "vince = Human('male') # 'males'是初始化函數中接收的input_gender，透過初始化特殊方法給予物件屬性值\n",
    "print (vince.gender)\n",
    "vince.printGender() # same as above\n",
    "\n",
    "dir(Human) # 沒有屬性gender，只有printGender方法\n",
    "Human.__class__\n"
   ]
  },
  {
   "cell_type": "markdown",
   "metadata": {},
   "source": [
    "## 物件導向練習\n",
    "\n",
    "- 請定義銀行帳戶類別Account，此類別有三個屬性：戶名name、帳號number與餘額balance，並有兩個方法：存款deposit與提款withdraw。在存提款方法中分別置入下列檢查機制："
   ]
  },
  {
   "cell_type": "code",
   "execution_count": 23,
   "metadata": {
    "collapsed": true
   },
   "outputs": [],
   "source": [
    "class Account:\n",
    "    name='Andrew'\n",
    "    number='0291008'\n",
    "    balance=0\n",
    "    def deposit(self, amount):\n",
    "        self.balance += amount\n",
    "    def withdraw(self, amount):\n",
    "        self.balance -= amount"
   ]
  },
  {
   "cell_type": "code",
   "execution_count": 24,
   "metadata": {
    "collapsed": true
   },
   "outputs": [],
   "source": [
    "tmp = Account()"
   ]
  },
  {
   "cell_type": "code",
   "execution_count": 25,
   "metadata": {},
   "outputs": [
    {
     "data": {
      "text/plain": [
       "1000"
      ]
     },
     "execution_count": 25,
     "metadata": {},
     "output_type": "execute_result"
    }
   ],
   "source": [
    "tmp.deposit(1000)\n",
    "tmp.balance"
   ]
  },
  {
   "cell_type": "code",
   "execution_count": 26,
   "metadata": {},
   "outputs": [
    {
     "data": {
      "text/plain": [
       "900"
      ]
     },
     "execution_count": 26,
     "metadata": {},
     "output_type": "execute_result"
    }
   ],
   "source": [
    "tmp.withdraw(100)\n",
    "tmp.balance"
   ]
  },
  {
   "cell_type": "markdown",
   "metadata": {},
   "source": [
    "```\n",
    "if amount <= 0:\n",
    "            raise ValueError('amount must be positive')\n",
    "if amount > self.balance:\n",
    "            raise RuntimeError('balance not enough')\n",
    "```\n",
    "           "
   ]
  },
  {
   "cell_type": "markdown",
   "metadata": {},
   "source": [
    "- 最後，加上類別的列印結構定義："
   ]
  },
  {
   "cell_type": "markdown",
   "metadata": {},
   "source": [
    "```\n",
    "def __str__(self):\n",
    "        return Account({0}, {1}, {2}).format(self.name, self.number, self.balance)\n",
    "```"
   ]
  },
  {
   "cell_type": "markdown",
   "metadata": {},
   "source": [
    "# References\n",
    "\n",
    "[1] Vik P. (2015), [Python vs R: head to head data analysis](https://www.dataquest.io/blog/python-vs-r/)\n",
    "\n",
    "[2] 蔡炎龍, [Python 與數據分析](http://u.camdemy.com/course/122/intro)\n",
    "\n",
    "[3] David, C. [大數學堂](http://www.largitdata.com/)\n",
    "\n",
    "[4] http://belleaya.pixnet.net/blog/post/30754486\n",
    "\n",
    "[5] [Four ways to conduct one-way ANOVAs with Python](http://www.marsja.se/four-ways-to-conduct-one-way-anovas-using-python/)\n",
    "\n",
    "[6] [Simple Linear Regression]https://www.r-bloggers.com/simple-linear-regression-2/\n",
    "\n",
    "[7] [Github: justmarkham/DAT4](https://github.com/justmarkham/DAT4)\n",
    "\n",
    "[8] Gareth J., Daniela W., Trevor H. and Robert T. (2015), [An Introduction to Statistical Learning](http://www-bcf.usc.edu/~gareth/ISL/)"
   ]
  },
  {
   "cell_type": "markdown",
   "metadata": {
    "nbpresent": {
     "id": "19d4907f-f028-44ec-a86f-e09a319b8dfd"
    },
    "slideshow": {
     "slide_type": "slide"
    }
   },
   "source": [
    "![問題](_img/any-questions.jpg)\n",
    "\n",
    "<img src=\"_img/line.jpg\" style=\"width:150px;\">"
   ]
  }
 ],
 "metadata": {
  "anaconda-cloud": {},
  "kernelspec": {
   "display_name": "Python 3",
   "language": "python",
   "name": "python3"
  },
  "language_info": {
   "codemirror_mode": {
    "name": "ipython",
    "version": 3
   },
   "file_extension": ".py",
   "mimetype": "text/x-python",
   "name": "python",
   "nbconvert_exporter": "python",
   "pygments_lexer": "ipython3",
   "version": "3.6.1"
  },
  "toc": {
   "colors": {
    "hover_highlight": "#DAA520",
    "navigate_num": "#000000",
    "navigate_text": "#333333",
    "running_highlight": "#FF0000",
    "selected_highlight": "#FFD700",
    "sidebar_border": "#EEEEEE",
    "wrapper_background": "#FFFFFF"
   },
   "moveMenuLeft": true,
   "nav_menu": {
    "height": "512px",
    "width": "252px"
   },
   "navigate_menu": true,
   "number_sections": true,
   "sideBar": true,
   "skip_h1_title": false,
   "threshold": 4,
   "toc_cell": true,
   "toc_position": {
    "height": "552px",
    "left": "0px",
    "right": "948.821px",
    "top": "106px",
    "width": "256px"
   },
   "toc_section_display": "block",
   "toc_window_display": false,
   "widenNotebook": false
  },
  "varInspector": {
   "cols": {
    "lenName": 16,
    "lenType": 16,
    "lenVar": 40
   },
   "kernels_config": {
    "python": {
     "delete_cmd_postfix": "",
     "delete_cmd_prefix": "del ",
     "library": "var_list.py",
     "varRefreshCmd": "print(var_dic_list())"
    },
    "r": {
     "delete_cmd_postfix": ") ",
     "delete_cmd_prefix": "rm(",
     "library": "var_list.r",
     "varRefreshCmd": "cat(var_dic_list()) "
    }
   },
   "types_to_exclude": [
    "module",
    "function",
    "builtin_function_or_method",
    "instance",
    "_Feature"
   ],
   "window_display": false
  }
 },
 "nbformat": 4,
 "nbformat_minor": 1
}
