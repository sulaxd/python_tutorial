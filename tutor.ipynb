{
 "cells": [
  {
   "cell_type": "markdown",
   "metadata": {},
   "source": [
    "![Python](_img/python-logo.png)\n",
    "\n",
    "\n",
    "湯明軒(Andrew)\n",
    "\n",
    "析客數據有限公司\n"
   ]
  },
  {
   "cell_type": "markdown",
   "metadata": {
    "toc": "true"
   },
   "source": [
    "# Table of Contents\n",
    " <p><div class=\"lev1 toc-item\"><a href=\"#前言\" data-toc-modified-id=\"前言-1\"><span class=\"toc-item-num\">1&nbsp;&nbsp;</span>前言</a></div><div class=\"lev1 toc-item\"><a href=\"#Python-Shell\" data-toc-modified-id=\"Python-Shell-2\"><span class=\"toc-item-num\">2&nbsp;&nbsp;</span>Python Shell</a></div><div class=\"lev2 toc-item\"><a href=\"#Python-Shell的加強版-IPython\" data-toc-modified-id=\"Python-Shell的加強版-IPython-21\"><span class=\"toc-item-num\">2.1&nbsp;&nbsp;</span>Python Shell的加強版 IPython</a></div><div class=\"lev1 toc-item\"><a href=\"#第一個-Python-指令\" data-toc-modified-id=\"第一個-Python-指令-3\"><span class=\"toc-item-num\">3&nbsp;&nbsp;</span>第一個 Python 指令</a></div><div class=\"lev1 toc-item\"><a href=\"#說明文件\" data-toc-modified-id=\"說明文件-4\"><span class=\"toc-item-num\">4&nbsp;&nbsp;</span>說明文件</a></div><div class=\"lev1 toc-item\"><a href=\"#套件安裝與載入\" data-toc-modified-id=\"套件安裝與載入-5\"><span class=\"toc-item-num\">5&nbsp;&nbsp;</span>套件安裝與載入</a></div><div class=\"lev2 toc-item\"><a href=\"#套件管理程式pip\" data-toc-modified-id=\"套件管理程式pip-51\"><span class=\"toc-item-num\">5.1&nbsp;&nbsp;</span>套件管理程式pip</a></div><div class=\"lev2 toc-item\"><a href=\"#套件載入\" data-toc-modified-id=\"套件載入-52\"><span class=\"toc-item-num\">5.2&nbsp;&nbsp;</span>套件載入</a></div><div class=\"lev1 toc-item\"><a href=\"#變數-Variables\" data-toc-modified-id=\"變數-Variables-6\"><span class=\"toc-item-num\">6&nbsp;&nbsp;</span>變數 Variables</a></div><div class=\"lev1 toc-item\"><a href=\"#關鍵字-Keyword\" data-toc-modified-id=\"關鍵字-Keyword-7\"><span class=\"toc-item-num\">7&nbsp;&nbsp;</span>關鍵字 Keyword</a></div><div class=\"lev2 toc-item\"><a href=\"#常數\" data-toc-modified-id=\"常數-71\"><span class=\"toc-item-num\">7.1&nbsp;&nbsp;</span>常數</a></div><div class=\"lev2 toc-item\"><a href=\"#型態定義詞\" data-toc-modified-id=\"型態定義詞-72\"><span class=\"toc-item-num\">7.2&nbsp;&nbsp;</span>型態定義詞</a></div><div class=\"lev2 toc-item\"><a href=\"#控制陳述\" data-toc-modified-id=\"控制陳述-73\"><span class=\"toc-item-num\">7.3&nbsp;&nbsp;</span>控制陳述</a></div><div class=\"lev2 toc-item\"><a href=\"#運算子\" data-toc-modified-id=\"運算子-74\"><span class=\"toc-item-num\">7.4&nbsp;&nbsp;</span>運算子</a></div><div class=\"lev2 toc-item\"><a href=\"#模組相關\" data-toc-modified-id=\"模組相關-75\"><span class=\"toc-item-num\">7.5&nbsp;&nbsp;</span>模組相關</a></div><div class=\"lev1 toc-item\"><a href=\"#識別字\" data-toc-modified-id=\"識別字-8\"><span class=\"toc-item-num\">8&nbsp;&nbsp;</span>識別字</a></div><div class=\"lev2 toc-item\"><a href=\"#命名習慣\" data-toc-modified-id=\"命名習慣-81\"><span class=\"toc-item-num\">8.1&nbsp;&nbsp;</span>命名習慣</a></div><div class=\"lev1 toc-item\"><a href=\"#運算子\" data-toc-modified-id=\"運算子-9\"><span class=\"toc-item-num\">9&nbsp;&nbsp;</span>運算子</a></div><div class=\"lev2 toc-item\"><a href=\"#算術運算子\" data-toc-modified-id=\"算術運算子-91\"><span class=\"toc-item-num\">9.1&nbsp;&nbsp;</span>算術運算子</a></div><div class=\"lev2 toc-item\"><a href=\"#位移運算子\" data-toc-modified-id=\"位移運算子-92\"><span class=\"toc-item-num\">9.2&nbsp;&nbsp;</span>位移運算子</a></div><div class=\"lev2 toc-item\"><a href=\"#位元運算子\" data-toc-modified-id=\"位元運算子-93\"><span class=\"toc-item-num\">9.3&nbsp;&nbsp;</span>位元運算子</a></div><div class=\"lev2 toc-item\"><a href=\"#關係運算子\" data-toc-modified-id=\"關係運算子-94\"><span class=\"toc-item-num\">9.4&nbsp;&nbsp;</span>關係運算子</a></div><div class=\"lev2 toc-item\"><a href=\"#指派運算子\" data-toc-modified-id=\"指派運算子-95\"><span class=\"toc-item-num\">9.5&nbsp;&nbsp;</span>指派運算子</a></div><div class=\"lev2 toc-item\"><a href=\"#分隔符號\" data-toc-modified-id=\"分隔符號-96\"><span class=\"toc-item-num\">9.6&nbsp;&nbsp;</span>分隔符號</a></div><div class=\"lev1 toc-item\"><a href=\"#Python內建資料型別\" data-toc-modified-id=\"Python內建資料型別-10\"><span class=\"toc-item-num\">10&nbsp;&nbsp;</span>Python內建資料型別</a></div><div class=\"lev2 toc-item\"><a href=\"#數值型別-Numeric-types\" data-toc-modified-id=\"數值型別-Numeric-types-101\"><span class=\"toc-item-num\">10.1&nbsp;&nbsp;</span>數值型別 Numeric types</a></div><div class=\"lev2 toc-item\"><a href=\"#序列型別\" data-toc-modified-id=\"序列型別-102\"><span class=\"toc-item-num\">10.2&nbsp;&nbsp;</span>序列型別</a></div><div class=\"lev3 toc-item\"><a href=\"#字串-Strings\" data-toc-modified-id=\"字串-Strings-1021\"><span class=\"toc-item-num\">10.2.1&nbsp;&nbsp;</span>字串 Strings</a></div><div class=\"lev3 toc-item\"><a href=\"#範圍-Range\" data-toc-modified-id=\"範圍-Range-1022\"><span class=\"toc-item-num\">10.2.2&nbsp;&nbsp;</span>範圍 Range</a></div><div class=\"lev3 toc-item\"><a href=\"#串列-List\" data-toc-modified-id=\"串列-List-1023\"><span class=\"toc-item-num\">10.2.3&nbsp;&nbsp;</span>串列 List</a></div><div class=\"lev3 toc-item\"><a href=\"#序對-Tuple\" data-toc-modified-id=\"序對-Tuple-1024\"><span class=\"toc-item-num\">10.2.4&nbsp;&nbsp;</span>序對 Tuple</a></div><div class=\"lev3 toc-item\"><a href=\"#透過「：」控制序列取值\" data-toc-modified-id=\"透過「：」控制序列取值-1025\"><span class=\"toc-item-num\">10.2.5&nbsp;&nbsp;</span>透過「：」控制序列取值</a></div><div class=\"lev2 toc-item\"><a href=\"#集合-Set\" data-toc-modified-id=\"集合-Set-103\"><span class=\"toc-item-num\">10.3&nbsp;&nbsp;</span>集合 Set</a></div><div class=\"lev2 toc-item\"><a href=\"#字典-Dict\" data-toc-modified-id=\"字典-Dict-104\"><span class=\"toc-item-num\">10.4&nbsp;&nbsp;</span>字典 Dict</a></div><div class=\"lev2 toc-item\"><a href=\"#型別轉換-Type-casting\" data-toc-modified-id=\"型別轉換-Type-casting-105\"><span class=\"toc-item-num\">10.5&nbsp;&nbsp;</span>型別轉換 Type casting</a></div><div class=\"lev1 toc-item\"><a href=\"#Python控制敘述\" data-toc-modified-id=\"Python控制敘述-11\"><span class=\"toc-item-num\">11&nbsp;&nbsp;</span>Python控制敘述</a></div><div class=\"lev2 toc-item\"><a href=\"#判斷控制\" data-toc-modified-id=\"判斷控制-111\"><span class=\"toc-item-num\">11.1&nbsp;&nbsp;</span>判斷控制</a></div><div class=\"lev2 toc-item\"><a href=\"#迴圈控制\" data-toc-modified-id=\"迴圈控制-112\"><span class=\"toc-item-num\">11.2&nbsp;&nbsp;</span>迴圈控制</a></div><div class=\"lev1 toc-item\"><a href=\"#Python自定義函數\" data-toc-modified-id=\"Python自定義函數-12\"><span class=\"toc-item-num\">12&nbsp;&nbsp;</span>Python自定義函數</a></div><div class=\"lev2 toc-item\"><a href=\"#Python物件導向觀念\" data-toc-modified-id=\"Python物件導向觀念-121\"><span class=\"toc-item-num\">12.1&nbsp;&nbsp;</span>Python物件導向觀念</a></div><div class=\"lev2 toc-item\"><a href=\"#類別定義與屬性\" data-toc-modified-id=\"類別定義與屬性-122\"><span class=\"toc-item-num\">12.2&nbsp;&nbsp;</span>類別定義與屬性</a></div><div class=\"lev2 toc-item\"><a href=\"#類別方法\" data-toc-modified-id=\"類別方法-123\"><span class=\"toc-item-num\">12.3&nbsp;&nbsp;</span>類別方法</a></div><div class=\"lev2 toc-item\"><a href=\"#子類別繼承與獨特屬性\" data-toc-modified-id=\"子類別繼承與獨特屬性-124\"><span class=\"toc-item-num\">12.4&nbsp;&nbsp;</span>子類別繼承與獨特屬性</a></div><div class=\"lev2 toc-item\"><a href=\"#以self參數調用類別的屬性與方法\" data-toc-modified-id=\"以self參數調用類別的屬性與方法-125\"><span class=\"toc-item-num\">12.5&nbsp;&nbsp;</span>以self參數調用類別的屬性與方法</a></div><div class=\"lev2 toc-item\"><a href=\"#__init__()特殊方法\" data-toc-modified-id=\"__init__()特殊方法-126\"><span class=\"toc-item-num\">12.6&nbsp;&nbsp;</span><code>__</code>init<code>__</code>()特殊方法</a></div><div class=\"lev2 toc-item\"><a href=\"#物件的屬性-vs.-類別的屬性\" data-toc-modified-id=\"物件的屬性-vs.-類別的屬性-127\"><span class=\"toc-item-num\">12.7&nbsp;&nbsp;</span>物件的屬性 vs. 類別的屬性</a></div><div class=\"lev2 toc-item\"><a href=\"#物件導向練習\" data-toc-modified-id=\"物件導向練習-128\"><span class=\"toc-item-num\">12.8&nbsp;&nbsp;</span>物件導向練習</a></div><div class=\"lev1 toc-item\"><a href=\"#Jupyter介紹及操作\" data-toc-modified-id=\"Jupyter介紹及操作-13\"><span class=\"toc-item-num\">13&nbsp;&nbsp;</span>Jupyter介紹及操作</a></div><div class=\"lev2 toc-item\"><a href=\"#Jupyter簡介\" data-toc-modified-id=\"Jupyter簡介-131\"><span class=\"toc-item-num\">13.1&nbsp;&nbsp;</span>Jupyter簡介</a></div><div class=\"lev2 toc-item\"><a href=\"#操作簡介\" data-toc-modified-id=\"操作簡介-132\"><span class=\"toc-item-num\">13.2&nbsp;&nbsp;</span>操作簡介</a></div><div class=\"lev2 toc-item\"><a href=\"#常用快捷鍵\" data-toc-modified-id=\"常用快捷鍵-133\"><span class=\"toc-item-num\">13.3&nbsp;&nbsp;</span>常用快捷鍵</a></div><div class=\"lev2 toc-item\"><a href=\"#魔法命令(Magic-Commands)\" data-toc-modified-id=\"魔法命令(Magic-Commands)-134\"><span class=\"toc-item-num\">13.4&nbsp;&nbsp;</span>魔法命令(Magic Commands)</a></div><div class=\"lev2 toc-item\"><a href=\"#Line-magics\" data-toc-modified-id=\"Line-magics-135\"><span class=\"toc-item-num\">13.5&nbsp;&nbsp;</span>Line magics</a></div><div class=\"lev2 toc-item\"><a href=\"#Cell-magics\" data-toc-modified-id=\"Cell-magics-136\"><span class=\"toc-item-num\">13.6&nbsp;&nbsp;</span>Cell magics</a></div><div class=\"lev1 toc-item\"><a href=\"#網頁資料擷取概念\" data-toc-modified-id=\"網頁資料擷取概念-14\"><span class=\"toc-item-num\">14&nbsp;&nbsp;</span>網頁資料擷取概念</a></div><div class=\"lev2 toc-item\"><a href=\"#關於擷取網頁必要知識\" data-toc-modified-id=\"關於擷取網頁必要知識-141\"><span class=\"toc-item-num\">14.1&nbsp;&nbsp;</span>關於擷取網頁必要知識</a></div><div class=\"lev3 toc-item\"><a href=\"#GET與POST流程：\" data-toc-modified-id=\"GET與POST流程：-1411\"><span class=\"toc-item-num\">14.1.1&nbsp;&nbsp;</span>GET與POST流程：</a></div><div class=\"lev3 toc-item\"><a href=\"#GET(明信片)與POST(信)的差別：\" data-toc-modified-id=\"GET(明信片)與POST(信)的差別：-1412\"><span class=\"toc-item-num\">14.1.2&nbsp;&nbsp;</span>GET(明信片)與POST(信)的差別：</a></div><div class=\"lev3 toc-item\"><a href=\"#開始動手GET網頁\" data-toc-modified-id=\"開始動手GET網頁-1413\"><span class=\"toc-item-num\">14.1.3&nbsp;&nbsp;</span>開始動手GET網頁</a></div><div class=\"lev3 toc-item\"><a href=\"#開始動手POST網頁\" data-toc-modified-id=\"開始動手POST網頁-1414\"><span class=\"toc-item-num\">14.1.4&nbsp;&nbsp;</span>開始動手POST網頁</a></div><div class=\"lev4 toc-item\"><a href=\"#網頁內容已經透露了規則\" data-toc-modified-id=\"網頁內容已經透露了規則-14141\"><span class=\"toc-item-num\">14.1.4.1&nbsp;&nbsp;</span>網頁內容已經透露了規則</a></div><div class=\"lev4 toc-item\"><a href=\"#透過HTML函數，看看編譯後的網頁\" data-toc-modified-id=\"透過HTML函數，看看編譯後的網頁-14142\"><span class=\"toc-item-num\">14.1.4.2&nbsp;&nbsp;</span>透過HTML函數，看看編譯後的網頁</a></div><div class=\"lev3 toc-item\"><a href=\"#若網頁沒有透露規則呢？\" data-toc-modified-id=\"若網頁沒有透露規則呢？-1415\"><span class=\"toc-item-num\">14.1.5&nbsp;&nbsp;</span>若網頁沒有透露規則呢？</a></div><div class=\"lev2 toc-item\"><a href=\"#來個中等難度的POST「擷取Play商店評論」\" data-toc-modified-id=\"來個中等難度的POST「擷取Play商店評論」-142\"><span class=\"toc-item-num\">14.2&nbsp;&nbsp;</span>來個中等難度的POST「擷取Play商店評論」</a></div><div class=\"lev2 toc-item\"><a href=\"#HTML原始碼解析(BeautifulSoup)\" data-toc-modified-id=\"HTML原始碼解析(BeautifulSoup)-143\"><span class=\"toc-item-num\">14.3&nbsp;&nbsp;</span>HTML原始碼解析(BeautifulSoup)</a></div><div class=\"lev3 toc-item\"><a href=\"#BeautifulSoup簡介\" data-toc-modified-id=\"BeautifulSoup簡介-1431\"><span class=\"toc-item-num\">14.3.1&nbsp;&nbsp;</span>BeautifulSoup簡介</a></div><div class=\"lev4 toc-item\"><a href=\"#從bs4(BeautifulSoup4)中載入BeautifulSoup函數\" data-toc-modified-id=\"從bs4(BeautifulSoup4)中載入BeautifulSoup函數-14311\"><span class=\"toc-item-num\">14.3.1.1&nbsp;&nbsp;</span>從bs4(BeautifulSoup4)中載入BeautifulSoup函數</a></div><div class=\"lev4 toc-item\"><a href=\"#回顧一下前面-www.example.com-的網頁原始碼\" data-toc-modified-id=\"回顧一下前面-www.example.com-的網頁原始碼-14312\"><span class=\"toc-item-num\">14.3.1.2&nbsp;&nbsp;</span>回顧一下前面 www.example.com 的網頁原始碼</a></div><div class=\"lev4 toc-item\"><a href=\"#瞭解下面執行BeautifulSoup函數時發生了什麼事？\" data-toc-modified-id=\"瞭解下面執行BeautifulSoup函數時發生了什麼事？-14313\"><span class=\"toc-item-num\">14.3.1.3&nbsp;&nbsp;</span>瞭解下面執行BeautifulSoup函數時發生了什麼事？</a></div><div class=\"lev3 toc-item\"><a href=\"#CSS選擇器\" data-toc-modified-id=\"CSS選擇器-1432\"><span class=\"toc-item-num\">14.3.2&nbsp;&nbsp;</span>CSS選擇器</a></div><div class=\"lev2 toc-item\"><a href=\"#透過開發人員工具找出欲擷取資料之規則\" data-toc-modified-id=\"透過開發人員工具找出欲擷取資料之規則-144\"><span class=\"toc-item-num\">14.4&nbsp;&nbsp;</span>透過開發人員工具找出欲擷取資料之規則</a></div><div class=\"lev3 toc-item\"><a href=\"#若網頁中有表格，透過pandas套件輕鬆取得並轉換為DataFrame\" data-toc-modified-id=\"若網頁中有表格，透過pandas套件輕鬆取得並轉換為DataFrame-1441\"><span class=\"toc-item-num\">14.4.1&nbsp;&nbsp;</span>若網頁中有表格，透過pandas套件輕鬆取得並轉換為DataFrame</a></div><div class=\"lev3 toc-item\"><a href=\"#為何要加「;」，試試看不加。\" data-toc-modified-id=\"為何要加「;」，試試看不加。-1442\"><span class=\"toc-item-num\">14.4.2&nbsp;&nbsp;</span>為何要加「;」，試試看不加。</a></div><div class=\"lev1 toc-item\"><a href=\"#探索式資料分析\" data-toc-modified-id=\"探索式資料分析-15\"><span class=\"toc-item-num\">15&nbsp;&nbsp;</span>探索式資料分析</a></div><div class=\"lev2 toc-item\"><a href=\"#以NBA-2013-2014賽季的球員數據為例\" data-toc-modified-id=\"以NBA-2013-2014賽季的球員數據為例-151\"><span class=\"toc-item-num\">15.1&nbsp;&nbsp;</span>以NBA 2013-2014賽季的球員數據為例</a></div><div class=\"lev3 toc-item\"><a href=\"#以pandas套件載入CSV資料\" data-toc-modified-id=\"以pandas套件載入CSV資料-1511\"><span class=\"toc-item-num\">15.1.1&nbsp;&nbsp;</span>以pandas套件載入CSV資料</a></div><div class=\"lev3 toc-item\"><a href=\"#以DataFrame中的shape物件，列出球員數(row)及特徵數(col)\" data-toc-modified-id=\"以DataFrame中的shape物件，列出球員數(row)及特徵數(col)-1512\"><span class=\"toc-item-num\">15.1.2&nbsp;&nbsp;</span>以DataFrame中的shape物件，列出球員數(row)及特徵數(col)</a></div><div class=\"lev3 toc-item\"><a href=\"#列出前五筆(row)資料\" data-toc-modified-id=\"列出前五筆(row)資料-1513\"><span class=\"toc-item-num\">15.1.3&nbsp;&nbsp;</span>列出前五筆(row)資料</a></div><div class=\"lev3 toc-item\"><a href=\"#常用NBA數據縮寫\" data-toc-modified-id=\"常用NBA數據縮寫-1514\"><span class=\"toc-item-num\">15.1.4&nbsp;&nbsp;</span>常用NBA數據縮寫</a></div><div class=\"lev3 toc-item\"><a href=\"#計算各特徵的平均值\" data-toc-modified-id=\"計算各特徵的平均值-1515\"><span class=\"toc-item-num\">15.1.5&nbsp;&nbsp;</span>計算各特徵的平均值</a></div><div class=\"lev3 toc-item\"><a href=\"#計算各欄位的敘述統計值\" data-toc-modified-id=\"計算各欄位的敘述統計值-1516\"><span class=\"toc-item-num\">15.1.6&nbsp;&nbsp;</span>計算各欄位的敘述統計值</a></div><div class=\"lev3 toc-item\"><a href=\"#繪製成對散點圖\" data-toc-modified-id=\"繪製成對散點圖-1517\"><span class=\"toc-item-num\">15.1.7&nbsp;&nbsp;</span>繪製成對散點圖</a></div><div class=\"lev3 toc-item\"><a href=\"#將球員以k-means演算法集群(非監督式學習)\" data-toc-modified-id=\"將球員以k-means演算法集群(非監督式學習)-1518\"><span class=\"toc-item-num\">15.1.8&nbsp;&nbsp;</span>將球員以k-means演算法集群(非監督式學習)</a></div><div class=\"lev3 toc-item\"><a href=\"#按類別繪製球員分佈圖\" data-toc-modified-id=\"按類別繪製球員分佈圖-1519\"><span class=\"toc-item-num\">15.1.9&nbsp;&nbsp;</span>按類別繪製球員分佈圖</a></div><div class=\"lev1 toc-item\"><a href=\"#線性迴歸(Linear-Regression)\" data-toc-modified-id=\"線性迴歸(Linear-Regression)-16\"><span class=\"toc-item-num\">16&nbsp;&nbsp;</span>線性迴歸(Linear Regression)</a></div><div class=\"lev2 toc-item\"><a href=\"#為何學習線性迴歸？\" data-toc-modified-id=\"為何學習線性迴歸？-161\"><span class=\"toc-item-num\">16.1&nbsp;&nbsp;</span>為何學習線性迴歸？</a></div><div class=\"lev2 toc-item\"><a href=\"#相關套件\" data-toc-modified-id=\"相關套件-162\"><span class=\"toc-item-num\">16.2&nbsp;&nbsp;</span>相關套件</a></div><div class=\"lev2 toc-item\"><a href=\"#透過虛擬案例學習\" data-toc-modified-id=\"透過虛擬案例學習-163\"><span class=\"toc-item-num\">16.3&nbsp;&nbsp;</span>透過虛擬案例學習</a></div><div class=\"lev3 toc-item\"><a href=\"#先有個假設\" data-toc-modified-id=\"先有個假設-1631\"><span class=\"toc-item-num\">16.3.1&nbsp;&nbsp;</span>先有個假設</a></div><div class=\"lev3 toc-item\"><a href=\"#來學這個函數\" data-toc-modified-id=\"來學這個函數-1632\"><span class=\"toc-item-num\">16.3.2&nbsp;&nbsp;</span>來學這個函數</a></div><div class=\"lev3 toc-item\"><a href=\"#模擬-50-個學習數據\" data-toc-modified-id=\"模擬-50-個學習數據-1633\"><span class=\"toc-item-num\">16.3.3&nbsp;&nbsp;</span>模擬 50 個學習數據</a></div><div class=\"lev3 toc-item\"><a href=\"#看看我們的數據\" data-toc-modified-id=\"看看我們的數據-1634\"><span class=\"toc-item-num\">16.3.4&nbsp;&nbsp;</span>看看我們的數據</a></div><div class=\"lev3 toc-item\"><a href=\"#用-SciPy-來迴歸\" data-toc-modified-id=\"用-SciPy-來迴歸-1635\"><span class=\"toc-item-num\">16.3.5&nbsp;&nbsp;</span>用 SciPy 來迴歸</a></div><div class=\"lev3 toc-item\"><a href=\"#開始迴歸\" data-toc-modified-id=\"開始迴歸-1636\"><span class=\"toc-item-num\">16.3.6&nbsp;&nbsp;</span>開始迴歸</a></div><div class=\"lev3 toc-item\"><a href=\"#畫出結果\" data-toc-modified-id=\"畫出結果-1637\"><span class=\"toc-item-num\">16.3.7&nbsp;&nbsp;</span>畫出結果</a></div><div class=\"lev2 toc-item\"><a href=\"#案例實作：廣告資料\" data-toc-modified-id=\"案例實作：廣告資料-164\"><span class=\"toc-item-num\">16.4&nbsp;&nbsp;</span>案例實作：廣告資料</a></div><div class=\"lev3 toc-item\"><a href=\"#Questions-About-the-Advertising-Data\" data-toc-modified-id=\"Questions-About-the-Advertising-Data-1641\"><span class=\"toc-item-num\">16.4.1&nbsp;&nbsp;</span>Questions About the Advertising Data</a></div><div class=\"lev3 toc-item\"><a href=\"#簡單線性迴歸(Simple-Linear-Regression)\" data-toc-modified-id=\"簡單線性迴歸(Simple-Linear-Regression)-1642\"><span class=\"toc-item-num\">16.4.2&nbsp;&nbsp;</span>簡單線性迴歸(Simple Linear Regression)</a></div><div class=\"lev3 toc-item\"><a href=\"#如何估計(&quot;學&quot;)-模型係數？\" data-toc-modified-id=\"如何估計(&quot;學&quot;)-模型係數？-1643\"><span class=\"toc-item-num\">16.4.3&nbsp;&nbsp;</span>如何估計(\"學\") 模型係數？</a></div><div class=\"lev3 toc-item\"><a href=\"#模型係數解釋\" data-toc-modified-id=\"模型係數解釋-1644\"><span class=\"toc-item-num\">16.4.4&nbsp;&nbsp;</span>模型係數解釋</a></div><div class=\"lev3 toc-item\"><a href=\"#使用此模型進行預測\" data-toc-modified-id=\"使用此模型進行預測-1645\"><span class=\"toc-item-num\">16.4.5&nbsp;&nbsp;</span>使用此模型進行預測</a></div><div class=\"lev3 toc-item\"><a href=\"#繪製最小平方線\" data-toc-modified-id=\"繪製最小平方線-1646\"><span class=\"toc-item-num\">16.4.6&nbsp;&nbsp;</span>繪製最小平方線</a></div><div class=\"lev3 toc-item\"><a href=\"#模型的可信程度？\" data-toc-modified-id=\"模型的可信程度？-1647\"><span class=\"toc-item-num\">16.4.7&nbsp;&nbsp;</span>模型的可信程度？</a></div><div class=\"lev3 toc-item\"><a href=\"#假設檢定及p值(p-values)\" data-toc-modified-id=\"假設檢定及p值(p-values)-1648\"><span class=\"toc-item-num\">16.4.8&nbsp;&nbsp;</span>假設檢定及p值(p-values)</a></div><div class=\"lev3 toc-item\"><a href=\"#模型的配適程度如何？\" data-toc-modified-id=\"模型的配適程度如何？-1649\"><span class=\"toc-item-num\">16.4.9&nbsp;&nbsp;</span>模型的配適程度如何？</a></div><div class=\"lev3 toc-item\"><a href=\"#多變量迴歸\" data-toc-modified-id=\"多變量迴歸-16410\"><span class=\"toc-item-num\">16.4.10&nbsp;&nbsp;</span>多變量迴歸</a></div><div class=\"lev3 toc-item\"><a href=\"#特徵挑選(Feature-Selection)\" data-toc-modified-id=\"特徵挑選(Feature-Selection)-16411\"><span class=\"toc-item-num\">16.4.11&nbsp;&nbsp;</span>特徵挑選(Feature Selection)</a></div><div class=\"lev4 toc-item\"><a href=\"#秒懂交叉驗證\" data-toc-modified-id=\"秒懂交叉驗證-164111\"><span class=\"toc-item-num\">16.4.11.1&nbsp;&nbsp;</span>秒懂交叉驗證</a></div><div class=\"lev3 toc-item\"><a href=\"#Linear-Regression-in-scikit-learn\" data-toc-modified-id=\"Linear-Regression-in-scikit-learn-16412\"><span class=\"toc-item-num\">16.4.12&nbsp;&nbsp;</span>Linear Regression in scikit-learn</a></div><div class=\"lev2 toc-item\"><a href=\"#再次以NBA資料為例(sklearn套件)\" data-toc-modified-id=\"再次以NBA資料為例(sklearn套件)-165\"><span class=\"toc-item-num\">16.5&nbsp;&nbsp;</span>再次以NBA資料為例(sklearn套件)</a></div><div class=\"lev3 toc-item\"><a href=\"#將資料劃分為訓練集與測試集\" data-toc-modified-id=\"將資料劃分為訓練集與測試集-1651\"><span class=\"toc-item-num\">16.5.1&nbsp;&nbsp;</span>將資料劃分為訓練集與測試集</a></div><div class=\"lev3 toc-item\"><a href=\"#假設我們希望通過球員的投籃命中預測其助攻次數\" data-toc-modified-id=\"假設我們希望通過球員的投籃命中預測其助攻次數-1652\"><span class=\"toc-item-num\">16.5.2&nbsp;&nbsp;</span>假設我們希望通過球員的投籃命中預測其助攻次數</a></div><div class=\"lev3 toc-item\"><a href=\"#將原始值與預估值以DataFrame共同列出\" data-toc-modified-id=\"將原始值與預估值以DataFrame共同列出-1653\"><span class=\"toc-item-num\">16.5.3&nbsp;&nbsp;</span>將原始值與預估值以DataFrame共同列出</a></div><div class=\"lev3 toc-item\"><a href=\"#以Series合併的話，可能會有index的錯亂，故以ndarray合併\" data-toc-modified-id=\"以Series合併的話，可能會有index的錯亂，故以ndarray合併-1654\"><span class=\"toc-item-num\">16.5.4&nbsp;&nbsp;</span>以Series合併的話，可能會有index的錯亂，故以ndarray合併</a></div><div class=\"lev3 toc-item\"><a href=\"#計算此模型的統計摘要\" data-toc-modified-id=\"計算此模型的統計摘要-1655\"><span class=\"toc-item-num\">16.5.5&nbsp;&nbsp;</span>計算此模型的統計摘要</a></div><div class=\"lev3 toc-item\"><a href=\"#計算誤差，這邊使用MSE(Mean-Squared-Error)\" data-toc-modified-id=\"計算誤差，這邊使用MSE(Mean-Squared-Error)-1656\"><span class=\"toc-item-num\">16.5.6&nbsp;&nbsp;</span>計算誤差，這邊使用MSE(Mean Squared Error)</a></div><div class=\"lev1 toc-item\"><a href=\"#References\" data-toc-modified-id=\"References-17\"><span class=\"toc-item-num\">17&nbsp;&nbsp;</span>References</a></div>"
   ]
  },
  {
   "cell_type": "markdown",
   "metadata": {},
   "source": [
    "# 前言"
   ]
  },
  {
   "cell_type": "markdown",
   "metadata": {},
   "source": [
    "- Why python?\n",
    "    - 活躍的社群\n",
    "    - 開放源始碼\n",
    "    - 深思熟慮的設計\n",
    "    - 眾多的第三方資源"
   ]
  },
  {
   "cell_type": "markdown",
   "metadata": {},
   "source": [
    "# Python Shell"
   ]
  },
  {
   "cell_type": "markdown",
   "metadata": {},
   "source": [
    "進入互動模式的方法，是打開終端機，輸入下面的指令："
   ]
  },
  {
   "cell_type": "markdown",
   "metadata": {},
   "source": [
    "python"
   ]
  },
  {
   "cell_type": "markdown",
   "metadata": {},
   "source": [
    "按下 Enter 鍵後，應該會看到類似下面的內容"
   ]
  },
  {
   "cell_type": "markdown",
   "metadata": {},
   "source": [
    "Python 3.5.2 (...)\n",
    "\n",
    "Type \"copyright\", \"credits\" or \"license\" for more information.\n",
    "\n",
    "\\>>>"
   ]
  },
  {
   "cell_type": "markdown",
   "metadata": {},
   "source": [
    "這代表 Python 已經啟動，進入了 **Python shell**。\n",
    "\n",
    "最後一行的 >>> 代表它已經準備接受你的下一個命令。\n",
    "\n",
    "輸入 exit() 並按 Enter，就會退出 **Python shell**，回到原本的提示列。"
   ]
  },
  {
   "cell_type": "markdown",
   "metadata": {},
   "source": [
    "## Python Shell的加強版 IPython\n",
    "進入互動模式的方法，是打開終端機，輸入下面的指令："
   ]
  },
  {
   "cell_type": "markdown",
   "metadata": {},
   "source": [
    "ipython"
   ]
  },
  {
   "cell_type": "markdown",
   "metadata": {},
   "source": [
    "按下 Enter 鍵後，應該會看到類似下面的內容"
   ]
  },
  {
   "cell_type": "markdown",
   "metadata": {},
   "source": [
    "Python 3.5.2 |Anaconda 4.2.0 (x86_64)| (...) \n",
    "\n",
    "Type \"copyright\", \"credits\" or \"license\" for more information.\n",
    "\n",
    "IPython 5.1.0 -- An enhanced Interactive Python.\n",
    "\n",
    "In [1]:"
   ]
  },
  {
   "cell_type": "markdown",
   "metadata": {},
   "source": [
    "最後一行的 In [1]: 代表它已經準備接受你的下一個命令。"
   ]
  },
  {
   "cell_type": "markdown",
   "metadata": {},
   "source": [
    "<font size=6 style=\"text-shadow:0px 0px 15px #FF37FD;\">練習一下</font>\n",
    "<script>\n",
    "   Answer\n",
    "</script>"
   ]
  },
  {
   "cell_type": "markdown",
   "metadata": {},
   "source": [
    "# 第一個 Python 指令"
   ]
  },
  {
   "cell_type": "markdown",
   "metadata": {},
   "source": [
    "我們來讓 Python 執行幾個指令看看。試著輸入 2 + 3，然後按 Enter。你會看到下面的結果："
   ]
  },
  {
   "cell_type": "markdown",
   "metadata": {},
   "source": [
    "\\>>> 2 + 3\n",
    "\n",
    "5"
   ]
  },
  {
   "cell_type": "markdown",
   "metadata": {},
   "source": [
    "這就是 Python 互動模式的標準流程。你問 Python 一個問題，然後它回答你。"
   ]
  },
  {
   "cell_type": "markdown",
   "metadata": {},
   "source": [
    "Python 畢竟是電腦程式，這種計算當然難不倒它。試試看一些更複雜的計算吧！下面是幾個例子：\n",
    "\n",
    "- 987 * 543\n",
    "- 77 / (9 - 4) * 7\n",
    "- 6 ** 8\n",
    "\n",
    "它們各代表什麼意思？多試幾個數字，看看你能不能自己找到答案。"
   ]
  },
  {
   "cell_type": "markdown",
   "metadata": {
    "solution2": "hidden",
    "solution2_first": true
   },
   "source": [
    "<font size=6 style=\"text-shadow:0px 0px 15px #FF37FD;\">考考你</font>\n",
    "- 假設美金匯率31.3、日圓匯率0.273，那麼520美金可以兌換多少日圓？\n",
    "\n",
    "<script>\n",
    "   520 * 31.3 / 0.273\n",
    "</script>\n"
   ]
  },
  {
   "cell_type": "markdown",
   "metadata": {},
   "source": [
    "# 說明文件"
   ]
  },
  {
   "cell_type": "markdown",
   "metadata": {},
   "source": [
    "help(len)"
   ]
  },
  {
   "cell_type": "markdown",
   "metadata": {
    "collapsed": true
   },
   "source": [
    "?requests.get"
   ]
  },
  {
   "cell_type": "markdown",
   "metadata": {},
   "source": [
    "?requests"
   ]
  },
  {
   "cell_type": "markdown",
   "metadata": {},
   "source": [
    "# 套件安裝與載入\n",
    "\n",
    "## 套件管理程式pip\n",
    "\n",
    "- pip 操作命令 **需在CMD(Command Line)下安裝，而非python shell**\n",
    "    - pip list # 看目前系統有安裝哪些套件\n",
    "    - pip search mysql # 搜尋相關套件\n",
    "    - pip install package # 安裝套件\n",
    "    - pip uninstall package # 移除套件\n",
    "    - pip show --files package # 秀套件檔案列表\n",
    "    - pip list --outdated # 列出過期套件\n",
    "    - pip install --upgrade package # 升級\n",
    "    "
   ]
  },
  {
   "cell_type": "markdown",
   "metadata": {
    "solution2": "hidden",
    "solution2_first": true
   },
   "source": [
    "<font size=6 style=\"text-shadow:0px 0px 15px #FF37FD;\">考考你</font>\n",
    "- 請安裝folium套件\n",
    "\n",
    "<script>\n",
    "   pip install folium\n",
    "</script>\n"
   ]
  },
  {
   "cell_type": "markdown",
   "metadata": {},
   "source": [
    "## 套件載入\n",
    "\n",
    "- import, from, as\n",
    "- 大部份時候建議使用import不使用from，環境會比較乾淨\n",
    "    - 例如下面的requests被import之後，使用上還是要requests.xxx\n",
    "    - 若使用了from requests import get，使用上可以直接 get，容易與其他同名函數造成混亂\n",
    "- as只是使用上方便而已，例如：\n",
    "    - pandas as pd, numpy as np (只是慣例，想怎麼as很隨意的)"
   ]
  },
  {
   "cell_type": "code",
   "execution_count": 1,
   "metadata": {
    "scrolled": true
   },
   "outputs": [
    {
     "name": "stdout",
     "output_type": "stream",
     "text": [
      "<!doctype html>\n",
      "<html>\n",
      "<head>\n",
      "    <title>Example Domain</title>\n",
      "\n",
      "    <meta charset=\"utf-8\" />\n",
      "    <meta http-equiv=\"Content-type\" content=\"text/html; charset=utf-8\" />\n",
      "    <meta name=\"viewport\" content=\"width=device-width, initial-scale=1\" />\n",
      "    <style type=\"text/css\">\n",
      "    body {\n",
      "        background-color: #f0f0f2;\n",
      "        margin: 0;\n",
      "        padding: 0;\n",
      "        font-family: \"Open Sans\", \"Helvetica Neue\", Helvetica, Arial, sans-serif;\n",
      "        \n",
      "    }\n",
      "    div {\n",
      "        width: 600px;\n",
      "        margin:\n"
     ]
    }
   ],
   "source": [
    "import requests as rs\n",
    "res_example = rs.get('http://www.example.com/')\n",
    "print(res_example.text[:500])"
   ]
  },
  {
   "cell_type": "code",
   "execution_count": 2,
   "metadata": {},
   "outputs": [
    {
     "data": {
      "image/png": "[encoded data removed]",
      "text/plain": [
       "<matplotlib.figure.Figure at 0x106640e80>"
      ]
     },
     "metadata": {},
     "output_type": "display_data"
    }
   ],
   "source": [
    "import matplotlib.pyplot as plt\n",
    "plt.plot([1,2,3,4])\n",
    "plt.ylabel('some numbers')\n",
    "plt.show()"
   ]
  },
  {
   "cell_type": "markdown",
   "metadata": {},
   "source": [
    "# 變數 Variables"
   ]
  },
  {
   "cell_type": "markdown",
   "metadata": {},
   "source": [
    "有時候，我們會想在很多地方使用同一個東西。但我們要怎麼告訴 Python，我們想要什麼東西？\n",
    "\n",
    "![Python](_img/dollar.jpg)"
   ]
  },
  {
   "cell_type": "code",
   "execution_count": 3,
   "metadata": {},
   "outputs": [
    {
     "data": {
      "text/plain": [
       "3123.2"
      ]
     },
     "execution_count": 3,
     "metadata": {},
     "output_type": "execute_result"
    }
   ],
   "source": [
    "USD = 31.232\n",
    "USD * 100"
   ]
  },
  {
   "cell_type": "markdown",
   "metadata": {},
   "source": [
    "既然是「變」數，代表我們可以改變它的內容："
   ]
  },
  {
   "cell_type": "code",
   "execution_count": 4,
   "metadata": {
    "scrolled": true
   },
   "outputs": [
    {
     "data": {
      "text/plain": [
       "3066.6"
      ]
     },
     "execution_count": 4,
     "metadata": {},
     "output_type": "execute_result"
    }
   ],
   "source": [
    "USD = 30.666\n",
    "USD * 100"
   ]
  },
  {
   "cell_type": "markdown",
   "metadata": {},
   "source": [
    "但如果我們問了 Python 不認得的變數名稱，會怎麼樣呢？"
   ]
  },
  {
   "cell_type": "code",
   "execution_count": 5,
   "metadata": {
    "scrolled": false
   },
   "outputs": [
    {
     "ename": "NameError",
     "evalue": "name 'TWD' is not defined",
     "output_type": "error",
     "traceback": [
      "\u001b[0;31m---------------------------------------------------------------------------\u001b[0m",
      "\u001b[0;31mNameError\u001b[0m                                 Traceback (most recent call last)",
      "\u001b[0;32m<ipython-input-5-ee0ef673ae60>\u001b[0m in \u001b[0;36m<module>\u001b[0;34m()\u001b[0m\n\u001b[0;32m----> 1\u001b[0;31m \u001b[0mTWD\u001b[0m\u001b[0;34m\u001b[0m\u001b[0m\n\u001b[0m",
      "\u001b[0;31mNameError\u001b[0m: name 'TWD' is not defined"
     ]
    }
   ],
   "source": [
    "TWD"
   ]
  },
  {
   "cell_type": "markdown",
   "metadata": {
    "solution2": "hidden",
    "solution2_first": true
   },
   "source": [
    "<font size=6 style=\"text-shadow:0px 0px 15px #FF37FD;\">考考你</font>\n",
    "- 美金=31.3987、日圓=0.2738，那麼美金乘上日圓+日圓除以美金+美金的平方-日圓開根號等於多少？\n",
    "\n",
    "<script>\n",
    "   USD = 31.3987\n",
    "   JPY = 0.2738\n",
    "   USD * JPY + JPY/USD + USD **2 + JPY ** (1/2)\n",
    "</script>"
   ]
  },
  {
   "cell_type": "markdown",
   "metadata": {},
   "source": [
    "# 關鍵字 Keyword"
   ]
  },
  {
   "cell_type": "markdown",
   "metadata": {},
   "source": [
    "<table align=\"center\" width=\"90%\"><tbody><tr><td>False</td><td>class</td><td>finally</td><td>is</td><td>return</td></tr>\n",
    "<tr><td>None</td><td>continue</td><td>for</td><td>lambda</td><td>try</td></tr>\n",
    "<tr><td>True</td><td>def</td><td>from</td><td>nonlocal</td><td>while</td></tr>\n",
    "<tr><td>and</td><td>del</td><td>global</td><td>not</td><td>with</td></tr>\n",
    "<tr><td>as</td><td>elif</td><td>if</td><td>or</td><td>yield</td></tr>\n",
    "<tr><td>assert</td><td>else</td><td>import</td><td>pass</td><td></td></tr>\n",
    "<tr><td>break</td><td>except</td><td>in</td><td>raise</td><td></td></tr>\n",
    "</tbody></table>"
   ]
  },
  {
   "cell_type": "markdown",
   "metadata": {},
   "source": [
    "## 常數\n",
    "\n",
    "- 關鍵字中的常數有\n",
    "    - False\n",
    "    - None\n",
    "    - True\n",
    "\n",
    "False 表示邏輯上的假， True 為邏輯上的真。 None 是一個特別的值，沒有設定回傳值 (return value) 的函數 (function) 實際上會回傳 None ，也就是 null 物件 (object) 。"
   ]
  },
  {
   "cell_type": "markdown",
   "metadata": {},
   "source": [
    "## 型態定義詞\n",
    "\n",
    "- 關鍵字中的型態定義詞有\n",
    "    - class\n",
    "    - def\n",
    "\n",
    "class 用於定義類別 (class) ，類別為建構物件的模板， Python 的一種類別也就是一種型態。 def 用於定義函數，函數屬於 'function' 類別。\n"
   ]
  },
  {
   "cell_type": "markdown",
   "metadata": {},
   "source": [
    "## 控制陳述\n",
    "\n",
    "\n",
    "- 關鍵字中的控制陳述有\n",
    "    - as\n",
    "    - assert\n",
    "    - break\n",
    "    - continue\n",
    "    - del\n",
    "    - elif\n",
    "    - else\n",
    "    - except\n",
    "    - finally\n",
    "    - for\n",
    "    - global\n",
    "    - if\n",
    "    - nonlocal\n",
    "    - pass\n",
    "    - raise\n",
    "    - return\n",
    "    - try\n",
    "    - while\n",
    "    - with\n",
    "    - yield\n",
    "\n",
    "\n",
    "除了 return 作為函數或方法 (method) 回傳值之用，其他如選擇結構 (selection structure) 的 if-elif-else ，重複結構 (repetition structure) 的 for 、 while ，例外處理 (exception handling) 的 try-except-finally 等。"
   ]
  },
  {
   "cell_type": "markdown",
   "metadata": {},
   "source": [
    "## 運算子\n",
    "\n",
    "\n",
    "- 關鍵字中的運算子 (operator) 有\n",
    "    - and\n",
    "    - not\n",
    "    - or\n",
    "    - is\n",
    "    - in\n",
    "    - lambda\n",
    "\n",
    "\n",
    "and 、 or 與 not 為邏輯運算子 (logical operator) ， is 用來判斷兩個物件的 id 是否相同， in 用來判斷某個物件是否存在於某個複合資料型態 (compound data type) 之中， lambda 用來建立無名函數 (anonymous function) 。\n"
   ]
  },
  {
   "cell_type": "markdown",
   "metadata": {},
   "source": [
    "## 模組相關\n",
    "\n",
    "\n",
    "- 關鍵字中跟模組 (module) 相關的有\n",
    "    - from\n",
    "    - import\n",
    "\n",
    "\n",
    "from 與 import 用來引入模組，或模組中的類別、函數等。"
   ]
  },
  {
   "cell_type": "markdown",
   "metadata": {},
   "source": [
    "# 識別字\n",
    "\n",
    "- 識別字 (identifier) 為寫程式時依需求自行定義的名稱，包括變數 (variable) 、函數 (function) 、類別 (class) 等，皆為使用自行定義的識別字。除了關鍵字之外， Python 可用任何 Unicode 編碼的字元當作識別字。\n",
    "- 通常識別字會由具有意義的英文單字組成，因此會由字母開始，而非數字 (0-9) 、底線符號 (_) ，至於單字數量依需要而定。如果單一識別字利用超過一個英文單字組成，**各單字之間不可有空格**，因為空格會讓編譯器認為是前後分別是兩個不同的識別字。\n",
    "- 不能拿數字作為識別字的第一個字元\n",
    "\n",
    "## 命名習慣\n",
    "\n",
    "- 連接多英文單字組合的識別字，可用底線符號 (_) ，或是大寫駝峰型 (upper camel case) 或是小寫駝峰型 (lower camel case) 。\n",
    "\n",
    "- 大寫駝峰型如\n",
    "    - SimpleGame\n",
    "    - MyStory\n",
    "    - ThreadTestDrive\n",
    "    - RunThreads\n",
    "    - TextArea\n",
    "    - Button_One\n",
    "    - Midi_Event\n",
    "    - Short_Message\n",
    "    - My_Object\n",
    "    - B_Example\n",
    "    \n",
    "\n",
    "- 小寫駝峰型如\n",
    "    - actionPerformed\n",
    "    - setUpNetworking\n",
    "    - doSomething\n",
    "    - getField\n",
    "    - getTitle\n",
    "    - make_Event\n",
    "    - turn_Oven_On\n",
    "    - take_Risk\n",
    "    - print_List\n",
    "    - my_Canvas\n",
    "    \n",
    "\n",
    "- 若是只使用一個英文單字，下面是全部用小寫字母的例子\n",
    "    - clone\n",
    "    - equals\n",
    "    - i\n",
    "    - obj1\n",
    "    - move\n",
    "    - paint\n",
    "    - run\n",
    "    - play\n",
    "    - sleep\n",
    "    - name\n",
    "    - color\n",
    "    \n",
    "\n",
    "- 首字母大寫的例子\n",
    "    - Zoo\n",
    "    - Animal\n",
    "    - Bird\n",
    "    - Day\n",
    "    - Outter\n",
    "    - Producer\n",
    "    - Server\n",
    "    - Data\n",
    "    - Filename\n",
    "    - Example\n",
    "    \n",
    "\n",
    "- 或全部的字母都大寫，如用在常數 (constant)\n",
    "    - START\n",
    "    - END\n",
    "    - RIGHT\n",
    "    - BEGIN\n",
    "    "
   ]
  },
  {
   "cell_type": "markdown",
   "metadata": {},
   "source": [
    "# 運算子\n",
    "\n",
    "- Python 提供多樣、功能完整的運算子 (operator) ，如下列表\n",
    "\n",
    "<table align=\"center\" width=\"90%\" border=\"1\"><tbody><tr><td>+</td><td>-</td><td>'*'</td><td>'**'</td><td>/</td><td>//</td><td>%</td></tr>\n",
    "<tr><td>&lt;&lt;</td><td>&gt;&gt;</td><td>&amp;</td><td>|</td><td>^</td><td>~</td><td></td></tr>\n",
    "<tr><td>&lt;</td><td>&gt;</td><td>&lt;=</td><td>&gt;=</td><td>==</td><td>!=</td><td></td></tr>\n",
    "</tbody></table>\n",
    "\n",
    "- 另有一些分隔符號 (delimiter)\n",
    "\n",
    "<table align=\"center\" width=\"90%\" border=\"1\"><tbody><tr><td>(</td><td>)</td><td>[</td><td>]</td><td>{</td><td>}</td></tr>\n",
    "<tr><td>,</td><td>:</td><td>.</td><td>;</td><td>@</td><td>=</td></tr>\n",
    "<tr><td>+=</td><td>-=</td><td>*=</td><td>/=</td><td>//=</td><td>%=</td></tr>\n",
    "<tr><td>&amp;=</td><td>|=</td><td>^=</td><td>&lt;&lt;=</td><td>&gt;&gt;=</td><td>**=</td></tr>\n",
    "</tbody></table>\n",
    "\n",
    "## 算術運算子\n",
    "\n",
    "\n",
    "Python 的算術運算子 (arithmetic operator) 包含加、減、乘、除、取餘數，皆需兩個運算元 (operand) 構成運算式 (expression) ，如下列表\n",
    "\n",
    "<table align=\"center\" width=\"90%\" border=\"1\"><tbody><tr><th align=\"center\">運算子</th><th align=\"center\">功能</th><th align=\"center\">範例</th></tr>\n",
    "<tr><td align=\"center\">+</td><td align=\"center\">加</td><td align=\"center\">a + b</td></tr>\n",
    "<tr><td align=\"center\">-</td><td align=\"center\">減</td><td align=\"center\">a - b</td></tr>\n",
    "<tr><td align=\"center\">＊</td><td align=\"center\">乘</td><td align=\"center\">a * b</td></tr>\n",
    "<tr><td align=\"center\">＊＊</td><td align=\"center\">指數</td><td align=\"center\">a ** b</td></tr>\n",
    "<tr><td align=\"center\">/</td><td align=\"center\">除</td><td align=\"center\">a / b</td></tr>\n",
    "<tr><td align=\"center\">//</td><td align=\"center\">整數除法</td><td align=\"center\">a // b</td></tr>\n",
    "<tr><td align=\"center\">%</td><td align=\"center\">取餘數</td><td align=\"center\">a % b</td></tr>\n",
    "</tbody></table>\n",
    "\n",
    "\n",
    "## 位移運算子\n",
    "\n",
    "\n",
    "位移運算子 (shifting operator) 運用在整數資料型態，向右位移等於 n 除以 pow(2, n) ，向左位移等於 n 乘上 pow(2, n)\n",
    "\n",
    "例如：3`<<`2則是將數字3左移動2位\n",
    "計算過程：\n",
    "3`<<`2首先把3轉換為二進制數字00011\n",
    "然後把該數字高位（左側）的兩個零移出，其他的數字都朝左平移2位，最後在低位（右側）\n",
    "的連個空位補零。則得到的結果是01100，\n",
    "則轉換為十進制是12\n",
    "\n",
    "用bin函數檢查二進制\n",
    "\n",
    "<table align=\"center\" width=\"90%\" border=\"1\"><tbody><tr><th align=\"center\">運算子</th><th align=\"center\">功能</th><th align=\"center\">範例</th></tr>\n",
    "<tr><td align=\"center\">&lt;&lt;</td><td align=\"center\">向左位移</td><td align=\"center\">a &lt;&lt; n</td></tr>\n",
    "<tr><td align=\"center\">&gt;&gt;</td><td align=\"center\">向右位移</td><td align=\"center\">a &gt;&gt; n</td></tr>\n",
    "</tbody></table>\n",
    "\n",
    "## 位元運算子\n",
    "\n",
    "\n",
    "位元運算子 (bitwise operator) 如下列表\n",
    "`print(~3); print(bin(3)); print(bin(~3))`\n",
    "\n",
    "<table align=\"center\" width=\"90%\" border=\"1\"><tbody><tr><th align=\"center\">運算子</th><th align=\"center\">功能</th><th align=\"center\">範例</th></tr>\n",
    "<tr><td align=\"center\">&amp;</td><td align=\"center\">位元且</td><td align=\"center\">a &amp; b</td></tr>\n",
    "<tr><td align=\"center\">|</td><td align=\"center\">位元包含或</td><td align=\"center\">a | b</td></tr>\n",
    "<tr><td align=\"center\">^</td><td align=\"center\">位元互斥或</td><td align=\"center\">a ^ b</td></tr>\n",
    "<tr><td align=\"center\">~</td><td align=\"center\">位元相反</td><td align=\"center\">~a </td></tr>\n",
    "</tbody></table>\n",
    "\n",
    "## 關係運算子\n",
    "\n",
    "關係運算子 (comparison operator) 需要兩個運算元，如下列表\n",
    "\n",
    "<table align=\"center\" width=\"90%\" border=\"1\"><tbody><tr><th align=\"center\">運算子</th><th align=\"center\">功能</th><th align=\"center\">範例</th></tr>\n",
    "<tr><td align=\"center\">&lt;</td><td align=\"center\">小於</td><td align=\"center\">a &lt; b</td></tr>\n",
    "<tr><td align=\"center\">&gt;</td><td align=\"center\">大於</td><td align=\"center\">a &gt; b</td></tr>\n",
    "<tr><td align=\"center\">&lt;=</td><td align=\"center\">小於等於</td><td align=\"center\">a &lt;= b</td></tr>\n",
    "<tr><td align=\"center\">&gt;=</td><td align=\"center\">大於等於</td><td align=\"center\">a &gt;= b</td></tr>\n",
    "<tr><td align=\"center\">==</td><td align=\"center\">相等</td><td align=\"center\">a == b</td></tr>\n",
    "<tr><td align=\"center\">!=</td><td align=\"center\">不相等</td><td align=\"center\">a != b</td></tr>\n",
    "</tbody></table>"
   ]
  },
  {
   "cell_type": "code",
   "execution_count": null,
   "metadata": {
    "collapsed": true
   },
   "outputs": [],
   "source": [
    "1 + 1 == 2"
   ]
  },
  {
   "cell_type": "code",
   "execution_count": null,
   "metadata": {
    "collapsed": true
   },
   "outputs": [],
   "source": [
    "1 + 1 is 2"
   ]
  },
  {
   "cell_type": "code",
   "execution_count": null,
   "metadata": {
    "collapsed": true
   },
   "outputs": [],
   "source": [
    "8 + 7 == 87"
   ]
  },
  {
   "cell_type": "code",
   "execution_count": null,
   "metadata": {
    "collapsed": true
   },
   "outputs": [],
   "source": [
    "8 + 9 is not 1"
   ]
  },
  {
   "cell_type": "code",
   "execution_count": null,
   "metadata": {
    "collapsed": true
   },
   "outputs": [],
   "source": [
    "\"放生\" == \"棄養\""
   ]
  },
  {
   "cell_type": "code",
   "execution_count": null,
   "metadata": {
    "collapsed": true
   },
   "outputs": [],
   "source": [
    "False or True"
   ]
  },
  {
   "cell_type": "code",
   "execution_count": null,
   "metadata": {
    "collapsed": true
   },
   "outputs": [],
   "source": [
    "False and True"
   ]
  },
  {
   "cell_type": "code",
   "execution_count": null,
   "metadata": {
    "collapsed": true
   },
   "outputs": [],
   "source": [
    "False | True"
   ]
  },
  {
   "cell_type": "code",
   "execution_count": null,
   "metadata": {
    "collapsed": true
   },
   "outputs": [],
   "source": [
    "False & True"
   ]
  },
  {
   "cell_type": "code",
   "execution_count": null,
   "metadata": {
    "collapsed": true
   },
   "outputs": [],
   "source": [
    "bool('Hello world!')"
   ]
  },
  {
   "cell_type": "code",
   "execution_count": null,
   "metadata": {
    "collapsed": true
   },
   "outputs": [],
   "source": [
    "bool('')"
   ]
  },
  {
   "cell_type": "code",
   "execution_count": null,
   "metadata": {
    "collapsed": true
   },
   "outputs": [],
   "source": [
    "bool(0)"
   ]
  },
  {
   "cell_type": "code",
   "execution_count": null,
   "metadata": {
    "collapsed": true
   },
   "outputs": [],
   "source": [
    "bool(1)"
   ]
  },
  {
   "cell_type": "markdown",
   "metadata": {},
   "source": [
    "## 指派運算子\n",
    "\n",
    "\n",
    "Python 最基本的指派運算子 (assignment operator) 為單一個等號 = ，這是用來將等號右邊的值拷貝給給左邊的變數 (variable) 資料。等號也可以跟其他運算子合用，會直接將結果儲存到原變數之中，如\n",
    "\n",
    "<table align=\"center\" width=\"90%\" border=\"1\"><tbody><tr><th>運算子</th><th>功能</th><th>範例</th></tr>\n",
    "<tr><td>=</td><td>指派</td><td>a = b</td></tr>\n",
    "<tr><td>+=</td><td>相加同時指派</td><td>a += b</td></tr>\n",
    "<tr><td>-=</td><td>相減同時指派</td><td>a -= b</td></tr>\n",
    "<tr><td>*=</td><td>相乘同時指派</td><td>a *= b</td></tr>\n",
    "<tr><td>**=</td><td>取指數同時指派</td><td>a **= b</td></tr>\n",
    "<tr><td>/=</td><td>相除同時指派</td><td>a /= b</td></tr>\n",
    "<tr><td>/=</td><td>整數相除同時指派</td><td>a //= b</td></tr>\n",
    "<tr><td>%=</td><td>取餘數同時指派</td><td>a %= b</td></tr>\n",
    "<tr><td>&amp;=</td><td>位元且同時指派</td><td>a &amp;= b</td></tr>\n",
    "<tr><td>^=</td><td>位元互斥或同時指派</td><td>a ^= b</td></tr>\n",
    "<tr><td>|=</td><td>位元包含或同時指派</td><td>a |= b</td></tr>\n",
    "<tr><td>&lt;&lt;=</td><td>向左位移同時指派</td><td>a &lt;&lt;= b</td></tr>\n",
    "<tr><td>&gt;&gt;=</td><td>向右位移同時指派</td><td>a &gt;&gt;= b</td></tr>\n",
    "</tbody></table>\n",
    "\n",
    "## 分隔符號\n",
    "\n",
    "\n",
    "其他分隔符號有\n",
    "\n",
    "<table align=\"center\" width=\"90%\" border=\"1\"><tbody><tr><th>分隔符號</th><th>功能</th></tr>\n",
    "<tr><td>( )</td><td>小括弧圍住的運算式會優先計算，函數 (function) 也用小括弧圍住參數列 (parameter list)</td></tr>\n",
    "<tr><td>[ ]</td><td>序列型態 (sequence type) 的索引符號，或用作定義串列 (list)</td></tr>\n",
    "<tr><td>{ }</td><td>用作定義字典 (dictionary)</td></tr>\n",
    "<tr><td>,</td><td>同一行中分隔多個運算式</td></tr>\n",
    "<tr><td>:</td><td>控制陳述條件 (condition) 後的分隔符號</td></tr>\n",
    "<tr><td>.</td><td>用為存取物件的方法 (method) 或屬性 (attribute)</td></tr>\n",
    "<tr><td>;</td><td>可作為單行程式結束的符號，也可不用</td></tr>\n",
    "<tr><td>@</td><td>用作函數或類別 (class) 定義的特殊標記</td></tr>\n",
    "</tbody></table>"
   ]
  },
  {
   "cell_type": "code",
   "execution_count": null,
   "metadata": {
    "collapsed": true,
    "solution2": "hidden"
   },
   "outputs": [],
   "source": [
    "USD = 31.3987\n",
    "JPY = 0.2738\n",
    "USD * JPY + JPY/USD + USD **2 + JPY ** (1/2)"
   ]
  },
  {
   "cell_type": "code",
   "execution_count": null,
   "metadata": {
    "collapsed": true,
    "solution2": "hidden"
   },
   "outputs": [],
   "source": [
    "JPY ** (1/2)"
   ]
  },
  {
   "cell_type": "markdown",
   "metadata": {},
   "source": [
    "# Python內建資料型別"
   ]
  },
  {
   "cell_type": "markdown",
   "metadata": {},
   "source": [
    "## 數值型別 Numeric types\n",
    "\n",
    "內建的數值型別 (numeric types) 共有三種，分別是\n",
    "\n",
    "<table align=\"center\" width=\"90%\" border=\"1\"><tbody><tr><th>型態</th><th>描述</th></tr>\n",
    "<tr><td>int</td><td>整數</td></tr>\n",
    "<tr><td>float</td><td>浮點數</td></tr>\n",
    "<tr><td>complex</td><td>複數</td></tr>\n",
    "</tbody></table>\n",
    "\n",
    "可進行以下的計算\n",
    "\n",
    "<table align=\"center\" width=\"90%\" border=\"1\"><tbody><tr><th>計算</th><th>描述</th></tr>\n",
    "<tr><td>x + y</td><td>x 加 y 之和</td></tr>\n",
    "<tr><td>x - y</td><td>x 剪 y 之差</td></tr>\n",
    "<tr><td>x * y</td><td>x 乘 y 之積</td></tr>\n",
    "<tr><td>x / y</td><td>x 除 y 之商</td></tr>\n",
    "<tr><td>x // y</td><td>x 除 y 之整數商</td></tr>\n",
    "<tr><td>x % y</td><td>x 除 y 之餘數</td></tr>\n",
    "<tr><td>-x</td><td>x 取負數</td></tr>\n",
    "<tr><td>+x</td><td>x 取正數</td></tr>\n",
    "<tr><td>abs(x)</td><td>回傳 x 的絕對值</td></tr>\n",
    "<tr><td>int(x)</td><td>轉換 x 為整數</td></tr>\n",
    "<tr><td>float(x)</td><td>轉換 x 為浮點數</td></tr>\n",
    "<tr><td>complex(re, im)</td><td>轉換 re 為複數的實部， im 為虛部</td></tr>\n",
    "<tr><td>c.conjugate()</td><td>回傳 c 的共軛複數</td></tr>\n",
    "<tr><td>divmod(x, y)</td><td>回傳 (x // y, x % y)</td></tr>\n",
    "<tr><td>pow(x, y)</td><td>x 的 y 次方</td></tr>\n",
    "<tr><td>x ** y</td><td>x 的 y 次方</td></tr>\n",
    "</tbody></table>"
   ]
  },
  {
   "cell_type": "code",
   "execution_count": null,
   "metadata": {
    "collapsed": true
   },
   "outputs": [],
   "source": [
    "x = 17239871\n",
    "x ** 6"
   ]
  },
  {
   "cell_type": "code",
   "execution_count": null,
   "metadata": {
    "collapsed": true
   },
   "outputs": [],
   "source": [
    "type(x)"
   ]
  },
  {
   "cell_type": "code",
   "execution_count": null,
   "metadata": {
    "collapsed": true
   },
   "outputs": [],
   "source": [
    "3 / 2"
   ]
  },
  {
   "cell_type": "code",
   "execution_count": null,
   "metadata": {
    "collapsed": true
   },
   "outputs": [],
   "source": [
    "type(3/2)"
   ]
  },
  {
   "cell_type": "code",
   "execution_count": 2,
   "metadata": {},
   "outputs": [
    {
     "data": {
      "text/plain": [
       "1125.0"
      ]
     },
     "execution_count": 2,
     "metadata": {},
     "output_type": "execute_result"
    }
   ],
   "source": [
    "1.125e+3"
   ]
  },
  {
   "cell_type": "markdown",
   "metadata": {},
   "source": [
    "![](_img/1.125e-1.png)"
   ]
  },
  {
   "cell_type": "markdown",
   "metadata": {},
   "source": [
    "## 序列型別\n",
    "\n",
    "內建的序列型別 (sequence types) 共有六種，分別是\n",
    "\n",
    "<table align=\"center\" width=\"90%\" border=\"1\"><tbody><tr><th>型態</th><th>描述</th></tr>\n",
    "<tr><td>str</td><td>字串 (string) ，不可變 (immutable) </td></tr>\n",
    "<tr><td>bytes</td><td>字節 (byte) ，不可變</td></tr>\n",
    "<tr><td>bytearray</td><td>字節陣列 (byte array) ，可變 (mutable) </td></tr>\n",
    "<tr><td>list</td><td>串列 (list) ，可變</td></tr>\n",
    "<tr><td>tuple</td><td>序對 (tuple) ，不可變</td></tr>\n",
    "<tr><td>range</td><td>內建函數 range() 回傳的物件 (object) ，常用於 <b>for</b> 迴圈 (for loop)</td></tr>\n",
    "</tbody></table>\n",
    "\n",
    "\n",
    "序列通用的運算有下：\n",
    "\n",
    "<table align=\"center\" width=\"90%\" border=\"1\"><tbody><tr><th>計算</th><th>描述</th></tr>\n",
    "<tr><td>x in s</td><td>判斷 x 是否在 s 中</td></tr>\n",
    "<tr><td>x not in s</td><td>判斷 x 是否不在 s 中</td></tr>\n",
    "<tr><td>s + t</td><td>連接 s 及 t</td></tr>\n",
    "<tr><td>s ＊ n, n ＊ s</td><td>將 s 重複 n 次連接 s 本身</td></tr>\n",
    "<tr><td>s[i]</td><td>取得索引值 i 的元素</td></tr>\n",
    "<tr><td>s[i:j]</td><td>取得索引值 i 到 j 的子序列</td></tr>\n",
    "<tr><td>s[i:j:k]</td><td>取得索引值 i 到 j ，間隔 k 的子序列</td></tr>\n",
    "<tr><td>len(s)</td><td>回傳 s 的元素個數</td></tr>\n",
    "<tr><td>min(s)</td><td>回傳 s 中的最小值</td></tr>\n",
    "<tr><td>max(s)</td><td>回傳 s 中的最大值</td></tr>\n",
    "<tr><td>s.index(i)</td><td>取得 s 中第一次出現 i 的索引值</td></tr>\n",
    "<tr><td>s.count(i)</td><td>累計 s 中 i 出現的個數</td></tr>\n",
    "</tbody></table>"
   ]
  },
  {
   "cell_type": "markdown",
   "metadata": {},
   "source": [
    "### 字串 Strings\n",
    "\n",
    "字串 (string) 屬於不可變 (immutable) 的序列 (sequence) 型別，字串型態有以下的方法 (method)\n",
    "\n",
    "<table align=\"center\" width=\"90%\" border=\"1\"><tbody><tr><th>方法</th><th>描述</th></tr>\n",
    "<tr><td><a href=\"http://pydoing.blogspot.com/2011/03/python-strcapitalize.html\">str.capitalize()</a></td><td>回傳將 str 改成首字母大寫，其餘字母小寫的字串</td></tr>\n",
    "<tr><td><a href=\"http://pydoing.blogspot.com/2011/03/python-strcenter.html\">str.center(width[, fillchar])</a></td><td>回傳一個將 str 設置字串中央，長度 width 的新字串， fillchar 為填充字元，預設為空格</td></tr>\n",
    "<tr><td><a href=\"http://pydoing.blogspot.com/2011/03/python-strcount.html\">str.count(sub[, start[, end]])</a></td><td>計算 sub 出現的次數， start 為起始計算索引值， end 為結束索引值</td></tr>\n",
    "<tr><td><a href=\"http://pydoing.blogspot.com/2011/03/python-strencode.html\">str.encode(encoding=\"utf-8\", errors=\"strict\")</a></td><td>回傳 encoding 版本的 bytes 物件</td></tr>\n",
    "<tr><td><a href=\"http://pydoing.blogspot.com/2011/03/python-strendswith.html\">str.endswith(suffix[, start[, end]])</a></td><td>判斷 str 是否以 suffix 結尾</td></tr>\n",
    "<tr><td><a href=\"http://pydoing.blogspot.com/2011/03/python-strexpandtabs.html\">str.expandtabs([tabsize])</a></td><td>將 tab 符號以 tabsize 的空格數替換</td></tr>\n",
    "<tr><td><a href=\"http://pydoing.blogspot.com/2011/03/python-strfind.html\">str.find(sub[, start[, end]])</a></td><td>回傳 sub 第一次出現的索引值</td></tr>\n",
    "<tr><td><a href=\"http://pydoing.blogspot.com/2011/03/python-strformat.html\">str.format(*args, **kwargs)</a></td><td>進行格式化字串運算</td></tr>\n",
    "<tr><td><a href=\"http://pydoing.blogspot.com/2011/03/python-strindex.html\">str.index(sub[, start[, end]])</a></td><td>回傳 sub 第一次出現的索引值</td></tr>\n",
    "<tr><td><a href=\"http://pydoing.blogspot.com/2011/03/python-strisalnum.html\">str.isalnum()</a></td><td>判斷字串中的字元是否都是字母或數字</td></tr>\n",
    "<tr><td><a href=\"http://pydoing.blogspot.com/2011/03/python-strisalpha.html\">str.isalpha()</a></td><td>判斷字串中的字元是否都是字母</td></tr>\n",
    "<tr><td><a href=\"http://pydoing.blogspot.com/2011/03/python-strisdecimal.html\">str.isdecimal()</a></td><td>判斷字串中所有字元是否是十進位數字</td></tr>\n",
    "<tr><td><a href=\"http://pydoing.blogspot.com/2011/03/python-strisdigit.html\">str.isdigit()</a></td><td>判斷字串中所有字元是否是數字</td></tr>\n",
    "<tr><td><a href=\"http://pydoing.blogspot.com/2011/03/python-strisidentifier.html\">str.isidentifier()</a></td><td>判斷字串是否可作為合法的識別字</td></tr>\n",
    "<tr><td><a href=\"http://pydoing.blogspot.com/2011/03/python-strislower.html\">str.islower()</a></td><td>判斷字串中所有字母字元是否都是小寫字母</td></tr>\n",
    "<tr><td><a href=\"http://pydoing.blogspot.com/2011/03/python-strisnumeric.html\">str.isnumeric()</a></td><td>判斷字串中所有字元是否是數字</td></tr>\n",
    "<tr><td><a href=\"http://pydoing.blogspot.com/2011/03/python-strisprintable.html\">str.isprintable()</a></td><td>判斷字串中所有字元是否都屬於可見字元</td></tr>\n",
    "<tr><td><a href=\"http://pydoing.blogspot.com/2011/03/python-strisspace.html\">str.isspace()</a></td><td>判斷字串是否為空格字元</td></tr>\n",
    "<tr><td><a href=\"http://pydoing.blogspot.com/2011/03/python-stristitle.html\">str.istitle()</a></td><td>判斷字串是否適合當作標題</td></tr>\n",
    "<tr><td><a href=\"http://pydoing.blogspot.com/2011/03/python-strisupper.html\">str.isupper()</a></td><td>判斷字串中所有字母字元是否都是大寫字母</td></tr>\n",
    "<tr><td><a href=\"http://pydoing.blogspot.com/2011/03/python-strjoin.html\">str.join(iterable)</a></td><td>回傳將 str 連結 iterable 各元素的字串</td></tr>\n",
    "<tr><td><a href=\"http://pydoing.blogspot.com/2011/03/python-strljust.html\">str.ljust(width[, fillchar])</a></td><td>回傳將 str 在寬度 width 向左對齊的字串， fillchar 為填充字元，預設為空格</td></tr>\n",
    "<tr><td><a href=\"http://pydoing.blogspot.com/2011/03/python-strlower.html\">str.lower()</a></td><td>將 str 的英文字母都改成小寫</td></tr>\n",
    "<tr><td><a href=\"http://pydoing.blogspot.com/2011/03/python-strlstrip.html\">str.lstrip([chars])</a></td><td>回傳將 str 左邊具有 chars 字元去除的拷貝版本， chars 預設為空格符號</td></tr>\n",
    "<tr><td><a href=\"http://pydoing.blogspot.com/2011/03/python-strmaketrans.html\">static str.maketrans(x[, y[, z]])</a></td><td>回傳 x 與 y 配對的 Unicode 編碼字典，若有提供 z ， z 中的字元會跟 None 配對</td></tr>\n",
    "<tr><td><a href=\"http://pydoing.blogspot.com/2011/03/python-strpartition.html\">str.partition(sep)</a></td><td>以 sep 分割 str 為三個部份，結果回傳具有三個子字串的序對</td></tr>\n",
    "<tr><td><a href=\"http://pydoing.blogspot.com/2011/03/python-strreplace.html\">str.replace(old, new[, count])</a></td><td>將 str 中的 old 子字串以 new 代換</td></tr>\n",
    "<tr><td><a href=\"http://pydoing.blogspot.com/2011/03/python-strrfind.html\">str.rfind(sub[, start[, end]])</a></td><td>尋找最右邊的 sub ，也就是索引值最大的 sub</td></tr>\n",
    "<tr><td><a href=\"http://pydoing.blogspot.com/2011/03/python-strrindex.html\">str.rindex(sub[, start[, end]])</a></td><td>尋找最右邊的 sub ，也就是索引值最大的 sub</td></tr>\n",
    "<tr><td><a href=\"http://pydoing.blogspot.com/2011/03/python-strrjust.html\">str.rjust(width[, fillchar])</a></td><td>回傳將 str 在寬度 width 向右對齊的字串， fillchar 為填充字元，預設為空格</td></tr>\n",
    "<tr><td><a href=\"http://pydoing.blogspot.com/2011/03/python-strrpartition.html\">str.rpartition(sep)</a></td><td>以 sep 從最右端分割 str 為三個部份，結果回傳具有三個子字串的序對</td></tr>\n",
    "<tr><td><a href=\"http://pydoing.blogspot.com/2011/03/python-strrsplit.html\">str.rsplit([sep[, maxsplit]])</a></td><td>將 str 從最右端以 sep 分割成子字串，回傳儲存子字串的串列， maxsplit 為子字串最多的數量</td></tr>\n",
    "<tr><td><a href=\"http://pydoing.blogspot.com/2011/03/python-strrstrip.html\">str.rstrip([chars])</a></td><td>從 str 的最右端中移除 chars 字元，預設為空白字元</td></tr>\n",
    "<tr><td><a href=\"http://pydoing.blogspot.com/2011/03/python-strsplit.html\">str.split([sep[, maxsplit]])</a></td><td>將 str 以 sep 分割成子字串，回傳儲存子字串的串列， maxsplit 為子字串最多的數量</td></tr>\n",
    "<tr><td><a href=\"http://pydoing.blogspot.com/2011/03/python-strsplitlines.html\">str.splitlines([keepends])</a></td><td>將 str 以新行符號分割成子字串，回傳儲存子字串的串列</td></tr>\n",
    "<tr><td><a href=\"http://pydoing.blogspot.com/2011/03/python-strstartswith.html\">str.startswith(prefix[, start[, end]])</a></td><td>判斷 str 是否以 prefix 開頭</td></tr>\n",
    "<tr><td><a href=\"http://pydoing.blogspot.com/2011/03/python-strstrip.html\">str.strip([chars])</a></td><td>從 str 中移除 chars 字元，預設為空白字元</td></tr>\n",
    "<tr><td><a href=\"http://pydoing.blogspot.com/2011/03/python-strswapcase.html\">str.swapcase()</a></td><td>將 str 中的英文字母進行大小寫轉換</td></tr>\n",
    "<tr><td><a href=\"http://pydoing.blogspot.com/2011/03/python-strtitle.html\">str.title()</a></td><td>將 str 轉換成作為標題的字串</td></tr>\n",
    "<tr><td><a href=\"http://pydoing.blogspot.com/2011/03/python-strtranslate.html\">str.translate(map)</a></td><td>將 str 中的字元以 map 中配對的字元轉換</td></tr>\n",
    "<tr><td><a href=\"http://pydoing.blogspot.com/2011/03/python-strupper.html\">str.upper()</a></td><td>將 str 的英文字母都改成大寫</td></tr>\n",
    "<tr><td><a href=\"http://pydoing.blogspot.com/2011/03/python-strzfill.html\">str.zfill(width)</a></td><td>回傳以 0 塞滿 width 的新字串</td></tr>\n",
    "</tbody></table>"
   ]
  },
  {
   "cell_type": "markdown",
   "metadata": {},
   "source": [
    "- 加號運算子可以串接字串 Adding two strings together concatenates them and produces a new string."
   ]
  },
  {
   "cell_type": "code",
   "execution_count": null,
   "metadata": {
    "collapsed": true
   },
   "outputs": [],
   "source": [
    "a = 'I have a pen... '\n",
    "b = 'I have a apple...'\n",
    "a + b"
   ]
  },
  {
   "cell_type": "code",
   "execution_count": null,
   "metadata": {
    "collapsed": true
   },
   "outputs": [],
   "source": [
    "a * 3"
   ]
  },
  {
   "cell_type": "markdown",
   "metadata": {},
   "source": [
    "特別注意，字串與數值的區別"
   ]
  },
  {
   "cell_type": "code",
   "execution_count": null,
   "metadata": {
    "collapsed": true,
    "scrolled": true
   },
   "outputs": [],
   "source": [
    "'123' * 2"
   ]
  },
  {
   "cell_type": "code",
   "execution_count": null,
   "metadata": {
    "collapsed": true,
    "scrolled": false
   },
   "outputs": [],
   "source": [
    "'123' ** 2"
   ]
  },
  {
   "cell_type": "code",
   "execution_count": null,
   "metadata": {
    "collapsed": true
   },
   "outputs": [],
   "source": [
    "a = 'hello, world'\n",
    "type(a)"
   ]
  },
  {
   "cell_type": "code",
   "execution_count": null,
   "metadata": {
    "collapsed": true
   },
   "outputs": [],
   "source": [
    "a[10]"
   ]
  },
  {
   "cell_type": "code",
   "execution_count": null,
   "metadata": {
    "collapsed": true
   },
   "outputs": [],
   "source": [
    "a[-7]"
   ]
  },
  {
   "cell_type": "markdown",
   "metadata": {},
   "source": [
    "- 位置這樣算\n",
    "![](_img/hello.png)"
   ]
  },
  {
   "cell_type": "code",
   "execution_count": null,
   "metadata": {
    "collapsed": true
   },
   "outputs": [],
   "source": [
    "a[2:5]"
   ]
  },
  {
   "cell_type": "code",
   "execution_count": null,
   "metadata": {
    "collapsed": true
   },
   "outputs": [],
   "source": [
    "a[4:]"
   ]
  },
  {
   "cell_type": "code",
   "execution_count": null,
   "metadata": {
    "collapsed": true,
    "scrolled": true
   },
   "outputs": [],
   "source": [
    "a[:5]"
   ]
  },
  {
   "cell_type": "code",
   "execution_count": null,
   "metadata": {
    "collapsed": true
   },
   "outputs": [],
   "source": [
    "a[-4:-2]"
   ]
  },
  {
   "cell_type": "markdown",
   "metadata": {
    "solution2": "hidden",
    "solution2_first": true
   },
   "source": [
    "<font size=6 style=\"text-shadow:0px 0px 15px #FF37FD;\">考考你</font>\n",
    "- 請用前面定義的「a = 'hello, world'」，透過字串取值及字串串接的技巧，輸出「how old」字串\n",
    "\n",
    "<script>\n",
    "a = 'hello, world'\n",
    "a[0]+a[4]+a[7]+' '+a[4]+a[-2:]\n",
    "a[0] + a[4] + a[7] + \" \" + a[4] + a[-2:]\n",
    "</script>"
   ]
  },
  {
   "cell_type": "markdown",
   "metadata": {},
   "source": [
    "### 範圍 Range\n",
    "\n",
    "range 屬於不可變 (immutable) 的序列 (sequence) 型別，支援序列的以下計算\n",
    "\n",
    "<table align=\"center\" width=\"90%\" border=\"1\"><tbody><tr><th>計算</th><th>描述</th></tr>\n",
    "<tr><td>x in s</td><td>判斷 x 是否在 s 中</td></tr>\n",
    "<tr><td>x not in s</td><td>判斷 x 是否不在 s 中</td></tr>\n",
    "<tr><td>s[i]</td><td>取得索引值 i 的元素</td></tr>\n",
    "<tr><td>len(s)</td><td>回傳 s 的元素個數</td></tr>\n",
    "<tr><td>min(s)</td><td>回傳 s 中的最小值</td></tr>\n",
    "<tr><td>max(s)</td><td>回傳 s 中的最大值</td></tr>\n",
    "</tbody></table>"
   ]
  },
  {
   "cell_type": "code",
   "execution_count": null,
   "metadata": {
    "collapsed": true
   },
   "outputs": [],
   "source": [
    "range(9)"
   ]
  },
  {
   "cell_type": "code",
   "execution_count": null,
   "metadata": {
    "collapsed": true
   },
   "outputs": [],
   "source": [
    "5 in range(9)"
   ]
  },
  {
   "cell_type": "code",
   "execution_count": null,
   "metadata": {
    "collapsed": true
   },
   "outputs": [],
   "source": [
    "range(9)[9]"
   ]
  },
  {
   "cell_type": "code",
   "execution_count": null,
   "metadata": {
    "collapsed": true
   },
   "outputs": [],
   "source": [
    "len(range(7))"
   ]
  },
  {
   "cell_type": "markdown",
   "metadata": {},
   "source": [
    "### 串列 List\n",
    "串列 (list) 屬於一維、可變 (mutable) 的序列 (sequence) 型態，可進行以下序列通用的計算\n",
    "\n",
    "<table align=\"center\" width=\"90%\" border=\"1\"><tbody><tr><th>計算</th><th>描述</th></tr>\n",
    "<tr><td>x in s</td><td>判斷 x 是否在 s 中</td></tr>\n",
    "<tr><td>x not in s</td><td>判斷 x 是否不在 s 中</td></tr>\n",
    "<tr><td>s + t</td><td>連接 s 及 t</td></tr>\n",
    "<tr><td>s ＊ n, n ＊ s</td><td>將 s 重複 n 次連接 s 本身</td></tr>\n",
    "<tr><td>s[i]</td><td>取得索引值 i 的元素</td></tr>\n",
    "<tr><td>s[i:j]</td><td>取得索引值 i 到 j 的子序列</td></tr>\n",
    "<tr><td>s[i:j:k]</td><td>取得索引值 i 到 j ，間隔 k 的子序列</td></tr>\n",
    "<tr><td>len(s)</td><td>回傳 s 的元素個數</td></tr>\n",
    "<tr><td>min(s)</td><td>回傳 s 中的最小值</td></tr>\n",
    "<tr><td>max(s)</td><td>回傳 s 中的最大值</td></tr>\n",
    "<tr><td>s.index(i)</td><td>取得 s 中第一次出現 i 的索引值</td></tr>\n",
    "<tr><td>s.count(i)</td><td>累計 s 中 i 出現的個數</td></tr>\n",
    "</tbody></table>\n",
    "\n",
    "由於串列是可變的複合資料型態 (compound data type) ，也是 Python 中大量運用的工作型態種類，因此有額外以下的計算\n",
    "\n",
    "<table align=\"center\" width=\"90%\" border=\"1\"><tbody><tr><th>計算</th><th>描述</th></tr>\n",
    "<tr><td>s[i] = x</td><td>將索引值 i 的元素指派為 x</td></tr>\n",
    "<tr><td>s[i:j] = t</td><td>將索引值 i 到 j 的元素指派為 t ， t 為迭代器</td></tr>\n",
    "<tr><td>del s[i:j]</td><td>刪除索引值 i 到 j 的元素</td></tr>\n",
    "<tr><td>s[i:j:k] = t</td><td>將索引值 i 到 j ，間隔 k 的元素指派為 t ， t 為迭代器</td></tr>\n",
    "<tr><td>del s[i:j:k]</td><td>刪除索引值 i 到 j ，間隔 k 的元素</td></tr>\n",
    "<tr><td><a href=\"http://pydoing.blogspot.com/2011/03/python-listcomprehension.html\">串列綜合運算 list comprehension</a></td><td>運用運算式生成新的串列</td></tr>\n",
    "</tbody></table>\n",
    "\n",
    "串列型態有以下的方法 (method)\n",
    "\n",
    "<table align=\"center\" width=\"90%\" border=\"1\"><tbody><tr><th>方法</th><th>描述</th></tr>\n",
    "<tr><td><a href=\"http://pydoing.blogspot.com/2011/03/python-listappend.html\">list.append(x)</a></td><td>將 x 附加到 list 的最後</td></tr>\n",
    "<tr><td><a href=\"http://pydoing.blogspot.com/2011/03/python-listextend.html\">list.extend(x)</a></td><td>將 x 中的元素附加到 list 的最後</td></tr>\n",
    "<tr><td><a href=\"http://pydoing.blogspot.com/2011/03/python-listcount.html\">list.count(x)</a></td><td>計算 list 中 x 出現的次數</td></tr>\n",
    "<tr><td><a href=\"http://pydoing.blogspot.com/2011/03/python-listindex.html\">list.index(x[, i[, j]])</a></td><td>回傳 x 在 list 最小的索引值</td></tr>\n",
    "<tr><td><a href=\"http://pydoing.blogspot.com/2011/03/python-listinsert.html\">list.insert(i, x)</a></td><td>將 x 插入 list 索引值 i 的地方</td></tr>\n",
    "<tr><td><a href=\"http://pydoing.blogspot.com/2011/03/python-listpop.html\">list.pop([i])</a></td><td>取出 list 中索引值為 i 的元素，預設是最後一個</td></tr>\n",
    "<tr><td><a href=\"http://pydoing.blogspot.com/2011/03/python-listremove.html\">list.remove(x)</a></td><td>移除 list 中第一個 x 元素</td></tr>\n",
    "<tr><td><a href=\"http://pydoing.blogspot.com/2011/03/python-listreverse.html\">list.reverse()</a></td><td>倒轉 list 中元素的順序</td></tr>\n",
    "<tr><td><a href=\"http://pydoing.blogspot.com/2011/03/python-listsort.html\">list.sort([key[, reverse]])</a></td><td>排序 list 中的元素</td></tr>\n",
    "</tbody></table>"
   ]
  },
  {
   "cell_type": "markdown",
   "metadata": {},
   "source": [
    "- They can be defined using square brackets [] or using the list type function"
   ]
  },
  {
   "cell_type": "code",
   "execution_count": 3,
   "metadata": {},
   "outputs": [
    {
     "data": {
      "text/plain": [
       "[2, 'peekaboo', 7, None]"
      ]
     },
     "execution_count": 3,
     "metadata": {},
     "output_type": "execute_result"
    }
   ],
   "source": [
    "a_list = [2, 3, 7, None]\n",
    "a_list[1] = 'peekaboo'\n",
    "a_list"
   ]
  },
  {
   "cell_type": "markdown",
   "metadata": {},
   "source": [
    "- 添加與移除串列元素 Adding and removing elements."
   ]
  },
  {
   "cell_type": "code",
   "execution_count": 4,
   "metadata": {},
   "outputs": [
    {
     "data": {
      "text/plain": [
       "[2, 'peekaboo', 7, None, 'dwarf']"
      ]
     },
     "execution_count": 4,
     "metadata": {},
     "output_type": "execute_result"
    }
   ],
   "source": [
    "a_list.append('dwarf')\n",
    "a_list"
   ]
  },
  {
   "cell_type": "markdown",
   "metadata": {},
   "source": [
    "- 在特定位置插入元素 Using insert you can insert an element at a specific location in the list."
   ]
  },
  {
   "cell_type": "code",
   "execution_count": 5,
   "metadata": {},
   "outputs": [
    {
     "data": {
      "text/plain": [
       "[2, 'red', 'peekaboo', 7, None, 'dwarf']"
      ]
     },
     "execution_count": 5,
     "metadata": {},
     "output_type": "execute_result"
    }
   ],
   "source": [
    "a_list.insert(1, 'red')\n",
    "a_list"
   ]
  },
  {
   "cell_type": "markdown",
   "metadata": {},
   "source": [
    "- insert的逆運算是pop，它將特定位置上的元素移出來 The inverse operation to insert is pop, which removes and returns an element at a particular index"
   ]
  },
  {
   "cell_type": "code",
   "execution_count": 6,
   "metadata": {},
   "outputs": [
    {
     "data": {
      "text/plain": [
       "'red'"
      ]
     },
     "execution_count": 6,
     "metadata": {},
     "output_type": "execute_result"
    }
   ],
   "source": [
    "a_list.pop(1)"
   ]
  },
  {
   "cell_type": "code",
   "execution_count": 7,
   "metadata": {},
   "outputs": [
    {
     "data": {
      "text/plain": [
       "[2, 'peekaboo', 7, None, 'dwarf']"
      ]
     },
     "execution_count": 7,
     "metadata": {},
     "output_type": "execute_result"
    }
   ],
   "source": [
    "a_list"
   ]
  },
  {
   "cell_type": "markdown",
   "metadata": {},
   "source": [
    "- 從後方新增append，remove將第一個發現的移除 Elements can be appended to the end of the list with the append method. Elements can be removed by value using remove, which locates the first such value and removes it from the last."
   ]
  },
  {
   "cell_type": "code",
   "execution_count": 8,
   "metadata": {},
   "outputs": [
    {
     "data": {
      "text/plain": [
       "[2, 'peekaboo', 7, None, 'dwarf', 'peekaboo']"
      ]
     },
     "execution_count": 8,
     "metadata": {},
     "output_type": "execute_result"
    }
   ],
   "source": [
    "a_list.append('peekaboo')\n",
    "a_list"
   ]
  },
  {
   "cell_type": "code",
   "execution_count": 9,
   "metadata": {},
   "outputs": [
    {
     "data": {
      "text/plain": [
       "[2, 7, None, 'dwarf', 'peekaboo']"
      ]
     },
     "execution_count": 9,
     "metadata": {},
     "output_type": "execute_result"
    }
   ],
   "source": [
    "a_list.remove('peekaboo')\n",
    "a_list"
   ]
  },
  {
   "cell_type": "markdown",
   "metadata": {},
   "source": [
    "- 以in關鍵字查核串列是否包含某個值 You can check if a list contains a value using the in keyword."
   ]
  },
  {
   "cell_type": "code",
   "execution_count": 10,
   "metadata": {},
   "outputs": [
    {
     "data": {
      "text/plain": [
       "True"
      ]
     },
     "execution_count": 10,
     "metadata": {},
     "output_type": "execute_result"
    }
   ],
   "source": [
    "'dwarf' in a_list"
   ]
  },
  {
   "cell_type": "markdown",
   "metadata": {
    "collapsed": true
   },
   "source": [
    "- 串列串接與結合 Concatenating and combining lists"
   ]
  },
  {
   "cell_type": "code",
   "execution_count": 11,
   "metadata": {},
   "outputs": [
    {
     "data": {
      "text/plain": [
       "[4, None, 'foo', 7, 8, (2, 3)]"
      ]
     },
     "execution_count": 11,
     "metadata": {},
     "output_type": "execute_result"
    }
   ],
   "source": [
    "[4, None, 'foo'] + [7, 8, (2, 3)]"
   ]
  },
  {
   "cell_type": "code",
   "execution_count": 12,
   "metadata": {},
   "outputs": [
    {
     "data": {
      "text/plain": [
       "[4, None, 'foo', 7, 8, (2, 3)]"
      ]
     },
     "execution_count": 12,
     "metadata": {},
     "output_type": "execute_result"
    }
   ],
   "source": [
    "x = [4, None, 'foo']\n",
    "x.extend([7, 8, (2, 3)])\n",
    "x"
   ]
  },
  {
   "cell_type": "markdown",
   "metadata": {},
   "source": [
    "- 注意+串接是相對昂貴的運算，因為新串列必須創立且物件要複製。用extend添加元素到現存串列比較好，尤其是當涉及大形串列物件時 Note that list concatenation is a compartively expensive operation since a new list must be created and the objects copied over. Using extend to append elements to an existing list, especially if you are building up a large list, is usually preferable."
   ]
  },
  {
   "cell_type": "code",
   "execution_count": null,
   "metadata": {
    "collapsed": true
   },
   "outputs": [],
   "source": [
    "#everything = []\n",
    "#for chunk in list_of_lists:\n",
    "#    everything.extend(chunk)\n",
    "\n",
    "#everything = []\n",
    "#for chunk in list_of_lists:\n",
    "#    everything = everything + chunk"
   ]
  },
  {
   "cell_type": "markdown",
   "metadata": {},
   "source": [
    "- 上面比下面快"
   ]
  },
  {
   "cell_type": "markdown",
   "metadata": {},
   "source": [
    "- 排序 Sorting"
   ]
  },
  {
   "cell_type": "code",
   "execution_count": 13,
   "metadata": {},
   "outputs": [
    {
     "data": {
      "text/plain": [
       "[1, 2, 3, 5, 7]"
      ]
     },
     "execution_count": 13,
     "metadata": {},
     "output_type": "execute_result"
    }
   ],
   "source": [
    "a = [7, 2, 5, 1, 3]\n",
    "a.sort()\n",
    "a"
   ]
  },
  {
   "cell_type": "markdown",
   "metadata": {},
   "source": [
    "- sort函數有許多有用的選項，例如下例可依字串長度(當作key)進行排序 Sort has a few options that will occasionally come in handy. One is the ability to pass a secondary sort key, i.e. a function that produces a value to use to sort the objects."
   ]
  },
  {
   "cell_type": "code",
   "execution_count": 14,
   "metadata": {},
   "outputs": [
    {
     "data": {
      "text/plain": [
       "['He', 'saw', 'six', 'small', 'foxes']"
      ]
     },
     "execution_count": 14,
     "metadata": {},
     "output_type": "execute_result"
    }
   ],
   "source": [
    "b = ['saw', 'small', 'He', 'foxes', 'six']\n",
    "b.sort(key=len)\n",
    "b"
   ]
  },
  {
   "cell_type": "markdown",
   "metadata": {},
   "source": [
    "- 二元搜尋與有序的串列 Binary search and maintaining a sorted list\n",
    "- bisect.bisect尋找維持串列有序的新元素插入位置 bisect.bisect finds the location where an element should be inserted to keep it sorted"
   ]
  },
  {
   "cell_type": "code",
   "execution_count": 15,
   "metadata": {},
   "outputs": [
    {
     "data": {
      "text/plain": [
       "4"
      ]
     },
     "execution_count": 15,
     "metadata": {},
     "output_type": "execute_result"
    }
   ],
   "source": [
    "import bisect\n",
    "c = [1, 2, 2, 2, 3, 4, 7]\n",
    "bisect.bisect(c, 2)"
   ]
  },
  {
   "cell_type": "code",
   "execution_count": null,
   "metadata": {
    "collapsed": true,
    "scrolled": true
   },
   "outputs": [],
   "source": [
    "bisect.bisect(c, 5)"
   ]
  },
  {
   "cell_type": "markdown",
   "metadata": {},
   "source": [
    "- bisect.insort不光找尋插入位置，還實際將新元素插入 bisect.insort actually inserts the element into that location."
   ]
  },
  {
   "cell_type": "code",
   "execution_count": null,
   "metadata": {
    "collapsed": true
   },
   "outputs": [],
   "source": [
    "bisect.insort(c, 6)\n",
    "c"
   ]
  },
  {
   "cell_type": "markdown",
   "metadata": {},
   "source": [
    "### 序對 Tuple\n",
    "序對 (tuple) 屬於不可變 (mutable) 的序列 (sequence) 型別，可進行以下序列通用的計算\n",
    "\n",
    "進一步瞭解 http://www.oudahe.com/p/10624/\n",
    "\n",
    "<table align=\"center\" width=\"90%\" border=\"1\"><tbody><tr><th>計算</th><th>描述</th></tr>\n",
    "<tr><td>x in s</td><td>判斷 x 是否在 s 中</td></tr>\n",
    "<tr><td>x not in s</td><td>判斷 x 是否不在 s 中</td></tr>\n",
    "<tr><td>s + t</td><td>連接 s 及 t</td></tr>\n",
    "<tr><td>s * n, n * s</td><td>將 s 重複 n 次連接 s 本身</td></tr>\n",
    "<tr><td>s[i]</td><td>取得索引值 i 的元素</td></tr>\n",
    "<tr><td>s[i:j]</td><td>取得索引值 i 到 j 的子序列</td></tr>\n",
    "<tr><td>s[i:j:k]</td><td>取得索引值 i 到 j ，間隔 k 的子序列</td></tr>\n",
    "<tr><td>len(s)</td><td>回傳 s 的元素個數</td></tr>\n",
    "<tr><td>min(s)</td><td>回傳 s 中的最小值</td></tr>\n",
    "<tr><td>max(s)</td><td>回傳 s 中的最大值</td></tr>\n",
    "<tr><td>s.index(i)</td><td>取得 s 中第一次出現 i 的索引值</td></tr>\n",
    "<tr><td>s.count(i)</td><td>累計 s 中 i 出現的個數</td></tr>\n",
    "</tbody></table>"
   ]
  },
  {
   "cell_type": "code",
   "execution_count": null,
   "metadata": {
    "collapsed": true
   },
   "outputs": [],
   "source": [
    "tup = 4, 5, 6\n",
    "tup"
   ]
  },
  {
   "cell_type": "markdown",
   "metadata": {},
   "source": [
    "- 值組中還有值組，稱為巢狀值組 Creating a tuple of tuples"
   ]
  },
  {
   "cell_type": "code",
   "execution_count": null,
   "metadata": {
    "collapsed": true
   },
   "outputs": [],
   "source": [
    "nested_tup = (4, 5, 6), (7, 8)\n",
    "nested_tup"
   ]
  },
  {
   "cell_type": "markdown",
   "metadata": {},
   "source": [
    "- 透過tupe函數可將序列或迭代物件轉為值組 Any sequence or iterator can be converted to a tuple by invoking tuple."
   ]
  },
  {
   "cell_type": "code",
   "execution_count": null,
   "metadata": {
    "collapsed": true
   },
   "outputs": [],
   "source": [
    "tuple([4, 0, 2])"
   ]
  },
  {
   "cell_type": "code",
   "execution_count": null,
   "metadata": {
    "collapsed": true
   },
   "outputs": [],
   "source": [
    "tup = tuple('string')\n",
    "tup"
   ]
  },
  {
   "cell_type": "markdown",
   "metadata": {},
   "source": [
    "- Python索引從0開始 Zero-Based Numbering."
   ]
  },
  {
   "cell_type": "code",
   "execution_count": null,
   "metadata": {
    "collapsed": true
   },
   "outputs": [],
   "source": [
    "tup[0]"
   ]
  },
  {
   "cell_type": "markdown",
   "metadata": {},
   "source": [
    "- 值組是不可更改的 Tuple is immutable."
   ]
  },
  {
   "cell_type": "code",
   "execution_count": null,
   "metadata": {
    "collapsed": true
   },
   "outputs": [],
   "source": [
    "tup = tuple(['foo', [1, 2], True])\n",
    "tup\n",
    "# tup[2] = False # TypeError: 'tuple' object does not support item assignment"
   ]
  },
  {
   "cell_type": "code",
   "execution_count": null,
   "metadata": {
    "collapsed": true
   },
   "outputs": [],
   "source": [
    "tup[1].append(3)\n",
    "tup"
   ]
  },
  {
   "cell_type": "markdown",
   "metadata": {},
   "source": [
    "- 值組可用+運算子串接成較長的值組 Tuples can be concatenated using the + operator to produce longer tuples"
   ]
  },
  {
   "cell_type": "code",
   "execution_count": null,
   "metadata": {
    "collapsed": true
   },
   "outputs": [],
   "source": [
    "(4, None, 'foo') + (6, 0) + ('bar',)"
   ]
  },
  {
   "cell_type": "markdown",
   "metadata": {},
   "source": [
    "- 值組可用*運算子複製成較長的值組 Multiplying a tuple by an integer, as with lists, has the effect of concatenating together that many copies of the tuple."
   ]
  },
  {
   "cell_type": "code",
   "execution_count": null,
   "metadata": {
    "collapsed": true
   },
   "outputs": [],
   "source": [
    "('foo', 'bar') * 4"
   ]
  },
  {
   "cell_type": "markdown",
   "metadata": {},
   "source": [
    "- 解構值組 Unpacking tuples."
   ]
  },
  {
   "cell_type": "code",
   "execution_count": null,
   "metadata": {
    "collapsed": true
   },
   "outputs": [],
   "source": [
    "tup = (4, 5, 6)\n",
    "a, b, c = tup\n",
    "c"
   ]
  },
  {
   "cell_type": "markdown",
   "metadata": {},
   "source": [
    "- Python的變數交換方式 Pythonic way to swap variables."
   ]
  },
  {
   "cell_type": "code",
   "execution_count": null,
   "metadata": {
    "collapsed": true
   },
   "outputs": [],
   "source": [
    "x, y = 1, 2 # now x is 1, y is 2\n",
    "x, y = y, x # Pythonic way to swap variables; now x is 2, y is 1\n",
    "x"
   ]
  },
  {
   "cell_type": "code",
   "execution_count": null,
   "metadata": {
    "collapsed": true
   },
   "outputs": [],
   "source": [
    "y"
   ]
  },
  {
   "cell_type": "markdown",
   "metadata": {},
   "source": [
    "- count與index是值組的兩個方法 Count and index are two methods for tuple instances."
   ]
  },
  {
   "cell_type": "code",
   "execution_count": null,
   "metadata": {
    "collapsed": true
   },
   "outputs": [],
   "source": [
    "a = (1, 2, 2, 2, 3, 4, 2)\n",
    "a.count(2)"
   ]
  },
  {
   "cell_type": "code",
   "execution_count": null,
   "metadata": {
    "collapsed": true
   },
   "outputs": [],
   "source": [
    "a.index(3)"
   ]
  },
  {
   "cell_type": "code",
   "execution_count": null,
   "metadata": {
    "collapsed": true,
    "scrolled": false
   },
   "outputs": [],
   "source": [
    "c"
   ]
  },
  {
   "cell_type": "markdown",
   "metadata": {},
   "source": [
    "### 透過「：」控制序列取值"
   ]
  },
  {
   "cell_type": "markdown",
   "metadata": {},
   "source": [
    "- Slicing"
   ]
  },
  {
   "cell_type": "code",
   "execution_count": null,
   "metadata": {
    "collapsed": true
   },
   "outputs": [],
   "source": [
    "seq = [7, 2, 3, 7, 5, 6, 0, 1]\n",
    "seq[1:5]"
   ]
  },
  {
   "cell_type": "markdown",
   "metadata": {},
   "source": [
    "- 注意與上面的細微差異 While element at the start index is included, the stop index is not included, so that the number of elements in the result is stop - start"
   ]
  },
  {
   "cell_type": "code",
   "execution_count": null,
   "metadata": {
    "collapsed": true
   },
   "outputs": [],
   "source": [
    "seq[3:4] = [6, 3]\n",
    "seq"
   ]
  },
  {
   "cell_type": "code",
   "execution_count": null,
   "metadata": {
    "collapsed": true
   },
   "outputs": [],
   "source": [
    "seq[:5]"
   ]
  },
  {
   "cell_type": "code",
   "execution_count": null,
   "metadata": {
    "collapsed": true
   },
   "outputs": [],
   "source": [
    "seq[3:]"
   ]
  },
  {
   "cell_type": "code",
   "execution_count": null,
   "metadata": {
    "collapsed": true
   },
   "outputs": [],
   "source": [
    "seq[-4:]"
   ]
  },
  {
   "cell_type": "code",
   "execution_count": null,
   "metadata": {
    "collapsed": true
   },
   "outputs": [],
   "source": [
    "seq[-6:-2]"
   ]
  },
  {
   "cell_type": "code",
   "execution_count": null,
   "metadata": {
    "collapsed": true
   },
   "outputs": [],
   "source": [
    "seq[::2]"
   ]
  },
  {
   "cell_type": "code",
   "execution_count": null,
   "metadata": {
    "collapsed": true,
    "scrolled": true
   },
   "outputs": [],
   "source": [
    "seq[::-1]"
   ]
  },
  {
   "cell_type": "code",
   "execution_count": null,
   "metadata": {
    "collapsed": true
   },
   "outputs": [],
   "source": [
    "a = 'hello, world'\n",
    "type(a)"
   ]
  },
  {
   "cell_type": "code",
   "execution_count": null,
   "metadata": {
    "collapsed": true
   },
   "outputs": [],
   "source": [
    "a[10]"
   ]
  },
  {
   "cell_type": "code",
   "execution_count": null,
   "metadata": {
    "collapsed": true
   },
   "outputs": [],
   "source": [
    "a[-7]"
   ]
  },
  {
   "cell_type": "markdown",
   "metadata": {},
   "source": [
    "- 位置這樣算\n",
    "![](_img/hello.png)"
   ]
  },
  {
   "cell_type": "code",
   "execution_count": null,
   "metadata": {
    "collapsed": true
   },
   "outputs": [],
   "source": [
    "a[2:5]"
   ]
  },
  {
   "cell_type": "code",
   "execution_count": null,
   "metadata": {
    "collapsed": true
   },
   "outputs": [],
   "source": [
    "a[4:]"
   ]
  },
  {
   "cell_type": "code",
   "execution_count": null,
   "metadata": {
    "collapsed": true,
    "scrolled": true
   },
   "outputs": [],
   "source": [
    "a[:5]"
   ]
  },
  {
   "cell_type": "code",
   "execution_count": null,
   "metadata": {
    "collapsed": true
   },
   "outputs": [],
   "source": [
    "a[-4:-2]"
   ]
  },
  {
   "cell_type": "markdown",
   "metadata": {
    "solution2": "hidden",
    "solution2_first": true
   },
   "source": [
    "<font size=6 style=\"text-shadow:0px 0px 15px #FF37FD;\">考考你</font>\n",
    "- 請用前面定義的「a = 'hello, world'」，透過字串取值及字串串接的技巧，輸出「how old」字串\n",
    "\n",
    "<script>\n",
    "a = 'hello, world'\n",
    "a[0]+a[4]+a[7]+' '+a[4]+a[-2:]\n",
    "a[0] + a[4] + a[7] + \" \" + a[4] + a[-2:]\n",
    "</script>"
   ]
  },
  {
   "cell_type": "markdown",
   "metadata": {},
   "source": [
    "## 集合 Set\n",
    "內建的集合型別 (set types) 的字面常數使用大括弧圍起來，其物件屬於複合資料型別 (compound data type) ，也就是說單一集合型別物件可以包含多個元素，但沒有重複的元素。\n",
    "\n",
    "**以無順序的方式存放物件 An unordered collection object for other unique objects**\n",
    "\n",
    "- 例如以下 s1\n",
    "    - s1 = {1, 1, 1, 2, 2, 3, 3, 4, 5}\n",
    "- s1 實際等於 s2\n",
    "    - s2 = {1, 2, 3, 4, 5}\n",
    "\n",
    "- 集合型態的物件可進行以下的運算:\n",
    "\n",
    "<table align=\"center\" width=\"90%\" border=\"1\"><tbody><tr><th>計算</th><th>描述</th></tr>\n",
    "<tr><td>x in s</td><td>判斷 x 是否在 s 中</td></tr>\n",
    "<tr><td>x not in s</td><td>判斷 x 是否不在 s 中</td></tr>\n",
    "<tr><td>s1 &amp; s2</td><td>且運算，取得 s1 與 s2 的交集</td></tr>\n",
    "<tr><td>s2 | s2</td><td>或運算，取得 s1 與 s2 的聯集</td></tr>\n",
    "<tr><td>s1 ^ s2</td><td>對稱差運算，取得 s1 與 s2 的對稱差集</td></tr>\n",
    "<tr><td>s1 - s2</td><td>差運算，取得 s1 與 s2 的差集</td></tr>\n",
    "<tr><td>s1 &lt; s2</td><td>判斷 s1 是否為 s2 的真子集</td></tr>\n",
    "<tr><td>s1 &lt;= s2</td><td>判斷 s1 是否為 s2 的子集</td></tr>\n",
    "<tr><td>s1 &gt; s2</td><td>判斷 s2 是否為 s1 的真子集</td></tr>\n",
    "<tr><td>s1 &gt;= s2</td><td>判斷 s2 是否為 s1 的子集</td></tr>\n",
    "<tr><td>len(s)</td><td>回傳 s 的元素個數</td></tr>\n",
    "<tr><td>min(s)</td><td>回傳 s 中的最小值， s 中的元素必須是相同型態</td></tr>\n",
    "<tr><td>max(s)</td><td>回傳 s 中的最大值， s 中的元素必須是相同型態</td></tr>\n",
    "</tbody></table>\n",
    "\n",
    "- 集合型態物件的運算大都有相對應的方法 (method)：\n",
    "\n",
    "<table align=\"center\" width=\"90%\" border=\"1\"><tbody><tr><th>方法</th><th>描述</th></tr>\n",
    "<tr><td><a href=\"http://pydoing.blogspot.com/2011/03/python-setintersection.html\">s1.intersection(s2)</a></td><td>等於 s1 &amp; s2</td></tr>\n",
    "<tr><td><a href=\"http://pydoing.blogspot.com/2011/03/python-setunion.html\">s1.union(s2)</a></td><td>等於 s1 | s2</td></tr>\n",
    "<tr><td><a href=\"http://pydoing.blogspot.com/2011/03/python-setsymmetricdifference.html\">s1.symmetric_difference(s2)</a></td><td>等於 s1 ^ s2</td></tr>\n",
    "<tr><td><a href=\"http://pydoing.blogspot.com/2011/03/python-setdifference.html\">s1.difference(s2)</a></td><td>等於 s1 - s2</td></tr>\n",
    "<tr><td><a href=\"http://pydoing.blogspot.com/2011/03/python-setissubset.html\">s1.issubset(s2)</a></td><td>等於 s1 &lt;= s2</td></tr>\n",
    "<tr><td><a href=\"http://pydoing.blogspot.com/2011/03/python-setissuperset.html\">s1.issuperset(s2)</a></td><td>等於 s1 &gt;= s2</td></tr>\n",
    "<tr><td><a href=\"http://pydoing.blogspot.com/2011/03/python-setisdisjoint.html\">s1.isdisjoint(s2)</a></td><td>判斷 s1 與 s2 是否無交集，若無交集，回傳 True</td></tr>\n",
    "<tr><td><a href=\"http://pydoing.blogspot.com/2011/03/python-setcopy.html\">s.copy()</a></td><td>回傳 s 的拷貝</td></tr>\n",
    "</tbody></table>\n",
    "\n",
    "- 由於 set 型態是可變的，因此有額外兩個新增與刪除元素的方法：\n",
    "\n",
    "<table align=\"center\" width=\"90%\" border=\"1\"><tbody><tr><th>方法</th><th>描述</th></tr>\n",
    "<tr><td><a href=\"http://pydoing.blogspot.com/2011/03/python-setadd.html\">s.add(e)</a></td><td>增加 e 為 s 的元素</td></tr>\n",
    "<tr><td><a href=\"http://pydoing.blogspot.com/2011/03/python-setremove.html\">s.remove(e)</a></td><td>從 s 中刪除元素 e</td></tr>\n",
    "\n",
    "</tbody></table>"
   ]
  },
  {
   "cell_type": "markdown",
   "metadata": {},
   "source": [
    "- 可將集合視為無鍵的字典物件 You can think of them like dicts, but keys only, no values.\n",
    "- 兩種方式創建集合：set函數與大括弧{}運算子 A set can be created in two ways: via the set function or using a set literal with curly braces."
   ]
  },
  {
   "cell_type": "code",
   "execution_count": null,
   "metadata": {
    "collapsed": true
   },
   "outputs": [],
   "source": [
    "set([2, 2, 2, 1, 3, 3])"
   ]
  },
  {
   "cell_type": "code",
   "execution_count": null,
   "metadata": {
    "collapsed": true,
    "scrolled": true
   },
   "outputs": [],
   "source": [
    "{2, 2, 2, 1, 3, 3}"
   ]
  },
  {
   "cell_type": "markdown",
   "metadata": {},
   "source": [
    "- 集合支援許多數學上的集合運算子 Sets support mathematical set operations like union, intersection, difference, and sym- metric difference."
   ]
  },
  {
   "cell_type": "code",
   "execution_count": null,
   "metadata": {
    "collapsed": true,
    "scrolled": true
   },
   "outputs": [],
   "source": [
    "a = {1, 2, 3, 4, 5}\n",
    "b = {3, 4, 5, 6, 7, 8}\n",
    "a | b # union (or)"
   ]
  },
  {
   "cell_type": "code",
   "execution_count": null,
   "metadata": {
    "collapsed": true
   },
   "outputs": [],
   "source": [
    "a & b # intersection (and)"
   ]
  },
  {
   "cell_type": "code",
   "execution_count": null,
   "metadata": {
    "collapsed": true
   },
   "outputs": [],
   "source": [
    "a - b # difference"
   ]
  },
  {
   "cell_type": "code",
   "execution_count": null,
   "metadata": {
    "collapsed": true
   },
   "outputs": [],
   "source": [
    "a ^ b # symmetric difference (xor)"
   ]
  },
  {
   "cell_type": "code",
   "execution_count": null,
   "metadata": {
    "collapsed": true
   },
   "outputs": [],
   "source": [
    "a_set = {1, 2, 3, 4, 5}\n",
    "{1, 2, 3}.issubset(a_set)"
   ]
  },
  {
   "cell_type": "code",
   "execution_count": null,
   "metadata": {
    "collapsed": true
   },
   "outputs": [],
   "source": [
    "a_set.issuperset({1, 2, 3})"
   ]
  },
  {
   "cell_type": "code",
   "execution_count": null,
   "metadata": {
    "collapsed": true,
    "scrolled": true
   },
   "outputs": [],
   "source": [
    "{1, 2, 3} == {3, 2, 1}"
   ]
  },
  {
   "cell_type": "markdown",
   "metadata": {},
   "source": [
    "- Python集合物件集合物件方法：a.add(x), a.remove(x), a.union(b), a.intersection(b), a.difference(b), a.symmetric_difference(b), a.issubset(b), a.issuperset(b), a.isdisjoint(b)"
   ]
  },
  {
   "cell_type": "markdown",
   "metadata": {},
   "source": [
    "## 字典 Dict\n",
    "\n",
    "可能是Python最重要的資料結構 Dict: dict is likely the most important built-in Python data structure."
   ]
  },
  {
   "cell_type": "markdown",
   "metadata": {},
   "source": [
    "- 常稱為雜湊圖和關聯矩陣 A more common name for it is hash map or associative array.\n",
    "- 可長可短的鍵值對，鍵與值均須為Python物件 It is a flexibly-sized collection of key-value pairs, where key and value are Python objects.\n",
    "- 用大括弧{}以及冒號:來分隔鍵與值，以創建字典物件 One way to create one is by using curly braces {} and using colons to separate keys and values\n",
    "\n",
    "- 建立字典變數可利用大括弧，裡頭以 key:value 為配對的資料項目，每一筆資料再以逗號區隔開，例如\n",
    "    - d1 = {one:\"a\", two:\"b\"}\n",
    "\n",
    "\n",
    "- 上述字典型態的變數 d1 有兩筆資料，第一筆資料的 key 為 one ， value 為 \"a\" ，第二筆資料的 key 為 two ， value 為 \"b\" 。\n",
    "- 使用字典須注意， key 必須是不可變的 (immutable) 資料型態，如數字、字串 (string) 等， value 沒有限制，因此有需要的話，使用串列 (list) 或字典皆可。 \n",
    "\n",
    "\n",
    "- 也可以利用字典型態的建構子 (constructor) 建立物件，如下\n",
    "    - d2 = dict(one=\"a\", two=\"b\")\n",
    "    - d3 = dict({\"one\":\"a\", \"two\":\"b\"})\n",
    "    - d4 = dict(zip((\"one\", \"two\"), (\"a\", \"b\")))\n",
    "    - d5 = dict([[\"one\", \"b\"], [\"two\", \"a\"]])\n",
    "\n",
    "\n",
    "以上 d2 、 d3 、 d4 、 d5 所得到的字典物件，全都會與 d1 相同。\n",
    "\n",
    "- 字典物件可進行以下的運算\n",
    "\n",
    "<table align=\"center\" width=\"90%\" border=\"1\"><tbody><tr><th>計算</th><th>描述</th></tr>\n",
    "<tr><td>d[key]</td><td>從 d 中取得 key 的 value</td></tr>\n",
    "<tr><td>d[key] = value</td><td>將 d 的 key 指定為 value</td></tr>\n",
    "<tr><td>del d[key]</td><td>刪除 d 中 key 所指定的 value</td></tr>\n",
    "<tr><td>key in d</td><td>判斷 key 是否在 d 中</td></tr>\n",
    "<tr><td>key not in d</td><td>判斷 key 是否不在 d 中</td></tr>\n",
    "<tr><td>iter(d)</td><td>回傳由 d 的 key 建立的迭代器</td></tr>\n",
    "<tr><td>len(d)</td><td>回傳 d 的配對資料個數</td></tr>\n",
    "</tbody></table>\n",
    "\n",
    "- 字典物件有以下的方法 (method)\n",
    "\n",
    "<table align=\"center\" width=\"90%\" border=\"1\"><tbody><tr><th>方法</th><th>描述</th></tr>\n",
    "<tr><td><a href=\"http://pydoing.blogspot.com/2011/03/python-dictclear.html\">dict.clear()</a></td><td>清空 dict 的所有配對資料</td></tr>\n",
    "<tr><td><a href=\"http://pydoing.blogspot.com/2011/03/python-dictcopy.html\">dict.copy()</a></td><td>回傳 dict 的拷貝</td></tr>\n",
    "<tr><td><a href=\"http://pydoing.blogspot.com/2011/03/python-dictfromkeys.html\">classmethod dict.fromkeys(seq[, value])</a></td><td>由 seq 中的元素構成 key ，每個 key 都給相同的 value 值</td></tr>\n",
    "<tr><td><a href=\"http://pydoing.blogspot.com/2011/03/python-dictget.html\">dict.get(key[, default])</a></td><td>從 dict 中取得 key 的 value ，若無此 key 則回傳 default ， default 預設為 None</td></tr>\n",
    "<tr><td><a href=\"http://pydoing.blogspot.com/2011/03/python-dictitems.html\">dict.items()</a></td><td>回傳 dict_items 物件，使 key:value 儲存為序對，然後依序儲存在 dict_items 物件中</td></tr>\n",
    "<tr><td><a href=\"http://pydoing.blogspot.com/2011/03/python-dictkeys.html\">dict.keys()</a></td><td>回傳 dict_items 物件，使 key 依序儲存在 dict_items 物件中</td></tr>\n",
    "<tr><td><a href=\"http://pydoing.blogspot.com/2011/03/python-dictpop.html\">dict.pop(key[, default])</a></td><td>將 key 的 value 從 dict 移除，若無此 kay ，回傳 default</td></tr>\n",
    "<tr><td><a href=\"http://pydoing.blogspot.com/2011/03/python-dictpopitem.html\">dict.popitem()</a></td><td>從 dict 移除任意一組 key:value</td></tr>\n",
    "<tr><td><a href=\"http://pydoing.blogspot.com/2011/03/python-dictsetdefault.html\">dict.setdefault(key[, default])</a></td><td>如果 key 在 dict 中，回傳 value 值，反之，將 key:default 加入 dict 之中</td></tr>\n",
    "<tr><td><a href=\"http://pydoing.blogspot.com/2011/03/python-dictupdate.html\">dict.update([other])</a></td><td>將 dict 以 other 更新</td></tr>\n",
    "<tr><td><a href=\"http://pydoing.blogspot.com/2011/03/python-dictvalues.html\">dict.values()</a></td><td>回傳 dict_items 物件，使 value 依序儲存在 dict_items 物件中</td></tr>\n",
    "</tbody></table>"
   ]
  },
  {
   "cell_type": "code",
   "execution_count": 16,
   "metadata": {},
   "outputs": [
    {
     "data": {
      "text/plain": [
       "{'a': 'some value', 'b': [1, 2, 3, 4]}"
      ]
     },
     "execution_count": 16,
     "metadata": {},
     "output_type": "execute_result"
    }
   ],
   "source": [
    "d1 = {'a' : 'some value', 'b' : [1, 2, 3, 4]}\n",
    "d1"
   ]
  },
  {
   "cell_type": "markdown",
   "metadata": {},
   "source": [
    "- 元素存取、插入與指定的語法同串列和值組 Elements can be accessed and inserted or set using the same syntax as accessing elements of a list or tuple."
   ]
  },
  {
   "cell_type": "code",
   "execution_count": null,
   "metadata": {
    "collapsed": true
   },
   "outputs": [],
   "source": [
    "d1[7] = 'an integer'\n",
    "d1"
   ]
  },
  {
   "cell_type": "code",
   "execution_count": null,
   "metadata": {
    "collapsed": true
   },
   "outputs": [],
   "source": [
    "d1['b']"
   ]
  },
  {
   "cell_type": "code",
   "execution_count": null,
   "metadata": {
    "collapsed": true
   },
   "outputs": [],
   "source": [
    "'b' in d1"
   ]
  },
  {
   "cell_type": "code",
   "execution_count": null,
   "metadata": {
    "collapsed": true
   },
   "outputs": [],
   "source": [
    "d1[5] = 'some value'\n",
    "d1['dummy'] = 'another value'\n",
    "d1"
   ]
  },
  {
   "cell_type": "code",
   "execution_count": null,
   "metadata": {
    "collapsed": true
   },
   "outputs": [],
   "source": [
    "del d1[5]\n",
    "d1"
   ]
  },
  {
   "cell_type": "code",
   "execution_count": null,
   "metadata": {
    "collapsed": true
   },
   "outputs": [],
   "source": [
    "ret = d1.pop('dummy')\n",
    "ret"
   ]
  },
  {
   "cell_type": "code",
   "execution_count": 17,
   "metadata": {},
   "outputs": [
    {
     "name": "stdout",
     "output_type": "stream",
     "text": [
      "dict_keys(['b', 'a'])\n"
     ]
    },
    {
     "data": {
      "text/plain": [
       "dict_values([[1, 2, 3, 4], 'some value'])"
      ]
     },
     "execution_count": 17,
     "metadata": {},
     "output_type": "execute_result"
    }
   ],
   "source": [
    "print (d1.keys())\n",
    "d1.values()"
   ]
  },
  {
   "cell_type": "markdown",
   "metadata": {},
   "source": [
    "- 可以update方法將字典合併 One dict can be merged into another using the update method."
   ]
  },
  {
   "cell_type": "code",
   "execution_count": 18,
   "metadata": {},
   "outputs": [
    {
     "data": {
      "text/plain": [
       "{'a': 'some value', 'b': 'foo', 'c': 12}"
      ]
     },
     "execution_count": 18,
     "metadata": {},
     "output_type": "execute_result"
    }
   ],
   "source": [
    "d1.update({'b' : 'foo', 'c' : 12})\n",
    "d1"
   ]
  },
  {
   "cell_type": "markdown",
   "metadata": {},
   "source": [
    "- 常以2值組產生字典 Since a dict is essentially a collection of 2-tuples, it should be no shock that the dict type function accepts a list of 2-tuples"
   ]
  },
  {
   "cell_type": "code",
   "execution_count": null,
   "metadata": {
    "collapsed": true
   },
   "outputs": [],
   "source": [
    "mapping = dict(zip(range(5), reversed(range(5))))\n",
    "mapping"
   ]
  },
  {
   "cell_type": "markdown",
   "metadata": {},
   "source": [
    "- 常用下列方法設定預設值 It’s very common to have logic like the following to set default value."
   ]
  },
  {
   "cell_type": "markdown",
   "metadata": {},
   "source": [
    "if key in some_dict:\n",
    "    value = some_dict[key]\n",
    "else:\n",
    "    value = default_value"
   ]
  },
  {
   "cell_type": "markdown",
   "metadata": {},
   "source": [
    "- dict的get和pop方法可以設定預設值，因此上述if-else程式撰寫方法可以簡單表示如下 The dict methods get and pop can take a default value to be returned, so that the above if-else block can be written simply as follows.\n",
    "- get方法若沒有發現key則回傳空無物件None，然而pop方法未發現key時會發出例外情況訊息 get by default will return None if the key is not present, while pop will raise an exception."
   ]
  },
  {
   "cell_type": "markdown",
   "metadata": {},
   "source": [
    "value = some_dict.get(key, default_value)"
   ]
  },
  {
   "cell_type": "code",
   "execution_count": null,
   "metadata": {
    "collapsed": true
   },
   "outputs": [],
   "source": [
    "words = ['apple', 'bat', 'bar', 'atom', 'book']\n",
    "by_letter = {}\n",
    "for word in words:\n",
    "    letter = word[0]\n",
    "    if letter not in by_letter:\n",
    "        by_letter[letter] = [word]\n",
    "    else:\n",
    "        by_letter[letter].append(word)\n",
    "\n",
    "by_letter"
   ]
  },
  {
   "cell_type": "markdown",
   "metadata": {},
   "source": [
    "- by_letter.setdefault(letter, []).append(word)可以取代上面if-else判斷敘述"
   ]
  },
  {
   "cell_type": "code",
   "execution_count": null,
   "metadata": {
    "collapsed": true
   },
   "outputs": [],
   "source": [
    "words = ['apple', 'bat', 'bar', 'atom', 'book']\n",
    "by_letter = {}\n",
    "for word in words:\n",
    "    letter = word[0]\n",
    "    by_letter.setdefault(letter, []).append(word)\n",
    "\n",
    "by_letter"
   ]
  },
  {
   "cell_type": "markdown",
   "metadata": {},
   "source": [
    "- 內建collections模組有一好用的類別defaultdict，可以傳入一個Python型別或函數以產生字典中每個槽的預設值 The built-in collections module has a useful class, defaultdict, which makes this even easier. One is created by passing a type or function for generating the default value for each slot in the dict."
   ]
  },
  {
   "cell_type": "code",
   "execution_count": null,
   "metadata": {
    "collapsed": true
   },
   "outputs": [],
   "source": [
    "from collections import defaultdict"
   ]
  },
  {
   "cell_type": "markdown",
   "metadata": {},
   "source": [
    "- 空字典，預設的值儲存容器為串列"
   ]
  },
  {
   "cell_type": "code",
   "execution_count": null,
   "metadata": {
    "collapsed": true
   },
   "outputs": [],
   "source": [
    "by_letter = defaultdict(list)\n",
    "by_letter"
   ]
  },
  {
   "cell_type": "markdown",
   "metadata": {},
   "source": [
    "- 以首字為keys，開始加字"
   ]
  },
  {
   "cell_type": "code",
   "execution_count": null,
   "metadata": {
    "collapsed": true
   },
   "outputs": [],
   "source": [
    "for word in words:\n",
    "    by_letter[word[0]].append(word)"
   ]
  },
  {
   "cell_type": "code",
   "execution_count": null,
   "metadata": {
    "collapsed": true
   },
   "outputs": [],
   "source": [
    "by_letter"
   ]
  },
  {
   "cell_type": "markdown",
   "metadata": {},
   "source": [
    "- 字典的值可以是任何的Python物件，但其鍵必須為不可更改的物件，例如：前述的純量型別(整數、浮點數與字串)，或是值組，這種性質稱為可雜湊性 While the values of a dict can be any Python object, the keys have to be immutable objects like scalar types (int, float, string) or tuples (all the objects in the tuple need to be immutable, too). The technical term here is hashability.\n",
    "- 可以hash函數檢查任一物件是否為可雜湊的 You can check whether an object is hashable (can be used as a key in a dict) with the hash function."
   ]
  },
  {
   "cell_type": "code",
   "execution_count": null,
   "metadata": {
    "collapsed": true
   },
   "outputs": [],
   "source": [
    "hash('string')"
   ]
  },
  {
   "cell_type": "code",
   "execution_count": null,
   "metadata": {
    "collapsed": true
   },
   "outputs": [],
   "source": [
    "hash((1, 2, (2, 3)))"
   ]
  },
  {
   "cell_type": "code",
   "execution_count": null,
   "metadata": {
    "collapsed": true
   },
   "outputs": [],
   "source": [
    "# hash((1, 2, [2, 3])) # fails because lists are mutable"
   ]
  },
  {
   "cell_type": "markdown",
   "metadata": {},
   "source": [
    "- 可將list轉換為tuple再設定為key To use a list as a key, an easy fix is to convert it to a tuple:"
   ]
  },
  {
   "cell_type": "code",
   "execution_count": null,
   "metadata": {
    "collapsed": true,
    "scrolled": true
   },
   "outputs": [],
   "source": [
    "d = {}\n",
    "d[tuple([1, 2, 3])] = 5\n",
    "d"
   ]
  },
  {
   "cell_type": "markdown",
   "metadata": {},
   "source": [
    "##  型別轉換 Type casting"
   ]
  },
  {
   "cell_type": "code",
   "execution_count": 19,
   "metadata": {
    "collapsed": true
   },
   "outputs": [],
   "source": [
    "x = 6666666\n",
    "y = 'hello'\n",
    "z = True"
   ]
  },
  {
   "cell_type": "code",
   "execution_count": 20,
   "metadata": {},
   "outputs": [
    {
     "data": {
      "text/plain": [
       "int"
      ]
     },
     "execution_count": 20,
     "metadata": {},
     "output_type": "execute_result"
    }
   ],
   "source": [
    "type(x)"
   ]
  },
  {
   "cell_type": "code",
   "execution_count": 21,
   "metadata": {},
   "outputs": [
    {
     "data": {
      "text/plain": [
       "str"
      ]
     },
     "execution_count": 21,
     "metadata": {},
     "output_type": "execute_result"
    }
   ],
   "source": [
    "type(y)"
   ]
  },
  {
   "cell_type": "code",
   "execution_count": 22,
   "metadata": {},
   "outputs": [
    {
     "data": {
      "text/plain": [
       "bool"
      ]
     },
     "execution_count": 22,
     "metadata": {},
     "output_type": "execute_result"
    }
   ],
   "source": [
    "type(z)"
   ]
  },
  {
   "cell_type": "code",
   "execution_count": 23,
   "metadata": {
    "scrolled": true
   },
   "outputs": [
    {
     "data": {
      "text/plain": [
       "'6666666'"
      ]
     },
     "execution_count": 23,
     "metadata": {},
     "output_type": "execute_result"
    }
   ],
   "source": [
    "str(x)"
   ]
  },
  {
   "cell_type": "code",
   "execution_count": 24,
   "metadata": {
    "scrolled": false
   },
   "outputs": [
    {
     "data": {
      "text/plain": [
       "'True'"
      ]
     },
     "execution_count": 24,
     "metadata": {},
     "output_type": "execute_result"
    }
   ],
   "source": [
    "str(z)"
   ]
  },
  {
   "cell_type": "code",
   "execution_count": 25,
   "metadata": {
    "scrolled": false
   },
   "outputs": [
    {
     "data": {
      "text/plain": [
       "1"
      ]
     },
     "execution_count": 25,
     "metadata": {},
     "output_type": "execute_result"
    }
   ],
   "source": [
    "int(z)"
   ]
  },
  {
   "cell_type": "markdown",
   "metadata": {
    "solution2": "hidden",
    "solution2_first": true
   },
   "source": [
    "<font size=6 style=\"text-shadow:0px 0px 15px #FF37FD;\">考考你</font>\n",
    "- 經過上面三行的執行，變數x, y, z各別有何改變？\n",
    "\n",
    "<script>\n",
    "\n",
    "</script>\n"
   ]
  },
  {
   "cell_type": "markdown",
   "metadata": {},
   "source": [
    "# Python控制敘述"
   ]
  },
  {
   "cell_type": "markdown",
   "metadata": {},
   "source": [
    "## 判斷控制\n",
    "\n",
    "if, elif, and else"
   ]
  },
  {
   "cell_type": "code",
   "execution_count": null,
   "metadata": {
    "collapsed": true
   },
   "outputs": [],
   "source": [
    "if True:\n",
    "    print(\"YES\")"
   ]
  },
  {
   "cell_type": "code",
   "execution_count": 26,
   "metadata": {
    "scrolled": true
   },
   "outputs": [
    {
     "name": "stdout",
     "output_type": "stream",
     "text": [
      "NO\n"
     ]
    }
   ],
   "source": [
    "if False:\n",
    "    print(\"YES\")\n",
    "else:\n",
    "    print(\"NO\")"
   ]
  },
  {
   "cell_type": "code",
   "execution_count": 27,
   "metadata": {
    "scrolled": true
   },
   "outputs": [
    {
     "name": "stdout",
     "output_type": "stream",
     "text": [
      "NO\n"
     ]
    }
   ],
   "source": [
    "if 8+7==87:\n",
    "    print(\"Orz\")\n",
    "elif 8+9==87:\n",
    "    print(\"666\")\n",
    "else:\n",
    "    print(\"NO\")"
   ]
  },
  {
   "cell_type": "markdown",
   "metadata": {
    "solution2": "hidden",
    "solution2_first": true
   },
   "source": [
    "<font size=6 style=\"text-shadow:0px 0px 15px #FF37FD;\">考考你</font>\n",
    "- 練習：\n",
    "    - 令x='晴天'\n",
    "    - 如果x是雨天，print(\"帶雨傘\")，反之print(\"戴墨鏡\")\n",
    "\n",
    "<script>\n",
    "x = '晴天'\n",
    "if x=='雨天':\n",
    "    print(\"帶雨傘\")\n",
    "else:\n",
    "    print(\"戴墨鏡\")\n",
    "</script>\n"
   ]
  },
  {
   "cell_type": "code",
   "execution_count": null,
   "metadata": {
    "collapsed": true
   },
   "outputs": [],
   "source": [
    "a = [1, 2, 3]\n",
    "if a:\n",
    "    print ('I found something!')"
   ]
  },
  {
   "cell_type": "markdown",
   "metadata": {},
   "source": [
    "- 空序列被視為假 Empty sequences (lists, dicts, tuples, etc.) are treated as False if used in control flow."
   ]
  },
  {
   "cell_type": "code",
   "execution_count": null,
   "metadata": {
    "collapsed": true
   },
   "outputs": [],
   "source": [
    "b = []\n",
    "if not b:\n",
    "    print ('Empty!')"
   ]
  },
  {
   "cell_type": "code",
   "execution_count": null,
   "metadata": {
    "collapsed": true
   },
   "outputs": [],
   "source": [
    "x = -99\n",
    "if x < 0:\n",
    "    print ('It is negative')"
   ]
  },
  {
   "cell_type": "code",
   "execution_count": null,
   "metadata": {
    "collapsed": true
   },
   "outputs": [],
   "source": [
    "x = 99\n",
    "if x < 0:\n",
    "    print ('It is negative')\n",
    "elif x == 0:\n",
    "    print ('Equal to zero')\n",
    "elif 0 < x < 5:\n",
    "    print ('Positive but smaller than 5')\n",
    "else:\n",
    "    print ('Positive and larger than or equal to 5')"
   ]
  },
  {
   "cell_type": "markdown",
   "metadata": {},
   "source": [
    "## 迴圈控制"
   ]
  },
  {
   "cell_type": "code",
   "execution_count": 33,
   "metadata": {},
   "outputs": [
    {
     "name": "stdout",
     "output_type": "stream",
     "text": [
      "0 is less than 5\n",
      "1 is less than 5\n",
      "2 is less than 5\n",
      "3 is less than 5\n",
      "4 is less than 5\n"
     ]
    }
   ],
   "source": [
    "x=0\n",
    "while x < 5:\n",
    "    print (x, \"is less than 5\")\n",
    "    x += 1"
   ]
  },
  {
   "cell_type": "code",
   "execution_count": 31,
   "metadata": {},
   "outputs": [
    {
     "name": "stdout",
     "output_type": "stream",
     "text": [
      "0 is less than 5\n",
      "1 is less than 5\n",
      "2 is less than 5\n",
      "3 is less than 5\n",
      "4 is less than 5\n"
     ]
    }
   ],
   "source": [
    "for x in range(5):\n",
    "    print (x, \"is less than 5\")"
   ]
  },
  {
   "cell_type": "code",
   "execution_count": 32,
   "metadata": {},
   "outputs": [
    {
     "name": "stdout",
     "output_type": "stream",
     "text": [
      "0\n",
      "1\n",
      "2\n",
      "4\n"
     ]
    }
   ],
   "source": [
    "for x in range(10):\n",
    "    if x==3:\n",
    "        continue # go immediately to the next iteration\n",
    "    if x==5:\n",
    "        break # quit the loop entirely\n",
    "    print (x)"
   ]
  },
  {
   "cell_type": "markdown",
   "metadata": {},
   "source": [
    "# Python自定義函數"
   ]
  },
  {
   "cell_type": "markdown",
   "metadata": {
    "collapsed": true
   },
   "source": [
    "- Python程式碼最主要的組織與再利用方式就是函數 Functions are the primary and most important method of code organization and reuse in Python.\n",
    "- 函數以def關鍵字定義之，並以return關鍵字回傳函數輸出 Functions are declared using the def keyword and returned from using the return keyword."
   ]
  },
  {
   "cell_type": "code",
   "execution_count": 34,
   "metadata": {
    "collapsed": true
   },
   "outputs": [],
   "source": [
    "def my_function(x, y, z=1.5):\n",
    "    if z > 1:\n",
    "        return z * (x + y)\n",
    "    else:\n",
    "        return z / (x + y)"
   ]
  },
  {
   "cell_type": "markdown",
   "metadata": {},
   "source": [
    "- 如果函數未以return敘述回傳，輸出將為空無物件 If the end of a function is reached without encountering a return statement, None is returned.\n",
    "- 函數參數分為位置引數與關鍵字引數，上例中何引數為前者？何引數為後者？ Each function can have some number of positional arguments and some number of keyword arguments. Keyword arguments are most commonly used to specify default values or optional arguments. In the above function, x and y are positional arguments while z is a keyword argument.\n",
    "- 關鍵字引數必須接續在位置引數(如果有的話)之後，關鍵字引數的順序可以任意，只須記住引數的名稱即可 The main restriction on function arguments it that the keyword arguments must follow the positional arguments (if any). You can specify keyword arguments in any order; this frees you from having to remember which order the function arguments were specified in and only what their names are."
   ]
  },
  {
   "cell_type": "code",
   "execution_count": 7,
   "metadata": {},
   "outputs": [
    {
     "data": {
      "text/plain": [
       "0.06363636363636363"
      ]
     },
     "execution_count": 7,
     "metadata": {},
     "output_type": "execute_result"
    }
   ],
   "source": [
    "my_function(5, 6, z=0.7)"
   ]
  },
  {
   "cell_type": "code",
   "execution_count": 37,
   "metadata": {},
   "outputs": [
    {
     "data": {
      "text/plain": [
       "35.49"
      ]
     },
     "execution_count": 37,
     "metadata": {},
     "output_type": "execute_result"
    }
   ],
   "source": [
    "my_function(3.14, 7, 3.5)"
   ]
  },
  {
   "cell_type": "markdown",
   "metadata": {
    "collapsed": true
   },
   "source": [
    "- Functions can access variables in two different scopes: global and local. An alternate and more descriptive name describing a variable scope in Python is a namespace. Any variables that are assigned within a function by default are assigned to the local name- space. The local namespace is created when the function is called and immediately populated by the function’s arguments. After the function is finished, the local name- space is destroyed (with some exceptions, see section on closures below)."
   ]
  },
  {
   "cell_type": "code",
   "execution_count": 38,
   "metadata": {
    "collapsed": true
   },
   "outputs": [],
   "source": [
    "def func():\n",
    "    a = []\n",
    "    for i in range(5):\n",
    "        a.append(i)"
   ]
  },
  {
   "cell_type": "code",
   "execution_count": 39,
   "metadata": {
    "collapsed": true
   },
   "outputs": [],
   "source": [
    "func() # return nothing because of local scoping\n",
    "# a # NameError: name 'a' is not defined"
   ]
  },
  {
   "cell_type": "code",
   "execution_count": 40,
   "metadata": {
    "collapsed": true
   },
   "outputs": [],
   "source": [
    "a = []\n",
    "def func():\n",
    "    for i in range(5):\n",
    "        a.append(i)"
   ]
  },
  {
   "cell_type": "code",
   "execution_count": 41,
   "metadata": {},
   "outputs": [
    {
     "data": {
      "text/plain": [
       "[0, 1, 2, 3, 4]"
      ]
     },
     "execution_count": 41,
     "metadata": {},
     "output_type": "execute_result"
    }
   ],
   "source": [
    "func()\n",
    "a"
   ]
  },
  {
   "cell_type": "code",
   "execution_count": 13,
   "metadata": {
    "scrolled": true
   },
   "outputs": [
    {
     "data": {
      "text/plain": [
       "[0, 1, 2, 3, 4]"
      ]
     },
     "execution_count": 13,
     "metadata": {},
     "output_type": "execute_result"
    }
   ],
   "source": [
    "a"
   ]
  },
  {
   "cell_type": "markdown",
   "metadata": {
    "solution2": "hidden",
    "solution2_first": true
   },
   "source": [
    "<font size=6 style=\"text-shadow:0px 0px 15px #FF37FD;\">考考你</font>\n",
    "- 將此練習自定義為函數：\n",
    "    - 令x='晴天'\n",
    "    - 如果x是雨天，print(\"帶雨傘\")，反之print(\"戴墨鏡\")\n",
    "\n",
    "<script>\n",
    "x = '晴天'\n",
    "def weather(x):\n",
    "    if x=='雨天':\n",
    "        print(\"帶雨傘\")\n",
    "    else:\n",
    "        print(\"戴墨鏡\")\n",
    "\n",
    "weather(\"雨天\")\n",
    "\n",
    "</script>\n"
   ]
  },
  {
   "cell_type": "code",
   "execution_count": 43,
   "metadata": {},
   "outputs": [
    {
     "data": {
      "text/plain": [
       "'帶雨傘'"
      ]
     },
     "execution_count": 43,
     "metadata": {},
     "output_type": "execute_result"
    }
   ],
   "source": [
    "def weather(x):\n",
    "    if x=='雨天':\n",
    "        return \"帶雨傘\"\n",
    "    else:\n",
    "        return \"戴墨鏡\"\n",
    "\n",
    "weather(\"雨天\")"
   ]
  },
  {
   "cell_type": "markdown",
   "metadata": {},
   "source": [
    "## Python物件導向觀念"
   ]
  },
  {
   "cell_type": "markdown",
   "metadata": {},
   "source": [
    "## 類別定義與屬性"
   ]
  },
  {
   "cell_type": "markdown",
   "metadata": {},
   "source": [
    "- 以保留字class定義類別Bird。\n",
    "- 最底層物件裡面寫object，亦即它沒有父類。\n",
    "- 類別Bird有兩屬性：have_feather與way_of_reproduction。"
   ]
  },
  {
   "cell_type": "code",
   "execution_count": 14,
   "metadata": {
    "collapsed": true
   },
   "outputs": [],
   "source": [
    "class Bird(object):\n",
    "    have_feather = True\n",
    "    way_of_reproduction = 'egg'"
   ]
  },
  {
   "cell_type": "markdown",
   "metadata": {},
   "source": [
    "- 實作一個Bird類的物件bird_obj。\n",
    "- 印出其屬性way_of_reproduction。\n",
    "- 以dir顯示。"
   ]
  },
  {
   "cell_type": "code",
   "execution_count": 15,
   "metadata": {},
   "outputs": [
    {
     "name": "stdout",
     "output_type": "stream",
     "text": [
      "egg\n"
     ]
    },
    {
     "data": {
      "text/plain": [
       "['__class__',\n",
       " '__delattr__',\n",
       " '__dict__',\n",
       " '__dir__',\n",
       " '__doc__',\n",
       " '__eq__',\n",
       " '__format__',\n",
       " '__ge__',\n",
       " '__getattribute__',\n",
       " '__gt__',\n",
       " '__hash__',\n",
       " '__init__',\n",
       " '__le__',\n",
       " '__lt__',\n",
       " '__module__',\n",
       " '__ne__',\n",
       " '__new__',\n",
       " '__reduce__',\n",
       " '__reduce_ex__',\n",
       " '__repr__',\n",
       " '__setattr__',\n",
       " '__sizeof__',\n",
       " '__str__',\n",
       " '__subclasshook__',\n",
       " '__weakref__',\n",
       " 'have_feather',\n",
       " 'way_of_reproduction']"
      ]
     },
     "execution_count": 15,
     "metadata": {},
     "output_type": "execute_result"
    }
   ],
   "source": [
    "bird_obj = Bird()\n",
    "print (bird_obj.way_of_reproduction)\n",
    "dir(bird_obj)"
   ]
  },
  {
   "cell_type": "markdown",
   "metadata": {},
   "source": [
    "- `__`init`__`就是會在物件被建立出來的時候被呼叫的程式碼\n",
    "- `__del__`是物件用完被回收時候執行的程式碼，但發生調用的具體時間是不可知的，所以不建議使用\n",
    "- Python的類別裡，所有的方法預設都是public的，但有些時候程式設計師不想讓method隨便被取用，在別的程式語言裡會有public、protected、private之類的method修飾詞來設定，不過Python沒有這樣的東西，而是使用2個底線。"
   ]
  },
  {
   "cell_type": "markdown",
   "metadata": {},
   "source": [
    "## 類別方法"
   ]
  },
  {
   "cell_type": "markdown",
   "metadata": {},
   "source": [
    "- 物件的行為屬性稱為方法。\n",
    "- Python在類別的內部定義函數以說明方法。\n",
    "- 方法的第一個參數必須是self，無論是否用到。\n",
    "- self參数是為了經常在某些狀況下需引用物件本身。"
   ]
  },
  {
   "cell_type": "code",
   "execution_count": 16,
   "metadata": {
    "collapsed": true
   },
   "outputs": [],
   "source": [
    "class Bird(object):\n",
    "    have_feather = True\n",
    "    way_of_reproduction = 'egg'\n",
    "    def move(self, dx, dy): # 函數參數中有一個self，是為了方便我們引用物件本身。方法的第一個參數必須是self，無論是否用到 !!!\n",
    "        position = [0,0]\n",
    "        position[0] = position[0] + dx\n",
    "        position[1] = position[1] + dy\n",
    "        return position"
   ]
  },
  {
   "cell_type": "code",
   "execution_count": 17,
   "metadata": {},
   "outputs": [
    {
     "name": "stdout",
     "output_type": "stream",
     "text": [
      "after move: [5, 8]\n"
     ]
    },
    {
     "data": {
      "text/plain": [
       "['__class__',\n",
       " '__delattr__',\n",
       " '__dict__',\n",
       " '__dir__',\n",
       " '__doc__',\n",
       " '__eq__',\n",
       " '__format__',\n",
       " '__ge__',\n",
       " '__getattribute__',\n",
       " '__gt__',\n",
       " '__hash__',\n",
       " '__init__',\n",
       " '__le__',\n",
       " '__lt__',\n",
       " '__module__',\n",
       " '__ne__',\n",
       " '__new__',\n",
       " '__reduce__',\n",
       " '__reduce_ex__',\n",
       " '__repr__',\n",
       " '__setattr__',\n",
       " '__sizeof__',\n",
       " '__str__',\n",
       " '__subclasshook__',\n",
       " '__weakref__',\n",
       " 'have_feather',\n",
       " 'move',\n",
       " 'way_of_reproduction']"
      ]
     },
     "execution_count": 17,
     "metadata": {},
     "output_type": "execute_result"
    }
   ],
   "source": [
    "bird_obj = Bird()\n",
    "print ('after move:', bird_obj.move(5,8))\n",
    "dir(bird_obj)"
   ]
  },
  {
   "cell_type": "markdown",
   "metadata": {},
   "source": [
    "## 子類別繼承與獨特屬性"
   ]
  },
  {
   "cell_type": "markdown",
   "metadata": {
    "collapsed": true
   },
   "source": [
    "- 鳥類可進一步分為雞、老鷹、梟。\n",
    "- 物件導向以繼承(inheritance)表達上述概念。\n",
    "- 繼承建立起父子關係，子類自動具有父類的所有屬性。"
   ]
  },
  {
   "cell_type": "code",
   "execution_count": 18,
   "metadata": {},
   "outputs": [
    {
     "name": "stdout",
     "output_type": "stream",
     "text": [
      "True\n",
      "[5, 8]\n"
     ]
    }
   ],
   "source": [
    "class Chicken(Bird): # 繼承自何物件寫在括弧裡，另外再新增兩屬性\n",
    "    way_of_move = 'walk'\n",
    "    possible_in_KFC = True\n",
    "\n",
    "class Oriole(Bird):\n",
    "    way_of_move = 'fly'\n",
    "    possible_in_KFC = False\n",
    "\n",
    "bird_obj = Chicken()\n",
    "dir(bird_obj)\n",
    "print (bird_obj.have_feather) # 繼承自父類的變項屬性\n",
    "print (bird_obj.move(5,8)) # 繼承自父類的方法屬性"
   ]
  },
  {
   "cell_type": "markdown",
   "metadata": {},
   "source": [
    "## 以self參數調用類別的屬性與方法"
   ]
  },
  {
   "cell_type": "markdown",
   "metadata": {},
   "source": [
    "- 以self.xxx調用類別屬性xxx，或是方法xxx。\n",
    "- 透過self物件可以修改類別屬性值，但是不建議此種做法。"
   ]
  },
  {
   "cell_type": "code",
   "execution_count": 19,
   "metadata": {},
   "outputs": [
    {
     "name": "stdout",
     "output_type": "stream",
     "text": [
      "hahahaha\n",
      "hahahaha\n",
      "hahahaha\n",
      "hahahaha\n",
      "hahahaha\n",
      "hahahaha\n",
      "hahahaha\n",
      "hahahaha\n",
      "hahahaha\n",
      "hahahaha\n"
     ]
    }
   ],
   "source": [
    "class Human(object):\n",
    "    laugh = 'hahahaha' # an attribute of class Human\n",
    "    def show_laugh(self): # 參數中有一個self，是為了方便我們引用物件本身。方法的第一個參數必須是self，無論是否用到!!!\n",
    "        print (self.laugh) # 在定義方法時，必須有self參數。這個參數表示某個擁有類別所有屬性的物件，如此我們可以透過self.xxx，\n",
    "    def laugh_10th(self): # 調用類別屬性xxx，或是方法xxx\n",
    "        for i in range(10):\n",
    "            self.show_laugh()\n",
    "\n",
    "vince = Human()\n",
    "vince.laugh_10th()"
   ]
  },
  {
   "cell_type": "markdown",
   "metadata": {},
   "source": [
    "## `__`init`__`()特殊方法"
   ]
  },
  {
   "cell_type": "markdown",
   "metadata": {},
   "source": [
    "- 特殊方法的名字前後有兩個下底線。\n",
    "- 儘管我們只是創建了bird_obj物件，但是`__`init`__`()方法被自動調用了。最後一行的指令(bird_obj = happyBird...)先創建了物件，然後執行bird_obj.`__`init`__`(more_words)，'Happy,Happy!' 就被傳遞给了`__`init`__`()的參數more_words。"
   ]
  },
  {
   "cell_type": "code",
   "execution_count": 20,
   "metadata": {},
   "outputs": [
    {
     "name": "stdout",
     "output_type": "stream",
     "text": [
      "We are happy birds. Happy, Happy!\n"
     ]
    }
   ],
   "source": [
    "class happyBird(Bird): # 類別Bird要先定義, 因為happyBird繼承Bird\n",
    "    def __init__(self, more_words):\n",
    "        print ('We are happy birds.', more_words)\n",
    "\n",
    "bird_obj = happyBird('Happy, Happy!') # 要看初始化函數如何運作！而非class happyBird(Bird)"
   ]
  },
  {
   "cell_type": "markdown",
   "metadata": {},
   "source": [
    "## 物件的屬性 vs. 類別的屬性"
   ]
  },
  {
   "cell_type": "markdown",
   "metadata": {},
   "source": [
    "- 注意！self是物件。\n",
    "- Human類別下定義特殊方法`__`init`__`()。\n",
    "- `__`init`__`(): 在建立物件時自動執行。"
   ]
  },
  {
   "cell_type": "code",
   "execution_count": 90,
   "metadata": {
    "collapsed": true
   },
   "outputs": [],
   "source": [
    "class Human:\n",
    "    def __init__(self, input_gender):\n",
    "        self.gender = input_gender # it's an ***object*** attribute, NOT a class atrribute !\n",
    "    def printGender(self):\n",
    "        print (self.gender) # use the gender attribute of object itself"
   ]
  },
  {
   "cell_type": "markdown",
   "metadata": {},
   "source": [
    "- 有些屬性的值會隨著物件的不同而不同。\n",
    "- 我們可以透過操縱self，來修改某個物件的屬性。比如用類別在新建一物件時(自動調用`__init__()`函數時)，透過self賦值給self.attribute，比如說給物件vince增加一些屬性，下例中的男女性别。\n",
    "- 通過self也可以將屬性傳遞給各個方法，在方法内部，可以透過引用self.attribute，查詢或修改物件的屬性。\n",
    "- 如此，在類別屬性之外，又能給每個物件增添各自特色的屬性，從而能描述多樣的世界。"
   ]
  },
  {
   "cell_type": "code",
   "execution_count": 22,
   "metadata": {},
   "outputs": [
    {
     "name": "stdout",
     "output_type": "stream",
     "text": [
      "male\n",
      "male\n"
     ]
    },
    {
     "data": {
      "text/plain": [
       "type"
      ]
     },
     "execution_count": 22,
     "metadata": {},
     "output_type": "execute_result"
    }
   ],
   "source": [
    "vince = Human('male') # 'males'是初始化函數中接收的input_gender，透過初始化特殊方法給予物件屬性值\n",
    "print (vince.gender)\n",
    "vince.printGender() # same as above\n",
    "\n",
    "dir(Human) # 沒有屬性gender，只有printGender方法\n",
    "Human.__class__\n"
   ]
  },
  {
   "cell_type": "markdown",
   "metadata": {},
   "source": [
    "## 物件導向練習\n",
    "\n",
    "- 請定義銀行帳戶類別Account，此類別有三個屬性：戶名name、帳號number與餘額balance，並有兩個方法：存款deposit與提款withdraw。在存提款方法中分別置入下列檢查機制："
   ]
  },
  {
   "cell_type": "code",
   "execution_count": 23,
   "metadata": {
    "collapsed": true
   },
   "outputs": [],
   "source": [
    "class Account:\n",
    "    name='Andrew'\n",
    "    number='0291008'\n",
    "    balance=0\n",
    "    def deposit(self, amount):\n",
    "        self.balance += amount\n",
    "    def withdraw(self, amount):\n",
    "        self.balance -= amount"
   ]
  },
  {
   "cell_type": "code",
   "execution_count": 24,
   "metadata": {
    "collapsed": true
   },
   "outputs": [],
   "source": [
    "tmp = Account()"
   ]
  },
  {
   "cell_type": "code",
   "execution_count": 25,
   "metadata": {},
   "outputs": [
    {
     "data": {
      "text/plain": [
       "1000"
      ]
     },
     "execution_count": 25,
     "metadata": {},
     "output_type": "execute_result"
    }
   ],
   "source": [
    "tmp.deposit(1000)\n",
    "tmp.balance"
   ]
  },
  {
   "cell_type": "code",
   "execution_count": 26,
   "metadata": {},
   "outputs": [
    {
     "data": {
      "text/plain": [
       "900"
      ]
     },
     "execution_count": 26,
     "metadata": {},
     "output_type": "execute_result"
    }
   ],
   "source": [
    "tmp.withdraw(100)\n",
    "tmp.balance"
   ]
  },
  {
   "cell_type": "markdown",
   "metadata": {},
   "source": [
    "```\n",
    "if amount <= 0:\n",
    "            raise ValueError('amount must be positive')\n",
    "if amount > self.balance:\n",
    "            raise RuntimeError('balance not enough')\n",
    "```\n",
    "           "
   ]
  },
  {
   "cell_type": "markdown",
   "metadata": {},
   "source": [
    "- 最後，加上類別的列印結構定義："
   ]
  },
  {
   "cell_type": "markdown",
   "metadata": {},
   "source": [
    "```\n",
    "def __str__(self):\n",
    "        return Account({0}, {1}, {2}).format(self.name, self.number, self.balance)\n",
    "```"
   ]
  },
  {
   "cell_type": "markdown",
   "metadata": {},
   "source": [
    "\n",
    "# Jupyter介紹及操作\n",
    "![Jupyter](_img/jupyter.png)"
   ]
  },
  {
   "cell_type": "markdown",
   "metadata": {},
   "source": [
    "## Jupyter簡介\n",
    "\n",
    "- 前身是IPython Notebook\n",
    "- Jupyter的名稱來源於JUlia, PYThon, R\n",
    "- 讀音和木星（Jupiter）是類似的\n",
    "- 原創者 Fernado Perez 博士\n",
    "- 非常適合用來做筆記、報表與簡報"
   ]
  },
  {
   "cell_type": "markdown",
   "metadata": {},
   "source": [
    "## 操作簡介"
   ]
  },
  {
   "cell_type": "markdown",
   "metadata": {},
   "source": [
    "進入互動模式的方法，是打開終端機，輸入下面的指令：\n",
    "\n",
    "jupyter notebook\n",
    "\n",
    "接著就會自動開啓瀏覽器"
   ]
  },
  {
   "cell_type": "markdown",
   "metadata": {},
   "source": [
    "![Jupyter](_img/jupyter1.png)"
   ]
  },
  {
   "cell_type": "markdown",
   "metadata": {},
   "source": [
    "![Jupyter](_img/jupyter6.png)"
   ]
  },
  {
   "cell_type": "markdown",
   "metadata": {},
   "source": [
    "![Jupyter](_img/jupyter2.png)"
   ]
  },
  {
   "cell_type": "markdown",
   "metadata": {},
   "source": [
    "![Jupyter](_img/jupyter3.png)"
   ]
  },
  {
   "cell_type": "markdown",
   "metadata": {},
   "source": [
    "![Jupyter](_img/jupyter4.png)"
   ]
  },
  {
   "cell_type": "markdown",
   "metadata": {},
   "source": [
    "<font size=6 style=\"text-shadow:0px 0px 15px #FF37FD;\">練習一下</font>\n",
    "\n",
    "1. 符號#，表示標題\n",
    "1. 符號-，表示項目\n",
    "1. 參考上圖指令任意插入一張圖片\n",
    "\n",
    "\n",
    "<script>\n",
    "</script>"
   ]
  },
  {
   "cell_type": "markdown",
   "metadata": {},
   "source": [
    "![Jupyter](_img/jupyter5.png)"
   ]
  },
  {
   "cell_type": "markdown",
   "metadata": {},
   "source": [
    "<font size=6 style=\"text-shadow:0px 0px 15px #FF37FD;\">練習一下</font>\n",
    "\n",
    "- 請自定義一個函數：判別input為基數或是偶數\n",
    "\n",
    "\n",
    "\n",
    "<script>\n",
    "def oddOrEven(num):\n",
    "    mod = int(num) % 2\n",
    "    if mod > 0:\n",
    "        print(\"You picked an odd number.\")\n",
    "    else:\n",
    "        print(\"You picked an even number.\")\n",
    "        \n",
    "oddOrEven(9)\n",
    "</script>"
   ]
  },
  {
   "cell_type": "markdown",
   "metadata": {},
   "source": [
    "## 常用快捷鍵\n",
    "\n",
    "- 完整表：Help > Keyboard Shortcuts \n",
    "    - ![](_img/jupyter7.png)\n",
    "\n",
    "</br></br><font size=6>注意Command Mode與Edit Mode的區別</font>\n",
    "\n",
    "- 開啟**快捷鍵**搜索欄：Ctrl + Shift + P\n",
    "- 註解整行(段)Code：Ctrl + /\n",
    "- 開啟說明文件：於函數前或後方加上問號\n",
    "    - 例如：sum? or ?sum\n",
    "- 透過Alt鍵，使用多光標功能(mutiple cursors)\n",
    "    - ![](_img/multiline.gif)\n",
    "- Run Cell： Ctrl + Enter (留在原地)、Shift + Enter (跳到下一格)\n",
    "- Add Cell Below (Command Mode)：B (大小寫無關)\n",
    "- Delete Cell (Command Mode)：DD"
   ]
  },
  {
   "cell_type": "markdown",
   "metadata": {},
   "source": [
    "## 魔法命令(Magic Commands)\n",
    "\n",
    "- 在Code的環境下執行\n",
    "- 查看所有：%lsmagic"
   ]
  },
  {
   "cell_type": "code",
   "execution_count": 27,
   "metadata": {
    "scrolled": true
   },
   "outputs": [
    {
     "data": {
      "application/json": {
       "cell": {
        "!": "OSMagics",
        "HTML": "Other",
        "SVG": "Other",
        "bash": "Other",
        "capture": "ExecutionMagics",
        "debug": "ExecutionMagics",
        "file": "Other",
        "html": "DisplayMagics",
        "javascript": "DisplayMagics",
        "js": "DisplayMagics",
        "latex": "DisplayMagics",
        "perl": "Other",
        "prun": "ExecutionMagics",
        "pypy": "Other",
        "python": "Other",
        "python2": "Other",
        "python3": "Other",
        "ruby": "Other",
        "script": "ScriptMagics",
        "sh": "Other",
        "svg": "DisplayMagics",
        "sx": "OSMagics",
        "system": "OSMagics",
        "time": "ExecutionMagics",
        "timeit": "ExecutionMagics",
        "writefile": "OSMagics"
       },
       "line": {
        "alias": "OSMagics",
        "alias_magic": "BasicMagics",
        "autocall": "AutoMagics",
        "automagic": "AutoMagics",
        "autosave": "KernelMagics",
        "bookmark": "OSMagics",
        "cat": "Other",
        "cd": "OSMagics",
        "clear": "KernelMagics",
        "colors": "BasicMagics",
        "config": "ConfigMagics",
        "connect_info": "KernelMagics",
        "cp": "Other",
        "debug": "ExecutionMagics",
        "dhist": "OSMagics",
        "dirs": "OSMagics",
        "doctest_mode": "BasicMagics",
        "ed": "Other",
        "edit": "KernelMagics",
        "env": "OSMagics",
        "gui": "BasicMagics",
        "hist": "Other",
        "history": "HistoryMagics",
        "killbgscripts": "ScriptMagics",
        "ldir": "Other",
        "less": "KernelMagics",
        "lf": "Other",
        "lk": "Other",
        "ll": "Other",
        "load": "CodeMagics",
        "load_ext": "ExtensionMagics",
        "loadpy": "CodeMagics",
        "logoff": "LoggingMagics",
        "logon": "LoggingMagics",
        "logstart": "LoggingMagics",
        "logstate": "LoggingMagics",
        "logstop": "LoggingMagics",
        "ls": "Other",
        "lsmagic": "BasicMagics",
        "lx": "Other",
        "macro": "ExecutionMagics",
        "magic": "BasicMagics",
        "man": "KernelMagics",
        "matplotlib": "PylabMagics",
        "mkdir": "Other",
        "more": "KernelMagics",
        "mv": "Other",
        "notebook": "BasicMagics",
        "page": "BasicMagics",
        "pastebin": "CodeMagics",
        "pdb": "ExecutionMagics",
        "pdef": "NamespaceMagics",
        "pdoc": "NamespaceMagics",
        "pfile": "NamespaceMagics",
        "pinfo": "NamespaceMagics",
        "pinfo2": "NamespaceMagics",
        "popd": "OSMagics",
        "pprint": "BasicMagics",
        "precision": "BasicMagics",
        "profile": "BasicMagics",
        "prun": "ExecutionMagics",
        "psearch": "NamespaceMagics",
        "psource": "NamespaceMagics",
        "pushd": "OSMagics",
        "pwd": "OSMagics",
        "pycat": "OSMagics",
        "pylab": "PylabMagics",
        "qtconsole": "KernelMagics",
        "quickref": "BasicMagics",
        "recall": "HistoryMagics",
        "rehashx": "OSMagics",
        "reload_ext": "ExtensionMagics",
        "rep": "Other",
        "rerun": "HistoryMagics",
        "reset": "NamespaceMagics",
        "reset_selective": "NamespaceMagics",
        "rm": "Other",
        "rmdir": "Other",
        "run": "ExecutionMagics",
        "save": "CodeMagics",
        "sc": "OSMagics",
        "set_env": "OSMagics",
        "store": "StoreMagics",
        "sx": "OSMagics",
        "system": "OSMagics",
        "tb": "ExecutionMagics",
        "time": "ExecutionMagics",
        "timeit": "ExecutionMagics",
        "unalias": "OSMagics",
        "unload_ext": "ExtensionMagics",
        "who": "NamespaceMagics",
        "who_ls": "NamespaceMagics",
        "whos": "NamespaceMagics",
        "xdel": "NamespaceMagics",
        "xmode": "BasicMagics"
       }
      },
      "text/plain": [
       "Available line magics:\n",
       "%alias  %alias_magic  %autocall  %automagic  %autosave  %bookmark  %cat  %cd  %clear  %colors  %config  %connect_info  %cp  %debug  %dhist  %dirs  %doctest_mode  %ed  %edit  %env  %gui  %hist  %history  %killbgscripts  %ldir  %less  %lf  %lk  %ll  %load  %load_ext  %loadpy  %logoff  %logon  %logstart  %logstate  %logstop  %ls  %lsmagic  %lx  %macro  %magic  %man  %matplotlib  %mkdir  %more  %mv  %notebook  %page  %pastebin  %pdb  %pdef  %pdoc  %pfile  %pinfo  %pinfo2  %popd  %pprint  %precision  %profile  %prun  %psearch  %psource  %pushd  %pwd  %pycat  %pylab  %qtconsole  %quickref  %recall  %rehashx  %reload_ext  %rep  %rerun  %reset  %reset_selective  %rm  %rmdir  %run  %save  %sc  %set_env  %store  %sx  %system  %tb  %time  %timeit  %unalias  %unload_ext  %who  %who_ls  %whos  %xdel  %xmode\n",
       "\n",
       "Available cell magics:\n",
       "%%!  %%HTML  %%SVG  %%bash  %%capture  %%debug  %%file  %%html  %%javascript  %%js  %%latex  %%perl  %%prun  %%pypy  %%python  %%python2  %%python3  %%ruby  %%script  %%sh  %%svg  %%sx  %%system  %%time  %%timeit  %%writefile\n",
       "\n",
       "Automagic is ON, % prefix IS NOT needed for line magics."
      ]
     },
     "execution_count": 27,
     "metadata": {},
     "output_type": "execute_result"
    }
   ],
   "source": [
    "%lsmagic"
   ]
  },
  {
   "cell_type": "markdown",
   "metadata": {},
   "source": [
    "##  Line magics\n",
    "\n",
    "- %run：執行 Python 代碼，可以直接從.py或.ipynb文件中執行python代碼\n",
    "- %who：列出全局範圍內的所有變量，還可以加入變量類型限定\n",
    "- %pycat：顯示外部腳本的內容\n",
    "- %prun：展示程序中每一行命令的耗時輸出\n",
    "- %time：度量執行時間\n",
    "- %pylab inline：讀入numpy, matplotlib （np, plt）\n",
    "- inline是為了讓matplotlib的圖能夠直接呈現於下方\n",
    "\n",
    "##  Cell magics\n",
    "\n",
    "- %%time：度量執行時間\n",
    "- %%writefile：將Cell的內容保存為文件"
   ]
  },
  {
   "cell_type": "code",
   "execution_count": 28,
   "metadata": {
    "scrolled": true
   },
   "outputs": [
    {
     "name": "stdout",
     "output_type": "stream",
     "text": [
      "Populating the interactive namespace from numpy and matplotlib\n"
     ]
    },
    {
     "name": "stderr",
     "output_type": "stream",
     "text": [
      "/Users/Andrew/anaconda/lib/python3.5/site-packages/IPython/core/magics/pylab.py:161: UserWarning: pylab import has clobbered these variables: ['bird_obj']\n",
      "`%matplotlib` prevents importing * from pylab and numpy\n",
      "  \"\\n`%matplotlib` prevents importing * from pylab and numpy\"\n"
     ]
    }
   ],
   "source": [
    "%pylab inline"
   ]
  },
  {
   "cell_type": "markdown",
   "metadata": {},
   "source": [
    "![](_img/writefile.png)"
   ]
  },
  {
   "cell_type": "markdown",
   "metadata": {
    "solution2": "hidden",
    "solution2_first": true
   },
   "source": [
    "<font size=6 style=\"text-shadow:0px 0px 15px #FF37FD;\">考考你</font>\n",
    "\n",
    "- 列出全域變數\n",
    "    1. 使用快捷鍵B，建立一個Cell於下方\n",
    "    1. 輸入全域變數的magic function\n",
    "    1. 使用快捷鍵Ctrl+Enter執行程式碼(保持在原地)\n",
    "    \n",
    "\n",
    "- 將Cell的內容保存為文件\n",
    "    1. 使用快捷鍵B，建立一個Cell於下方\n",
    "    1. 隨手輸入一些程式碼、文字及writefile magic function\n",
    "    1. 使用快捷鍵Shift + Enter執行程式碼(跳到下一格)\n",
    "\n",
    "<script>\n",
    "</script>\n"
   ]
  },
  {
   "cell_type": "markdown",
   "metadata": {
    "nbpresent": {
     "id": "c25ba4f0-a0e6-401d-96f3-a5e689c7e641"
    },
    "slideshow": {
     "slide_type": "slide"
    }
   },
   "source": [
    "# 網頁資料擷取概念"
   ]
  },
  {
   "cell_type": "markdown",
   "metadata": {
    "nbpresent": {
     "id": "2bdaddcd-6faa-423b-9de7-02ae2a44abb1"
    },
    "slideshow": {
     "slide_type": "subslide"
    }
   },
   "source": [
    "## 關於擷取網頁必要知識\n",
    "\n",
    "- 在HTTP 1.1的版本中定義了八種 Method (方法)，如下所示：\n",
    "    - OPTIONS\n",
    "    - **GET**\n",
    "    - HEAD\n",
    "    - **POST**\n",
    "    - PUT\n",
    "    - DELETE\n",
    "    - TRACE\n",
    "    - CONNECT"
   ]
  },
  {
   "cell_type": "markdown",
   "metadata": {
    "nbpresent": {
     "id": "4c2a89cc-279f-455f-aa3c-ed89076ff185"
    },
    "slideshow": {
     "slide_type": "subslide"
    }
   },
   "source": [
    "### GET與POST流程：\n",
    "![Flow of GET & POST](_img/GET_POST_flow.png)"
   ]
  },
  {
   "cell_type": "markdown",
   "metadata": {
    "nbpresent": {
     "id": "6d937501-ea1a-4b3f-899b-7d9da2e01f6e"
    },
    "slideshow": {
     "slide_type": "subslide"
    }
   },
   "source": [
    "### GET(明信片)與POST(信)的差別：\n",
    "![Example of GET & POST](_img/GET_POST_EX.png)"
   ]
  },
  {
   "cell_type": "markdown",
   "metadata": {
    "nbpresent": {
     "id": "efe51e28-4e55-4ff1-8b4b-16d6fc876b89"
    },
    "slideshow": {
     "slide_type": "subslide"
    }
   },
   "source": [
    "### 開始動手GET網頁"
   ]
  },
  {
   "cell_type": "code",
   "execution_count": 44,
   "metadata": {},
   "outputs": [
    {
     "data": {
      "text/html": [
       "<iframe src=http://www.example.com/ width=800 height=400></iframe>"
      ],
      "text/plain": [
       "<IPython.core.display.HTML object>"
      ]
     },
     "metadata": {},
     "output_type": "display_data"
    }
   ],
   "source": [
    "%%html\n",
    "<iframe src=http://www.example.com/ width=800 height=400></iframe>"
   ]
  },
  {
   "cell_type": "code",
   "execution_count": 45,
   "metadata": {
    "nbpresent": {
     "id": "f2678968-f9df-482f-bf71-f2980f8b9cd5"
    },
    "scrolled": true
   },
   "outputs": [
    {
     "name": "stdout",
     "output_type": "stream",
     "text": [
      "<!doctype html>\n",
      "<html>\n",
      "<head>\n",
      "    <title>Example Domain</title>\n",
      "\n",
      "    <meta charset=\"utf-8\" />\n",
      "    <meta http-equiv=\"Content-type\" content=\"text/html; charset=utf-8\" />\n",
      "    <meta name=\"viewport\" content=\"width=device-width, initial-scale=1\" />\n",
      "    <style type=\"text/css\">\n",
      "    body {\n",
      "        background-color: #f0f0f2;\n",
      "        margin: 0;\n",
      "        padding: 0;\n",
      "        font-family: \"Open Sans\", \"Helvetica Neue\", Helvetica, Arial, sans-serif;\n",
      "        \n",
      "    }\n",
      "    div {\n",
      "        width: 600px;\n",
      "        margin:\n"
     ]
    }
   ],
   "source": [
    "import requests\n",
    "res_example = requests.get('http://www.example.com/')\n",
    "print(res_example.text[:500])"
   ]
  },
  {
   "cell_type": "code",
   "execution_count": 48,
   "metadata": {},
   "outputs": [
    {
     "data": {
      "text/plain": [
       "str"
      ]
     },
     "execution_count": 48,
     "metadata": {},
     "output_type": "execute_result"
    }
   ],
   "source": [
    "type(res_example.text)"
   ]
  },
  {
   "cell_type": "markdown",
   "metadata": {},
   "source": [
    "<font size=6 style=\"text-shadow:0px 0px 15px #FF37FD;\">練習</font>\n",
    "- GET 「Google Play商店的APP評論」\n",
    "- 請依下列步驟練習：\n",
    "    - 打開Chrome瀏覽器，於網址列中輸入Google Play並進入其網站\n",
    "    - 於Google Play中搜尋「Whos call」並進入其App內頁\n",
    "    - 依照上述步驟將網頁GET下來\n",
    "    - 解答：%pycat _homework/gooplay_get.py"
   ]
  },
  {
   "cell_type": "markdown",
   "metadata": {
    "slideshow": {
     "slide_type": "subslide"
    }
   },
   "source": [
    "### 開始動手POST網頁\n",
    "\n",
    "- https://www.cs.tut.fi/~jkorpela/forms/testing.html\n",
    "- 請見網頁中第一個範例"
   ]
  },
  {
   "cell_type": "code",
   "execution_count": 49,
   "metadata": {
    "scrolled": false
   },
   "outputs": [
    {
     "data": {
      "text/html": [
       "<iframe src=https://www.cs.tut.fi/~jkorpela/forms/testing.html width=800 height=250></iframe>"
      ],
      "text/plain": [
       "<IPython.core.display.HTML object>"
      ]
     },
     "metadata": {},
     "output_type": "display_data"
    }
   ],
   "source": [
    "%%html\n",
    "<iframe src=https://www.cs.tut.fi/~jkorpela/forms/testing.html width=800 height=250></iframe>"
   ]
  },
  {
   "cell_type": "markdown",
   "metadata": {},
   "source": [
    "#### 網頁內容已經透露了規則\n",
    "\n",
    "```html\n",
    "<FORM ACTION=\"http://www.cs.tut.fi/cgi-bin/run/~jkorpela/echo.cgi\"\n",
    "METHOD=\"POST\">\n",
    "<P>\n",
    "Type something:<BR>\n",
    "<TEXTAREA ROWS=5 COLS=72 NAME=Comments>\n",
    "This is\n",
    "some text\n",
    "in several lines.\n",
    "</TEXTAREA>\n",
    "<p>\n",
    "<INPUT TYPE=\"checkbox\" NAME=\"box\" VALUE=\"yes\">Check me!\n",
    "<P>\n",
    "<INPUT TYPE=\"HIDDEN\" NAME=\"hidden field\" VALUE=\"something\">\n",
    "<INPUT TYPE=\"SUBMIT\" VALUE=\"Send\">\n",
    "</FORM>\n",
    "```"
   ]
  },
  {
   "cell_type": "code",
   "execution_count": 32,
   "metadata": {
    "scrolled": true
   },
   "outputs": [
    {
     "name": "stdout",
     "output_type": "stream",
     "text": [
      "<!DOCTYPE HTML PUBLIC \"-//W3C//DTD HTML 4.01 Transitional//EN\">\n",
      "<html lang=\"en-US\">\n",
      "<head>\n",
      "<title>Echoing submitted form data</title>\n",
      "</head>\n",
      "<body>\n",
      "<h1 style=\"font-size:1.2em\">Echoing submitted form data</h1>\n",
      "<table border=\"1\" cellspacing=\"0\">\n",
      "<tr><th align=\"left\" nowrap><tt>hidden field</tt></th><td nowrap><tt>Im Here</tt></td></tr>\n",
      "<tr><th align=\"left\" nowrap><tt>box</tt></th><td nowrap><tt>yes</tt></td></tr>\n",
      "<tr><th align=\"left\" nowrap><tt>Comments</tt></th><td nowrap><tt>HELLO~</tt></td></tr>\n",
      "</table>\n",
      "<p>Processed 2017-04-08T00:16Z\n",
      "</p>\n",
      "</body>\n",
      "</html>\n"
     ]
    }
   ],
   "source": [
    "payload = {\n",
    "    'Comments':'HELLO~',\n",
    "    'box':'yes',\n",
    "    'hidden field':'Im Here'\n",
    "}\n",
    "\n",
    "res_simple_post1 = requests.post('http://www.cs.tut.fi/cgi-bin/run/~jkorpela/echo.cgi', data = payload)\n",
    "print(res_simple_post1.text)"
   ]
  },
  {
   "cell_type": "markdown",
   "metadata": {},
   "source": [
    "#### 透過HTML函數，看看編譯後的網頁"
   ]
  },
  {
   "cell_type": "code",
   "execution_count": 33,
   "metadata": {},
   "outputs": [
    {
     "data": {
      "text/html": [
       "<!DOCTYPE HTML PUBLIC \"-//W3C//DTD HTML 4.01 Transitional//EN\">\n",
       "<html lang=\"en-US\">\n",
       "<head>\n",
       "<title>Echoing submitted form data</title>\n",
       "</head>\n",
       "<body>\n",
       "<h1 style=\"font-size:1.2em\">Echoing submitted form data</h1>\n",
       "<table border=\"1\" cellspacing=\"0\">\n",
       "<tr><th align=\"left\" nowrap><tt>hidden field</tt></th><td nowrap><tt>Im Here</tt></td></tr>\n",
       "<tr><th align=\"left\" nowrap><tt>box</tt></th><td nowrap><tt>yes</tt></td></tr>\n",
       "<tr><th align=\"left\" nowrap><tt>Comments</tt></th><td nowrap><tt>HELLO~</tt></td></tr>\n",
       "</table>\n",
       "<p>Processed 2017-04-08T00:16Z\n",
       "</p>\n",
       "</body>\n",
       "</html>"
      ],
      "text/plain": [
       "<IPython.core.display.HTML object>"
      ]
     },
     "execution_count": 33,
     "metadata": {},
     "output_type": "execute_result"
    }
   ],
   "source": [
    "from IPython.display import display, HTML\n",
    "HTML(res_simple_post1.text)"
   ]
  },
  {
   "cell_type": "markdown",
   "metadata": {},
   "source": [
    "### 若網頁沒有透露規則呢？\n",
    "\n",
    "- 開發人員工具\n",
    "    - 建議使用Chrome\n",
    "    - 滑鼠右鍵 -> 檢查\n",
    "\n",
    "<font size=6>Step 1 ------------------------</font>\n",
    "![](_img/post_1.png)\n",
    "\n",
    "<font size=6>Step 2 ------------------------</font>\n",
    "![](_img/post_2.png)\n",
    "\n",
    "<font size=6>Step 3 ------------------------</font>\n",
    "![](_img/post_3.png)"
   ]
  },
  {
   "cell_type": "markdown",
   "metadata": {},
   "source": [
    "<font size=6 style=\"text-shadow:0px 0px 15px #FF37FD;\">練習</font>\n",
    "- POST 「簡易網站」\n",
    "- 請依下列步驟練習：\n",
    "    - https://www.cs.tut.fi/~jkorpela/forms/testing.html\n",
    "    - 請見網頁中最下方的範例\n",
    "    - 依照上述步驟找出規則\n",
    "    - 用POST方法，傳送表單('Comments' : 'I love Python', 'hidden field':'R is nice also')\n",
    "    - print出server端回傳的response，並且透過HTML函數將其內容重現\n",
    "    - 解答：%pycat _homework/simple_post2.py"
   ]
  },
  {
   "cell_type": "markdown",
   "metadata": {},
   "source": [
    "## 來個中等難度的POST「擷取Play商店評論」\n",
    "- 事實上，前面以GET擷取的Google Play頁面中，僅包含前40筆APP評論\n",
    "- 當User切換頁面直到看完前40筆時，才會發出新的POST request取得下一個40筆評論\n",
    "- 取得POST表單資訊步驟：\n",
    "    - 首先：打開「開發人員工具」\n",
    "    - 第二步：![](_img/gooplay_pager.png)\n",
    "    - 第三步：![](_img/POST_scrapingFlow.png)\n",
    "    - 最後：以上述相同方式，於Python中取得網頁資料\n",
    "    - 請觀察取得之response與GET方法取得之response有何不同？"
   ]
  },
  {
   "cell_type": "code",
   "execution_count": 100,
   "metadata": {
    "nbpresent": {
     "id": "123bcdf1-6d2a-4b57-9e60-25a8cd949d1c"
    },
    "scrolled": false
   },
   "outputs": [
    {
     "name": "stdout",
     "output_type": "stream",
     "text": [
      ")]}'\n",
      "\n",
      "[[\"ecr\",1,\" \\u003cdiv class\\u003d\\\"single-review\\\" tabindex\\u003d\\\"0\\\"\\u003e   \\u003cspan\\u003e \\u003cspan class\\u003d\\\"responsive-img-ldpi\\\"\\u003e \\u003cspan class\\u003d\\\"responsive-img author-image\\\" style\\u003d\\\"background-image:url(https://lh5.googleusercontent.com/-yMoOCk9Qa7U/AAAAAAAAAAI/AAAAAAAAAAA/AMcAYi8c9RU4ry9_A-ELPsfzUKfg0SqEVA/w48-c-h48/photo.jpg)\\\"\\u003e\\u003c/span\\u003e \\u003c/span\\u003e \\u003cspan class\\u003d\\\"responsive-img-hdpi\\\"\\u003e \\u003cspan class\\u003d\\\"responsive-img author-image\\\" style\\u003d\\\"background-image:url(https://lh5.googleusercontent.com/-yMoOCk9Qa7U/AAAAAAAAAAI/AAAAAAAAAAA/AMcAYi8c9RU4ry9_A-ELPsfzUKfg0SqEVA/w96-c-h96/photo.jpg)\\\"\\u003e\\u003c/span\\u003e \\u003c/span\\u003e \\u003c/span\\u003e  \\u003cdiv class\\u003d\\\"review-header\\\" data-expand-target\\u003d\\\"\\\" data-reviewid\\u003d\\\"gp:AOqpTOHWBU8PjgMX-LMElUkkvAGrZ1aRs7pwAxd1cXDtGWykgNtMUZ7nRgHW3tMg7FHf70A-q0tlHolesG4VUFc\\\"\\u003e \\u003cdiv class\\u003d\\\"review-info\\\"\\u003e \\u003cspan class\\u003d\\\"author-name\\\"\\u003e  趙惠喬 \\u003c/span\\u003e  \\u003cspan class\\u003d\\\"review-date\\\"\\u003e2017年4月8日\\u003c/span\\u003e \\u003ca class\\u003d\\\"reviews-permalink\\\" href\\u003d\\\"/store/apps/details?id\\u003dgogolook.callgogolook2\\u0026amp;reviewId\\u003dZ3A6QU9xcFRPSFdCVThQamdNWC1MTUVsVWtrdkFHcloxYVJzN3B3QXhkMWNYRHRHV3lrZ050TVVaN25SZ0hXM3RNZzdGSGY3MEEtcTB0bEhvbGVzRzRWVUZj\\\" title\\u003d\\\"這則評論的連結\\\"\\u003e\\u003c/a\\u003e \\u003cdiv class\\u003d\\\"review-source\\\" style\\u003d\\\"display:none\\\"\\u003e\\u003c/div\\u003e \\u003cdiv class\\u003d\\\"review-info-star-rating\\\"\\u003e  \\u003cdiv class\\u003d\\\"tiny-star star-rating-non-editable-container\\\" aria-label\\u003d\\\"獲評為 1 顆星 (總分 5 顆星)\\\"\\u003e \\u003cdiv class\\u003d\\\"current-rating\\\" jsname\\u003d\\\"jIIjq\\\" style\\u003d\\\"width: 20%;\\\"\\u003e\\u003c/div\\u003e \\u003c/div\\u003e  \\u003c/div\\u003e \\u003c/div\\u003e \\u003cdiv class\\u003d\\\"rate-review-wrapper\\\"\\u003e \\u003cdiv class\\u003d\\\"play-button icon-button small rate-review\\\" title\\u003d\\\"垃圾內容\\\" data-rating\\u003d\\\"SPAM\\\"\\u003e \\u00\n"
     ]
    }
   ],
   "source": [
    "payload = {\n",
    " 'reviewType':0,\n",
    " 'pageNum':0,\n",
    " 'id':'gogolook.callgogolook2',\n",
    " 'reviewSortOrder':0,\n",
    " 'xhr':1,\n",
    " 'token':'f5SGT3uzjbPnw4UuG7wVijcgy8I:1484411541061',\n",
    " 'hl':'zh_TW'\n",
    "}\n",
    "\n",
    "res_gooplay_post = requests.post('https://play.google.com/store/getreviews?authuser=0', data = payload)\n",
    "print(res_gooplay_post.text[:2000])"
   ]
  },
  {
   "cell_type": "markdown",
   "metadata": {},
   "source": [
    "<font size=6 style=\"text-shadow:0px 0px 15px #FF37FD;\">練習</font>\n",
    "- POST 「擷取Play商店評論」\n",
    "- 請試著以其他的APP來練習擷取評論"
   ]
  },
  {
   "cell_type": "markdown",
   "metadata": {
    "nbpresent": {
     "id": "df8dc987-1a21-4872-9426-4237265b5e10"
    },
    "slideshow": {
     "slide_type": "subslide"
    }
   },
   "source": [
    "## HTML原始碼解析(BeautifulSoup)"
   ]
  },
  {
   "cell_type": "markdown",
   "metadata": {
    "nbpresent": {
     "id": "cebd56e3-07ba-430a-afc9-f676e2a0f7e0"
    }
   },
   "source": [
    "### BeautifulSoup簡介\n",
    "\n",
    "Beautiful Soup is a Python library for pulling data out of HTML and XML files. It works with your favorite parser to provide idiomatic ways of navigating, searching, and modifying the parse tree. It commonly saves programmers hours or days of work."
   ]
  },
  {
   "cell_type": "markdown",
   "metadata": {
    "nbpresent": {
     "id": "f7597b51-0389-42d3-b897-d3d555612c38"
    }
   },
   "source": [
    "- 所需套件安裝：\n",
    "    - !pip install beautifulsoup4\n",
    "    - !pip3 install lxml"
   ]
  },
  {
   "cell_type": "markdown",
   "metadata": {},
   "source": [
    "#### 從bs4(BeautifulSoup4)中載入BeautifulSoup函數\n",
    "- BeautifulSoup將複雜的HTML文檔轉換成一個樹形結構"
   ]
  },
  {
   "cell_type": "code",
   "execution_count": 53,
   "metadata": {
    "collapsed": true,
    "nbpresent": {
     "id": "3fd920a3-8770-4712-bee7-496a3c109efb"
    }
   },
   "outputs": [],
   "source": [
    "from bs4 import BeautifulSoup"
   ]
  },
  {
   "cell_type": "markdown",
   "metadata": {},
   "source": [
    "#### 回顧一下前面 www.example.com 的網頁原始碼"
   ]
  },
  {
   "cell_type": "code",
   "execution_count": 54,
   "metadata": {
    "scrolled": false
   },
   "outputs": [
    {
     "name": "stdout",
     "output_type": "stream",
     "text": [
      "<!doctype html>\n",
      "<html>\n",
      "<head>\n",
      "    <title>Example Domain</title>\n",
      "\n",
      "    <meta charset=\"utf-8\" />\n",
      "    <meta http-equiv=\"Content-type\" content=\"text/html; charset=utf-8\" />\n",
      "    <meta name=\"viewport\" content=\"width=device-width, initial-scale=1\" />\n",
      "    <style type=\"text/css\">\n",
      "    body {\n",
      "        background-color: #f0f0f2;\n",
      "        margin: 0;\n",
      "        padding: 0;\n",
      "        font-family: \"Open Sans\", \"Helvetica Neue\", Helvetica, Arial, sans-serif;\n",
      "        \n",
      "    }\n",
      "    div {\n",
      "        width: 600px;\n",
      "        margin: 5em auto;\n",
      "        padding: 50px;\n",
      "        background-color: #fff;\n",
      "        border-radius: 1em;\n",
      "    }\n",
      "    a:link, a:visited {\n",
      "        color: #38488f;\n",
      "        text-decoration: none;\n",
      "    }\n",
      "    @media (max-width: 700px) {\n",
      "        body {\n",
      "            background-color: #fff;\n",
      "        }\n",
      "        div {\n",
      "            width: auto;\n",
      "            margin: 0 auto;\n",
      "            border-radius: 0;\n",
      "            padding: 1em;\n",
      "        }\n",
      "    }\n",
      "    </style>    \n",
      "</head>\n",
      "\n",
      "<body>\n",
      "<div>\n",
      "    <h1>Example Domain</h1>\n",
      "    <p>This domain is established to be used for illustrative examples in documents. You may use this\n",
      "    domain in examples without prior coordination or asking for permission.</p>\n",
      "    <p><a href=\"http://www.iana.org/domains/example\">More information...</a></p>\n",
      "</div>\n",
      "</body>\n",
      "</html>\n",
      "\n"
     ]
    }
   ],
   "source": [
    "print(res_example.text)"
   ]
  },
  {
   "cell_type": "markdown",
   "metadata": {},
   "source": [
    "#### 瞭解下面執行BeautifulSoup函數時發生了什麼事？"
   ]
  },
  {
   "cell_type": "code",
   "execution_count": 55,
   "metadata": {
    "scrolled": true
   },
   "outputs": [
    {
     "name": "stderr",
     "output_type": "stream",
     "text": [
      "/Users/Andrew/anaconda/lib/python3.5/site-packages/bs4/__init__.py:181: UserWarning: No parser was explicitly specified, so I'm using the best available HTML parser for this system (\"lxml\"). This usually isn't a problem, but if you run this code on another system, or in a different virtual environment, it may use a different parser and behave differently.\n",
      "\n",
      "The code that caused this warning is on line 184 of the file /Users/Andrew/anaconda/lib/python3.5/runpy.py. To get rid of this warning, change code that looks like this:\n",
      "\n",
      " BeautifulSoup([your markup])\n",
      "\n",
      "to this:\n",
      "\n",
      " BeautifulSoup([your markup], \"lxml\")\n",
      "\n",
      "  markup_type=markup_type))\n"
     ]
    }
   ],
   "source": [
    "soup = BeautifulSoup(res_example.text)"
   ]
  },
  {
   "cell_type": "markdown",
   "metadata": {
    "nbpresent": {
     "id": "94eca8e0-cc52-409a-9a8a-0690fe420019"
    }
   },
   "source": [
    "下表列出了主要的解析器，以及它們的優缺點：\n",
    "\n",
    "| 解析器       | 使用方法                            | 優勢                                                 | 劣勢 |\n",
    "|--------------|-------------------------------------|------------------------------------------------------|------|\n",
    "| Python標準庫 | BeautifulSoup(markup,\"html.parser\") | <ul><li>Python的內建標準庫</li><li>執行速度適中</li><li>文檔容錯能力強</li></ul> | Python 2.7.3及3.2.2之前的版本中文檔容錯能力差   |\n",
    "| lxml HTML 解析器          | BeautifulSoup(markup, \"lxml\")                                | <ul><li>速度快</li><li>文檔容錯能力強</li></ul>                                   | 需要安装C语言库   |\n",
    "| xml XML 解析器           | BeautifulSoup(markup, \"xml\")                                | <ul><li>速度快</li><li>唯一支持XML的解析器</li></ul>                                             | 需要安装C语言库   |\n",
    "| html5lib          | BeautifulSoup(markup, \"html5lib\")                                | <ul><li>最好的容錯性</li><li>以瀏覽器的方式解析文檔</li><li>生成HTML5格式的文檔</li></ul>                                 | <ul><li>速度慢</li><li>不依賴外部擴展</li></ul>   |\n",
    "\n",
    "節錄自官網 - https://www.crummy.com/software/BeautifulSoup/bs4/doc.zh/ "
   ]
  },
  {
   "cell_type": "code",
   "execution_count": 52,
   "metadata": {},
   "outputs": [
    {
     "ename": "NameError",
     "evalue": "name 'BeautifulSoup' is not defined",
     "output_type": "error",
     "traceback": [
      "\u001b[0;31m---------------------------------------------------------------------------\u001b[0m",
      "\u001b[0;31mNameError\u001b[0m                                 Traceback (most recent call last)",
      "\u001b[0;32m<ipython-input-52-3ff776904bc3>\u001b[0m in \u001b[0;36m<module>\u001b[0;34m()\u001b[0m\n\u001b[0;32m----> 1\u001b[0;31m \u001b[0msoup\u001b[0m \u001b[0;34m=\u001b[0m \u001b[0mBeautifulSoup\u001b[0m\u001b[0;34m(\u001b[0m\u001b[0mres_example\u001b[0m\u001b[0;34m.\u001b[0m\u001b[0mtext\u001b[0m\u001b[0;34m,\u001b[0m \u001b[0;34m\"lxml\"\u001b[0m\u001b[0;34m)\u001b[0m\u001b[0;34m\u001b[0m\u001b[0m\n\u001b[0m",
      "\u001b[0;31mNameError\u001b[0m: name 'BeautifulSoup' is not defined"
     ]
    }
   ],
   "source": [
    "soup = BeautifulSoup(res_example.text, \"lxml\")"
   ]
  },
  {
   "cell_type": "code",
   "execution_count": 39,
   "metadata": {},
   "outputs": [
    {
     "data": {
      "text/plain": [
       "bs4.BeautifulSoup"
      ]
     },
     "execution_count": 39,
     "metadata": {},
     "output_type": "execute_result"
    }
   ],
   "source": [
    "type(soup)"
   ]
  },
  {
   "cell_type": "markdown",
   "metadata": {},
   "source": [
    "### CSS選擇器\n",
    "- 使用 `soup.select()`，返回類型是 list\n",
    "    - 以tag選擇：`soup.select('title')`\n",
    "    - 以class選擇：`soup.select('.review-header')`\n",
    "    - 以id選擇：`soup.select('#link1')`\n",
    "    - 組合選擇：`soup.select('div #link1')`, `soup.select('p > a')`\n",
    "    - 加入屬性元素：`soup.select('div[class=\"review-header\"]')`"
   ]
  },
  {
   "cell_type": "code",
   "execution_count": 56,
   "metadata": {
    "scrolled": true
   },
   "outputs": [
    {
     "data": {
      "text/plain": [
       "[<title>Example Domain</title>]"
      ]
     },
     "execution_count": 56,
     "metadata": {},
     "output_type": "execute_result"
    }
   ],
   "source": [
    "soup.select('title')"
   ]
  },
  {
   "cell_type": "code",
   "execution_count": 41,
   "metadata": {},
   "outputs": [
    {
     "data": {
      "text/plain": [
       "list"
      ]
     },
     "execution_count": 41,
     "metadata": {},
     "output_type": "execute_result"
    }
   ],
   "source": [
    "type(soup.select('title'))"
   ]
  },
  {
   "cell_type": "code",
   "execution_count": 42,
   "metadata": {
    "scrolled": true
   },
   "outputs": [
    {
     "data": {
      "text/plain": [
       "bs4.element.Tag"
      ]
     },
     "execution_count": 42,
     "metadata": {},
     "output_type": "execute_result"
    }
   ],
   "source": [
    "type(soup.select('title')[0])"
   ]
  },
  {
   "cell_type": "code",
   "execution_count": 43,
   "metadata": {},
   "outputs": [
    {
     "data": {
      "text/plain": [
       "[<p>This domain is established to be used for illustrative examples in documents. You may use this\n",
       "     domain in examples without prior coordination or asking for permission.</p>,\n",
       " <p><a href=\"http://www.iana.org/domains/example\">More information...</a></p>]"
      ]
     },
     "execution_count": 43,
     "metadata": {},
     "output_type": "execute_result"
    }
   ],
   "source": [
    "soup.select('p')"
   ]
  },
  {
   "cell_type": "code",
   "execution_count": 44,
   "metadata": {
    "scrolled": false
   },
   "outputs": [
    {
     "data": {
      "text/plain": [
       "[<a href=\"http://www.iana.org/domains/example\">More information...</a>]"
      ]
     },
     "execution_count": 44,
     "metadata": {},
     "output_type": "execute_result"
    }
   ],
   "source": [
    "soup.select('p > a')"
   ]
  },
  {
   "cell_type": "markdown",
   "metadata": {
    "nbpresent": {
     "id": "0833486f-7996-4567-985c-fcfc7b423170"
    },
    "slideshow": {
     "slide_type": "subslide"
    }
   },
   "source": [
    "## 透過開發人員工具找出欲擷取資料之規則\n",
    "- 以小遊戲瞭解何為**XPath** (http://www.topswagcode.com/xpath/)\n",
    "![開發人員工具介面及XPath尋找](_img/GET_POST_xpath.png)"
   ]
  },
  {
   "cell_type": "markdown",
   "metadata": {},
   "source": [
    "<font size=6 style=\"text-shadow:0px 0px 15px #FF37FD;\">練習</font>\n",
    "- 將「res_gooplay_get.text」網頁原始碼parse出user評論\n",
    "- 請依下列步驟練習：\n",
    "    - 將`res_gooplay_get.text`轉換為`BeautifulSoup`物件\n",
    "    - 依照上述步驟找出規則並取得user評論的list\n",
    "    - 將list依序print出來\n",
    "    - 解答：%pycat _homework/parse_gooplay.py"
   ]
  },
  {
   "cell_type": "code",
   "execution_count": 64,
   "metadata": {
    "collapsed": true
   },
   "outputs": [],
   "source": [
    "%pycat _homework/parse_gooplay.py"
   ]
  },
  {
   "cell_type": "markdown",
   "metadata": {},
   "source": [
    "### 若網頁中有表格，透過pandas套件輕鬆取得並轉換為DataFrame\n",
    "\n",
    "我們把網頁資訊讀入, pandas 會自己找出一個個表格!"
   ]
  },
  {
   "cell_type": "code",
   "execution_count": 45,
   "metadata": {
    "collapsed": true,
    "nbpresent": {
     "id": "62174254-34b7-4e15-b82a-ae732cd0b176"
    },
    "slideshow": {
     "slide_type": "-"
    }
   },
   "outputs": [],
   "source": [
    "import pandas as pd\n",
    "dfs = pd.read_html(res_simple_post1.text)"
   ]
  },
  {
   "cell_type": "markdown",
   "metadata": {
    "nbpresent": {
     "id": "ab72d19b-ce68-41d4-b440-99f83a2713ec"
    }
   },
   "source": [
    "- If error about 'html5lib' not found\n",
    "    - https://anaconda.org/anaconda/html5lib"
   ]
  },
  {
   "cell_type": "code",
   "execution_count": 46,
   "metadata": {
    "nbpresent": {
     "id": "8109317f-390b-41be-be67-e645850b47bb"
    },
    "scrolled": true
   },
   "outputs": [
    {
     "data": {
      "text/html": [
       "<div>\n",
       "<table border=\"1\" class=\"dataframe\">\n",
       "  <thead>\n",
       "    <tr style=\"text-align: right;\">\n",
       "      <th></th>\n",
       "      <th>0</th>\n",
       "      <th>1</th>\n",
       "    </tr>\n",
       "  </thead>\n",
       "  <tbody>\n",
       "    <tr>\n",
       "      <th>0</th>\n",
       "      <td>hidden field</td>\n",
       "      <td>Im Here</td>\n",
       "    </tr>\n",
       "    <tr>\n",
       "      <th>1</th>\n",
       "      <td>box</td>\n",
       "      <td>yes</td>\n",
       "    </tr>\n",
       "    <tr>\n",
       "      <th>2</th>\n",
       "      <td>Comments</td>\n",
       "      <td>HELLO~</td>\n",
       "    </tr>\n",
       "  </tbody>\n",
       "</table>\n",
       "</div>"
      ],
      "text/plain": [
       "              0        1\n",
       "0  hidden field  Im Here\n",
       "1           box      yes\n",
       "2      Comments   HELLO~"
      ]
     },
     "execution_count": 46,
     "metadata": {},
     "output_type": "execute_result"
    }
   ],
   "source": [
    "dfs[0]"
   ]
  },
  {
   "cell_type": "markdown",
   "metadata": {},
   "source": [
    "<font size=6 style=\"text-shadow:0px 0px 15px #FF37FD;\">練習</font>\n",
    "- 將「mac-benchmarks」網頁原始碼parse出表格資料\n",
    "- 請依下列步驟練習：\n",
    "    - 以GET方法將網頁 https://browser.primatelabs.com/mac-benchmarks 原始碼讀入\n",
    "    - 依照上述步驟parse出表格資料\n",
    "    - 試著只取得其機型與分數欄位\n",
    "    - 以plot函數，繪製長條圖\n",
    "    - 解答：%pycat _homework/mac-benchmarks.py"
   ]
  },
  {
   "cell_type": "markdown",
   "metadata": {},
   "source": [
    "### 為何要加「;」，試試看不加。\n",
    "Suppress the output of a final function"
   ]
  },
  {
   "cell_type": "markdown",
   "metadata": {},
   "source": [
    "<font size=6 style=\"text-shadow:0px 0px 15px #FF37FD;\">練習</font>\n",
    "- 擷取並parse「批批踢JOKE版的一篇文章」\n",
    "- 請依下列步驟練習：\n",
    "    - 以GET方法將網頁 https://www.ptt.cc/bbs/joke/M.1464278893.A.2FE.html 原始碼讀入\n",
    "    - 依照上述步驟parse出推文內容及推文者\n",
    "    - 透過for迴圈，整齊印出\n",
    "    - 解答：%pycat _homework/ppt_get.py"
   ]
  },
  {
   "cell_type": "markdown",
   "metadata": {},
   "source": [
    "# 探索式資料分析"
   ]
  },
  {
   "cell_type": "markdown",
   "metadata": {},
   "source": [
    "## 以NBA 2013-2014賽季的球員數據為例"
   ]
  },
  {
   "cell_type": "markdown",
   "metadata": {},
   "source": [
    "### 以pandas套件載入CSV資料"
   ]
  },
  {
   "cell_type": "code",
   "execution_count": 84,
   "metadata": {
    "collapsed": true
   },
   "outputs": [],
   "source": [
    "import pandas as pd\n",
    "nba = pd.read_csv(\"_data/nba_2013.csv\")"
   ]
  },
  {
   "cell_type": "markdown",
   "metadata": {},
   "source": [
    "### 以DataFrame中的shape物件，列出球員數(row)及特徵數(col)"
   ]
  },
  {
   "cell_type": "code",
   "execution_count": 48,
   "metadata": {
    "scrolled": true
   },
   "outputs": [
    {
     "data": {
      "text/plain": [
       "(481, 31)"
      ]
     },
     "execution_count": 48,
     "metadata": {},
     "output_type": "execute_result"
    }
   ],
   "source": [
    "nba.shape"
   ]
  },
  {
   "cell_type": "markdown",
   "metadata": {},
   "source": [
    "### 列出前五筆(row)資料"
   ]
  },
  {
   "cell_type": "code",
   "execution_count": 49,
   "metadata": {
    "scrolled": true
   },
   "outputs": [
    {
     "data": {
      "text/html": [
       "<div>\n",
       "<table border=\"1\" class=\"dataframe\">\n",
       "  <thead>\n",
       "    <tr style=\"text-align: right;\">\n",
       "      <th></th>\n",
       "      <th>player</th>\n",
       "      <th>pos</th>\n",
       "      <th>age</th>\n",
       "      <th>bref_team_id</th>\n",
       "      <th>g</th>\n",
       "      <th>gs</th>\n",
       "      <th>mp</th>\n",
       "      <th>fg</th>\n",
       "      <th>fga</th>\n",
       "      <th>fg.</th>\n",
       "      <th>...</th>\n",
       "      <th>drb</th>\n",
       "      <th>trb</th>\n",
       "      <th>ast</th>\n",
       "      <th>stl</th>\n",
       "      <th>blk</th>\n",
       "      <th>tov</th>\n",
       "      <th>pf</th>\n",
       "      <th>pts</th>\n",
       "      <th>season</th>\n",
       "      <th>season_end</th>\n",
       "    </tr>\n",
       "  </thead>\n",
       "  <tbody>\n",
       "    <tr>\n",
       "      <th>0</th>\n",
       "      <td>Quincy Acy</td>\n",
       "      <td>SF</td>\n",
       "      <td>23</td>\n",
       "      <td>TOT</td>\n",
       "      <td>63</td>\n",
       "      <td>0</td>\n",
       "      <td>847</td>\n",
       "      <td>66</td>\n",
       "      <td>141</td>\n",
       "      <td>0.468</td>\n",
       "      <td>...</td>\n",
       "      <td>144</td>\n",
       "      <td>216</td>\n",
       "      <td>28</td>\n",
       "      <td>23</td>\n",
       "      <td>26</td>\n",
       "      <td>30</td>\n",
       "      <td>122</td>\n",
       "      <td>171</td>\n",
       "      <td>2013-2014</td>\n",
       "      <td>2013</td>\n",
       "    </tr>\n",
       "    <tr>\n",
       "      <th>1</th>\n",
       "      <td>Steven Adams</td>\n",
       "      <td>C</td>\n",
       "      <td>20</td>\n",
       "      <td>OKC</td>\n",
       "      <td>81</td>\n",
       "      <td>20</td>\n",
       "      <td>1197</td>\n",
       "      <td>93</td>\n",
       "      <td>185</td>\n",
       "      <td>0.503</td>\n",
       "      <td>...</td>\n",
       "      <td>190</td>\n",
       "      <td>332</td>\n",
       "      <td>43</td>\n",
       "      <td>40</td>\n",
       "      <td>57</td>\n",
       "      <td>71</td>\n",
       "      <td>203</td>\n",
       "      <td>265</td>\n",
       "      <td>2013-2014</td>\n",
       "      <td>2013</td>\n",
       "    </tr>\n",
       "    <tr>\n",
       "      <th>2</th>\n",
       "      <td>Jeff Adrien</td>\n",
       "      <td>PF</td>\n",
       "      <td>27</td>\n",
       "      <td>TOT</td>\n",
       "      <td>53</td>\n",
       "      <td>12</td>\n",
       "      <td>961</td>\n",
       "      <td>143</td>\n",
       "      <td>275</td>\n",
       "      <td>0.520</td>\n",
       "      <td>...</td>\n",
       "      <td>204</td>\n",
       "      <td>306</td>\n",
       "      <td>38</td>\n",
       "      <td>24</td>\n",
       "      <td>36</td>\n",
       "      <td>39</td>\n",
       "      <td>108</td>\n",
       "      <td>362</td>\n",
       "      <td>2013-2014</td>\n",
       "      <td>2013</td>\n",
       "    </tr>\n",
       "    <tr>\n",
       "      <th>3</th>\n",
       "      <td>Arron Afflalo</td>\n",
       "      <td>SG</td>\n",
       "      <td>28</td>\n",
       "      <td>ORL</td>\n",
       "      <td>73</td>\n",
       "      <td>73</td>\n",
       "      <td>2552</td>\n",
       "      <td>464</td>\n",
       "      <td>1011</td>\n",
       "      <td>0.459</td>\n",
       "      <td>...</td>\n",
       "      <td>230</td>\n",
       "      <td>262</td>\n",
       "      <td>248</td>\n",
       "      <td>35</td>\n",
       "      <td>3</td>\n",
       "      <td>146</td>\n",
       "      <td>136</td>\n",
       "      <td>1330</td>\n",
       "      <td>2013-2014</td>\n",
       "      <td>2013</td>\n",
       "    </tr>\n",
       "    <tr>\n",
       "      <th>4</th>\n",
       "      <td>Alexis Ajinca</td>\n",
       "      <td>C</td>\n",
       "      <td>25</td>\n",
       "      <td>NOP</td>\n",
       "      <td>56</td>\n",
       "      <td>30</td>\n",
       "      <td>951</td>\n",
       "      <td>136</td>\n",
       "      <td>249</td>\n",
       "      <td>0.546</td>\n",
       "      <td>...</td>\n",
       "      <td>183</td>\n",
       "      <td>277</td>\n",
       "      <td>40</td>\n",
       "      <td>23</td>\n",
       "      <td>46</td>\n",
       "      <td>63</td>\n",
       "      <td>187</td>\n",
       "      <td>328</td>\n",
       "      <td>2013-2014</td>\n",
       "      <td>2013</td>\n",
       "    </tr>\n",
       "  </tbody>\n",
       "</table>\n",
       "<p>5 rows × 31 columns</p>\n",
       "</div>"
      ],
      "text/plain": [
       "          player pos  age bref_team_id   g  gs    mp   fg   fga    fg.  \\\n",
       "0     Quincy Acy  SF   23          TOT  63   0   847   66   141  0.468   \n",
       "1   Steven Adams   C   20          OKC  81  20  1197   93   185  0.503   \n",
       "2    Jeff Adrien  PF   27          TOT  53  12   961  143   275  0.520   \n",
       "3  Arron Afflalo  SG   28          ORL  73  73  2552  464  1011  0.459   \n",
       "4  Alexis Ajinca   C   25          NOP  56  30   951  136   249  0.546   \n",
       "\n",
       "      ...      drb  trb  ast  stl  blk  tov   pf   pts     season  season_end  \n",
       "0     ...      144  216   28   23   26   30  122   171  2013-2014        2013  \n",
       "1     ...      190  332   43   40   57   71  203   265  2013-2014        2013  \n",
       "2     ...      204  306   38   24   36   39  108   362  2013-2014        2013  \n",
       "3     ...      230  262  248   35    3  146  136  1330  2013-2014        2013  \n",
       "4     ...      183  277   40   23   46   63  187   328  2013-2014        2013  \n",
       "\n",
       "[5 rows x 31 columns]"
      ]
     },
     "execution_count": 49,
     "metadata": {},
     "output_type": "execute_result"
    }
   ],
   "source": [
    "nba.head(5)"
   ]
  },
  {
   "cell_type": "markdown",
   "metadata": {},
   "source": [
    "### 常用NBA數據縮寫\n",
    "![](_img/nba-abb.png)"
   ]
  },
  {
   "cell_type": "markdown",
   "metadata": {},
   "source": [
    "### 計算各特徵的平均值"
   ]
  },
  {
   "cell_type": "code",
   "execution_count": 50,
   "metadata": {
    "scrolled": false
   },
   "outputs": [
    {
     "data": {
      "text/plain": [
       "age             26.509356\n",
       "g               53.253638\n",
       "gs              25.571726\n",
       "mp            1237.386694\n",
       "fg             192.881497\n",
       "fga            424.463617\n",
       "fg.              0.436436\n",
       "x3p             39.613306\n",
       "x3pa           110.130977\n",
       "x3p.             0.285111\n",
       "x2p            153.268191\n",
       "x2pa           314.332640\n",
       "x2p.             0.466947\n",
       "efg.             0.480752\n",
       "ft              91.205821\n",
       "fta            120.642412\n",
       "ft.              0.722419\n",
       "orb             55.810811\n",
       "drb            162.817048\n",
       "trb            218.627859\n",
       "ast            112.536383\n",
       "stl             39.280665\n",
       "blk             24.103950\n",
       "tov             71.862786\n",
       "pf             105.869023\n",
       "pts            516.582121\n",
       "season_end    2013.000000\n",
       "dtype: float64"
      ]
     },
     "execution_count": 50,
     "metadata": {},
     "output_type": "execute_result"
    }
   ],
   "source": [
    "nba.mean()"
   ]
  },
  {
   "cell_type": "markdown",
   "metadata": {},
   "source": [
    "### 計算各欄位的敘述統計值\n",
    "- 並非每個欄位都是數值資料，pandas還是很聰明的只挑選了數值欄位\n",
    "- 警告出現是因為fg.及x3p.欄位中含有非數值資料，NaN\n",
    "    - 有些球員不只沒投過三分球，甚至沒投進過任何球"
   ]
  },
  {
   "cell_type": "code",
   "execution_count": 51,
   "metadata": {
    "scrolled": true
   },
   "outputs": [
    {
     "name": "stderr",
     "output_type": "stream",
     "text": [
      "/Users/Andrew/anaconda/lib/python3.5/site-packages/numpy/lib/function_base.py:3834: RuntimeWarning: Invalid value encountered in percentile\n",
      "  RuntimeWarning)\n"
     ]
    },
    {
     "data": {
      "text/html": [
       "<div>\n",
       "<table border=\"1\" class=\"dataframe\">\n",
       "  <thead>\n",
       "    <tr style=\"text-align: right;\">\n",
       "      <th></th>\n",
       "      <th>age</th>\n",
       "      <th>g</th>\n",
       "      <th>gs</th>\n",
       "      <th>mp</th>\n",
       "      <th>fg</th>\n",
       "      <th>fga</th>\n",
       "      <th>fg.</th>\n",
       "      <th>x3p</th>\n",
       "      <th>x3pa</th>\n",
       "      <th>x3p.</th>\n",
       "      <th>...</th>\n",
       "      <th>orb</th>\n",
       "      <th>drb</th>\n",
       "      <th>trb</th>\n",
       "      <th>ast</th>\n",
       "      <th>stl</th>\n",
       "      <th>blk</th>\n",
       "      <th>tov</th>\n",
       "      <th>pf</th>\n",
       "      <th>pts</th>\n",
       "      <th>season_end</th>\n",
       "    </tr>\n",
       "  </thead>\n",
       "  <tbody>\n",
       "    <tr>\n",
       "      <th>count</th>\n",
       "      <td>481.000000</td>\n",
       "      <td>481.000000</td>\n",
       "      <td>481.000000</td>\n",
       "      <td>481.000000</td>\n",
       "      <td>481.000000</td>\n",
       "      <td>481.000000</td>\n",
       "      <td>479.000000</td>\n",
       "      <td>481.000000</td>\n",
       "      <td>481.000000</td>\n",
       "      <td>414.000000</td>\n",
       "      <td>...</td>\n",
       "      <td>481.000000</td>\n",
       "      <td>481.000000</td>\n",
       "      <td>481.000000</td>\n",
       "      <td>481.000000</td>\n",
       "      <td>481.000000</td>\n",
       "      <td>481.000000</td>\n",
       "      <td>481.000000</td>\n",
       "      <td>481.000000</td>\n",
       "      <td>481.000000</td>\n",
       "      <td>481.0</td>\n",
       "    </tr>\n",
       "    <tr>\n",
       "      <th>mean</th>\n",
       "      <td>26.509356</td>\n",
       "      <td>53.253638</td>\n",
       "      <td>25.571726</td>\n",
       "      <td>1237.386694</td>\n",
       "      <td>192.881497</td>\n",
       "      <td>424.463617</td>\n",
       "      <td>0.436436</td>\n",
       "      <td>39.613306</td>\n",
       "      <td>110.130977</td>\n",
       "      <td>0.285111</td>\n",
       "      <td>...</td>\n",
       "      <td>55.810811</td>\n",
       "      <td>162.817048</td>\n",
       "      <td>218.627859</td>\n",
       "      <td>112.536383</td>\n",
       "      <td>39.280665</td>\n",
       "      <td>24.103950</td>\n",
       "      <td>71.862786</td>\n",
       "      <td>105.869023</td>\n",
       "      <td>516.582121</td>\n",
       "      <td>2013.0</td>\n",
       "    </tr>\n",
       "    <tr>\n",
       "      <th>std</th>\n",
       "      <td>4.198265</td>\n",
       "      <td>25.322711</td>\n",
       "      <td>29.658465</td>\n",
       "      <td>897.258840</td>\n",
       "      <td>171.832793</td>\n",
       "      <td>368.850833</td>\n",
       "      <td>0.098672</td>\n",
       "      <td>50.855639</td>\n",
       "      <td>132.751732</td>\n",
       "      <td>0.157633</td>\n",
       "      <td>...</td>\n",
       "      <td>62.101191</td>\n",
       "      <td>145.348116</td>\n",
       "      <td>200.356507</td>\n",
       "      <td>131.019557</td>\n",
       "      <td>34.783590</td>\n",
       "      <td>30.875381</td>\n",
       "      <td>62.701690</td>\n",
       "      <td>71.213627</td>\n",
       "      <td>470.422228</td>\n",
       "      <td>0.0</td>\n",
       "    </tr>\n",
       "    <tr>\n",
       "      <th>min</th>\n",
       "      <td>19.000000</td>\n",
       "      <td>1.000000</td>\n",
       "      <td>0.000000</td>\n",
       "      <td>1.000000</td>\n",
       "      <td>0.000000</td>\n",
       "      <td>0.000000</td>\n",
       "      <td>0.000000</td>\n",
       "      <td>0.000000</td>\n",
       "      <td>0.000000</td>\n",
       "      <td>0.000000</td>\n",
       "      <td>...</td>\n",
       "      <td>0.000000</td>\n",
       "      <td>0.000000</td>\n",
       "      <td>0.000000</td>\n",
       "      <td>0.000000</td>\n",
       "      <td>0.000000</td>\n",
       "      <td>0.000000</td>\n",
       "      <td>0.000000</td>\n",
       "      <td>0.000000</td>\n",
       "      <td>0.000000</td>\n",
       "      <td>2013.0</td>\n",
       "    </tr>\n",
       "    <tr>\n",
       "      <th>25%</th>\n",
       "      <td>23.000000</td>\n",
       "      <td>32.000000</td>\n",
       "      <td>0.000000</td>\n",
       "      <td>388.000000</td>\n",
       "      <td>47.000000</td>\n",
       "      <td>110.000000</td>\n",
       "      <td>NaN</td>\n",
       "      <td>0.000000</td>\n",
       "      <td>3.000000</td>\n",
       "      <td>NaN</td>\n",
       "      <td>...</td>\n",
       "      <td>12.000000</td>\n",
       "      <td>43.000000</td>\n",
       "      <td>55.000000</td>\n",
       "      <td>20.000000</td>\n",
       "      <td>9.000000</td>\n",
       "      <td>4.000000</td>\n",
       "      <td>21.000000</td>\n",
       "      <td>44.000000</td>\n",
       "      <td>115.000000</td>\n",
       "      <td>2013.0</td>\n",
       "    </tr>\n",
       "    <tr>\n",
       "      <th>50%</th>\n",
       "      <td>26.000000</td>\n",
       "      <td>61.000000</td>\n",
       "      <td>10.000000</td>\n",
       "      <td>1141.000000</td>\n",
       "      <td>146.000000</td>\n",
       "      <td>332.000000</td>\n",
       "      <td>NaN</td>\n",
       "      <td>16.000000</td>\n",
       "      <td>48.000000</td>\n",
       "      <td>NaN</td>\n",
       "      <td>...</td>\n",
       "      <td>35.000000</td>\n",
       "      <td>135.000000</td>\n",
       "      <td>168.000000</td>\n",
       "      <td>65.000000</td>\n",
       "      <td>32.000000</td>\n",
       "      <td>14.000000</td>\n",
       "      <td>58.000000</td>\n",
       "      <td>104.000000</td>\n",
       "      <td>401.000000</td>\n",
       "      <td>2013.0</td>\n",
       "    </tr>\n",
       "    <tr>\n",
       "      <th>75%</th>\n",
       "      <td>29.000000</td>\n",
       "      <td>76.000000</td>\n",
       "      <td>54.000000</td>\n",
       "      <td>2016.000000</td>\n",
       "      <td>307.000000</td>\n",
       "      <td>672.000000</td>\n",
       "      <td>NaN</td>\n",
       "      <td>68.000000</td>\n",
       "      <td>193.000000</td>\n",
       "      <td>NaN</td>\n",
       "      <td>...</td>\n",
       "      <td>73.000000</td>\n",
       "      <td>230.000000</td>\n",
       "      <td>310.000000</td>\n",
       "      <td>152.000000</td>\n",
       "      <td>60.000000</td>\n",
       "      <td>32.000000</td>\n",
       "      <td>108.000000</td>\n",
       "      <td>158.000000</td>\n",
       "      <td>821.000000</td>\n",
       "      <td>2013.0</td>\n",
       "    </tr>\n",
       "    <tr>\n",
       "      <th>max</th>\n",
       "      <td>39.000000</td>\n",
       "      <td>83.000000</td>\n",
       "      <td>82.000000</td>\n",
       "      <td>3122.000000</td>\n",
       "      <td>849.000000</td>\n",
       "      <td>1688.000000</td>\n",
       "      <td>1.000000</td>\n",
       "      <td>261.000000</td>\n",
       "      <td>615.000000</td>\n",
       "      <td>1.000000</td>\n",
       "      <td>...</td>\n",
       "      <td>440.000000</td>\n",
       "      <td>783.000000</td>\n",
       "      <td>1114.000000</td>\n",
       "      <td>721.000000</td>\n",
       "      <td>191.000000</td>\n",
       "      <td>219.000000</td>\n",
       "      <td>295.000000</td>\n",
       "      <td>273.000000</td>\n",
       "      <td>2593.000000</td>\n",
       "      <td>2013.0</td>\n",
       "    </tr>\n",
       "  </tbody>\n",
       "</table>\n",
       "<p>8 rows × 27 columns</p>\n",
       "</div>"
      ],
      "text/plain": [
       "              age           g          gs           mp          fg  \\\n",
       "count  481.000000  481.000000  481.000000   481.000000  481.000000   \n",
       "mean    26.509356   53.253638   25.571726  1237.386694  192.881497   \n",
       "std      4.198265   25.322711   29.658465   897.258840  171.832793   \n",
       "min     19.000000    1.000000    0.000000     1.000000    0.000000   \n",
       "25%     23.000000   32.000000    0.000000   388.000000   47.000000   \n",
       "50%     26.000000   61.000000   10.000000  1141.000000  146.000000   \n",
       "75%     29.000000   76.000000   54.000000  2016.000000  307.000000   \n",
       "max     39.000000   83.000000   82.000000  3122.000000  849.000000   \n",
       "\n",
       "               fga         fg.         x3p        x3pa        x3p.  \\\n",
       "count   481.000000  479.000000  481.000000  481.000000  414.000000   \n",
       "mean    424.463617    0.436436   39.613306  110.130977    0.285111   \n",
       "std     368.850833    0.098672   50.855639  132.751732    0.157633   \n",
       "min       0.000000    0.000000    0.000000    0.000000    0.000000   \n",
       "25%     110.000000         NaN    0.000000    3.000000         NaN   \n",
       "50%     332.000000         NaN   16.000000   48.000000         NaN   \n",
       "75%     672.000000         NaN   68.000000  193.000000         NaN   \n",
       "max    1688.000000    1.000000  261.000000  615.000000    1.000000   \n",
       "\n",
       "          ...             orb         drb          trb         ast  \\\n",
       "count     ...      481.000000  481.000000   481.000000  481.000000   \n",
       "mean      ...       55.810811  162.817048   218.627859  112.536383   \n",
       "std       ...       62.101191  145.348116   200.356507  131.019557   \n",
       "min       ...        0.000000    0.000000     0.000000    0.000000   \n",
       "25%       ...       12.000000   43.000000    55.000000   20.000000   \n",
       "50%       ...       35.000000  135.000000   168.000000   65.000000   \n",
       "75%       ...       73.000000  230.000000   310.000000  152.000000   \n",
       "max       ...      440.000000  783.000000  1114.000000  721.000000   \n",
       "\n",
       "              stl         blk         tov          pf          pts  season_end  \n",
       "count  481.000000  481.000000  481.000000  481.000000   481.000000       481.0  \n",
       "mean    39.280665   24.103950   71.862786  105.869023   516.582121      2013.0  \n",
       "std     34.783590   30.875381   62.701690   71.213627   470.422228         0.0  \n",
       "min      0.000000    0.000000    0.000000    0.000000     0.000000      2013.0  \n",
       "25%      9.000000    4.000000   21.000000   44.000000   115.000000      2013.0  \n",
       "50%     32.000000   14.000000   58.000000  104.000000   401.000000      2013.0  \n",
       "75%     60.000000   32.000000  108.000000  158.000000   821.000000      2013.0  \n",
       "max    191.000000  219.000000  295.000000  273.000000  2593.000000      2013.0  \n",
       "\n",
       "[8 rows x 27 columns]"
      ]
     },
     "execution_count": 51,
     "metadata": {},
     "output_type": "execute_result"
    }
   ],
   "source": [
    "nba.describe()"
   ]
  },
  {
   "cell_type": "code",
   "execution_count": 52,
   "metadata": {
    "scrolled": true
   },
   "outputs": [
    {
     "data": {
      "text/plain": [
       "90    NaN\n",
       "397   NaN\n",
       "Name: fg., dtype: float64"
      ]
     },
     "execution_count": 52,
     "metadata": {},
     "output_type": "execute_result"
    }
   ],
   "source": [
    "nba['fg.'][nba['fg.'].isnull()]"
   ]
  },
  {
   "cell_type": "markdown",
   "metadata": {},
   "source": [
    "<font size=6 style=\"text-shadow:0px 0px 15px #FF37FD;\">練習</font>\n",
    "- 將「opendata103Y010.csv」資料讀入並進行摘要分析\n",
    "- 練習1：\n",
    "    - 載入資料\n",
    "    - 取得資料的維度狀況\n",
    "    - 預覽前5筆資料\n",
    "    - 計算各欄位摘要統計值\n",
    "    - 解答：`%pycat _homework/opendat1.py`\n",
    "- 練習2：\n",
    "    - 上面的練習面臨了什麼狀況呢？\n",
    "    - 請找出方法成功的計算，數值欄位的摘要統計值\n",
    "    - 語法上的不熟悉很正常，給自己3分鐘的時間Google\n",
    "    - 解答：`%pycat _homework/opendat2.py`"
   ]
  },
  {
   "cell_type": "code",
   "execution_count": 96,
   "metadata": {
    "scrolled": true
   },
   "outputs": [
    {
     "data": {
      "text/html": [
       "<div>\n",
       "<table border=\"1\" class=\"dataframe\">\n",
       "  <thead>\n",
       "    <tr style=\"text-align: right;\">\n",
       "      <th></th>\n",
       "      <th>﻿statistic_yyy</th>\n",
       "      <th>site_id</th>\n",
       "      <th>village</th>\n",
       "      <th>household_ordinary_total</th>\n",
       "      <th>household_business_total</th>\n",
       "      <th>household_single_total</th>\n",
       "      <th>household_ordinary_m</th>\n",
       "      <th>household_business_m</th>\n",
       "      <th>household_single_m</th>\n",
       "      <th>household_ordinary_f</th>\n",
       "      <th>household_business_f</th>\n",
       "      <th>household_single_f</th>\n",
       "    </tr>\n",
       "  </thead>\n",
       "  <tbody>\n",
       "    <tr>\n",
       "      <th>count</th>\n",
       "      <td>7852</td>\n",
       "      <td>7852</td>\n",
       "      <td>7852</td>\n",
       "      <td>7852</td>\n",
       "      <td>7852</td>\n",
       "      <td>7852</td>\n",
       "      <td>7852</td>\n",
       "      <td>7852</td>\n",
       "      <td>7852</td>\n",
       "      <td>7852</td>\n",
       "      <td>7852</td>\n",
       "      <td>7852</td>\n",
       "    </tr>\n",
       "    <tr>\n",
       "      <th>unique</th>\n",
       "      <td>2</td>\n",
       "      <td>371</td>\n",
       "      <td>5157</td>\n",
       "      <td>2010</td>\n",
       "      <td>12</td>\n",
       "      <td>1177</td>\n",
       "      <td>2905</td>\n",
       "      <td>80</td>\n",
       "      <td>675</td>\n",
       "      <td>2958</td>\n",
       "      <td>62</td>\n",
       "      <td>711</td>\n",
       "    </tr>\n",
       "    <tr>\n",
       "      <th>top</th>\n",
       "      <td>103</td>\n",
       "      <td>新北市板橋區</td>\n",
       "      <td>中正里</td>\n",
       "      <td>256</td>\n",
       "      <td>0</td>\n",
       "      <td>75</td>\n",
       "      <td>500</td>\n",
       "      <td>0</td>\n",
       "      <td>71</td>\n",
       "      <td>485</td>\n",
       "      <td>0</td>\n",
       "      <td>28</td>\n",
       "    </tr>\n",
       "    <tr>\n",
       "      <th>freq</th>\n",
       "      <td>7851</td>\n",
       "      <td>126</td>\n",
       "      <td>32</td>\n",
       "      <td>21</td>\n",
       "      <td>7481</td>\n",
       "      <td>37</td>\n",
       "      <td>12</td>\n",
       "      <td>7543</td>\n",
       "      <td>62</td>\n",
       "      <td>13</td>\n",
       "      <td>7577</td>\n",
       "      <td>78</td>\n",
       "    </tr>\n",
       "  </tbody>\n",
       "</table>\n",
       "</div>"
      ],
      "text/plain": [
       "       ﻿statistic_yyy site_id village household_ordinary_total  \\\n",
       "count            7852    7852    7852                     7852   \n",
       "unique              2     371    5157                     2010   \n",
       "top               103  新北市板橋區     中正里                      256   \n",
       "freq             7851     126      32                       21   \n",
       "\n",
       "       household_business_total household_single_total household_ordinary_m  \\\n",
       "count                      7852                   7852                 7852   \n",
       "unique                       12                   1177                 2905   \n",
       "top                           0                     75                  500   \n",
       "freq                       7481                     37                   12   \n",
       "\n",
       "       household_business_m household_single_m household_ordinary_f  \\\n",
       "count                  7852               7852                 7852   \n",
       "unique                   80                675                 2958   \n",
       "top                       0                 71                  485   \n",
       "freq                   7543                 62                   13   \n",
       "\n",
       "       household_business_f household_single_f  \n",
       "count                  7852               7852  \n",
       "unique                   62                711  \n",
       "top                       0                 28  \n",
       "freq                   7577                 78  "
      ]
     },
     "execution_count": 96,
     "metadata": {},
     "output_type": "execute_result"
    }
   ],
   "source": [
    "opdat = pd.read_csv(\"_data/opendata103Y010.csv\")\n",
    "opdat.shape\n",
    "opdat.head(5)\n",
    "opdat.describe()"
   ]
  },
  {
   "cell_type": "code",
   "execution_count": 94,
   "metadata": {},
   "outputs": [
    {
     "data": {
      "text/html": [
       "<div>\n",
       "<table border=\"1\" class=\"dataframe\">\n",
       "  <thead>\n",
       "    <tr style=\"text-align: right;\">\n",
       "      <th></th>\n",
       "      <th>﻿statistic_yyy</th>\n",
       "      <th>site_id</th>\n",
       "      <th>village</th>\n",
       "      <th>household_ordinary_total</th>\n",
       "      <th>household_business_total</th>\n",
       "      <th>household_single_total</th>\n",
       "      <th>household_ordinary_m</th>\n",
       "      <th>household_business_m</th>\n",
       "      <th>household_single_m</th>\n",
       "      <th>household_ordinary_f</th>\n",
       "      <th>household_business_f</th>\n",
       "      <th>household_single_f</th>\n",
       "    </tr>\n",
       "  </thead>\n",
       "  <tbody>\n",
       "    <tr>\n",
       "      <th>0</th>\n",
       "      <td>統計年</td>\n",
       "      <td>區域別</td>\n",
       "      <td>村里名稱</td>\n",
       "      <td>共同生活戶_戶數</td>\n",
       "      <td>共同事業戶_戶數</td>\n",
       "      <td>單獨生活戶_戶數</td>\n",
       "      <td>共同生活戶_男</td>\n",
       "      <td>共同事業戶_男</td>\n",
       "      <td>單獨生活戶_男</td>\n",
       "      <td>共同生活戶_女</td>\n",
       "      <td>共同事業戶_女</td>\n",
       "      <td>單獨生活戶_女</td>\n",
       "    </tr>\n",
       "    <tr>\n",
       "      <th>1</th>\n",
       "      <td>103</td>\n",
       "      <td>新北市板橋區</td>\n",
       "      <td>留侯里</td>\n",
       "      <td>430</td>\n",
       "      <td>0</td>\n",
       "      <td>257</td>\n",
       "      <td>682</td>\n",
       "      <td>0</td>\n",
       "      <td>123</td>\n",
       "      <td>742</td>\n",
       "      <td>0</td>\n",
       "      <td>134</td>\n",
       "    </tr>\n",
       "    <tr>\n",
       "      <th>2</th>\n",
       "      <td>103</td>\n",
       "      <td>新北市板橋區</td>\n",
       "      <td>流芳里</td>\n",
       "      <td>411</td>\n",
       "      <td>0</td>\n",
       "      <td>235</td>\n",
       "      <td>638</td>\n",
       "      <td>0</td>\n",
       "      <td>106</td>\n",
       "      <td>725</td>\n",
       "      <td>0</td>\n",
       "      <td>129</td>\n",
       "    </tr>\n",
       "    <tr>\n",
       "      <th>3</th>\n",
       "      <td>103</td>\n",
       "      <td>新北市板橋區</td>\n",
       "      <td>赤松里</td>\n",
       "      <td>221</td>\n",
       "      <td>0</td>\n",
       "      <td>100</td>\n",
       "      <td>361</td>\n",
       "      <td>0</td>\n",
       "      <td>49</td>\n",
       "      <td>372</td>\n",
       "      <td>0</td>\n",
       "      <td>51</td>\n",
       "    </tr>\n",
       "    <tr>\n",
       "      <th>4</th>\n",
       "      <td>103</td>\n",
       "      <td>新北市板橋區</td>\n",
       "      <td>黃石里</td>\n",
       "      <td>304</td>\n",
       "      <td>0</td>\n",
       "      <td>145</td>\n",
       "      <td>530</td>\n",
       "      <td>0</td>\n",
       "      <td>67</td>\n",
       "      <td>548</td>\n",
       "      <td>0</td>\n",
       "      <td>78</td>\n",
       "    </tr>\n",
       "  </tbody>\n",
       "</table>\n",
       "</div>"
      ],
      "text/plain": [
       "  ﻿statistic_yyy site_id village household_ordinary_total  \\\n",
       "0            統計年     區域別    村里名稱                 共同生活戶_戶數   \n",
       "1            103  新北市板橋區     留侯里                      430   \n",
       "2            103  新北市板橋區     流芳里                      411   \n",
       "3            103  新北市板橋區     赤松里                      221   \n",
       "4            103  新北市板橋區     黃石里                      304   \n",
       "\n",
       "  household_business_total household_single_total household_ordinary_m  \\\n",
       "0                 共同事業戶_戶數               單獨生活戶_戶數              共同生活戶_男   \n",
       "1                        0                    257                  682   \n",
       "2                        0                    235                  638   \n",
       "3                        0                    100                  361   \n",
       "4                        0                    145                  530   \n",
       "\n",
       "  household_business_m household_single_m household_ordinary_f  \\\n",
       "0              共同事業戶_男            單獨生活戶_男              共同生活戶_女   \n",
       "1                    0                123                  742   \n",
       "2                    0                106                  725   \n",
       "3                    0                 49                  372   \n",
       "4                    0                 67                  548   \n",
       "\n",
       "  household_business_f household_single_f  \n",
       "0              共同事業戶_女            單獨生活戶_女  \n",
       "1                    0                134  \n",
       "2                    0                129  \n",
       "3                    0                 51  \n",
       "4                    0                 78  "
      ]
     },
     "execution_count": 94,
     "metadata": {},
     "output_type": "execute_result"
    }
   ],
   "source": [
    "opdat.head(5)"
   ]
  },
  {
   "cell_type": "markdown",
   "metadata": {},
   "source": [
    "### 繪製成對散點圖\n",
    "一個探索數據的常用方法是查看列與列之間有多相關。我們將會比較ast(助攻),fg(投籃命中)和trb(籃板球)。"
   ]
  },
  {
   "cell_type": "markdown",
   "metadata": {},
   "source": [
    "- 套件安裝\n",
    "    - conda install seaborn"
   ]
  },
  {
   "cell_type": "code",
   "execution_count": 53,
   "metadata": {},
   "outputs": [
    {
     "name": "stdout",
     "output_type": "stream",
     "text": [
      "Populating the interactive namespace from numpy and matplotlib\n"
     ]
    }
   ],
   "source": [
    "%pylab inline"
   ]
  },
  {
   "cell_type": "code",
   "execution_count": 54,
   "metadata": {
    "scrolled": false
   },
   "outputs": [
    {
     "data": {
      "text/plain": [
       "<seaborn.axisgrid.PairGrid at 0x11a46be80>"
      ]
     },
     "execution_count": 54,
     "metadata": {},
     "output_type": "execute_result"
    },
    {
     "data": {
      "image/png": "[encoded data removed]",
      "text/plain": [
       "<matplotlib.figure.Figure at 0x11a46be10>"
      ]
     },
     "metadata": {},
     "output_type": "display_data"
    }
   ],
   "source": [
    "import seaborn as sns\n",
    "sns.pairplot(nba[[\"ast\", \"fg\", \"trb\"]])"
   ]
  },
  {
   "cell_type": "markdown",
   "metadata": {},
   "source": [
    "<font size=6 style=\"text-shadow:0px 0px 15px #FF37FD;\">練習</font>\n",
    "\n",
    "- 任意挑選opendata103Y010資料的兩個數值欄位繪製成對散點圖\n",
    "- 解答：%pycat _homework/opendat3.py"
   ]
  },
  {
   "cell_type": "markdown",
   "metadata": {},
   "source": [
    "### 將球員以k-means演算法集群(非監督式學習)\n",
    "\n",
    "- K-means背景知識\n",
    "    - K-平均值演算法是最早出現的集群分析演算法之一，它是一種快速分群方法，但對於異常值或極值敏感，穩定性差，因此較適合處理分佈集中的大樣本資料集。\n",
    "    - Select K points as the initial centroids(隨機選取K個初始群集中心點)\n",
    "    - repeat Form K clusters by assigning all points to the closest centroid (指派所有點之歸群)，Recompute the centroid of each cluster (更新各群中心)\n",
    "    - until The centroids don’t change\n",
    "    - Limitations of K-means\n",
    "    - Sizes (各群大小不同)\n",
    "    - Densities (密度不同)\n",
    "    - Non-globular shapes (非球形)\n",
    "    - Outliers (離群值)\n",
    "- Gaming source http://etrex.blogspot.tw/2008/05/k-mean-clustering.html"
   ]
  },
  {
   "cell_type": "code",
   "execution_count": 86,
   "metadata": {},
   "outputs": [
    {
     "name": "stdout",
     "output_type": "stream",
     "text": [
      "[0 0 0 3 0 2 3 0 4 4 4 2 4 4 1 0 4 3 2 0 1 2 0 0 1 2 0 2 2 2 4 4 1 4 2 1 4\n",
      " 3 4 2 0 3 0 1 0 4 2 2 0 4 4 4 4 2 2 4 0 4 1 3 1 4 1 2 4 2 2 2 2 0 2 1 1 4\n",
      " 1 2 2 0 0 0 1 4 2 1 1 3 4 1 4 1 2 2 0 2 2 4 2 1 0 3 2 3 2 2 1 1 0 4 2 2 3\n",
      " 4 2 2 2 3 0 4 2 2 2 0 1 3 1 0 0 0 3 3 4 1 1 3 2 2 3 2 0 0 1 1 0 2 1 2 4 2\n",
      " 4 4 1 2 2 0 1 0 0 0 1 1 3 0 3 1 4 2 2 2 2 2 1 3 0 2 4 4 1 3 0 3 2 0 2 0 4\n",
      " 3 4 2 2 0 2 2 2 1 0 1 0 3 1 0 1 1 1 4 1 4 2 1 0 2 2 0 3 0 4 3 4 4 3 2 1 1\n",
      " 2 2 2 3 2 2 2 3 1 2 3 0 1 0 0 3 2 1 2 2 0 2 1 1 0 0 1 2 4 4 0 3 1 4 2 2 0\n",
      " 4 2 2 1 2 1 3 2 1 2 0 0 2 3 1 4 0 1 3 3 2 4 0 1 4 0 0 1 2 3 2 2 4 0 0 2 2\n",
      " 1 1 1 2 1 0 0 0 4 0 4 3 2 2 3 4 2 4 1 4 0 2 4 2 2 2 2 2 2 2 0 2 1 0 3 2 3\n",
      " 2 0 0 2 1 4 2 2 0 4 2 1 3 4 1 1 0 1 2 4 1 2 2 2 0 2 2 0 4 2 2 2 3 0 2 0 4\n",
      " 2 4 0 0 0 2 1 1 2 0 4 0 0 4 4 4 0 1 2 2 4 0 0 1 2 2 2 2 2 0 1 0 3 0 2 0 4\n",
      " 2 3 0 2 4 1 1 0 2 3 2 4 0 2 2 2 3 2 2 4 4 3 1 4 2 0 1 0 2 3 2 0 0 1 4 2 4\n",
      " 0 2 1 2 1 1 3 3 4 2 0 2 2 1 3 4 2 2 1 4 0 4 4 4 2 0 0 4 2 0 2 0 1 1 3 4 0]\n"
     ]
    }
   ],
   "source": [
    "from sklearn.cluster import KMeans\n",
    "kmeans_model = KMeans(n_clusters=5, random_state=1)\n",
    "good_columns = nba._get_numeric_data().dropna(axis=1) # 移除非數值及含有NA值的欄位\n",
    "kmeans_model.fit(good_columns)\n",
    "labels = kmeans_model.labels_\n",
    "print(labels)"
   ]
  },
  {
   "cell_type": "code",
   "execution_count": 56,
   "metadata": {},
   "outputs": [
    {
     "data": {
      "text/plain": [
       "(481, 27)"
      ]
     },
     "execution_count": 56,
     "metadata": {},
     "output_type": "execute_result"
    }
   ],
   "source": [
    "nba._get_numeric_data().shape"
   ]
  },
  {
   "cell_type": "code",
   "execution_count": 57,
   "metadata": {
    "scrolled": true
   },
   "outputs": [
    {
     "data": {
      "text/plain": [
       "(481, 22)"
      ]
     },
     "execution_count": 57,
     "metadata": {},
     "output_type": "execute_result"
    }
   ],
   "source": [
    "nba._get_numeric_data().dropna(axis=1).shape"
   ]
  },
  {
   "cell_type": "markdown",
   "metadata": {},
   "source": [
    "### 按類別繪製球員分佈圖\n",
    "- 首先使用PCA將資料降至2維，然後畫圖，用不同標記或深淺的點標誌類別。"
   ]
  },
  {
   "cell_type": "code",
   "execution_count": null,
   "metadata": {
    "collapsed": true
   },
   "outputs": [],
   "source": [
    "%pylab inline\n",
    "import matplotlib as plt\n",
    "import numpy as np"
   ]
  },
  {
   "cell_type": "markdown",
   "metadata": {},
   "source": [
    "<font size=6 style=\"text-shadow:0px 0px 15px #FF37FD;\">練習</font>\n",
    "\n",
    "- 練習1：\n",
    "    - 將opendata103Y010資料以k-means的**列**集為5群\n",
    "    - 依照上述步驟將其視覺化\n",
    "    - 提示：透過`apply(pd.to_numeric)`一次將多欄位轉換為數值資料\n",
    "    - 解答：`%pycat _homework/opendat4.py`\n",
    "- 練習2：\n",
    "    - 將labels對應地名(區域別+村里名稱)\n",
    "    - 解答：`%pycat _homework/opendat5.py`"
   ]
  },
  {
   "cell_type": "markdown",
   "metadata": {},
   "source": [
    "# 線性迴歸(Linear Regression)\n",
    "\n",
    "||連續(continuous)|類別(categorical)|\n",
    "|---|---|---|\n",
    "|**監督式學習(supervised)**|**迴歸(regression)**|分類(classification)|\n",
    "|**非監督式學習(unsupervised)**|降維(dimension reduction)|集群(clustering)|\n",
    "\n",
    "## 為何學習線性迴歸？\n",
    "\n",
    "- 使用範圍廣泛\n",
    "- 計算效率高\n",
    "- 使用難度低(沒有許多參數需調校)\n",
    "- 容易解釋\n",
    "- 為許多方法的基礎\n",
    "\n",
    "## 相關套件\n",
    "\n",
    "- [Statsmodels](http://statsmodels.sourceforge.net/) \n",
    "- [scikit-learn](http://scikit-learn.org/stable/)\n",
    "- [SciPy](https://www.scipy.org/)"
   ]
  },
  {
   "cell_type": "markdown",
   "metadata": {},
   "source": [
    "## 透過虛擬案例學習"
   ]
  },
  {
   "cell_type": "markdown",
   "metadata": {
    "slideshow": {
     "slide_type": "subslide"
    }
   },
   "source": [
    "### 先有個假設\n",
    "\n",
    "* 1.假設平均日休閒時間透過**神秘函數**能夠預測結婚的年齡：\n",
    "    - f(休閒時間) = 結婚年齡  \n",
    "* 2.假設輸入x,y兩個人的BMI值，透過**神秘函數**可以預測他們的速配指數：\n",
    "    - f(BMI_x, BMI_y) = x與y的速配指數"
   ]
  },
  {
   "cell_type": "markdown",
   "metadata": {
    "slideshow": {
     "slide_type": "subslide"
    }
   },
   "source": [
    "### 來學這個函數\n",
    "\n",
    "我們假設真實世界某個現象(例如上述假設1)的「理想函數」長這樣:\n",
    "\n",
    "$$f(x) = -7.7x + 55$$"
   ]
  },
  {
   "cell_type": "markdown",
   "metadata": {
    "slideshow": {
     "slide_type": "subslide"
    }
   },
   "source": [
    "### 模擬 50 個學習數據\n",
    "\n",
    "就像真實的世界, 我們加入 noise。"
   ]
  },
  {
   "cell_type": "code",
   "execution_count": 59,
   "metadata": {
    "collapsed": true
   },
   "outputs": [],
   "source": [
    "x = np.linspace(0,5,50)\n",
    "y = -7.7*x + 55 + randn(50)*10"
   ]
  },
  {
   "cell_type": "markdown",
   "metadata": {
    "slideshow": {
     "slide_type": "subslide"
    }
   },
   "source": [
    "### 看看我們的數據\n",
    "\n",
    "看看我們目前取的點, 附上「完全正確的」函數。"
   ]
  },
  {
   "cell_type": "code",
   "execution_count": 60,
   "metadata": {},
   "outputs": [
    {
     "data": {
      "image/png": "[encoded data removed]",
      "text/plain": [
       "<matplotlib.figure.Figure at 0x11c20d828>"
      ]
     },
     "metadata": {},
     "output_type": "display_data"
    }
   ],
   "source": [
    "scatter(x,y)\n",
    "plot(x, -7.7*x + 55,'b');"
   ]
  },
  {
   "cell_type": "markdown",
   "metadata": {
    "slideshow": {
     "slide_type": "subslide"
    }
   },
   "source": [
    "### 用 SciPy 來迴歸\n",
    "\n",
    "- SciPy的好處是只要預想好這些資料長得很像什麼函數, 我們都可以迴歸! 不一定要線性函數!\n",
    "- 以下使用線性函數為例，先做一個目標函數\n",
    "\n",
    "$$f(x) = ax + b$$\n",
    "\n",
    "再來算 a, b 這樣。"
   ]
  },
  {
   "cell_type": "code",
   "execution_count": 61,
   "metadata": {
    "collapsed": true
   },
   "outputs": [],
   "source": [
    "from scipy.optimize import curve_fit"
   ]
  },
  {
   "cell_type": "code",
   "execution_count": 62,
   "metadata": {
    "collapsed": true
   },
   "outputs": [],
   "source": [
    "def f(x, a, b):\n",
    "    return a*x + b"
   ]
  },
  {
   "cell_type": "markdown",
   "metadata": {
    "slideshow": {
     "slide_type": "subslide"
    }
   },
   "source": [
    "### 開始迴歸\n",
    "\n",
    "- 我們「學習的資料」就是剛剛的 x, y\n",
    "    - 若以一開始的假設來說，x就是某個人的平均日休閒時間，y就是他的實際結婚年齡\n",
    "    - 並且我們有50個實際案例(模擬的)\n",
    "- 傳回的 popt 是以最小平方法下得到的 a, b"
   ]
  },
  {
   "cell_type": "code",
   "execution_count": 63,
   "metadata": {
    "collapsed": true
   },
   "outputs": [],
   "source": [
    "popt, pcov = curve_fit(f, x, y)"
   ]
  },
  {
   "cell_type": "code",
   "execution_count": 64,
   "metadata": {},
   "outputs": [
    {
     "data": {
      "text/plain": [
       "array([[ 0.93774205, -2.34435512],\n",
       "       [-2.34435512,  7.89425702]])"
      ]
     },
     "execution_count": 64,
     "metadata": {},
     "output_type": "execute_result"
    }
   ],
   "source": [
    "pcov"
   ]
  },
  {
   "cell_type": "code",
   "execution_count": 65,
   "metadata": {},
   "outputs": [
    {
     "data": {
      "text/plain": [
       "array([ -8.99739614,  60.58167912])"
      ]
     },
     "execution_count": 65,
     "metadata": {},
     "output_type": "execute_result"
    }
   ],
   "source": [
    "popt"
   ]
  },
  {
   "cell_type": "code",
   "execution_count": 66,
   "metadata": {
    "collapsed": true
   },
   "outputs": [],
   "source": [
    "a, b = popt"
   ]
  },
  {
   "cell_type": "markdown",
   "metadata": {
    "slideshow": {
     "slide_type": "subslide"
    }
   },
   "source": [
    "### 畫出結果\n",
    "\n",
    "紅色是我們模擬出來的, 藍色是「理想狀況函數」。"
   ]
  },
  {
   "cell_type": "code",
   "execution_count": 67,
   "metadata": {
    "scrolled": false
   },
   "outputs": [
    {
     "data": {
      "image/png": "[encoded data removed]",
      "text/plain": [
       "<matplotlib.figure.Figure at 0x11db6eb00>"
      ]
     },
     "metadata": {},
     "output_type": "display_data"
    }
   ],
   "source": [
    "scatter(x,y)\n",
    "plot(x,-7.7*x + 55,'b',label=\"original\")\n",
    "plot(x, a*x + b, 'r',label=\"fit\")\n",
    "ax = gca()\n",
    "ax.legend();"
   ]
  },
  {
   "cell_type": "markdown",
   "metadata": {},
   "source": [
    "<font size=6 style=\"text-shadow:0px 0px 15px #FF37FD;\">練習</font>\n",
    "- 將「alligator.csv」資料讀入並進行線性迴歸分析\n",
    "- 練習1：\n",
    "    - 載入資料\n",
    "    - 取得資料的維度狀況\n",
    "    - 試以長度為自變數(x)，重量為應變數(y)，配適迴歸模型\n",
    "    - 繪製散點圖並將迴歸直線一同畫上\n",
    "    - 解答：`%pycat _homework/reg1.py`"
   ]
  },
  {
   "cell_type": "markdown",
   "metadata": {},
   "source": [
    "## 案例實作：廣告資料\n",
    "\n",
    "試著理解資料、提出問題並且透過迴歸模型去回答問題"
   ]
  },
  {
   "cell_type": "code",
   "execution_count": 68,
   "metadata": {
    "collapsed": true
   },
   "outputs": [],
   "source": [
    "# 套件載入\n",
    "import pandas as pd"
   ]
  },
  {
   "cell_type": "code",
   "execution_count": 69,
   "metadata": {},
   "outputs": [
    {
     "data": {
      "text/html": [
       "<div>\n",
       "<table border=\"1\" class=\"dataframe\">\n",
       "  <thead>\n",
       "    <tr style=\"text-align: right;\">\n",
       "      <th></th>\n",
       "      <th>TV</th>\n",
       "      <th>Radio</th>\n",
       "      <th>Newspaper</th>\n",
       "      <th>Sales</th>\n",
       "    </tr>\n",
       "  </thead>\n",
       "  <tbody>\n",
       "    <tr>\n",
       "      <th>1</th>\n",
       "      <td>230.1</td>\n",
       "      <td>37.8</td>\n",
       "      <td>69.2</td>\n",
       "      <td>22.1</td>\n",
       "    </tr>\n",
       "    <tr>\n",
       "      <th>2</th>\n",
       "      <td>44.5</td>\n",
       "      <td>39.3</td>\n",
       "      <td>45.1</td>\n",
       "      <td>10.4</td>\n",
       "    </tr>\n",
       "    <tr>\n",
       "      <th>3</th>\n",
       "      <td>17.2</td>\n",
       "      <td>45.9</td>\n",
       "      <td>69.3</td>\n",
       "      <td>9.3</td>\n",
       "    </tr>\n",
       "    <tr>\n",
       "      <th>4</th>\n",
       "      <td>151.5</td>\n",
       "      <td>41.3</td>\n",
       "      <td>58.5</td>\n",
       "      <td>18.5</td>\n",
       "    </tr>\n",
       "    <tr>\n",
       "      <th>5</th>\n",
       "      <td>180.8</td>\n",
       "      <td>10.8</td>\n",
       "      <td>58.4</td>\n",
       "      <td>12.9</td>\n",
       "    </tr>\n",
       "  </tbody>\n",
       "</table>\n",
       "</div>"
      ],
      "text/plain": [
       "      TV  Radio  Newspaper  Sales\n",
       "1  230.1   37.8       69.2   22.1\n",
       "2   44.5   39.3       45.1   10.4\n",
       "3   17.2   45.9       69.3    9.3\n",
       "4  151.5   41.3       58.5   18.5\n",
       "5  180.8   10.8       58.4   12.9"
      ]
     },
     "execution_count": 69,
     "metadata": {},
     "output_type": "execute_result"
    }
   ],
   "source": [
    "# 讀取資料為DataFrame物件\n",
    "data = pd.read_csv('_data/Advertising.csv', index_col=0)\n",
    "data.head()"
   ]
  },
  {
   "cell_type": "markdown",
   "metadata": {},
   "source": [
    "**特徵(features)，自變數**：\n",
    "- TV：某產品投入於電視廣告的金額\n",
    "- Radio：某產品投入於廣播廣告的金額\n",
    "- Newspaper：某產品投入於報紙廣告的金額\n",
    "\n",
    "**反應(response)，應變數**：\n",
    "- Sales: 於給定的市場範圍中，某產品的銷售狀況"
   ]
  },
  {
   "cell_type": "code",
   "execution_count": 70,
   "metadata": {},
   "outputs": [
    {
     "data": {
      "text/plain": [
       "(200, 4)"
      ]
     },
     "execution_count": 70,
     "metadata": {},
     "output_type": "execute_result"
    }
   ],
   "source": [
    "# print the shape of the DataFrame\n",
    "data.shape"
   ]
  },
  {
   "cell_type": "markdown",
   "metadata": {},
   "source": [
    "- 200個**觀測值(observations)**\n",
    "- 4個**變數(variable)**"
   ]
  },
  {
   "cell_type": "code",
   "execution_count": 71,
   "metadata": {},
   "outputs": [
    {
     "data": {
      "text/plain": [
       "<matplotlib.axes._subplots.AxesSubplot at 0x11f4cc3c8>"
      ]
     },
     "execution_count": 71,
     "metadata": {},
     "output_type": "execute_result"
    },
    {
     "data": {
      "image/png": "[encoded data removed]",
      "text/plain": [
       "<matplotlib.figure.Figure at 0x11f152908>"
      ]
     },
     "metadata": {},
     "output_type": "display_data"
    }
   ],
   "source": [
    "# 以散點圖呈現特徵與回應之間的關係\n",
    "fig, axs = plt.subplots(1, 3, sharey=True)\n",
    "data.plot(kind='scatter', x='TV', y='Sales', ax=axs[0], figsize=(16, 8))\n",
    "data.plot(kind='scatter', x='Radio', y='Sales', ax=axs[1])\n",
    "data.plot(kind='scatter', x='Newspaper', y='Sales', ax=axs[2])"
   ]
  },
  {
   "cell_type": "markdown",
   "metadata": {},
   "source": [
    "### Questions About the Advertising Data\n",
    "\n",
    "想像你在這間生產並營銷此產品的公司上班，公司可能問你：如何透過這份資料去規劃廣告預算？\n",
    "\n",
    "更具體的來說，可以列出以下問題：\n",
    "1. 廣告與銷售之間有關係嗎？\n",
    "2. 關係的強度？\n",
    "3. 哪種廣告類型比較有貢獻？\n",
    "4. 每種廣告類型對於銷售的影響如何？\n",
    "5. 可以依據投入的廣告預算，預測銷售狀況嗎？\n"
   ]
  },
  {
   "cell_type": "markdown",
   "metadata": {},
   "source": [
    "### 簡單線性迴歸(Simple Linear Regression)\n",
    "\n",
    "透過單一特徵(**single feature**)或稱自變數(independent variable)、預測變數(predictor)，預測一個**值**(**quantitative response**)或稱依變數(dependent variable)、反應變數(response variable)。公式如下：\n",
    "\n",
    "$y = \\beta_0 + \\beta_1x$\n",
    "\n",
    "定義如下：\n",
    "- $y$ is the response\n",
    "- $x$ is the feature\n",
    "- $\\beta_0$ is the intercept(截距)\n",
    "- $\\beta_1$ is the coefficient(係數) for x\n",
    "- $\\beta_0$與$\\beta_1$稱**模型係數(model coefficients)**\n",
    "\n",
    "為了建立(配適)此迴歸模型，我們必須把模型係數**\"學\"**出來，學成後就可以預測銷售了！"
   ]
  },
  {
   "cell_type": "markdown",
   "metadata": {},
   "source": [
    "### 如何估計(\"學\") 模型係數？\n",
    "\n",
    "常見的方法為**最小平方法(least squares criterion)**，其代表的意義是要找到一條**殘差總和(sum of squared residuals)**最小的**線**，殘差也就是誤差(error):"
   ]
  },
  {
   "cell_type": "markdown",
   "metadata": {},
   "source": [
    "<img src=\"_img/estimating_coefficients.png\">"
   ]
  },
  {
   "cell_type": "markdown",
   "metadata": {},
   "source": [
    "左圖解釋如下：\n",
    "- 黑點表示**觀測值(observed values)**，一個x(自變數，投入廣告成本)與一個y(應變數，銷售狀況)\n",
    "- 藍線表示**最小平方線(least squares line)**\n",
    "- 紅線表示**殘差(residuals)**\n",
    "\n",
    "模型係數與最小平方線的關係為何？\n",
    "- $\\beta_0$為**截距(intercept)** (當$x$=0時的$y$)\n",
    "- $\\beta_1$為**斜率(slope)** (當$x$變動時，$y$改變的量)"
   ]
  },
  {
   "cell_type": "markdown",
   "metadata": {},
   "source": [
    "<img src=\"_img/slope_intercept.png\">"
   ]
  },
  {
   "cell_type": "markdown",
   "metadata": {},
   "source": [
    "以下透過 **Statsmodels** 套件來估計此廣告資料的模型係數："
   ]
  },
  {
   "cell_type": "code",
   "execution_count": 72,
   "metadata": {},
   "outputs": [
    {
     "data": {
      "text/plain": [
       "Intercept    7.032594\n",
       "TV           0.047537\n",
       "dtype: float64"
      ]
     },
     "execution_count": 72,
     "metadata": {},
     "output_type": "execute_result"
    }
   ],
   "source": [
    "# this is the standard import if you're using \"formula notation\" \n",
    "import statsmodels.formula.api as smf\n",
    "\n",
    "# create a fitted model in one line\n",
    "# 這邊以Sales為y也就是response，TV為x也就是feature\n",
    "# ordinary least squares\n",
    "lm = smf.ols(formula='Sales ~ TV', data=data).fit()\n",
    "\n",
    "# print the coefficients\n",
    "lm.params"
   ]
  },
  {
   "cell_type": "markdown",
   "metadata": {},
   "source": [
    "### 模型係數解釋\n",
    "\n",
    "如何解釋TV係數($\\beta_1$)?\n",
    "- 每增加一個單位的TV廣告成本相當於增加0.047537個\"unit\"的銷售量\n",
    "- 白話來說，每花1000元廣告費會多銷售47.537個產品\n",
    "\n",
    "注意：若$\\beta_1$為負數，表示增加廣告費用，反而會降低銷售量"
   ]
  },
  {
   "cell_type": "markdown",
   "metadata": {},
   "source": [
    "### 使用此模型進行預測\n",
    "\n",
    "當模型係數已經**\"學\"**成，我們就可以透過新的廣告預算進行銷售預測，假設我們投入的TV廣告預算為**$50,000**。\n",
    "\n",
    "$$y = \\beta_0 + \\beta_1x$$\n",
    "$$y = 7.032594 + 0.047537 \\times 50$$"
   ]
  },
  {
   "cell_type": "code",
   "execution_count": 73,
   "metadata": {},
   "outputs": [
    {
     "data": {
      "text/plain": [
       "9.409444"
      ]
     },
     "execution_count": 73,
     "metadata": {},
     "output_type": "execute_result"
    }
   ],
   "source": [
    "# manually calculate the prediction\n",
    "7.032594 + 0.047537*50"
   ]
  },
  {
   "cell_type": "markdown",
   "metadata": {},
   "source": [
    "預測的銷售量為**9,409**個產品\n",
    "\n",
    "當然，我們也可以透過Statsmodels的函數幫助我們更方便地進行預測："
   ]
  },
  {
   "cell_type": "code",
   "execution_count": 74,
   "metadata": {},
   "outputs": [
    {
     "data": {
      "text/html": [
       "<div>\n",
       "<table border=\"1\" class=\"dataframe\">\n",
       "  <thead>\n",
       "    <tr style=\"text-align: right;\">\n",
       "      <th></th>\n",
       "      <th>TV</th>\n",
       "    </tr>\n",
       "  </thead>\n",
       "  <tbody>\n",
       "    <tr>\n",
       "      <th>0</th>\n",
       "      <td>50</td>\n",
       "    </tr>\n",
       "  </tbody>\n",
       "</table>\n",
       "</div>"
      ],
      "text/plain": [
       "   TV\n",
       "0  50"
      ]
     },
     "execution_count": 74,
     "metadata": {},
     "output_type": "execute_result"
    }
   ],
   "source": [
    "# you have to create a DataFrame since the Statsmodels formula interface expects it\n",
    "X_new = pd.DataFrame({'TV': [50]})\n",
    "X_new.head()"
   ]
  },
  {
   "cell_type": "code",
   "execution_count": 75,
   "metadata": {},
   "outputs": [
    {
     "data": {
      "text/plain": [
       "array([ 9.40942557])"
      ]
     },
     "execution_count": 75,
     "metadata": {},
     "output_type": "execute_result"
    }
   ],
   "source": [
    "# use the model to make predictions on a new value\n",
    "lm.predict(X_new)"
   ]
  },
  {
   "cell_type": "markdown",
   "metadata": {},
   "source": [
    "### 繪製最小平方線\n",
    "\n",
    "已經有了二元一次方程式，透過兩點一線的概念即可繪製該直線，這邊我們透過TV觀測值中的最小值及最大值及它們對應的預測值來繪製："
   ]
  },
  {
   "cell_type": "code",
   "execution_count": 76,
   "metadata": {},
   "outputs": [
    {
     "data": {
      "text/html": [
       "<div>\n",
       "<table border=\"1\" class=\"dataframe\">\n",
       "  <thead>\n",
       "    <tr style=\"text-align: right;\">\n",
       "      <th></th>\n",
       "      <th>TV</th>\n",
       "    </tr>\n",
       "  </thead>\n",
       "  <tbody>\n",
       "    <tr>\n",
       "      <th>0</th>\n",
       "      <td>0.7</td>\n",
       "    </tr>\n",
       "    <tr>\n",
       "      <th>1</th>\n",
       "      <td>296.4</td>\n",
       "    </tr>\n",
       "  </tbody>\n",
       "</table>\n",
       "</div>"
      ],
      "text/plain": [
       "      TV\n",
       "0    0.7\n",
       "1  296.4"
      ]
     },
     "execution_count": 76,
     "metadata": {},
     "output_type": "execute_result"
    }
   ],
   "source": [
    "# create a DataFrame with the minimum and maximum values of TV\n",
    "X_new = pd.DataFrame({'TV': [data.TV.min(), data.TV.max()]})\n",
    "X_new.head()"
   ]
  },
  {
   "cell_type": "code",
   "execution_count": 77,
   "metadata": {},
   "outputs": [
    {
     "data": {
      "text/plain": [
       "array([  7.0658692 ,  21.12245377])"
      ]
     },
     "execution_count": 77,
     "metadata": {},
     "output_type": "execute_result"
    }
   ],
   "source": [
    "# make predictions for those x values and store them\n",
    "preds = lm.predict(X_new)\n",
    "preds"
   ]
  },
  {
   "cell_type": "code",
   "execution_count": 78,
   "metadata": {
    "scrolled": true
   },
   "outputs": [
    {
     "data": {
      "text/plain": [
       "[<matplotlib.lines.Line2D at 0x11fce9630>]"
      ]
     },
     "execution_count": 78,
     "metadata": {},
     "output_type": "execute_result"
    },
    {
     "data": {
      "image/png": "[encoded data removed]",
      "text/plain": [
       "<matplotlib.figure.Figure at 0x11fce9358>"
      ]
     },
     "metadata": {},
     "output_type": "display_data"
    }
   ],
   "source": [
    "# first, plot the observed data\n",
    "data.plot(kind='scatter', x='TV', y='Sales')\n",
    "\n",
    "# then, plot the least squares line\n",
    "plt.plot(X_new, preds, c='red', linewidth=2)"
   ]
  },
  {
   "cell_type": "markdown",
   "metadata": {},
   "source": [
    "<font size=6 style=\"text-shadow:0px 0px 15px #FF37FD;\">練習</font>\n",
    "- 以Radio為自變數進行單變量線性迴歸\n",
    "- 假設一個新的Radio投入成本為30，請預測其銷售量\n",
    "- 依上述方式進行視覺化\n",
    "- 解答：`%pycat _homework/reg1.py`"
   ]
  },
  {
   "cell_type": "markdown",
   "metadata": {},
   "source": [
    "### 模型的可信程度？\n",
    "\n",
    "- 相關的概念為**信賴區間(confidence intervals)**\n",
    "- Statsmodels預設的信賴區間為95%，這表示：\n",
    "    - If the population(母體) from which this sample(抽樣) was drawn was **sampled 100 times**, approximately **95 of those confidence intervals** would contain the \"true\"(真正?) coefficient."
   ]
  },
  {
   "cell_type": "code",
   "execution_count": 79,
   "metadata": {},
   "outputs": [
    {
     "data": {
      "text/html": [
       "<div>\n",
       "<table border=\"1\" class=\"dataframe\">\n",
       "  <thead>\n",
       "    <tr style=\"text-align: right;\">\n",
       "      <th></th>\n",
       "      <th>0</th>\n",
       "      <th>1</th>\n",
       "    </tr>\n",
       "  </thead>\n",
       "  <tbody>\n",
       "    <tr>\n",
       "      <th>Intercept</th>\n",
       "      <td>6.129719</td>\n",
       "      <td>7.935468</td>\n",
       "    </tr>\n",
       "    <tr>\n",
       "      <th>TV</th>\n",
       "      <td>0.042231</td>\n",
       "      <td>0.052843</td>\n",
       "    </tr>\n",
       "  </tbody>\n",
       "</table>\n",
       "</div>"
      ],
      "text/plain": [
       "                  0         1\n",
       "Intercept  6.129719  7.935468\n",
       "TV         0.042231  0.052843"
      ]
     },
     "execution_count": 79,
     "metadata": {},
     "output_type": "execute_result"
    }
   ],
   "source": [
    "# print the confidence intervals for the model coefficients\n",
    "# 係數的區間\n",
    "lm.conf_int()"
   ]
  },
  {
   "cell_type": "markdown",
   "metadata": {},
   "source": [
    "- 很難有辦法取得整個母體的資料，通常是以樣本資料進行係數估計\n",
    "- \"真正的\"係數是否在我們估計的區間之中呢？there's no way to actually know\n",
    "- 我們透過僅有的資料進行估計，並且用一個範圍來表示這個\"真正的\"係數**可能**在其中\n",
    "- 95%的信賴區間只是一個慣例，實際上可以依照我們的需求去決定，要了解的是：\n",
    "    - 信賴區間定的越小(假設90%)，係數的範圍就會越小\n",
    "    - 信賴區間定的越大(假設99%)，係數的範圍就會越大\n",
    "    - 就好像我說：\n",
    "        - 我今晚打麻將有20%的信心能贏1000-1200元之間(係數範圍小)\n",
    "        - 我今晚打麻將有99%的信心，輸贏會介於賠1000跟賺2000元之間(係數範圍大)\n"
   ]
  },
  {
   "cell_type": "markdown",
   "metadata": {},
   "source": [
    "### 假設檢定及p值(p-values)\n",
    "\n",
    "與信賴區間密切相關的是**假設檢定(hypothesis testing)**。廣義來說，我們會假設一個**虛無假設(null hypothesis)**與一個跟虛無假設相反的**對立假設(alternative hypothesis)**。接著，透過手上的資料去評估，**拒絕虛無假設(rejecting the null hypothesis)**或者是**不拒絕虛無假設(failing to reject the null hypothesis)**.\n",
    "\n",
    "(Note that \"failing to reject\" the null is not the same as \"accepting\"(我不拒絕你不表示接受你...) the null hypothesis. The alternative hypothesis may indeed be true, except that you just don't have enough data to show that.)\n",
    "\n",
    "用於模型係數上，慣例使用下列假設檢定：\n",
    "- **虛無假設:** 電視廣告與銷售不相關( $\\beta_1 = 0$)\n",
    "- **對立假設:** 電視廣告與銷售相關 ( $\\beta_1 \\neq 0$)\n",
    "\n",
    "如何檢定呢？\n",
    "- 就是看95%的信賴區間中，是否不包含0\n",
    "- **p值(p-value)**表示，該係數為0的機率\n"
   ]
  },
  {
   "cell_type": "code",
   "execution_count": 80,
   "metadata": {},
   "outputs": [
    {
     "data": {
      "text/plain": [
       "Intercept    1.406300e-35\n",
       "TV           1.467390e-42\n",
       "dtype: float64"
      ]
     },
     "execution_count": 80,
     "metadata": {},
     "output_type": "execute_result"
    }
   ],
   "source": [
    "# print the p-values for the model coefficients\n",
    "lm.pvalues"
   ]
  },
  {
   "cell_type": "markdown",
   "metadata": {},
   "source": [
    "- 若95%的信賴區間**包含0**，則p值將會大於0.05，反之，小於0.05。\n",
    "- 再次提醒，0.05只是一個慣例\n",
    "- 通常會忽略截距的p值\n",
    "- 以此案例來說，p值遠小於0.05，所以我們**相信**電視廣告與銷售量是有關係的。\n"
   ]
  },
  {
   "cell_type": "markdown",
   "metadata": {},
   "source": [
    "### 模型的配適程度如何？\n",
    "\n",
    "- 普遍使用的方法是透過**決定係數(R-squared)**或稱R平方、迴歸可解釋變異量比\n",
    "- 決定係數是指此迴歸模型可以解釋這些樣本資料的變異量比例\n",
    "- 決定係數是介於0到1之間，越大越好，表示越多的變異量被此模型解釋\n",
    "- 用下圖可以更好理解"
   ]
  },
  {
   "cell_type": "markdown",
   "metadata": {},
   "source": [
    "<img src=\"_img/r_squared.png\">"
   ]
  },
  {
   "cell_type": "markdown",
   "metadata": {},
   "source": [
    "- 藍線：解釋了部分的變異量，其決定係數為0.54\n",
    "- 綠線：解釋了更多的變異量，其決定係數為0.64\n",
    "- 紅線：解釋了的變異量更多且更深入，其決定係數為0.66(是否可能過度配適?)\n",
    "    - ![](_img/overfitting.png)\n",
    "\n",
    "以下計算方才模型的決定係數："
   ]
  },
  {
   "cell_type": "code",
   "execution_count": 81,
   "metadata": {},
   "outputs": [
    {
     "data": {
      "text/plain": [
       "0.61187505085007099"
      ]
     },
     "execution_count": 81,
     "metadata": {},
     "output_type": "execute_result"
    }
   ],
   "source": [
    "# print the R-squared value for the model\n",
    "lm.rsquared"
   ]
  },
  {
   "cell_type": "markdown",
   "metadata": {},
   "source": [
    "- 這樣的決定係數是否好呢？其實很難說！\n",
    "- 一個好的決定係數，取決於應用情境，例如：\n",
    "    - 儀器的精確度校正，通常決定係數要高達0.999\n",
    "    - 社會科學的研究，通常決定係數在0.6-0.7\n",
    "- 所以，決定係數更好的用法是在於**比較不同的模型**時"
   ]
  },
  {
   "cell_type": "markdown",
   "metadata": {},
   "source": [
    "### 多變量迴歸\n",
    "\n",
    "- 簡單線性迴歸可以簡單的擴展為多特徵(自變量)\n",
    "- $y = \\beta_0 + \\beta_1x_1 + ... + \\beta_nx_n$\n",
    "- 每個$x$表示不同的特徵且各有其係數：\n",
    "    - $y = \\beta_0 + \\beta_1 \\times TV + \\beta_2 \\times Radio + \\beta_3 \\times Newspaper$"
   ]
  },
  {
   "cell_type": "code",
   "execution_count": 82,
   "metadata": {},
   "outputs": [
    {
     "data": {
      "text/plain": [
       "Intercept    2.938889\n",
       "TV           0.045765\n",
       "Radio        0.188530\n",
       "Newspaper   -0.001037\n",
       "dtype: float64"
      ]
     },
     "execution_count": 82,
     "metadata": {},
     "output_type": "execute_result"
    }
   ],
   "source": [
    "# create a fitted model with all three features\n",
    "lm = smf.ols(formula='Sales ~ TV + Radio + Newspaper', data=data).fit()\n",
    "\n",
    "# print the coefficients\n",
    "lm.params"
   ]
  },
  {
   "cell_type": "markdown",
   "metadata": {},
   "source": [
    "解釋：\n",
    "\n",
    "- 在給定的Radio及Newspaper廣告投入成本下，每增加1000元的TV廣告，可以提高45.765單位的銷售量\n",
    "- 透過summary可以取得更多的模型資訊："
   ]
  },
  {
   "cell_type": "code",
   "execution_count": 83,
   "metadata": {},
   "outputs": [
    {
     "data": {
      "text/html": [
       "<table class=\"simpletable\">\n",
       "<caption>OLS Regression Results</caption>\n",
       "<tr>\n",
       "  <th>Dep. Variable:</th>          <td>Sales</td>      <th>  R-squared:         </th> <td>   0.897</td>\n",
       "</tr>\n",
       "<tr>\n",
       "  <th>Model:</th>                   <td>OLS</td>       <th>  Adj. R-squared:    </th> <td>   0.896</td>\n",
       "</tr>\n",
       "<tr>\n",
       "  <th>Method:</th>             <td>Least Squares</td>  <th>  F-statistic:       </th> <td>   570.3</td>\n",
       "</tr>\n",
       "<tr>\n",
       "  <th>Date:</th>             <td>Sat, 08 Apr 2017</td> <th>  Prob (F-statistic):</th> <td>1.58e-96</td>\n",
       "</tr>\n",
       "<tr>\n",
       "  <th>Time:</th>                 <td>08:16:19</td>     <th>  Log-Likelihood:    </th> <td> -386.18</td>\n",
       "</tr>\n",
       "<tr>\n",
       "  <th>No. Observations:</th>      <td>   200</td>      <th>  AIC:               </th> <td>   780.4</td>\n",
       "</tr>\n",
       "<tr>\n",
       "  <th>Df Residuals:</th>          <td>   196</td>      <th>  BIC:               </th> <td>   793.6</td>\n",
       "</tr>\n",
       "<tr>\n",
       "  <th>Df Model:</th>              <td>     3</td>      <th>                     </th>     <td> </td>   \n",
       "</tr>\n",
       "<tr>\n",
       "  <th>Covariance Type:</th>      <td>nonrobust</td>    <th>                     </th>     <td> </td>   \n",
       "</tr>\n",
       "</table>\n",
       "<table class=\"simpletable\">\n",
       "<tr>\n",
       "      <td></td>         <th>coef</th>     <th>std err</th>      <th>t</th>      <th>P>|t|</th> <th>[95.0% Conf. Int.]</th> \n",
       "</tr>\n",
       "<tr>\n",
       "  <th>Intercept</th> <td>    2.9389</td> <td>    0.312</td> <td>    9.422</td> <td> 0.000</td> <td>    2.324     3.554</td>\n",
       "</tr>\n",
       "<tr>\n",
       "  <th>TV</th>        <td>    0.0458</td> <td>    0.001</td> <td>   32.809</td> <td> 0.000</td> <td>    0.043     0.049</td>\n",
       "</tr>\n",
       "<tr>\n",
       "  <th>Radio</th>     <td>    0.1885</td> <td>    0.009</td> <td>   21.893</td> <td> 0.000</td> <td>    0.172     0.206</td>\n",
       "</tr>\n",
       "<tr>\n",
       "  <th>Newspaper</th> <td>   -0.0010</td> <td>    0.006</td> <td>   -0.177</td> <td> 0.860</td> <td>   -0.013     0.011</td>\n",
       "</tr>\n",
       "</table>\n",
       "<table class=\"simpletable\">\n",
       "<tr>\n",
       "  <th>Omnibus:</th>       <td>60.414</td> <th>  Durbin-Watson:     </th> <td>   2.084</td>\n",
       "</tr>\n",
       "<tr>\n",
       "  <th>Prob(Omnibus):</th> <td> 0.000</td> <th>  Jarque-Bera (JB):  </th> <td> 151.241</td>\n",
       "</tr>\n",
       "<tr>\n",
       "  <th>Skew:</th>          <td>-1.327</td> <th>  Prob(JB):          </th> <td>1.44e-33</td>\n",
       "</tr>\n",
       "<tr>\n",
       "  <th>Kurtosis:</th>      <td> 6.332</td> <th>  Cond. No.          </th> <td>    454.</td>\n",
       "</tr>\n",
       "</table>"
      ],
      "text/plain": [
       "<class 'statsmodels.iolib.summary.Summary'>\n",
       "\"\"\"\n",
       "                            OLS Regression Results                            \n",
       "==============================================================================\n",
       "Dep. Variable:                  Sales   R-squared:                       0.897\n",
       "Model:                            OLS   Adj. R-squared:                  0.896\n",
       "Method:                 Least Squares   F-statistic:                     570.3\n",
       "Date:                Sat, 08 Apr 2017   Prob (F-statistic):           1.58e-96\n",
       "Time:                        08:16:19   Log-Likelihood:                -386.18\n",
       "No. Observations:                 200   AIC:                             780.4\n",
       "Df Residuals:                     196   BIC:                             793.6\n",
       "Df Model:                           3                                         \n",
       "Covariance Type:            nonrobust                                         \n",
       "==============================================================================\n",
       "                 coef    std err          t      P>|t|      [95.0% Conf. Int.]\n",
       "------------------------------------------------------------------------------\n",
       "Intercept      2.9389      0.312      9.422      0.000         2.324     3.554\n",
       "TV             0.0458      0.001     32.809      0.000         0.043     0.049\n",
       "Radio          0.1885      0.009     21.893      0.000         0.172     0.206\n",
       "Newspaper     -0.0010      0.006     -0.177      0.860        -0.013     0.011\n",
       "==============================================================================\n",
       "Omnibus:                       60.414   Durbin-Watson:                   2.084\n",
       "Prob(Omnibus):                  0.000   Jarque-Bera (JB):              151.241\n",
       "Skew:                          -1.327   Prob(JB):                     1.44e-33\n",
       "Kurtosis:                       6.332   Cond. No.                         454.\n",
       "==============================================================================\n",
       "\n",
       "Warnings:\n",
       "[1] Standard Errors assume that the covariance matrix of the errors is correctly specified.\n",
       "\"\"\""
      ]
     },
     "execution_count": 83,
     "metadata": {},
     "output_type": "execute_result"
    }
   ],
   "source": [
    "# print a summary of the fitted model\n",
    "lm.summary()"
   ]
  },
  {
   "cell_type": "markdown",
   "metadata": {},
   "source": [
    "以下就一些比較關鍵的部分說明：\n",
    "\n",
    "- TV及Radio有顯著的**p值**，反觀Newspaper沒有。因此我們拒絕TV及Radio的虛無假設，不拒絕Newspaper的虛無假設。\n",
    "- TV及Radio的廣告投入成本與銷售量為正相關，而Newspaper的部分為(微微的)負相關，不過那已經不要緊，我們已經\"不拒絕其虛無假設\"\n",
    "- 此模型的決定係數高達0.897，比前一個模型還高，這表示三個特徵納入時，模型比只考慮TV時有更好的配適"
   ]
  },
  {
   "cell_type": "markdown",
   "metadata": {},
   "source": [
    "### 特徵挑選(Feature Selection)\n",
    "\n",
    "如何決定哪些要挑選哪些特徵來進行線性模型配適呢？：\n",
    "- 都試試看，並且保留p值比較小的模型\n",
    "- 檢查每次新增新的特徵值，是否決策係數將會提高\n",
    "\n",
    "此方法的缺點為何？\n",
    "- 線性模型依賴於許多假設，例如特徵之間要各自獨立，若是違反了這些假設決定係數及p值就會降低可性度\n",
    "- 決定係數容易造成**過度配適(overfitting)**，因此沒辦法保證模型的決定係數越高一定越好。以下為例：\n"
   ]
  },
  {
   "cell_type": "code",
   "execution_count": 84,
   "metadata": {},
   "outputs": [
    {
     "data": {
      "text/plain": [
       "0.89719426108289568"
      ]
     },
     "execution_count": 84,
     "metadata": {},
     "output_type": "execute_result"
    }
   ],
   "source": [
    "# only include TV and Radio in the model\n",
    "lm = smf.ols(formula='Sales ~ TV + Radio', data=data).fit()\n",
    "lm.rsquared"
   ]
  },
  {
   "cell_type": "code",
   "execution_count": 85,
   "metadata": {},
   "outputs": [
    {
     "data": {
      "text/plain": [
       "0.89721063817895219"
      ]
     },
     "execution_count": 85,
     "metadata": {},
     "output_type": "execute_result"
    }
   ],
   "source": [
    "# add Newspaper to the model (which we believe has no association with Sales)\n",
    "lm = smf.ols(formula='Sales ~ TV + Radio + Newspaper', data=data).fit()\n",
    "lm.rsquared"
   ]
  },
  {
   "cell_type": "markdown",
   "metadata": {},
   "source": [
    "**R-squared will always increase as you add more features to the model**, even if they are unrelated to the response. Thus, selecting the model with the highest R-squared is not a reliable approach for choosing the best linear model.\n",
    "\n",
    "更好的特徵挑選方法，**交叉驗證(Cross-validation, CV)**，能夠更好的估計樣本外誤差(out-of-sample error)，scikit-learn套件有相關方法，可以善用其達到更好的特徵挑選及參數調校，更重要的是CV能夠被應用在任何模型。\n",
    "\n",
    "#### 秒懂交叉驗證\n",
    "![](_img/10fold-cv.png)"
   ]
  },
  {
   "cell_type": "markdown",
   "metadata": {},
   "source": [
    "### Linear Regression in scikit-learn\n",
    "\n",
    "Let's redo some of the Statsmodels code above in scikit-learn:"
   ]
  },
  {
   "cell_type": "code",
   "execution_count": 86,
   "metadata": {},
   "outputs": [
    {
     "name": "stdout",
     "output_type": "stream",
     "text": [
      "2.93888936946\n",
      "[ 0.04576465  0.18853002 -0.00103749]\n"
     ]
    }
   ],
   "source": [
    "# create x and y\n",
    "feature_cols = ['TV', 'Radio', 'Newspaper']\n",
    "x = data[feature_cols]\n",
    "y = data.Sales\n",
    "\n",
    "# follow the usual sklearn pattern: import, instantiate, fit\n",
    "from sklearn.linear_model import LinearRegression\n",
    "lm = LinearRegression()\n",
    "lm.fit(x, y)\n",
    "\n",
    "# print intercept and coefficients\n",
    "print(lm.intercept_)\n",
    "print(lm.coef_)"
   ]
  },
  {
   "cell_type": "code",
   "execution_count": 116,
   "metadata": {},
   "outputs": [
    {
     "data": {
      "text/plain": [
       "[('TV', 0.045764645455397608),\n",
       " ('Radio', 0.18853001691820462),\n",
       " ('Newspaper', -0.0010374930424762972)]"
      ]
     },
     "execution_count": 116,
     "metadata": {},
     "output_type": "execute_result"
    }
   ],
   "source": [
    "# pair the feature names with the coefficients\n",
    "list(zip(feature_cols, lm.coef_))"
   ]
  },
  {
   "cell_type": "code",
   "execution_count": 110,
   "metadata": {
    "scrolled": true
   },
   "outputs": [
    {
     "data": {
      "text/plain": [
       "array([ 12.20266701])"
      ]
     },
     "execution_count": 110,
     "metadata": {},
     "output_type": "execute_result"
    }
   ],
   "source": [
    "# predict for a new observation\n",
    "lm.predict(pd.Series([100, 25, 25]).reshape(1, -1))"
   ]
  },
  {
   "cell_type": "code",
   "execution_count": 89,
   "metadata": {},
   "outputs": [
    {
     "data": {
      "text/plain": [
       "0.89721063817895208"
      ]
     },
     "execution_count": 89,
     "metadata": {},
     "output_type": "execute_result"
    }
   ],
   "source": [
    "# calculate the R-squared\n",
    "lm.score(x, y)"
   ]
  },
  {
   "cell_type": "markdown",
   "metadata": {},
   "source": [
    "比較可惜的是**p-values**及**confidence intervals**在scikit-learn上取得有些不方便\n",
    "\n",
    "有興趣的請參考[HERE](http://scikit-learn.org/stable/modules/generated/sklearn.feature_selection.f_regression.html)"
   ]
  },
  {
   "cell_type": "markdown",
   "metadata": {},
   "source": [
    "## 再次以NBA資料為例(sklearn套件)\n",
    "### 將資料劃分為訓練集與測試集\n",
    "- 將資料劃分為訓練集和測試集是避免過擬合的辦法之一"
   ]
  },
  {
   "cell_type": "code",
   "execution_count": 90,
   "metadata": {
    "collapsed": true
   },
   "outputs": [],
   "source": [
    "train = nba.sample(frac=0.8, random_state=1)\n",
    "test = nba.loc[~nba.index.isin(train.index)]\n"
   ]
  },
  {
   "cell_type": "markdown",
   "metadata": {},
   "source": [
    "### 假設我們希望通過球員的投籃命中預測其助攻次數"
   ]
  },
  {
   "cell_type": "code",
   "execution_count": 91,
   "metadata": {
    "collapsed": true
   },
   "outputs": [],
   "source": [
    "from sklearn.linear_model import LinearRegression\n",
    "lr = LinearRegression()\n",
    "lr.fit(train[[\"fg\"]], train[\"ast\"])\n",
    "predictions = lr.predict(test[[\"fg\"]])"
   ]
  },
  {
   "cell_type": "markdown",
   "metadata": {},
   "source": [
    "### 將原始值與預估值以DataFrame共同列出\n",
    "- test[['ast']]為DataFrame\n",
    "- test['ast']為Series\n",
    "- test['ast'].values為ndarray"
   ]
  },
  {
   "cell_type": "code",
   "execution_count": 92,
   "metadata": {
    "scrolled": false
   },
   "outputs": [
    {
     "name": "stdout",
     "output_type": "stream",
     "text": [
      "<class 'pandas.core.frame.DataFrame'>\n",
      "<class 'pandas.core.series.Series'>\n",
      "<class 'numpy.ndarray'>\n"
     ]
    }
   ],
   "source": [
    "print(type(test[['ast']]))\n",
    "print(type(test['ast']))\n",
    "print(type(test['ast'].values))"
   ]
  },
  {
   "cell_type": "markdown",
   "metadata": {},
   "source": [
    "### 以Series合併的話，可能會有index的錯亂，故以ndarray合併"
   ]
  },
  {
   "cell_type": "code",
   "execution_count": 93,
   "metadata": {
    "scrolled": false
   },
   "outputs": [
    {
     "data": {
      "text/plain": [
       "1      43\n",
       "3     248\n",
       "7      71\n",
       "15     17\n",
       "22     61\n",
       "Name: ast, dtype: int64"
      ]
     },
     "execution_count": 93,
     "metadata": {},
     "output_type": "execute_result"
    }
   ],
   "source": [
    "test['ast'].head()"
   ]
  },
  {
   "cell_type": "code",
   "execution_count": 94,
   "metadata": {
    "scrolled": false
   },
   "outputs": [
    {
     "data": {
      "text/html": [
       "<div>\n",
       "<table border=\"1\" class=\"dataframe\">\n",
       "  <thead>\n",
       "    <tr style=\"text-align: right;\">\n",
       "      <th></th>\n",
       "      <th>ast</th>\n",
       "      <th>pred</th>\n",
       "    </tr>\n",
       "  </thead>\n",
       "  <tbody>\n",
       "    <tr>\n",
       "      <th>0</th>\n",
       "      <td>43</td>\n",
       "      <td>57.207644</td>\n",
       "    </tr>\n",
       "    <tr>\n",
       "      <th>1</th>\n",
       "      <td>248</td>\n",
       "      <td>264.850225</td>\n",
       "    </tr>\n",
       "    <tr>\n",
       "      <th>2</th>\n",
       "      <td>71</td>\n",
       "      <td>80.154667</td>\n",
       "    </tr>\n",
       "    <tr>\n",
       "      <th>3</th>\n",
       "      <td>17</td>\n",
       "      <td>91.908021</td>\n",
       "    </tr>\n",
       "    <tr>\n",
       "      <th>4</th>\n",
       "      <td>61</td>\n",
       "      <td>95.825806</td>\n",
       "    </tr>\n",
       "    <tr>\n",
       "      <th>5</th>\n",
       "      <td>28</td>\n",
       "      <td>34.260620</td>\n",
       "    </tr>\n",
       "    <tr>\n",
       "      <th>6</th>\n",
       "      <td>60</td>\n",
       "      <td>61.685112</td>\n",
       "    </tr>\n",
       "    <tr>\n",
       "      <th>7</th>\n",
       "      <td>303</td>\n",
       "      <td>147.316688</td>\n",
       "    </tr>\n",
       "    <tr>\n",
       "      <th>8</th>\n",
       "      <td>420</td>\n",
       "      <td>218.396494</td>\n",
       "    </tr>\n",
       "    <tr>\n",
       "      <th>9</th>\n",
       "      <td>179</td>\n",
       "      <td>193.770419</td>\n",
       "    </tr>\n",
       "  </tbody>\n",
       "</table>\n",
       "</div>"
      ],
      "text/plain": [
       "   ast        pred\n",
       "0   43   57.207644\n",
       "1  248  264.850225\n",
       "2   71   80.154667\n",
       "3   17   91.908021\n",
       "4   61   95.825806\n",
       "5   28   34.260620\n",
       "6   60   61.685112\n",
       "7  303  147.316688\n",
       "8  420  218.396494\n",
       "9  179  193.770419"
      ]
     },
     "execution_count": 94,
     "metadata": {},
     "output_type": "execute_result"
    }
   ],
   "source": [
    "pd.DataFrame({'ast':test['ast'].values,'pred':predictions}).head(10)\n"
   ]
  },
  {
   "cell_type": "markdown",
   "metadata": {},
   "source": [
    "### 計算此模型的統計摘要"
   ]
  },
  {
   "cell_type": "code",
   "execution_count": 95,
   "metadata": {
    "scrolled": true
   },
   "outputs": [
    {
     "data": {
      "text/html": [
       "<table class=\"simpletable\">\n",
       "<caption>OLS Regression Results</caption>\n",
       "<tr>\n",
       "  <th>Dep. Variable:</th>           <td>ast</td>       <th>  R-squared:         </th> <td>   0.562</td>\n",
       "</tr>\n",
       "<tr>\n",
       "  <th>Model:</th>                   <td>OLS</td>       <th>  Adj. R-squared:    </th> <td>   0.561</td>\n",
       "</tr>\n",
       "<tr>\n",
       "  <th>Method:</th>             <td>Least Squares</td>  <th>  F-statistic:       </th> <td>   492.1</td>\n",
       "</tr>\n",
       "<tr>\n",
       "  <th>Date:</th>             <td>Sat, 08 Apr 2017</td> <th>  Prob (F-statistic):</th> <td>1.03e-70</td>\n",
       "</tr>\n",
       "<tr>\n",
       "  <th>Time:</th>                 <td>08:16:19</td>     <th>  Log-Likelihood:    </th> <td> -2273.3</td>\n",
       "</tr>\n",
       "<tr>\n",
       "  <th>No. Observations:</th>      <td>   385</td>      <th>  AIC:               </th> <td>   4551.</td>\n",
       "</tr>\n",
       "<tr>\n",
       "  <th>Df Residuals:</th>          <td>   383</td>      <th>  BIC:               </th> <td>   4559.</td>\n",
       "</tr>\n",
       "<tr>\n",
       "  <th>Df Model:</th>              <td>     1</td>      <th>                     </th>     <td> </td>   \n",
       "</tr>\n",
       "<tr>\n",
       "  <th>Covariance Type:</th>      <td>nonrobust</td>    <th>                     </th>     <td> </td>   \n",
       "</tr>\n",
       "</table>\n",
       "<table class=\"simpletable\">\n",
       "<tr>\n",
       "      <td></td>         <th>coef</th>     <th>std err</th>      <th>t</th>      <th>P>|t|</th> <th>[95.0% Conf. Int.]</th> \n",
       "</tr>\n",
       "<tr>\n",
       "  <th>Intercept</th> <td>   -2.3302</td> <td>    6.855</td> <td>   -0.340</td> <td> 0.734</td> <td>  -15.808    11.147</td>\n",
       "</tr>\n",
       "<tr>\n",
       "  <th>fga</th>       <td>    0.2712</td> <td>    0.012</td> <td>   22.183</td> <td> 0.000</td> <td>    0.247     0.295</td>\n",
       "</tr>\n",
       "</table>\n",
       "<table class=\"simpletable\">\n",
       "<tr>\n",
       "  <th>Omnibus:</th>       <td>162.497</td> <th>  Durbin-Watson:     </th> <td>   1.990</td> \n",
       "</tr>\n",
       "<tr>\n",
       "  <th>Prob(Omnibus):</th> <td> 0.000</td>  <th>  Jarque-Bera (JB):  </th> <td> 849.356</td> \n",
       "</tr>\n",
       "<tr>\n",
       "  <th>Skew:</th>          <td> 1.744</td>  <th>  Prob(JB):          </th> <td>3.67e-185</td>\n",
       "</tr>\n",
       "<tr>\n",
       "  <th>Kurtosis:</th>      <td> 9.386</td>  <th>  Cond. No.          </th> <td>    847.</td> \n",
       "</tr>\n",
       "</table>"
      ],
      "text/plain": [
       "<class 'statsmodels.iolib.summary.Summary'>\n",
       "\"\"\"\n",
       "                            OLS Regression Results                            \n",
       "==============================================================================\n",
       "Dep. Variable:                    ast   R-squared:                       0.562\n",
       "Model:                            OLS   Adj. R-squared:                  0.561\n",
       "Method:                 Least Squares   F-statistic:                     492.1\n",
       "Date:                Sat, 08 Apr 2017   Prob (F-statistic):           1.03e-70\n",
       "Time:                        08:16:19   Log-Likelihood:                -2273.3\n",
       "No. Observations:                 385   AIC:                             4551.\n",
       "Df Residuals:                     383   BIC:                             4559.\n",
       "Df Model:                           1                                         \n",
       "Covariance Type:            nonrobust                                         \n",
       "==============================================================================\n",
       "                 coef    std err          t      P>|t|      [95.0% Conf. Int.]\n",
       "------------------------------------------------------------------------------\n",
       "Intercept     -2.3302      6.855     -0.340      0.734       -15.808    11.147\n",
       "fga            0.2712      0.012     22.183      0.000         0.247     0.295\n",
       "==============================================================================\n",
       "Omnibus:                      162.497   Durbin-Watson:                   1.990\n",
       "Prob(Omnibus):                  0.000   Jarque-Bera (JB):              849.356\n",
       "Skew:                           1.744   Prob(JB):                    3.67e-185\n",
       "Kurtosis:                       9.386   Cond. No.                         847.\n",
       "==============================================================================\n",
       "\n",
       "Warnings:\n",
       "[1] Standard Errors assume that the covariance matrix of the errors is correctly specified.\n",
       "\"\"\""
      ]
     },
     "execution_count": 95,
     "metadata": {},
     "output_type": "execute_result"
    }
   ],
   "source": [
    "import statsmodels.formula.api as sm\n",
    "model = sm.ols(formula='ast ~ fga', data=train)\n",
    "fitted = model.fit()\n",
    "fitted.summary()"
   ]
  },
  {
   "cell_type": "markdown",
   "metadata": {},
   "source": [
    "### 計算誤差，這邊使用MSE(Mean Squared Error)"
   ]
  },
  {
   "cell_type": "code",
   "execution_count": 96,
   "metadata": {
    "scrolled": true
   },
   "outputs": [
    {
     "data": {
      "text/plain": [
       "7618.6862376310555"
      ]
     },
     "execution_count": 96,
     "metadata": {},
     "output_type": "execute_result"
    }
   ],
   "source": [
    "from sklearn.metrics import mean_squared_error\n",
    "mean_squared_error(test[\"ast\"], predictions)\n",
    "      "
   ]
  },
  {
   "cell_type": "markdown",
   "metadata": {},
   "source": [
    "# References\n",
    "\n",
    "[1] Vik P. (2015), [Python vs R: head to head data analysis](https://www.dataquest.io/blog/python-vs-r/)\n",
    "\n",
    "[2] 蔡炎龍, [Python 與數據分析](http://u.camdemy.com/course/122/intro)\n",
    "\n",
    "[3] David, C. [大數學堂](http://www.largitdata.com/)\n",
    "\n",
    "[4] http://belleaya.pixnet.net/blog/post/30754486\n",
    "\n",
    "[5] [Four ways to conduct one-way ANOVAs with Python](http://www.marsja.se/four-ways-to-conduct-one-way-anovas-using-python/)\n",
    "\n",
    "[6] [Simple Linear Regression]https://www.r-bloggers.com/simple-linear-regression-2/\n",
    "\n",
    "[7] [Github: justmarkham/DAT4](https://github.com/justmarkham/DAT4)\n",
    "\n",
    "[8] Gareth J., Daniela W., Trevor H. and Robert T. (2015), [An Introduction to Statistical Learning](http://www-bcf.usc.edu/~gareth/ISL/)"
   ]
  },
  {
   "cell_type": "markdown",
   "metadata": {
    "nbpresent": {
     "id": "19d4907f-f028-44ec-a86f-e09a319b8dfd"
    },
    "slideshow": {
     "slide_type": "slide"
    }
   },
   "source": [
    "![問題](_img/any-questions.jpg)\n",
    "\n",
    "<img src=\"_img/line.jpg\" style=\"width:150px;\">"
   ]
  }
 ],
 "metadata": {
  "anaconda-cloud": {},
  "kernelspec": {
   "display_name": "Python 3",
   "language": "python",
   "name": "python3"
  },
  "language_info": {
   "codemirror_mode": {
    "name": "ipython",
    "version": 3
   },
   "file_extension": ".py",
   "mimetype": "text/x-python",
   "name": "python",
   "nbconvert_exporter": "python",
   "pygments_lexer": "ipython3",
   "version": "3.6.1"
  },
  "toc": {
   "colors": {
    "hover_highlight": "#DAA520",
    "navigate_num": "#000000",
    "navigate_text": "#333333",
    "running_highlight": "#FF0000",
    "selected_highlight": "#FFD700",
    "sidebar_border": "#EEEEEE",
    "wrapper_background": "#FFFFFF"
   },
   "moveMenuLeft": true,
   "nav_menu": {
    "height": "512px",
    "width": "252px"
   },
   "navigate_menu": true,
   "number_sections": true,
   "sideBar": true,
   "skip_h1_title": false,
   "threshold": 4,
   "toc_cell": true,
   "toc_position": {
    "height": "552px",
    "left": "0px",
    "right": "948.821px",
    "top": "106px",
    "width": "256px"
   },
   "toc_section_display": "block",
   "toc_window_display": false,
   "widenNotebook": false
  },
  "varInspector": {
   "cols": {
    "lenName": 16,
    "lenType": 16,
    "lenVar": 40
   },
   "kernels_config": {
    "python": {
     "delete_cmd_postfix": "",
     "delete_cmd_prefix": "del ",
     "library": "var_list.py",
     "varRefreshCmd": "print(var_dic_list())"
    },
    "r": {
     "delete_cmd_postfix": ") ",
     "delete_cmd_prefix": "rm(",
     "library": "var_list.r",
     "varRefreshCmd": "cat(var_dic_list()) "
    }
   },
   "types_to_exclude": [
    "module",
    "function",
    "builtin_function_or_method",
    "instance",
    "_Feature"
   ],
   "window_display": false
  }
 },
 "nbformat": 4,
 "nbformat_minor": 1
}
