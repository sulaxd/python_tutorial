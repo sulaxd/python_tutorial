{
 "cells": [
  {
   "cell_type": "markdown",
   "metadata": {
    "toc": "true"
   },
   "source": [
    "# Table of Contents\n",
    " <p><div class=\"lev1 toc-item\"><a href=\"#檔案與異常處理\" data-toc-modified-id=\"檔案與異常處理-1\"><span class=\"toc-item-num\">1&nbsp;&nbsp;</span>檔案與異常處理</a></div><div class=\"lev2 toc-item\"><a href=\"#異常處理\" data-toc-modified-id=\"異常處理-11\"><span class=\"toc-item-num\">1.1&nbsp;&nbsp;</span>異常處理</a></div><div class=\"lev2 toc-item\"><a href=\"#打開和關閉文件\" data-toc-modified-id=\"打開和關閉文件-12\"><span class=\"toc-item-num\">1.2&nbsp;&nbsp;</span>打開和關閉文件</a></div><div class=\"lev3 toc-item\"><a href=\"#open-函數\" data-toc-modified-id=\"open-函數-121\"><span class=\"toc-item-num\">1.2.1&nbsp;&nbsp;</span>open 函數</a></div><div class=\"lev2 toc-item\"><a href=\"#關閉文件\" data-toc-modified-id=\"關閉文件-13\"><span class=\"toc-item-num\">1.3&nbsp;&nbsp;</span>關閉文件</a></div><div class=\"lev3 toc-item\"><a href=\"#Why-Close?-(Just-Try)\" data-toc-modified-id=\"Why-Close?-(Just-Try)-131\"><span class=\"toc-item-num\">1.3.1&nbsp;&nbsp;</span>Why Close? (Just Try)</a></div><div class=\"lev2 toc-item\"><a href=\"#讀取文件內容\" data-toc-modified-id=\"讀取文件內容-14\"><span class=\"toc-item-num\">1.4&nbsp;&nbsp;</span>讀取文件內容</a></div><div class=\"lev3 toc-item\"><a href=\"#read(),-read(size),-readline(),-readlines()\" data-toc-modified-id=\"read(),-read(size),-readline(),-readlines()-141\"><span class=\"toc-item-num\">1.4.1&nbsp;&nbsp;</span>read(), read(size), readline(), readlines()</a></div><div class=\"lev2 toc-item\"><a href=\"#使用with簡化關閉文件\" data-toc-modified-id=\"使用with簡化關閉文件-15\"><span class=\"toc-item-num\">1.5&nbsp;&nbsp;</span>使用with簡化關閉文件</a></div><div class=\"lev2 toc-item\"><a href=\"#讀取文件內容(續)\" data-toc-modified-id=\"讀取文件內容(續)-16\"><span class=\"toc-item-num\">1.6&nbsp;&nbsp;</span>讀取文件內容(續)</a></div><div class=\"lev2 toc-item\"><a href=\"#寫入文件---&quot;w&quot;\" data-toc-modified-id=\"寫入文件---&quot;w&quot;-17\"><span class=\"toc-item-num\">1.7&nbsp;&nbsp;</span>寫入文件 - \"w\"</a></div><div class=\"lev3 toc-item\"><a href=\"#w-=-write-only-打開一個文件只用於寫入。如果該文件已存在則將其覆蓋。如果該文件不存在，創建新文件。\" data-toc-modified-id=\"w-=-write-only-打開一個文件只用於寫入。如果該文件已存在則將其覆蓋。如果該文件不存在，創建新文件。-171\"><span class=\"toc-item-num\">1.7.1&nbsp;&nbsp;</span>w = write only 打開一個文件只用於寫入。如果該文件已存在則將其覆蓋。如果該文件不存在，創建新文件。</a></div><div class=\"lev3 toc-item\"><a href=\"#a+-打開一個文件用於讀寫。如果該文件已存在，文件指針將會放在文件的結尾。文件打開時會是追加模式。如果該文件不存在，創建新文件用於讀寫。\" data-toc-modified-id=\"a+-打開一個文件用於讀寫。如果該文件已存在，文件指針將會放在文件的結尾。文件打開時會是追加模式。如果該文件不存在，創建新文件用於讀寫。-172\"><span class=\"toc-item-num\">1.7.2&nbsp;&nbsp;</span>a+ 打開一個文件用於讀寫。如果該文件已存在，文件指針將會放在文件的結尾。文件打開時會是追加模式。如果該文件不存在，創建新文件用於讀寫。</a></div><div class=\"lev3 toc-item\"><a href=\"#寫入一個沒有副檔名的文字檔？\" data-toc-modified-id=\"寫入一個沒有副檔名的文字檔？-173\"><span class=\"toc-item-num\">1.7.3&nbsp;&nbsp;</span>寫入一個沒有副檔名的文字檔？</a></div><div class=\"lev1 toc-item\"><a href=\"#練習\" data-toc-modified-id=\"練習-2\"><span class=\"toc-item-num\">2&nbsp;&nbsp;</span>練習</a></div><div class=\"lev2 toc-item\"><a href=\"#如何用List表達矩陣？\" data-toc-modified-id=\"如何用List表達矩陣？-21\"><span class=\"toc-item-num\">2.1&nbsp;&nbsp;</span>如何用List表達矩陣？</a></div><div class=\"lev3 toc-item\"><a href=\"#練習試題-602\" data-toc-modified-id=\"練習試題-602-211\"><span class=\"toc-item-num\">2.1.1&nbsp;&nbsp;</span>練習試題 602</a></div><div class=\"lev3 toc-item\"><a href=\"#練習試題-604\" data-toc-modified-id=\"練習試題-604-212\"><span class=\"toc-item-num\">2.1.2&nbsp;&nbsp;</span>練習試題 604</a></div><div class=\"lev2 toc-item\"><a href=\"#如何將字串以逗號分割？\" data-toc-modified-id=\"如何將字串以逗號分割？-22\"><span class=\"toc-item-num\">2.2&nbsp;&nbsp;</span>如何將字串以逗號分割？</a></div><div class=\"lev3 toc-item\"><a href=\"#練習試題-802\" data-toc-modified-id=\"練習試題-802-221\"><span class=\"toc-item-num\">2.2.1&nbsp;&nbsp;</span>練習試題 802</a></div><div class=\"lev3 toc-item\"><a href=\"#練習試題-804\" data-toc-modified-id=\"練習試題-804-222\"><span class=\"toc-item-num\">2.2.2&nbsp;&nbsp;</span>練習試題 804</a></div><div class=\"lev2 toc-item\"><a href=\"#如何將字串轉型為整數？\" data-toc-modified-id=\"如何將字串轉型為整數？-23\"><span class=\"toc-item-num\">2.3&nbsp;&nbsp;</span>如何將字串轉型為整數？</a></div><div class=\"lev2 toc-item\"><a href=\"#如何用for迴圈中印出List的index與value？\" data-toc-modified-id=\"如何用for迴圈中印出List的index與value？-24\"><span class=\"toc-item-num\">2.4&nbsp;&nbsp;</span>如何用for迴圈中印出List的index與value？</a></div><div class=\"lev3 toc-item\"><a href=\"#練習試題-102\" data-toc-modified-id=\"練習試題-102-241\"><span class=\"toc-item-num\">2.4.1&nbsp;&nbsp;</span>練習試題 102</a></div><div class=\"lev3 toc-item\"><a href=\"#練習試題-104\" data-toc-modified-id=\"練習試題-104-242\"><span class=\"toc-item-num\">2.4.2&nbsp;&nbsp;</span>練習試題 104</a></div><div class=\"lev3 toc-item\"><a href=\"#練習試題-302\" data-toc-modified-id=\"練習試題-302-243\"><span class=\"toc-item-num\">2.4.3&nbsp;&nbsp;</span>練習試題 302</a></div><div class=\"lev3 toc-item\"><a href=\"#練習試題-304\" data-toc-modified-id=\"練習試題-304-244\"><span class=\"toc-item-num\">2.4.4&nbsp;&nbsp;</span>練習試題 304</a></div><div class=\"lev3 toc-item\"><a href=\"#練習試題-402\" data-toc-modified-id=\"練習試題-402-245\"><span class=\"toc-item-num\">2.4.5&nbsp;&nbsp;</span>練習試題 402</a></div><div class=\"lev3 toc-item\"><a href=\"#練習試題-404\" data-toc-modified-id=\"練習試題-404-246\"><span class=\"toc-item-num\">2.4.6&nbsp;&nbsp;</span>練習試題 404</a></div><div class=\"lev2 toc-item\"><a href=\"#試題練習-902\" data-toc-modified-id=\"試題練習-902-25\"><span class=\"toc-item-num\">2.5&nbsp;&nbsp;</span>試題練習 902</a></div><div class=\"lev2 toc-item\"><a href=\"#試題練習-904\" data-toc-modified-id=\"試題練習-904-26\"><span class=\"toc-item-num\">2.6&nbsp;&nbsp;</span>試題練習 904</a></div><div class=\"lev3 toc-item\"><a href=\"#將剛剛輸出的檔案重新讀入，矩陣方式表達\" data-toc-modified-id=\"將剛剛輸出的檔案重新讀入，矩陣方式表達-261\"><span class=\"toc-item-num\">2.6.1&nbsp;&nbsp;</span>將剛剛輸出的檔案重新讀入，矩陣方式表達</a></div>"
   ]
  },
  {
   "cell_type": "markdown",
   "metadata": {},
   "source": [
    "# 檔案與異常處理\n",
    "## 異常處理\n",
    "\n",
    "大部分執行中的錯誤， Python 直譯器 (interpreter) 會以發起例外 (exception) 的方式來中斷程式的執行。實際上，很多情況下我們需要自行控制可能會產生例外的程式碼，因為例外並不全然是程式的邏輯錯誤，例如程式中打算開啟檔案，然而實際檔名並不存在，這種情況下，我們需要的是例外發生後的處理動作，而非中止程式的執行。\n",
    "\n",
    "Python 利用 try-except 陳述 (try-except statement) 讓程式設計師自行處理例外\n",
    "\n",
    "基本形式就是把可能會產生例外的程式碼放在 try 之後的程式區塊 (block) ， except 則放例外發生時的處置，如下例：\n",
    "\n",
    "```python\n",
    "try:\n",
    "    do something\n",
    "except:\n",
    "    do something\n",
    "else:\n",
    "    do something\n",
    "finally:\n",
    "    do something\n",
    "```\n",
    "\n",
    "截錄自： [程式語言教學誌](http://www.kaiching.org/2011/01/python-try.html)\n",
    "\n"
   ]
  },
  {
   "cell_type": "code",
   "execution_count": 1,
   "metadata": {},
   "outputs": [
    {
     "name": "stdout",
     "output_type": "stream",
     "text": [
      "except\n",
      "after exception....\n"
     ]
    }
   ],
   "source": [
    "a = 22\n",
    "b = 33\n",
    " \n",
    "try:\n",
    "    if a < b:\n",
    "        print(n)\n",
    "except:\n",
    "    print(\"except\")\n",
    " \n",
    "print(\"after exception....\")"
   ]
  },
  {
   "cell_type": "markdown",
   "metadata": {},
   "source": [
    "- 這裡原本會產生 NameError ，但因為有 try-except 的例外處理，所以發生例外是執行 except 部份印出 \"except\" 的字串 (string) 。\n",
    "\n",
    "- 例外的名稱也可以寫在 except 之後，如"
   ]
  },
  {
   "cell_type": "code",
   "execution_count": 2,
   "metadata": {},
   "outputs": [
    {
     "ename": "NameError",
     "evalue": "name 'n' is not defined",
     "output_type": "error",
     "traceback": [
      "\u001b[0;31m---------------------------------------------------------------------------\u001b[0m",
      "\u001b[0;31mNameError\u001b[0m                                 Traceback (most recent call last)",
      "\u001b[0;32m<ipython-input-2-0a126efdd5dd>\u001b[0m in \u001b[0;36m<module>\u001b[0;34m()\u001b[0m\n\u001b[1;32m      1\u001b[0m \u001b[0;32mif\u001b[0m \u001b[0ma\u001b[0m \u001b[0;34m<\u001b[0m \u001b[0mb\u001b[0m\u001b[0;34m:\u001b[0m\u001b[0;34m\u001b[0m\u001b[0m\n\u001b[0;32m----> 2\u001b[0;31m         \u001b[0mprint\u001b[0m\u001b[0;34m(\u001b[0m\u001b[0mn\u001b[0m\u001b[0;34m)\u001b[0m\u001b[0;34m\u001b[0m\u001b[0m\n\u001b[0m",
      "\u001b[0;31mNameError\u001b[0m: name 'n' is not defined"
     ]
    }
   ],
   "source": [
    "if a < b:\n",
    "        print(n)"
   ]
  },
  {
   "cell_type": "code",
   "execution_count": 3,
   "metadata": {
    "scrolled": true
   },
   "outputs": [
    {
     "ename": "ValueError",
     "evalue": "invalid literal for int() with base 10: ''",
     "output_type": "error",
     "traceback": [
      "\u001b[0;31m---------------------------------------------------------------------------\u001b[0m",
      "\u001b[0;31mValueError\u001b[0m                                Traceback (most recent call last)",
      "\u001b[0;32m<ipython-input-3-e4f84bb32d50>\u001b[0m in \u001b[0;36m<module>\u001b[0;34m()\u001b[0m\n\u001b[0;32m----> 1\u001b[0;31m \u001b[0mint\u001b[0m\u001b[0;34m(\u001b[0m\u001b[0;34m''\u001b[0m\u001b[0;34m)\u001b[0m\u001b[0;34m\u001b[0m\u001b[0m\n\u001b[0m",
      "\u001b[0;31mValueError\u001b[0m: invalid literal for int() with base 10: ''"
     ]
    }
   ],
   "source": [
    "int('')"
   ]
  },
  {
   "cell_type": "code",
   "execution_count": 4,
   "metadata": {},
   "outputs": [
    {
     "name": "stdout",
     "output_type": "stream",
     "text": [
      "HELLO\n",
      "after exception....\n"
     ]
    }
   ],
   "source": [
    "a = 22\n",
    "b = 33\n",
    " \n",
    "try:\n",
    "    if a < b:\n",
    "        print(n)\n",
    "except ValueError:\n",
    "    print(\"HIHIHI\")\n",
    "except NameError:\n",
    "    print(\"HELLO\")\n",
    " \n",
    "print(\"after exception....\")"
   ]
  },
  {
   "cell_type": "markdown",
   "metadata": {},
   "source": [
    "- 透過as關鍵字，可以將錯誤訊息以變數方式取得"
   ]
  },
  {
   "cell_type": "code",
   "execution_count": 5,
   "metadata": {},
   "outputs": [
    {
     "name": "stdout",
     "output_type": "stream",
     "text": [
      "HELLO name 'n' is not defined\n",
      "after exception....\n"
     ]
    }
   ],
   "source": [
    "a = 22\n",
    "b = 33\n",
    " \n",
    "try:\n",
    "    if a < b:\n",
    "        print(n)\n",
    "except ValueError:\n",
    "    print(\"HIHIHI\")\n",
    "except NameError as e:\n",
    "    print(\"HELLO\", e)\n",
    " \n",
    "print(\"after exception....\")"
   ]
  },
  {
   "cell_type": "markdown",
   "metadata": {},
   "source": [
    "## 打開和關閉文件\n",
    "\n",
    "### open 函數\n",
    "\n",
    "你必須先用Python內置的open()函數打開一個文件，創建一個file物件，相關的方法才可以調用它進行讀寫。\n",
    "\n",
    "語法：\n",
    "\n",
    "```python\n",
    "file object = open(file, mode='r', buffering=-1, encoding=None)\n",
    "file object = open('檔案', '模式', '編碼')\n",
    "```\n",
    "\n",
    "- 各個參數的細節如下：\n",
    "    - file：要訪問的文件路徑\n",
    "    - mode：打開文件的模式：Read、Write等，預設為(r)，參考下表，：\n",
    "    - encoding：自動取得電腦預設的encoding\n"
   ]
  },
  {
   "cell_type": "code",
   "execution_count": 6,
   "metadata": {
    "collapsed": true
   },
   "outputs": [],
   "source": [
    "open?"
   ]
  },
  {
   "cell_type": "code",
   "execution_count": 7,
   "metadata": {},
   "outputs": [
    {
     "data": {
      "text/plain": [
       "'/Users/Andrew/Documents/TQC+ Python認證考題/sulaxd.github.io'"
      ]
     },
     "execution_count": 7,
     "metadata": {},
     "output_type": "execute_result"
    }
   ],
   "source": [
    "pwd"
   ]
  },
  {
   "cell_type": "markdown",
   "metadata": {},
   "source": [
    "<tbody><tr><th style=\"width:10%\">模式</th><th>描述</th></tr>\n",
    "<tr><td>r</td><td>以只讀方式打開文件。文件的指針將會放在文件的開頭。這是默認模式。</td></tr>\n",
    "<tr><td>rb</td><td>以二進制格式打開一個文件用於只讀。文件指針將會放在文件的開頭。這是默認模式。</td></tr>\n",
    "<tr><td>r+</td><td>打開一個文件用於讀寫。文件指針將會放在文件的開頭。</td></tr>\n",
    "<tr><td>rb+</td><td>以二進制格式打開一個文件用於讀寫。文件指針將會放在文件的開頭。</td></tr>\n",
    "<tr><td>w</td><td>打開一個文件只用於寫入。如果該文件已存在則將其覆蓋。如果該文件不存在，創建新文件。</td></tr>\n",
    "<tr><td>wb</td><td>以二進制格式打開一個文件只用於寫入。如果該文件已存在則將其覆蓋。如果該文件不存在，創建新文件。</td></tr>\n",
    "<tr><td>w+</td><td>打開一個文件用於讀寫。如果該文件已存在則將其覆蓋。如果該文件不存在，創建新文件。</td></tr> \n",
    "<tr><td>wb+</td><td>以二進制格式打開一個文件用於讀寫。如果該文件已存在則將其覆蓋。如果該文件不存在，創建新文件。</td></tr>\n",
    "<tr><td>a</td><td>打開一個文件用於追加。如果該文件已存在，文件指針將會放在文件的結尾。也就是說，新的內容將會被寫入到已有內容之後。如果該文件不存在，創建新文件進行寫入。</td></tr> \n",
    "<tr><td>ab</td><td>以二進制格式打開一個文件用於追加。如果該文件已存在，文件指針將會放在文件的結尾。也就是說，新的內容將會被寫入到已有內容之後。如果該文件不存在，創建新文件進行寫入。</td></tr> \n",
    "<tr><td>a+</td><td>打開一個文件用於讀寫。如果該文件已存在，文件指針將會放在文件的結尾。文件打開時會是追加模式。如果該文件不存在，創建新文件用於讀寫。</td></tr> \n",
    "<tr><td>ab+</td><td>以二進制格式打開一個文件用於追加。如果該文件已存在，文件指針將會放在文件的結尾。如果該文件不存在，創建新文件用於讀寫。</td></tr>\n",
    "</tbody>"
   ]
  },
  {
   "cell_type": "markdown",
   "metadata": {},
   "source": [
    "## 關閉文件\n",
    "\n",
    "- 文件用完要記得關閉，若沒關閉可能衍生：\n",
    "    - 同一個檔案不能同時被編輯\n",
    "    - 沒有被關閉時，資料還不會被寫入\n",
    "    - 同時間可以保持open的檔案數量有限(吃資源)\n",
    "    - 你不會知道什麼時候會發生錯誤\n",
    "    - 相關細節：https://stackoverflow.com/a/36063184/3811582\n",
    "- f.close()"
   ]
  },
  {
   "cell_type": "markdown",
   "metadata": {},
   "source": [
    "### Why Close? (Just Try)"
   ]
  },
  {
   "cell_type": "markdown",
   "metadata": {},
   "source": [
    "- `open` a empty file by write mode\n",
    "```python\n",
    "f = open('filename.txt')\n",
    "```\n",
    "-  write some words into the file handle\n",
    "```python\n",
    "f.write('test')\n",
    "```\n",
    "- try to close the file handle or del the file handle\n",
    "```python\n",
    "del f\n",
    "```\n",
    "- what happen?"
   ]
  },
  {
   "cell_type": "markdown",
   "metadata": {},
   "source": [
    "## 讀取文件內容\n",
    "\n",
    "- read(), read(size), readline(), readlines()\n",
    "\n",
    "### read(), read(size), readline(), readlines()\n",
    "\n",
    "- f.read(size) - 回傳檔案內容 size為要讀取進來的字串長度，若不填則讀取整份文件\n",
    "- 如果能確保文件的大小，自然可以使用read()。但若文件過大，內存就爆了，所以，可以反復調用read(size)方法，每次最多讀取size個字節的內容；也可調用 readline() 每次讀取一行內容；而調用readlines()可以一次讀取所有內容並按行返回list。"
   ]
  },
  {
   "cell_type": "markdown",
   "metadata": {},
   "source": [
    "- 打開一個編碼為utf8的文字檔，用read only模式\n",
    "- 接著用read方法，將資料完全讀入"
   ]
  },
  {
   "cell_type": "code",
   "execution_count": 8,
   "metadata": {
    "collapsed": true
   },
   "outputs": [],
   "source": [
    "f = open(\"_data/news1107_utf8.txt\", \"r\")"
   ]
  },
  {
   "cell_type": "code",
   "execution_count": 9,
   "metadata": {},
   "outputs": [
    {
     "data": {
      "text/plain": [
       "'聯合報：七休一有條件鬆綁 賴揆拍板 3層把關 才可連上12天班\\n\\n（中央社網站）聯合報7日報導，勞基法「一例一休」爭議要怎麼修，行政院長賴清德昨主持行政立法政策協調會報，拍板「七休一」放寬增設三道把關機制，須經中央目的事業主管機關和勞動部同意，並經工會或勞資會議通過，才可調整例假、連上12天班；另輪班制勞工換班間的休息時間以11小時為原則，每月加班工時上限則從46小時調高到54小時，但3個月內最多只能138小時。\\n\\n中國時報：宋楚瑜將與東協領袖對話 我首度與10國經濟體建構平台\\n\\n（中央社網站）中國時報7日報導，2017年亞太經合會（APEC）經濟領袖周昨（6日）在越南峴港登場，今年越南首創「APEC領袖與東協領袖非正式對話」活動，預計周五（10日）下午舉行，我領袖代表宋楚瑜亦受邀出席，與會者除美、日、大陸等20位經濟體領袖或代表外，緬甸、寮國、柬埔寨等亦受邀請，這是我政府第一次與東協10國元首的對話會議，宋楚瑜將在會中說明政府的新南向政策，表達願與東協國家加強經貿合作。\\n\\n蘋果日報：賴揆拍板 7休1鬆綁 3招把關\\n\\n（中央社網站）蘋果日報7日報導，一例一休政策確定走入歷史！行政院長賴清德昨主持行政立法協調會報，拍板確定《勞動基準法》修法方向，「7休1」若經中央目的事業主管機關等3單位同意，即可鬆綁，單月加班工時上限為54小時，且3個月合計上限不得超過138小時，輪班間隔時間也將以11小時為原則。企業界認為鬆綁不夠，會繼續與政府溝通，勞團則批草案無法落實，完全向資方傾斜，揚言後天將到政院抗議，讓賴清德聽到勞工的心聲。\\n\\n自由時報：解決產業缺地 賴揆3箭釋地1442公頃\\n\\n（中央社網站）自由時報7日報導，為解決產業缺地問題，行政院昨召開「排除企業投資障礙五缺之缺地」記者會，行政院長賴清德提出「公有土地優惠釋出、民間閒置土地輔導釋出、產業用地開發與更新」3大策略、12項具體作法，將以135億元前瞻計畫預算經費，在5年內釋出1442公頃產業用地，滿足企業設廠投資需求。'"
      ]
     },
     "execution_count": 9,
     "metadata": {},
     "output_type": "execute_result"
    }
   ],
   "source": [
    "f.read()"
   ]
  },
  {
   "cell_type": "code",
   "execution_count": 10,
   "metadata": {
    "collapsed": true
   },
   "outputs": [],
   "source": [
    "f.close()"
   ]
  },
  {
   "cell_type": "markdown",
   "metadata": {},
   "source": [
    "- 打開一個編碼為big5的文字檔，用read only模式\n",
    "- 接著用read方法，將資料完全讀入\n",
    "- 因為Mac的系統預設是utf8，導致UnicodeDecodeError"
   ]
  },
  {
   "cell_type": "code",
   "execution_count": 11,
   "metadata": {
    "collapsed": true
   },
   "outputs": [],
   "source": [
    "f = open(\"_data/news1107_big5.txt\", \"r\")"
   ]
  },
  {
   "cell_type": "code",
   "execution_count": 12,
   "metadata": {
    "scrolled": true
   },
   "outputs": [
    {
     "ename": "UnicodeDecodeError",
     "evalue": "'utf-8' codec can't decode byte 0xc1 in position 0: invalid start byte",
     "output_type": "error",
     "traceback": [
      "\u001b[0;31m---------------------------------------------------------------------------\u001b[0m",
      "\u001b[0;31mUnicodeDecodeError\u001b[0m                        Traceback (most recent call last)",
      "\u001b[0;32m<ipython-input-12-571e9fb02258>\u001b[0m in \u001b[0;36m<module>\u001b[0;34m()\u001b[0m\n\u001b[0;32m----> 1\u001b[0;31m \u001b[0mf\u001b[0m\u001b[0;34m.\u001b[0m\u001b[0mread\u001b[0m\u001b[0;34m(\u001b[0m\u001b[0;34m)\u001b[0m\u001b[0;34m\u001b[0m\u001b[0m\n\u001b[0m",
      "\u001b[0;32m~/anaconda/lib/python3.6/codecs.py\u001b[0m in \u001b[0;36mdecode\u001b[0;34m(self, input, final)\u001b[0m\n\u001b[1;32m    319\u001b[0m         \u001b[0;31m# decode input (taking the buffer into account)\u001b[0m\u001b[0;34m\u001b[0m\u001b[0;34m\u001b[0m\u001b[0m\n\u001b[1;32m    320\u001b[0m         \u001b[0mdata\u001b[0m \u001b[0;34m=\u001b[0m \u001b[0mself\u001b[0m\u001b[0;34m.\u001b[0m\u001b[0mbuffer\u001b[0m \u001b[0;34m+\u001b[0m \u001b[0minput\u001b[0m\u001b[0;34m\u001b[0m\u001b[0m\n\u001b[0;32m--> 321\u001b[0;31m         \u001b[0;34m(\u001b[0m\u001b[0mresult\u001b[0m\u001b[0;34m,\u001b[0m \u001b[0mconsumed\u001b[0m\u001b[0;34m)\u001b[0m \u001b[0;34m=\u001b[0m \u001b[0mself\u001b[0m\u001b[0;34m.\u001b[0m\u001b[0m_buffer_decode\u001b[0m\u001b[0;34m(\u001b[0m\u001b[0mdata\u001b[0m\u001b[0;34m,\u001b[0m \u001b[0mself\u001b[0m\u001b[0;34m.\u001b[0m\u001b[0merrors\u001b[0m\u001b[0;34m,\u001b[0m \u001b[0mfinal\u001b[0m\u001b[0;34m)\u001b[0m\u001b[0;34m\u001b[0m\u001b[0m\n\u001b[0m\u001b[1;32m    322\u001b[0m         \u001b[0;31m# keep undecoded input until the next call\u001b[0m\u001b[0;34m\u001b[0m\u001b[0;34m\u001b[0m\u001b[0m\n\u001b[1;32m    323\u001b[0m         \u001b[0mself\u001b[0m\u001b[0;34m.\u001b[0m\u001b[0mbuffer\u001b[0m \u001b[0;34m=\u001b[0m \u001b[0mdata\u001b[0m\u001b[0;34m[\u001b[0m\u001b[0mconsumed\u001b[0m\u001b[0;34m:\u001b[0m\u001b[0;34m]\u001b[0m\u001b[0;34m\u001b[0m\u001b[0m\n",
      "\u001b[0;31mUnicodeDecodeError\u001b[0m: 'utf-8' codec can't decode byte 0xc1 in position 0: invalid start byte"
     ]
    }
   ],
   "source": [
    "f.read()"
   ]
  },
  {
   "cell_type": "markdown",
   "metadata": {},
   "source": [
    "- 打開一個編碼為big5的文字檔，用read only模式，設定encoding為big5\n",
    "- 接著用read方法，將資料完全讀入"
   ]
  },
  {
   "cell_type": "code",
   "execution_count": 13,
   "metadata": {
    "collapsed": true
   },
   "outputs": [],
   "source": [
    "f = open(\"_data/news1107_big5.txt\", \"r\", encoding=\"big5\")"
   ]
  },
  {
   "cell_type": "code",
   "execution_count": 14,
   "metadata": {
    "collapsed": true,
    "scrolled": true
   },
   "outputs": [],
   "source": [
    "f.read()\n",
    "f.close()"
   ]
  },
  {
   "cell_type": "markdown",
   "metadata": {},
   "source": [
    "- 打開一個編碼為big5的文字檔，用read only模式，設定encoding為big5\n",
    "- 接著用read(size)方法，讀入8個字元"
   ]
  },
  {
   "cell_type": "code",
   "execution_count": 15,
   "metadata": {
    "collapsed": true
   },
   "outputs": [],
   "source": [
    "f = open(\"_data/news1107_big5.txt\", \"r\", encoding=\"big5\")"
   ]
  },
  {
   "cell_type": "code",
   "execution_count": 16,
   "metadata": {
    "collapsed": true,
    "scrolled": false
   },
   "outputs": [],
   "source": [
    "f.read(8)\n",
    "f.close()"
   ]
  },
  {
   "cell_type": "markdown",
   "metadata": {},
   "source": [
    "## 使用with簡化關閉文件\n",
    "\n",
    "截錄自 [icodding愛程式](http://icodding.blogspot.tw/2016/05/python-with-as.html)\n",
    "\n",
    "With語句是什麼?\n",
    "\n",
    "有一些任務，可能事先需要設置，事後做清理工作。對於這種場景，Python的with語句提供了一種非常方便的處理方式。一個很好的例子是文件處理，你需要獲取一個文件句柄，從文件中讀取資料，然後關閉文件句柄\n",
    "\n",
    "如果不用with語句，程式碼如下：\n",
    "```python\n",
    "    file = open(\"/tmp/foo.txt\")\n",
    "    data = file.read()\n",
    "    file.close()\n",
    "```\n",
    "這裡有兩個問題:\n",
    "\n",
    "    一是可能忘記關閉文件句柄；\n",
    "    二是文件讀取資料發生異常，沒有進行任何處理。\n",
    "\n",
    "下面是處理異常的加強版本：\n",
    "```python\n",
    "    try:\n",
    "        f = open('xxx')\n",
    "    except:\n",
    "        print 'fail to open'\n",
    "        exit(-1)\n",
    "    try:\n",
    "        do something\n",
    "    except:\n",
    "        do something\n",
    "    finally:\n",
    "         f.close()\n",
    "```\n",
    "雖然這段程式碼執行良好，但是太冗長了。\n",
    "\n",
    "這時候就是with一展身手的時候了。除了有更優雅的語法，with還可以很好的處理上下文環境產生的異常。\n",
    "\n",
    "下面是with版本的程式碼：\n",
    "```python\n",
    "    with open(\"/tmp/foo.txt\") as file:\n",
    "        data = file.read()\n",
    "```\n"
   ]
  },
  {
   "cell_type": "markdown",
   "metadata": {},
   "source": [
    "## 讀取文件內容(續)"
   ]
  },
  {
   "cell_type": "markdown",
   "metadata": {},
   "source": [
    "- 打開一個編碼為big5的文字檔，用read only模式，設定encoding為big5\n",
    "- 接著用readline方法，讀入一行（3次）"
   ]
  },
  {
   "cell_type": "code",
   "execution_count": 17,
   "metadata": {
    "scrolled": false
   },
   "outputs": [
    {
     "name": "stdout",
     "output_type": "stream",
     "text": [
      "聯合報：七休一有條件鬆綁 賴揆拍板 3層把關 才可連上12天班\n",
      "\n",
      "\n",
      "\n",
      "（中央社網站）聯合報7日報導，勞基法「一例一休」爭議要怎麼修，行政院長賴清德昨主持行政立法政策協調會報，拍板「七休一」放寬增設三道把關機制，須經中央目的事業主管機關和勞動部同意，並經工會或勞資會議通過，才可調整例假、連上12天班；另輪班制勞工換班間的休息時間以11小時為原則，每月加班工時上限則從46小時調高到54小時，但3個月內最多只能138小時。\n",
      "\n"
     ]
    }
   ],
   "source": [
    "with open(\"_data/news1107_big5.txt\", \"r\", encoding=\"big5\") as f:\n",
    "    print(f.readline())\n",
    "    print(f.readline())\n",
    "    print(f.readline())"
   ]
  },
  {
   "cell_type": "markdown",
   "metadata": {},
   "source": [
    "- 打開一個編碼為big5的文字檔，用read only模式，設定encoding為big5\n",
    "- 接著用readlines方法，逐行讀入為List"
   ]
  },
  {
   "cell_type": "code",
   "execution_count": 18,
   "metadata": {
    "scrolled": false
   },
   "outputs": [
    {
     "name": "stdout",
     "output_type": "stream",
     "text": [
      "['聯合報：七休一有條件鬆綁 賴揆拍板 3層把關 才可連上12天班\\n', '\\n', '（中央社網站）聯合報7日報導，勞基法「一例一休」爭議要怎麼修，行政院長賴清德昨主持行政立法政策協調會報，拍板「七休一」放寬增設三道把關機制，須經中央目的事業主管機關和勞動部同意，並經工會或勞資會議通過，才可調整例假、連上12天班；另輪班制勞工換班間的休息時間以11小時為原則，每月加班工時上限則從46小時調高到54小時，但3個月內最多只能138小時。\\n', '\\n', '中國時報：宋楚瑜將與東協領袖對話 我首度與10國經濟體建構平台\\n', '\\n', '（中央社網站）中國時報7日報導，2017年亞太經合會（APEC）經濟領袖周昨（6日）在越南峴港登場，今年越南首創「APEC領袖與東協領袖非正式對話」活動，預計周五（10日）下午舉行，我領袖代表宋楚瑜亦受邀出席，與會者除美、日、大陸等20位經濟體領袖或代表外，緬甸、寮國、柬埔寨等亦受邀請，這是我政府第一次與東協10國元首的對話會議，宋楚瑜將在會中說明政府的新南向政策，表達願與東協國家加強經貿合作。\\n', '\\n', '蘋果日報：賴揆拍板 7休1鬆綁 3招把關\\n', '\\n', '（中央社網站）蘋果日報7日報導，一例一休政策確定走入歷史！行政院長賴清德昨主持行政立法協調會報，拍板確定《勞動基準法》修法方向，「7休1」若經中央目的事業主管機關等3單位同意，即可鬆綁，單月加班工時上限為54小時，且3個月合計上限不得超過138小時，輪班間隔時間也將以11小時為原則。企業界認為鬆綁不夠，會繼續與政府溝通，勞團則批草案無法落實，完全向資方傾斜，揚言後天將到政院抗議，讓賴清德聽到勞工的心聲。\\n', '\\n', '自由時報：解決產業缺地 賴揆3箭釋地1442公頃\\n', '\\n', '（中央社網站）自由時報7日報導，為解決產業缺地問題，行政院昨召開「排除企業投資障礙五缺之缺地」記者會，行政院長賴清德提出「公有土地優惠釋出、民間閒置土地輔導釋出、產業用地開發與更新」3大策略、12項具體作法，將以135億元前瞻計畫預算經費，在5年內釋出1442公頃產業用地，滿足企業設廠投資需求。 ']\n"
     ]
    }
   ],
   "source": [
    "with open(\"_data/news1107_big5.txt\", \"r\", encoding=\"big5\") as f:\n",
    "    print(f.readlines())"
   ]
  },
  {
   "cell_type": "markdown",
   "metadata": {},
   "source": [
    "- 打開一個編碼為big5的文字檔，用read only模式，設定encoding為big5\n",
    "- 接著用read讀入所有內容為一個str，再透過splitlines方法，將str以斷行符號切割為多個元素的List"
   ]
  },
  {
   "cell_type": "code",
   "execution_count": 19,
   "metadata": {
    "collapsed": true
   },
   "outputs": [],
   "source": [
    "f = open(\"_data/news1107_big5.txt\", \"r\", encoding=\"big5\")"
   ]
  },
  {
   "cell_type": "code",
   "execution_count": 20,
   "metadata": {
    "scrolled": false
   },
   "outputs": [
    {
     "data": {
      "text/plain": [
       "['聯合報：七休一有條件鬆綁 賴揆拍板 3層把關 才可連上12天班',\n",
       " '',\n",
       " '（中央社網站）聯合報7日報導，勞基法「一例一休」爭議要怎麼修，行政院長賴清德昨主持行政立法政策協調會報，拍板「七休一」放寬增設三道把關機制，須經中央目的事業主管機關和勞動部同意，並經工會或勞資會議通過，才可調整例假、連上12天班；另輪班制勞工換班間的休息時間以11小時為原則，每月加班工時上限則從46小時調高到54小時，但3個月內最多只能138小時。',\n",
       " '',\n",
       " '中國時報：宋楚瑜將與東協領袖對話 我首度與10國經濟體建構平台',\n",
       " '',\n",
       " '（中央社網站）中國時報7日報導，2017年亞太經合會（APEC）經濟領袖周昨（6日）在越南峴港登場，今年越南首創「APEC領袖與東協領袖非正式對話」活動，預計周五（10日）下午舉行，我領袖代表宋楚瑜亦受邀出席，與會者除美、日、大陸等20位經濟體領袖或代表外，緬甸、寮國、柬埔寨等亦受邀請，這是我政府第一次與東協10國元首的對話會議，宋楚瑜將在會中說明政府的新南向政策，表達願與東協國家加強經貿合作。',\n",
       " '',\n",
       " '蘋果日報：賴揆拍板 7休1鬆綁 3招把關',\n",
       " '',\n",
       " '（中央社網站）蘋果日報7日報導，一例一休政策確定走入歷史！行政院長賴清德昨主持行政立法協調會報，拍板確定《勞動基準法》修法方向，「7休1」若經中央目的事業主管機關等3單位同意，即可鬆綁，單月加班工時上限為54小時，且3個月合計上限不得超過138小時，輪班間隔時間也將以11小時為原則。企業界認為鬆綁不夠，會繼續與政府溝通，勞團則批草案無法落實，完全向資方傾斜，揚言後天將到政院抗議，讓賴清德聽到勞工的心聲。',\n",
       " '',\n",
       " '自由時報：解決產業缺地 賴揆3箭釋地1442公頃',\n",
       " '',\n",
       " '（中央社網站）自由時報7日報導，為解決產業缺地問題，行政院昨召開「排除企業投資障礙五缺之缺地」記者會，行政院長賴清德提出「公有土地優惠釋出、民間閒置土地輔導釋出、產業用地開發與更新」3大策略、12項具體作法，將以135億元前瞻計畫預算經費，在5年內釋出1442公頃產業用地，滿足企業設廠投資需求。 ']"
      ]
     },
     "execution_count": 20,
     "metadata": {},
     "output_type": "execute_result"
    }
   ],
   "source": [
    "f.read().splitlines()"
   ]
  },
  {
   "cell_type": "markdown",
   "metadata": {},
   "source": [
    "## 寫入文件 - \"w\"\n",
    "### w = write only 打開一個文件只用於寫入。如果該文件已存在則將其覆蓋。如果該文件不存在，創建新文件。"
   ]
  },
  {
   "cell_type": "code",
   "execution_count": 21,
   "metadata": {
    "collapsed": true
   },
   "outputs": [],
   "source": [
    "with open(\"_data/test.txt\", 'w') as f:\n",
    "    f.write(\"777\")"
   ]
  },
  {
   "cell_type": "markdown",
   "metadata": {},
   "source": [
    "- 打開剛剛寫入的文件，用read only模式\n",
    "- 接著用read方法，將資料完全讀入"
   ]
  },
  {
   "cell_type": "code",
   "execution_count": 22,
   "metadata": {
    "scrolled": false
   },
   "outputs": [
    {
     "name": "stdout",
     "output_type": "stream",
     "text": [
      "777\n"
     ]
    }
   ],
   "source": [
    "with open(\"_data/test.txt\", 'r') as f:\n",
    "    print(f.read())"
   ]
  },
  {
   "cell_type": "markdown",
   "metadata": {},
   "source": [
    "- 打開剛剛寫入的文件，用w模式\n",
    "- 接著用read方法，將資料完全讀入"
   ]
  },
  {
   "cell_type": "code",
   "execution_count": 23,
   "metadata": {
    "scrolled": true
   },
   "outputs": [
    {
     "ename": "UnsupportedOperation",
     "evalue": "not readable",
     "output_type": "error",
     "traceback": [
      "\u001b[0;31m---------------------------------------------------------------------------\u001b[0m",
      "\u001b[0;31mUnsupportedOperation\u001b[0m                      Traceback (most recent call last)",
      "\u001b[0;32m<ipython-input-23-466fdd2a07c2>\u001b[0m in \u001b[0;36m<module>\u001b[0;34m()\u001b[0m\n\u001b[1;32m      1\u001b[0m \u001b[0;32mwith\u001b[0m \u001b[0mopen\u001b[0m\u001b[0;34m(\u001b[0m\u001b[0;34m\"_data/test.txt\"\u001b[0m\u001b[0;34m,\u001b[0m \u001b[0;34m'w'\u001b[0m\u001b[0;34m)\u001b[0m \u001b[0;32mas\u001b[0m \u001b[0mf\u001b[0m\u001b[0;34m:\u001b[0m\u001b[0;34m\u001b[0m\u001b[0m\n\u001b[0;32m----> 2\u001b[0;31m     \u001b[0mprint\u001b[0m\u001b[0;34m(\u001b[0m\u001b[0mf\u001b[0m\u001b[0;34m.\u001b[0m\u001b[0mread\u001b[0m\u001b[0;34m(\u001b[0m\u001b[0;34m)\u001b[0m\u001b[0;34m)\u001b[0m\u001b[0;34m\u001b[0m\u001b[0m\n\u001b[0m",
      "\u001b[0;31mUnsupportedOperation\u001b[0m: not readable"
     ]
    }
   ],
   "source": [
    "with open(\"_data/test.txt\", 'w') as f:\n",
    "    print(f.read())"
   ]
  },
  {
   "cell_type": "markdown",
   "metadata": {},
   "source": [
    "### a+ 打開一個文件用於讀寫。如果該文件已存在，文件指針將會放在文件的結尾。文件打開時會是追加模式。如果該文件不存在，創建新文件用於讀寫。"
   ]
  },
  {
   "cell_type": "code",
   "execution_count": 24,
   "metadata": {},
   "outputs": [
    {
     "name": "stdout",
     "output_type": "stream",
     "text": [
      "\n",
      "\n"
     ]
    }
   ],
   "source": [
    "with open(\"_data/test.txt\", 'a+') as f:\n",
    "    print(f.read())\n",
    "    f.write(\"666\")\n",
    "    print(f.read())"
   ]
  },
  {
   "cell_type": "markdown",
   "metadata": {},
   "source": [
    "- 沒資料？因為**文件指針會放在文件的結尾**\n",
    "- 透過tell方法達到取得文件定位\n",
    "- 透過seek方法達到移動文件定位\n",
    "```python\n",
    "f.tell()\n",
    "f.seek()\n",
    "```"
   ]
  },
  {
   "cell_type": "code",
   "execution_count": 25,
   "metadata": {
    "scrolled": true
   },
   "outputs": [
    {
     "name": "stdout",
     "output_type": "stream",
     "text": [
      "0\n",
      "666\n",
      "3\n"
     ]
    }
   ],
   "source": [
    "f = open(\"_data/test.txt\", 'r')\n",
    "print(f.tell())\n",
    "print(f.read())\n",
    "print(f.tell())"
   ]
  },
  {
   "cell_type": "code",
   "execution_count": 26,
   "metadata": {},
   "outputs": [
    {
     "name": "stdout",
     "output_type": "stream",
     "text": [
      "2\n",
      "2\n",
      "6\n"
     ]
    }
   ],
   "source": [
    "print(f.seek(2))\n",
    "print(f.tell())\n",
    "print(f.read())"
   ]
  },
  {
   "cell_type": "markdown",
   "metadata": {},
   "source": [
    "- 打開剛剛寫入的文件，用r模式\n",
    "- 接著用read方法，將資料完全讀入"
   ]
  },
  {
   "cell_type": "code",
   "execution_count": 27,
   "metadata": {
    "collapsed": true
   },
   "outputs": [],
   "source": [
    "f.close()"
   ]
  },
  {
   "cell_type": "markdown",
   "metadata": {},
   "source": [
    "### 寫入一個沒有副檔名的文字檔？"
   ]
  },
  {
   "cell_type": "code",
   "execution_count": 28,
   "metadata": {
    "collapsed": true
   },
   "outputs": [],
   "source": [
    "\n",
    "with open(\"_data/news1107\", 'w') as f:\n",
    "    f.write(\"one\\ntwo\\n\")"
   ]
  },
  {
   "cell_type": "markdown",
   "metadata": {},
   "source": [
    "# 練習"
   ]
  },
  {
   "cell_type": "markdown",
   "metadata": {},
   "source": [
    "## 如何用List表達矩陣？"
   ]
  },
  {
   "cell_type": "markdown",
   "metadata": {},
   "source": [
    "|   |   |   |\n",
    "|---|---|---|\n",
    "| 6 | 6 | 6 |\n",
    "| 6 | 6 | 6 |\n",
    "| 6 | 6 | 6 |"
   ]
  },
  {
   "cell_type": "code",
   "execution_count": 29,
   "metadata": {
    "scrolled": true
   },
   "outputs": [
    {
     "data": {
      "text/plain": [
       "[[6, 6, 6], [6, 6, 6], [6, 6, 6]]"
      ]
     },
     "execution_count": 29,
     "metadata": {},
     "output_type": "execute_result"
    }
   ],
   "source": [
    "[[6,6,6],[6,6,6],[6,6,6]]"
   ]
  },
  {
   "cell_type": "markdown",
   "metadata": {},
   "source": [
    "### 練習試題 602\n",
    "![image.png](_img/602.png)\n",
    "\n",
    "### 練習試題 604\n",
    "![image.png](_img/604.png)"
   ]
  },
  {
   "cell_type": "markdown",
   "metadata": {},
   "source": [
    "## 如何將字串以逗號分割？\n",
    "\n",
    "- 例如： \"6,6,6\""
   ]
  },
  {
   "cell_type": "code",
   "execution_count": 30,
   "metadata": {
    "scrolled": true
   },
   "outputs": [
    {
     "data": {
      "text/plain": [
       "['6', '6', '6']"
      ]
     },
     "execution_count": 30,
     "metadata": {},
     "output_type": "execute_result"
    }
   ],
   "source": [
    "\"6,6,6\".split(\",\")"
   ]
  },
  {
   "cell_type": "markdown",
   "metadata": {},
   "source": [
    "- 如果是字串\"6\\n6\\n6\"以\\n分割呢？"
   ]
  },
  {
   "cell_type": "markdown",
   "metadata": {},
   "source": [
    "### 練習試題 802\n",
    "![image.png](_img/802.png)\n",
    "\n",
    "### 練習試題 804\n",
    "![image.png](_img/804.png)"
   ]
  },
  {
   "cell_type": "markdown",
   "metadata": {},
   "source": [
    "## 如何將字串轉型為整數？\n",
    "\n",
    "- 例如：\"6\""
   ]
  },
  {
   "cell_type": "code",
   "execution_count": 31,
   "metadata": {
    "scrolled": true
   },
   "outputs": [
    {
     "data": {
      "text/plain": [
       "6"
      ]
     },
     "execution_count": 31,
     "metadata": {},
     "output_type": "execute_result"
    }
   ],
   "source": [
    "int(\"6\")"
   ]
  },
  {
   "cell_type": "markdown",
   "metadata": {},
   "source": [
    "## 如何用for迴圈中印出List的index與value？\n",
    "\n",
    "例如： [0,9,3,7]"
   ]
  },
  {
   "cell_type": "code",
   "execution_count": 32,
   "metadata": {
    "scrolled": true
   },
   "outputs": [
    {
     "name": "stdout",
     "output_type": "stream",
     "text": [
      "index is 0, value is 0\n",
      "index is 1, value is 9\n",
      "index is 2, value is 3\n",
      "index is 3, value is 7\n"
     ]
    }
   ],
   "source": [
    "x = [0,9,3,7]\n",
    "for i in range(len(x)):\n",
    "    print(\"index is {}, value is {}\".format(i, x[i]))"
   ]
  },
  {
   "cell_type": "markdown",
   "metadata": {},
   "source": [
    "- 有個簡化的方法： "
   ]
  },
  {
   "cell_type": "code",
   "execution_count": 33,
   "metadata": {},
   "outputs": [
    {
     "name": "stdout",
     "output_type": "stream",
     "text": [
      "index is 0, value is 0\n",
      "index is 1, value is 9\n",
      "index is 2, value is 3\n",
      "index is 3, value is 7\n"
     ]
    }
   ],
   "source": [
    "x = [0,9,3,7]\n",
    "for i, v in enumerate(x):\n",
    "    print(\"index is {}, value is {}\".format(i, v))"
   ]
  },
  {
   "cell_type": "markdown",
   "metadata": {},
   "source": [
    "### 練習試題 102\n",
    "![image.png](_img/102.png)\n",
    "\n",
    "### 練習試題 104\n",
    "![image.png](_img/104.png)\n",
    "\n",
    "### 練習試題 302\n",
    "![](_img/302.png)\n",
    "\n",
    "### 練習試題 304\n",
    "![](_img/304.png)\n",
    "\n",
    "### 練習試題 402\n",
    "![](_img/402.png)\n",
    "\n",
    "### 練習試題 404\n",
    "![](_img/404.png)"
   ]
  },
  {
   "cell_type": "markdown",
   "metadata": {},
   "source": [
    "## 試題練習 902"
   ]
  },
  {
   "cell_type": "markdown",
   "metadata": {
    "run_control": {
     "marked": false
    }
   },
   "source": [
    "![ss](_img/902.png)"
   ]
  },
  {
   "cell_type": "code",
   "execution_count": 34,
   "metadata": {},
   "outputs": [
    {
     "name": "stdout",
     "output_type": "stream",
     "text": [
      "11 22 33 22 33 44 33 44 55 44 55 66 55 66 77\n",
      "Sum of data = 660\n"
     ]
    }
   ],
   "source": [
    "'''\n",
    "請撰寫一程式，讀取file_for_q2.txt的內容（為數字，以空白分隔）\n",
    "並將這些內容加總，顯示檔案內容和加總的結果。\n",
    "'''\n",
    "\n",
    "infile = open(\"_data/file_for_q2.txt\", \"r\")\n",
    "\n",
    "data = infile.read()\n",
    "print(data)\n",
    "infile.close()\n",
    "\n",
    "number = data.split(' ')\n",
    "total = 0\n",
    "for i in range(0, len(number)):\n",
    "    total += eval(number[i])\n",
    "\n",
    "print('Sum of data =', total)\n"
   ]
  },
  {
   "cell_type": "code",
   "execution_count": 35,
   "metadata": {
    "scrolled": true
   },
   "outputs": [
    {
     "data": {
      "text/plain": [
       "_io.TextIOWrapper"
      ]
     },
     "execution_count": 35,
     "metadata": {},
     "output_type": "execute_result"
    }
   ],
   "source": [
    "type(infile)"
   ]
  },
  {
   "cell_type": "code",
   "execution_count": 36,
   "metadata": {},
   "outputs": [
    {
     "data": {
      "text/plain": [
       "str"
      ]
     },
     "execution_count": 36,
     "metadata": {},
     "output_type": "execute_result"
    }
   ],
   "source": [
    "type(data)"
   ]
  },
  {
   "cell_type": "code",
   "execution_count": 37,
   "metadata": {
    "scrolled": true
   },
   "outputs": [
    {
     "data": {
      "text/plain": [
       "'r'"
      ]
     },
     "execution_count": 37,
     "metadata": {},
     "output_type": "execute_result"
    }
   ],
   "source": [
    "infile.mode"
   ]
  },
  {
   "cell_type": "markdown",
   "metadata": {},
   "source": [
    "## 試題練習 904"
   ]
  },
  {
   "cell_type": "markdown",
   "metadata": {
    "run_control": {
     "marked": false
    }
   },
   "source": [
    "![ss](_img/904.png)"
   ]
  },
  {
   "cell_type": "markdown",
   "metadata": {},
   "source": [
    "```python\n",
    "data = []\n",
    "\n",
    "with open(\"C:\\ANS.csf\\PY09\\Height.txt\",\"r\") as file:\n",
    "    for line in file:\n",
    "        print(line)\n",
    "        \n",
    "        tmp = line.strip('\\n').split(' ')\n",
    "        tmp = [tmp[0], eval(tmp[1]), eval(tmp[2])]\n",
    "        data.append(tmp)\n",
    "\n",
    "name = [data[x][0] for x in range(len(data))]\n",
    "height = [data[x][1] for x in range(len(data))]\n",
    "weight = [data[x][2] for x in range(len(data))]\n",
    "\n",
    "print(\"Average height: %.2f\" % (sum(height)/len(height)))\n",
    "print(\"Average weight: %.2f\" % (sum(weight)/len(weight)))\n",
    "\n",
    "max_h = max(height)\n",
    "max_w = max(weight)\n",
    "print(\"The tallest is %s with %.2fcm\" % (name[height.index(max_h)], max_h))\n",
    "print(\"The heaviest is %s with %.2fkg\" % (name[weight.index(max_w)], max_w))\n",
    "```"
   ]
  },
  {
   "cell_type": "markdown",
   "metadata": {},
   "source": [
    "### 將剛剛輸出的檔案重新讀入，矩陣方式表達"
   ]
  },
  {
   "cell_type": "code",
   "execution_count": 38,
   "metadata": {},
   "outputs": [
    {
     "data": {
      "text/plain": [
       "'Ben 175 65\\nCathy 155 55\\nTony 172 75'"
      ]
     },
     "execution_count": 38,
     "metadata": {},
     "output_type": "execute_result"
    }
   ],
   "source": [
    "with open(\"_data/Height.txt\") as file:\n",
    "    data = file.read()\n",
    "data"
   ]
  },
  {
   "cell_type": "code",
   "execution_count": 39,
   "metadata": {},
   "outputs": [
    {
     "data": {
      "text/plain": [
       "['Ben 175 65', 'Cathy 155 55', 'Tony 172 75']"
      ]
     },
     "execution_count": 39,
     "metadata": {},
     "output_type": "execute_result"
    }
   ],
   "source": [
    "with open(\"_data/Height.txt\") as file:\n",
    "    data = file.read().splitlines()\n",
    "data"
   ]
  },
  {
   "cell_type": "code",
   "execution_count": 40,
   "metadata": {
    "collapsed": true
   },
   "outputs": [],
   "source": [
    "for i,v in enumerate(data):\n",
    "    data[i] = v.split(\" \")"
   ]
  },
  {
   "cell_type": "code",
   "execution_count": 41,
   "metadata": {},
   "outputs": [
    {
     "data": {
      "text/plain": [
       "[['Ben', '175', '65'], ['Cathy', '155', '55'], ['Tony', '172', '75']]"
      ]
     },
     "execution_count": 41,
     "metadata": {},
     "output_type": "execute_result"
    }
   ],
   "source": [
    "data"
   ]
  }
 ],
 "metadata": {
  "kernelspec": {
   "display_name": "Python 3",
   "language": "python",
   "name": "python3"
  },
  "language_info": {
   "codemirror_mode": {
    "name": "ipython",
    "version": 3
   },
   "file_extension": ".py",
   "mimetype": "text/x-python",
   "name": "python",
   "nbconvert_exporter": "python",
   "pygments_lexer": "ipython3",
   "version": "3.6.1"
  },
  "toc": {
   "colors": {
    "hover_highlight": "#DAA520",
    "navigate_num": "#000000",
    "navigate_text": "#333333",
    "running_highlight": "#FF0000",
    "selected_highlight": "#FFD700",
    "sidebar_border": "#EEEEEE",
    "wrapper_background": "#FFFFFF"
   },
   "moveMenuLeft": true,
   "nav_menu": {
    "height": "12px",
    "width": "252px"
   },
   "navigate_menu": true,
   "number_sections": true,
   "sideBar": true,
   "skip_h1_title": false,
   "threshold": 4,
   "toc_cell": true,
   "toc_section_display": "block",
   "toc_window_display": false,
   "widenNotebook": false
  },
  "varInspector": {
   "cols": {
    "lenName": 16,
    "lenType": 16,
    "lenVar": 40
   },
   "kernels_config": {
    "python": {
     "delete_cmd_postfix": "",
     "delete_cmd_prefix": "del ",
     "library": "var_list.py",
     "varRefreshCmd": "print(var_dic_list())"
    },
    "r": {
     "delete_cmd_postfix": ") ",
     "delete_cmd_prefix": "rm(",
     "library": "var_list.r",
     "varRefreshCmd": "cat(var_dic_list()) "
    }
   },
   "types_to_exclude": [
    "module",
    "function",
    "builtin_function_or_method",
    "instance",
    "_Feature"
   ],
   "window_display": false
  }
 },
 "nbformat": 4,
 "nbformat_minor": 2
}
