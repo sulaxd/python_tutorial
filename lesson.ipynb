{
 "cells": [
  {
   "cell_type": "markdown",
   "metadata": {
    "toc": "true"
   },
   "source": [
    "# Table of Contents\n",
    " <p><div class=\"lev1 toc-item\"><a href=\"#網頁資料擷取概念\" data-toc-modified-id=\"網頁資料擷取概念-1\"><span class=\"toc-item-num\">1&nbsp;&nbsp;</span>網頁資料擷取概念</a></div><div class=\"lev2 toc-item\"><a href=\"#關於擷取網頁必要知識\" data-toc-modified-id=\"關於擷取網頁必要知識-11\"><span class=\"toc-item-num\">1.1&nbsp;&nbsp;</span>關於擷取網頁必要知識</a></div><div class=\"lev2 toc-item\"><a href=\"#GET與POST流程：\" data-toc-modified-id=\"GET與POST流程：-12\"><span class=\"toc-item-num\">1.2&nbsp;&nbsp;</span>GET與POST流程：</a></div><div class=\"lev3 toc-item\"><a href=\"#GET(明信片)與POST(信)的差別：\" data-toc-modified-id=\"GET(明信片)與POST(信)的差別：-121\"><span class=\"toc-item-num\">1.2.1&nbsp;&nbsp;</span>GET(明信片)與POST(信)的差別：</a></div><div class=\"lev3 toc-item\"><a href=\"#使用Http的Method傳遞資料\" data-toc-modified-id=\"使用Http的Method傳遞資料-122\"><span class=\"toc-item-num\">1.2.2&nbsp;&nbsp;</span>使用Http的Method傳遞資料</a></div><div class=\"lev4 toc-item\"><a href=\"#GET\" data-toc-modified-id=\"GET-1221\"><span class=\"toc-item-num\">1.2.2.1&nbsp;&nbsp;</span>GET</a></div><div class=\"lev4 toc-item\"><a href=\"#POST\" data-toc-modified-id=\"POST-1222\"><span class=\"toc-item-num\">1.2.2.2&nbsp;&nbsp;</span>POST</a></div><div class=\"lev3 toc-item\"><a href=\"#GET網頁並取得資料\" data-toc-modified-id=\"GET網頁並取得資料-123\"><span class=\"toc-item-num\">1.2.3&nbsp;&nbsp;</span>GET網頁並取得資料</a></div><div class=\"lev3 toc-item\"><a href=\"#取得POST資料\" data-toc-modified-id=\"取得POST資料-124\"><span class=\"toc-item-num\">1.2.4&nbsp;&nbsp;</span>取得POST資料</a></div><div class=\"lev2 toc-item\"><a href=\"#來個中等難度的POST「擷取Play商店評論」\" data-toc-modified-id=\"來個中等難度的POST「擷取Play商店評論」-13\"><span class=\"toc-item-num\">1.3&nbsp;&nbsp;</span>來個中等難度的POST「擷取Play商店評論」</a></div><div class=\"lev2 toc-item\"><a href=\"#HTML原始碼解析(BeautifulSoup)\" data-toc-modified-id=\"HTML原始碼解析(BeautifulSoup)-14\"><span class=\"toc-item-num\">1.4&nbsp;&nbsp;</span>HTML原始碼解析(BeautifulSoup)</a></div><div class=\"lev3 toc-item\"><a href=\"#BeautifulSoup簡介\" data-toc-modified-id=\"BeautifulSoup簡介-141\"><span class=\"toc-item-num\">1.4.1&nbsp;&nbsp;</span>BeautifulSoup簡介</a></div><div class=\"lev4 toc-item\"><a href=\"#從bs4(BeautifulSoup4)中載入BeautifulSoup函數\" data-toc-modified-id=\"從bs4(BeautifulSoup4)中載入BeautifulSoup函數-1411\"><span class=\"toc-item-num\">1.4.1.1&nbsp;&nbsp;</span>從bs4(BeautifulSoup4)中載入BeautifulSoup函數</a></div><div class=\"lev4 toc-item\"><a href=\"#回顧一下前面-www.example.com-的網頁原始碼\" data-toc-modified-id=\"回顧一下前面-www.example.com-的網頁原始碼-1412\"><span class=\"toc-item-num\">1.4.1.2&nbsp;&nbsp;</span>回顧一下前面 www.example.com 的網頁原始碼</a></div><div class=\"lev4 toc-item\"><a href=\"#瞭解下面執行BeautifulSoup函數時發生了什麼事？\" data-toc-modified-id=\"瞭解下面執行BeautifulSoup函數時發生了什麼事？-1413\"><span class=\"toc-item-num\">1.4.1.3&nbsp;&nbsp;</span>瞭解下面執行BeautifulSoup函數時發生了什麼事？</a></div><div class=\"lev3 toc-item\"><a href=\"#CSS選擇器\" data-toc-modified-id=\"CSS選擇器-142\"><span class=\"toc-item-num\">1.4.2&nbsp;&nbsp;</span>CSS選擇器</a></div><div class=\"lev2 toc-item\"><a href=\"#透過開發人員工具找出欲擷取資料之規則\" data-toc-modified-id=\"透過開發人員工具找出欲擷取資料之規則-15\"><span class=\"toc-item-num\">1.5&nbsp;&nbsp;</span>透過開發人員工具找出欲擷取資料之規則</a></div><div class=\"lev3 toc-item\"><a href=\"#若網頁中有表格，透過pandas套件輕鬆取得並轉換為DataFrame\" data-toc-modified-id=\"若網頁中有表格，透過pandas套件輕鬆取得並轉換為DataFrame-151\"><span class=\"toc-item-num\">1.5.1&nbsp;&nbsp;</span>若網頁中有表格，透過pandas套件輕鬆取得並轉換為DataFrame</a></div><div class=\"lev3 toc-item\"><a href=\"#為何要加「;」，試試看不加。\" data-toc-modified-id=\"為何要加「;」，試試看不加。-152\"><span class=\"toc-item-num\">1.5.2&nbsp;&nbsp;</span>為何要加「;」，試試看不加。</a></div><div class=\"lev1 toc-item\"><a href=\"#探索式資料分析\" data-toc-modified-id=\"探索式資料分析-2\"><span class=\"toc-item-num\">2&nbsp;&nbsp;</span>探索式資料分析</a></div><div class=\"lev2 toc-item\"><a href=\"#以NBA-2013-2014賽季的球員數據為例\" data-toc-modified-id=\"以NBA-2013-2014賽季的球員數據為例-21\"><span class=\"toc-item-num\">2.1&nbsp;&nbsp;</span>以NBA 2013-2014賽季的球員數據為例</a></div><div class=\"lev3 toc-item\"><a href=\"#以pandas套件載入CSV資料\" data-toc-modified-id=\"以pandas套件載入CSV資料-211\"><span class=\"toc-item-num\">2.1.1&nbsp;&nbsp;</span>以pandas套件載入CSV資料</a></div><div class=\"lev3 toc-item\"><a href=\"#查看所有欄位名稱\" data-toc-modified-id=\"查看所有欄位名稱-212\"><span class=\"toc-item-num\">2.1.2&nbsp;&nbsp;</span>查看所有欄位名稱</a></div><div class=\"lev3 toc-item\"><a href=\"#常用NBA數據縮寫\" data-toc-modified-id=\"常用NBA數據縮寫-213\"><span class=\"toc-item-num\">2.1.3&nbsp;&nbsp;</span>常用NBA數據縮寫</a></div><div class=\"lev3 toc-item\"><a href=\"#以DataFrame中的shape物件，列出球員數(row)及特徵數(col)\" data-toc-modified-id=\"以DataFrame中的shape物件，列出球員數(row)及特徵數(col)-214\"><span class=\"toc-item-num\">2.1.4&nbsp;&nbsp;</span>以DataFrame中的shape物件，列出球員數(row)及特徵數(col)</a></div><div class=\"lev3 toc-item\"><a href=\"#列出前五筆(row)資料\" data-toc-modified-id=\"列出前五筆(row)資料-215\"><span class=\"toc-item-num\">2.1.5&nbsp;&nbsp;</span>列出前五筆(row)資料</a></div><div class=\"lev3 toc-item\"><a href=\"#計算各特徵的平均值\" data-toc-modified-id=\"計算各特徵的平均值-216\"><span class=\"toc-item-num\">2.1.6&nbsp;&nbsp;</span>計算各特徵的平均值</a></div><div class=\"lev3 toc-item\"><a href=\"#計算各欄位的敘述統計值\" data-toc-modified-id=\"計算各欄位的敘述統計值-217\"><span class=\"toc-item-num\">2.1.7&nbsp;&nbsp;</span>計算各欄位的敘述統計值</a></div><div class=\"lev3 toc-item\"><a href=\"#繪製成對散點圖\" data-toc-modified-id=\"繪製成對散點圖-218\"><span class=\"toc-item-num\">2.1.8&nbsp;&nbsp;</span>繪製成對散點圖</a></div><div class=\"lev3 toc-item\"><a href=\"#遺缺值\" data-toc-modified-id=\"遺缺值-219\"><span class=\"toc-item-num\">2.1.9&nbsp;&nbsp;</span>遺缺值</a></div><div class=\"lev4 toc-item\"><a href=\"#進階遺缺值處理\" data-toc-modified-id=\"進階遺缺值處理-2191\"><span class=\"toc-item-num\">2.1.9.1&nbsp;&nbsp;</span>進階遺缺值處理</a></div><div class=\"lev3 toc-item\"><a href=\"#將球員以k-means演算法集群(非監督式學習)\" data-toc-modified-id=\"將球員以k-means演算法集群(非監督式學習)-2110\"><span class=\"toc-item-num\">2.1.10&nbsp;&nbsp;</span>將球員以k-means演算法集群(非監督式學習)</a></div><div class=\"lev3 toc-item\"><a href=\"#按類別繪製球員分佈圖\" data-toc-modified-id=\"按類別繪製球員分佈圖-2111\"><span class=\"toc-item-num\">2.1.11&nbsp;&nbsp;</span>按類別繪製球員分佈圖</a></div><div class=\"lev1 toc-item\"><a href=\"#ANOVA-變異數分析-(Analysis-of-Variance)---1\" data-toc-modified-id=\"ANOVA-變異數分析-(Analysis-of-Variance)---1-3\"><span class=\"toc-item-num\">3&nbsp;&nbsp;</span>ANOVA 變異數分析 (Analysis of Variance) - 1</a></div><div class=\"lev3 toc-item\"><a href=\"#這兩組的曲線長這樣子\" data-toc-modified-id=\"這兩組的曲線長這樣子-301\"><span class=\"toc-item-num\">3.0.1&nbsp;&nbsp;</span>這兩組的曲線長這樣子</a></div><div class=\"lev3 toc-item\"><a href=\"#所有樣本的平均值(總平均)大約在中間\" data-toc-modified-id=\"所有樣本的平均值(總平均)大約在中間-302\"><span class=\"toc-item-num\">3.0.2&nbsp;&nbsp;</span>所有樣本的平均值(總平均)大約在中間</a></div><div class=\"lev3 toc-item\"><a href=\"#假想我們在第2組挑一個樣本\" data-toc-modified-id=\"假想我們在第2組挑一個樣本-303\"><span class=\"toc-item-num\">3.0.3&nbsp;&nbsp;</span>假想我們在第2組挑一個樣本</a></div><div class=\"lev3 toc-item\"><a href=\"#組內、組間及總變異示意圖\" data-toc-modified-id=\"組內、組間及總變異示意圖-304\"><span class=\"toc-item-num\">3.0.4&nbsp;&nbsp;</span>組內、組間及總變異示意圖</a></div><div class=\"lev2 toc-item\"><a href=\"#最後的關鍵是F值\" data-toc-modified-id=\"最後的關鍵是F值-31\"><span class=\"toc-item-num\">3.1&nbsp;&nbsp;</span>最後的關鍵是F值</a></div><div class=\"lev2 toc-item\"><a href=\"#ANOVA表格\" data-toc-modified-id=\"ANOVA表格-32\"><span class=\"toc-item-num\">3.2&nbsp;&nbsp;</span>ANOVA表格</a></div><div class=\"lev2 toc-item\"><a href=\"#ANOVA--2\" data-toc-modified-id=\"ANOVA--2-33\"><span class=\"toc-item-num\">3.3&nbsp;&nbsp;</span>ANOVA -2</a></div><div class=\"lev3 toc-item\"><a href=\"#使用statsmodel計算前，先進行資料變形\" data-toc-modified-id=\"使用statsmodel計算前，先進行資料變形-331\"><span class=\"toc-item-num\">3.3.1&nbsp;&nbsp;</span>使用statsmodel計算前，先進行資料變形</a></div><div class=\"lev3 toc-item\"><a href=\"#使用boxplot感受一下組與組之間的變異\" data-toc-modified-id=\"使用boxplot感受一下組與組之間的變異-332\"><span class=\"toc-item-num\">3.3.2&nbsp;&nbsp;</span>使用boxplot感受一下組與組之間的變異</a></div><div class=\"lev1 toc-item\"><a href=\"#線性迴歸(Linear-Regression)\" data-toc-modified-id=\"線性迴歸(Linear-Regression)-4\"><span class=\"toc-item-num\">4&nbsp;&nbsp;</span>線性迴歸(Linear Regression)</a></div><div class=\"lev2 toc-item\"><a href=\"#為何學習線性迴歸？\" data-toc-modified-id=\"為何學習線性迴歸？-41\"><span class=\"toc-item-num\">4.1&nbsp;&nbsp;</span>為何學習線性迴歸？</a></div><div class=\"lev2 toc-item\"><a href=\"#相關套件\" data-toc-modified-id=\"相關套件-42\"><span class=\"toc-item-num\">4.2&nbsp;&nbsp;</span>相關套件</a></div><div class=\"lev2 toc-item\"><a href=\"#透過虛擬案例學習\" data-toc-modified-id=\"透過虛擬案例學習-43\"><span class=\"toc-item-num\">4.3&nbsp;&nbsp;</span>透過虛擬案例學習</a></div><div class=\"lev3 toc-item\"><a href=\"#先有個假設\" data-toc-modified-id=\"先有個假設-431\"><span class=\"toc-item-num\">4.3.1&nbsp;&nbsp;</span>先有個假設</a></div><div class=\"lev3 toc-item\"><a href=\"#來學這個函數\" data-toc-modified-id=\"來學這個函數-432\"><span class=\"toc-item-num\">4.3.2&nbsp;&nbsp;</span>來學這個函數</a></div><div class=\"lev3 toc-item\"><a href=\"#模擬-50-個學習數據\" data-toc-modified-id=\"模擬-50-個學習數據-433\"><span class=\"toc-item-num\">4.3.3&nbsp;&nbsp;</span>模擬 50 個學習數據</a></div><div class=\"lev3 toc-item\"><a href=\"#看看我們的數據\" data-toc-modified-id=\"看看我們的數據-434\"><span class=\"toc-item-num\">4.3.4&nbsp;&nbsp;</span>看看我們的數據</a></div><div class=\"lev3 toc-item\"><a href=\"#用-SciPy-來迴歸\" data-toc-modified-id=\"用-SciPy-來迴歸-435\"><span class=\"toc-item-num\">4.3.5&nbsp;&nbsp;</span>用 SciPy 來迴歸</a></div><div class=\"lev3 toc-item\"><a href=\"#開始迴歸\" data-toc-modified-id=\"開始迴歸-436\"><span class=\"toc-item-num\">4.3.6&nbsp;&nbsp;</span>開始迴歸</a></div><div class=\"lev3 toc-item\"><a href=\"#畫出結果\" data-toc-modified-id=\"畫出結果-437\"><span class=\"toc-item-num\">4.3.7&nbsp;&nbsp;</span>畫出結果</a></div><div class=\"lev2 toc-item\"><a href=\"#案例實作：廣告資料\" data-toc-modified-id=\"案例實作：廣告資料-44\"><span class=\"toc-item-num\">4.4&nbsp;&nbsp;</span>案例實作：廣告資料</a></div><div class=\"lev3 toc-item\"><a href=\"#Questions-About-the-Advertising-Data\" data-toc-modified-id=\"Questions-About-the-Advertising-Data-441\"><span class=\"toc-item-num\">4.4.1&nbsp;&nbsp;</span>Questions About the Advertising Data</a></div><div class=\"lev3 toc-item\"><a href=\"#簡單線性迴歸(Simple-Linear-Regression)\" data-toc-modified-id=\"簡單線性迴歸(Simple-Linear-Regression)-442\"><span class=\"toc-item-num\">4.4.2&nbsp;&nbsp;</span>簡單線性迴歸(Simple Linear Regression)</a></div><div class=\"lev3 toc-item\"><a href=\"#如何估計(&quot;學&quot;)-模型係數？\" data-toc-modified-id=\"如何估計(&quot;學&quot;)-模型係數？-443\"><span class=\"toc-item-num\">4.4.3&nbsp;&nbsp;</span>如何估計(\"學\") 模型係數？</a></div><div class=\"lev3 toc-item\"><a href=\"#模型係數解釋\" data-toc-modified-id=\"模型係數解釋-444\"><span class=\"toc-item-num\">4.4.4&nbsp;&nbsp;</span>模型係數解釋</a></div><div class=\"lev3 toc-item\"><a href=\"#使用此模型進行預測\" data-toc-modified-id=\"使用此模型進行預測-445\"><span class=\"toc-item-num\">4.4.5&nbsp;&nbsp;</span>使用此模型進行預測</a></div><div class=\"lev3 toc-item\"><a href=\"#繪製最小平方線\" data-toc-modified-id=\"繪製最小平方線-446\"><span class=\"toc-item-num\">4.4.6&nbsp;&nbsp;</span>繪製最小平方線</a></div><div class=\"lev3 toc-item\"><a href=\"#模型的可信程度？\" data-toc-modified-id=\"模型的可信程度？-447\"><span class=\"toc-item-num\">4.4.7&nbsp;&nbsp;</span>模型的可信程度？</a></div><div class=\"lev3 toc-item\"><a href=\"#假設檢定及p值(p-values)\" data-toc-modified-id=\"假設檢定及p值(p-values)-448\"><span class=\"toc-item-num\">4.4.8&nbsp;&nbsp;</span>假設檢定及p值(p-values)</a></div><div class=\"lev3 toc-item\"><a href=\"#模型的配適程度如何？\" data-toc-modified-id=\"模型的配適程度如何？-449\"><span class=\"toc-item-num\">4.4.9&nbsp;&nbsp;</span>模型的配適程度如何？</a></div><div class=\"lev3 toc-item\"><a href=\"#多變量迴歸\" data-toc-modified-id=\"多變量迴歸-4410\"><span class=\"toc-item-num\">4.4.10&nbsp;&nbsp;</span>多變量迴歸</a></div><div class=\"lev3 toc-item\"><a href=\"#特徵挑選(Feature-Selection)\" data-toc-modified-id=\"特徵挑選(Feature-Selection)-4411\"><span class=\"toc-item-num\">4.4.11&nbsp;&nbsp;</span>特徵挑選(Feature Selection)</a></div><div class=\"lev4 toc-item\"><a href=\"#++++++秒懂交叉驗證\" data-toc-modified-id=\"++++++秒懂交叉驗證-44111\"><span class=\"toc-item-num\">4.4.11.1&nbsp;&nbsp;</span>++++++秒懂交叉驗證</a></div><div class=\"lev3 toc-item\"><a href=\"#Linear-Regression-in-scikit-learn\" data-toc-modified-id=\"Linear-Regression-in-scikit-learn-4412\"><span class=\"toc-item-num\">4.4.12&nbsp;&nbsp;</span>Linear Regression in scikit-learn</a></div><div class=\"lev2 toc-item\"><a href=\"#再次以NBA資料為例(sklearn套件)\" data-toc-modified-id=\"再次以NBA資料為例(sklearn套件)-45\"><span class=\"toc-item-num\">4.5&nbsp;&nbsp;</span>再次以NBA資料為例(sklearn套件)</a></div><div class=\"lev3 toc-item\"><a href=\"#將資料劃分為訓練集與測試集\" data-toc-modified-id=\"將資料劃分為訓練集與測試集-451\"><span class=\"toc-item-num\">4.5.1&nbsp;&nbsp;</span>將資料劃分為訓練集與測試集</a></div><div class=\"lev3 toc-item\"><a href=\"#假設我們希望通過球員的投籃命中預測其助攻次數\" data-toc-modified-id=\"假設我們希望通過球員的投籃命中預測其助攻次數-452\"><span class=\"toc-item-num\">4.5.2&nbsp;&nbsp;</span>假設我們希望通過球員的投籃命中預測其助攻次數</a></div><div class=\"lev3 toc-item\"><a href=\"#將原始值與預估值以DataFrame共同列出\" data-toc-modified-id=\"將原始值與預估值以DataFrame共同列出-453\"><span class=\"toc-item-num\">4.5.3&nbsp;&nbsp;</span>將原始值與預估值以DataFrame共同列出</a></div><div class=\"lev3 toc-item\"><a href=\"#以Series合併的話，可能會有index的錯亂，故以ndarray合併\" data-toc-modified-id=\"以Series合併的話，可能會有index的錯亂，故以ndarray合併-454\"><span class=\"toc-item-num\">4.5.4&nbsp;&nbsp;</span>以Series合併的話，可能會有index的錯亂，故以ndarray合併</a></div><div class=\"lev3 toc-item\"><a href=\"#計算此模型的統計摘要\" data-toc-modified-id=\"計算此模型的統計摘要-455\"><span class=\"toc-item-num\">4.5.5&nbsp;&nbsp;</span>計算此模型的統計摘要</a></div><div class=\"lev3 toc-item\"><a href=\"#+++++計算誤差，這邊使用MSE(Mean-Squared-Error)\" data-toc-modified-id=\"+++++計算誤差，這邊使用MSE(Mean-Squared-Error)-456\"><span class=\"toc-item-num\">4.5.6&nbsp;&nbsp;</span>+++++計算誤差，這邊使用MSE(Mean Squared Error)</a></div><div class=\"lev1 toc-item\"><a href=\"#References\" data-toc-modified-id=\"References-5\"><span class=\"toc-item-num\">5&nbsp;&nbsp;</span>References</a></div>"
   ]
  },
  {
   "cell_type": "markdown",
   "metadata": {},
   "source": [
    "![Python](_img/python-logo.png)\n",
    "\n",
    "\n",
    "湯明軒(Andrew)\n",
    "\n",
    "析客數據有限公司\n"
   ]
  },
  {
   "cell_type": "markdown",
   "metadata": {
    "nbpresent": {
     "id": "c25ba4f0-a0e6-401d-96f3-a5e689c7e641"
    },
    "slideshow": {
     "slide_type": "slide"
    }
   },
   "source": [
    "# 網頁資料擷取概念"
   ]
  },
  {
   "cell_type": "markdown",
   "metadata": {
    "nbpresent": {
     "id": "2bdaddcd-6faa-423b-9de7-02ae2a44abb1"
    },
    "slideshow": {
     "slide_type": "subslide"
    }
   },
   "source": [
    "## 關於擷取網頁必要知識\n",
    "\n",
    "- 在HTTP 1.1的版本中定義了八種 Method (方法)，如下所示：\n",
    "    - OPTIONS\n",
    "    - **GET**\n",
    "    - HEAD\n",
    "    - **POST**\n",
    "    - PUT\n",
    "    - DELETE\n",
    "    - TRACE\n",
    "    - CONNECT"
   ]
  },
  {
   "cell_type": "markdown",
   "metadata": {
    "nbpresent": {
     "id": "4c2a89cc-279f-455f-aa3c-ed89076ff185"
    },
    "slideshow": {
     "slide_type": "subslide"
    }
   },
   "source": [
    "## GET與POST流程：\n",
    "![Flow of GET & POST](_img/GET_POST_flow.png)"
   ]
  },
  {
   "cell_type": "markdown",
   "metadata": {
    "nbpresent": {
     "id": "6d937501-ea1a-4b3f-899b-7d9da2e01f6e"
    },
    "slideshow": {
     "slide_type": "subslide"
    }
   },
   "source": [
    "### GET(明信片)與POST(信)的差別：\n",
    "![Example of GET & POST](_img/GET_POST_EX.png)"
   ]
  },
  {
   "cell_type": "markdown",
   "metadata": {},
   "source": [
    "### 使用Http的Method傳遞資料\n",
    "- 資料儲存位置，可以當作是一個資料庫中的資料表：\n",
    "    - https://docs.google.com/spreadsheets/d/1b3qgb9V6YOd0yTLPdJFVb6mEOac4HYrMsI4pg1u4uVo/edit?usp=sharing\n",
    "- Request URL： \n",
    "    - https://script.google.com/macros/s/AKfycbwSfmFoEwAAost0KVB7PhNl4y2n96SZqeeQWu6HRBb1jB4QbgLc/exec\n",
    "    - 開發此API的人員會將(存取)規則寫好\n",
    "    - 這邊的規則是傳遞參數為name與sex，缺少或大小寫不同都可能傳遞失敗\n",
    "\n",
    "#### GET\n",
    "- 如同明信片的介紹從？符號之後是參數，使用&符號間隔\n",
    "- 直接透過瀏覽器的網址列即可進行GET request\n",
    "- 例如： https://script.google.com/macros/s/AKfycbwSfmFoEwAAost0KVB7PhNl4y2n96SZqeeQWu6HRBb1jB4QbgLc/exec?name=Andrew&sex=Male\n",
    "    - 先試著用瀏覽器打開\n"
   ]
  },
  {
   "cell_type": "code",
   "execution_count": 48,
   "metadata": {
    "collapsed": true
   },
   "outputs": [],
   "source": [
    "import requests\n",
    "request_url = 'https://script.google.com/macros/s/AKfycbwSfmFoEwAAost0KVB7PhNl4y2n96SZqeeQWu6HRBb1jB4QbgLc/exec'\n",
    "request_url_get = request_url + \"?name=YYY&sex=XXX\"\n",
    "result = requests.get(request_url_get)"
   ]
  },
  {
   "cell_type": "code",
   "execution_count": 40,
   "metadata": {},
   "outputs": [
    {
     "data": {
      "text/plain": [
       "requests.models.Response"
      ]
     },
     "execution_count": 40,
     "metadata": {},
     "output_type": "execute_result"
    }
   ],
   "source": [
    "type(result)"
   ]
  },
  {
   "cell_type": "code",
   "execution_count": 49,
   "metadata": {
    "scrolled": true
   },
   "outputs": [
    {
     "name": "stdout",
     "output_type": "stream",
     "text": [
      "<!doctype html>\n",
      "<html>\n",
      "<head>\n",
      "<meta name=\"chromevox\" content-script=\"no\"><link rel=\"stylesheet\" href=\"/static/macros/client/css/1486434179-mae_html_css_ltr.css\">\n",
      "\n",
      "<script type=\"text/javascript\" src=\"/static/macros/client/js/3775905649-warden_bin_i18n_warden__zh_tw.js\"></script>\n",
      "\n",
      "</head>\n",
      "<body>\n",
      "<table id=\"warning-bar-table\" class=\"full_size\" cellspacing=\"0\" cellpadding=\"0\"><tr><td><div id=\"warning\" class=\"warning-bar\"></div></td></tr><tr><td style=\"height: 100%\"><iframe id=\"sandboxFrame\" sandbox=\"allow-forms allow-modals allow-popups allow-popups-to-escape-sandbox allow-same-origin allow-scripts allow-top-navigation\">\n",
      "</iframe>\n",
      "</td></tr></table><script type=\"text/javascript\">\n",
      "var el = document.getElementById('sandboxFrame');\n",
      "el.onload = function() {\n",
      "goog.script.init(\"\\x7b\\x22functionNames\\x22:\\x5b\\x22doGet\\x22,\\x22doPost\\x22,\\x22write_data\\x22,\\x22test\\x22\\x5d,\\x22sandboxMode\\x22:\\x22IFRAME_SANDBOX\\x22,\\x22libid\\x22:\\x22Mr0Iebe671zA1-MVOjAkHk65LCUu8ULAO\\x22,\\x22callbackTimeout\\x22:390000,\\x22eei\\x22:\\x22\\x22,\\x22sandboxHost\\x22:\\x22https:\\/\\/n-fqjq5nvccp4txazcftlqfmalmdse2kgfo2n2izy-0lu-script.googleusercontent.com\\x22,\\x22clientSideProperties\\x22:\\x7b\\x22google.script.sandbox.mode\\x22:\\x22IFRAME_SANDBOX\\x22,\\x22google.script.host.origin\\x22:\\x22https:\\/\\/docs.google.com\\x22\\x7d,\\x22actionPrefix\\x22:\\x22\\/macros\\/s\\/AKfycbwSfmFoEwAAost0KVB7PhNl4y2n96SZqeeQWu6HRBb1jB4QbgLc\\x22,\\x22userHtml\\x22:\\x22\\\\u003c!DOCTYPE html\\\\u003e\\\\n\\\\u003chtml\\\\u003e\\\\n  \\\\u003chead\\\\u003e\\\\n    \\\\u003cbase target\\\\u003d\\\\\\x22_top\\\\\\x22\\\\u003e\\\\n    \\\\u003cstyle\\\\u003e\\\\ntable, th, td \\x7b\\\\n    border: 1px solid black;\\\\n    border-collapse: collapse;\\\\n\\x7d\\\\nth, td \\x7b\\\\n    padding: 5px;\\\\n    text-align: left;\\\\n\\x7d\\\\n\\\\u003c\\\\\\/style\\\\u003e\\\\n  \\\\u003c\\\\\\/head\\\\u003e\\\\n  \\\\u003cbody\\\\u003e\\\\n    \\\\u003ctable style\\\\u003d\\\\\\x22width:100%\\\\\\x22\\\\u003e\\\\n  \\\\u003ctr\\\\u003e\\\\n    \\\\u003cth\\\\u003eFirstname\\\\u003c\\\\\\/th\\\\u003e\\\\n    \\\\u003cth\\\\u003eLastname\\\\u003c\\\\\\/th\\\\u003e \\\\n    \\\\u003cth\\\\u003eAge\\\\u003c\\\\\\/th\\\\u003e\\\\n  \\\\u003c\\\\\\/tr\\\\u003e\\\\n  \\\\u003ctr\\\\u003e\\\\n    \\\\u003ctd\\\\u003eJill\\\\u003c\\\\\\/td\\\\u003e\\\\n    \\\\u003ctd\\\\u003eSmith\\\\u003c\\\\\\/td\\\\u003e \\\\n    \\\\u003ctd\\\\u003e50\\\\u003c\\\\\\/td\\\\u003e\\\\n  \\\\u003c\\\\\\/tr\\\\u003e\\\\n  \\\\u003ctr\\\\u003e\\\\n    \\\\u003ctd\\\\u003eEve\\\\u003c\\\\\\/td\\\\u003e\\\\n    \\\\u003ctd\\\\u003eJackson\\\\u003c\\\\\\/td\\\\u003e \\\\n    \\\\u003ctd\\\\u003e94\\\\u003c\\\\\\/td\\\\u003e\\\\n  \\\\u003c\\\\\\/tr\\\\u003e\\\\n\\\\u003c\\\\\\/table\\\\u003e\\\\n  \\\\u003c\\\\\\/body\\\\u003e\\\\n\\\\u003c\\\\\\/html\\\\u003e\\\\n\\\\n\\\\n\\x22,\\x22ncc\\x22:\\x22\\x7b\\\\\\x22awhs\\\\\\x22:true\\x7d\\x22\\x7d\", \"\", undefined,  true , \"https:\\/\\/n-fqjq5nvccp4txazcftlqfmalmdse2kgfo2n2izy-0lu-script.googleusercontent.com\");}\n",
      "el.src = 'https:\\/\\/n-fqjq5nvccp4txazcftlqfmalmdse2kgfo2n2izy-0lu-script.googleusercontent.com\\/userCodeAppPanel';\n",
      "</script>\n",
      "</body>\n",
      "</html>\n",
      "\n"
     ]
    }
   ],
   "source": [
    "print(result.text)"
   ]
  },
  {
   "cell_type": "markdown",
   "metadata": {},
   "source": [
    "#### POST\n",
    "- 通常會透過程式(網頁)進行POST request\n",
    "- 參數會另外夾帶而不是透過url"
   ]
  },
  {
   "cell_type": "code",
   "execution_count": 43,
   "metadata": {
    "collapsed": true
   },
   "outputs": [],
   "source": [
    "request_url = 'https://script.google.com/macros/s/AKfycbwSfmFoEwAAost0KVB7PhNl4y2n96SZqeeQWu6HRBb1jB4QbgLc/exec'\n",
    "request_post_data = {\n",
    "    'name':'Andrew Tang',\n",
    "    'sex':'MAN'\n",
    "}\n",
    "\n",
    "result = requests.post(url= request_url, data = request_post_data)"
   ]
  },
  {
   "cell_type": "code",
   "execution_count": 44,
   "metadata": {},
   "outputs": [
    {
     "data": {
      "text/plain": [
       "requests.models.Response"
      ]
     },
     "execution_count": 44,
     "metadata": {},
     "output_type": "execute_result"
    }
   ],
   "source": [
    "type(result)"
   ]
  },
  {
   "cell_type": "code",
   "execution_count": 46,
   "metadata": {},
   "outputs": [
    {
     "name": "stdout",
     "output_type": "stream",
     "text": [
      "<!DOCTYPE html><html><head><link rel=\"shortcut icon\" href=\"//ssl.gstatic.com/docs/script/images/favicon.ico\"><title>錯誤</title><style type=\"text/css\">body {background-color: #fff; margin: 0; padding: 0;}.errorMessage {font-family: Arial,sans-serif; font-size: 12pt; font-weight: bold; line-height: 150%; padding-top: 25px;}</style></head><body style=\"margin:20px\"><div><img alt=\"Google Apps Script\" src=\"//ssl.gstatic.com/docs/script/images/logo.png\"></div><div style=\"text-align:center;font-family:monospace;margin:50px auto 0;max-width:600px\">指令碼已完成，但未傳回任何值。</div></body></html>\n"
     ]
    }
   ],
   "source": [
    "print(result.text)"
   ]
  },
  {
   "cell_type": "markdown",
   "metadata": {
    "nbpresent": {
     "id": "efe51e28-4e55-4ff1-8b4b-16d6fc876b89"
    },
    "slideshow": {
     "slide_type": "subslide"
    }
   },
   "source": [
    "### GET網頁並取得資料"
   ]
  },
  {
   "cell_type": "code",
   "execution_count": 154,
   "metadata": {},
   "outputs": [
    {
     "data": {
      "text/html": [
       "<iframe src=http://www.example.com/ width=800 height=400></iframe>"
      ],
      "text/plain": [
       "<IPython.core.display.HTML object>"
      ]
     },
     "metadata": {},
     "output_type": "display_data"
    }
   ],
   "source": [
    "%%html\n",
    "<iframe src=http://www.example.com/ width=800 height=400></iframe>"
   ]
  },
  {
   "cell_type": "code",
   "execution_count": 155,
   "metadata": {
    "nbpresent": {
     "id": "f2678968-f9df-482f-bf71-f2980f8b9cd5"
    },
    "scrolled": false
   },
   "outputs": [
    {
     "data": {
      "text/plain": [
       "requests.models.Response"
      ]
     },
     "execution_count": 155,
     "metadata": {},
     "output_type": "execute_result"
    }
   ],
   "source": [
    "import requests\n",
    "res_example = requests.get('http://www.example.com/')\n",
    "type(res_example)"
   ]
  },
  {
   "cell_type": "code",
   "execution_count": 156,
   "metadata": {
    "scrolled": false
   },
   "outputs": [
    {
     "name": "stdout",
     "output_type": "stream",
     "text": [
      "['__attrs__', '__bool__', '__class__', '__delattr__', '__dict__', '__dir__', '__doc__', '__eq__', '__format__', '__ge__', '__getattribute__', '__getstate__', '__gt__', '__hash__', '__init__', '__init_subclass__', '__iter__', '__le__', '__lt__', '__module__', '__ne__', '__new__', '__nonzero__', '__reduce__', '__reduce_ex__', '__repr__', '__setattr__', '__setstate__', '__sizeof__', '__str__', '__subclasshook__', '__weakref__', '_content', '_content_consumed', 'apparent_encoding', 'close', 'connection', 'content', 'cookies', 'elapsed', 'encoding', 'headers', 'history', 'is_permanent_redirect', 'is_redirect', 'iter_content', 'iter_lines', 'json', 'links', 'ok', 'raise_for_status', 'raw', 'reason', 'request', 'status_code', 'text', 'url']\n"
     ]
    }
   ],
   "source": [
    "print(dir(res_example))"
   ]
  },
  {
   "cell_type": "code",
   "execution_count": 157,
   "metadata": {},
   "outputs": [
    {
     "name": "stdout",
     "output_type": "stream",
     "text": [
      "<!doctype html>\n",
      "<html>\n",
      "<head>\n",
      "    <title>Example Domain</title>\n",
      "\n",
      "    <meta charset=\"utf-8\" />\n",
      "    <meta http-equiv=\"Content-type\" content=\"text/html; charset=utf-8\" />\n",
      "    <meta name=\"viewport\" content=\"width=device-width, initial-scale=1\" />\n",
      "    <style type=\"text/css\">\n",
      "    body {\n",
      "        background-color: #f0f0f2;\n",
      "        margin: 0;\n",
      "        padding: 0;\n",
      "        font-family: \"Open Sans\", \"Helvetica Neue\", Helvetica, Arial, sans-serif;\n",
      "        \n",
      "    }\n",
      "    div {\n",
      "        width: 600px;\n",
      "        margin:\n"
     ]
    }
   ],
   "source": [
    "# 只顯示前500個字元\n",
    "print(res_example.text[:500])"
   ]
  },
  {
   "cell_type": "markdown",
   "metadata": {},
   "source": [
    "<font size=6 style=\"text-shadow:0px 0px 15px #FF37FD;\">練習</font>\n",
    "- GET 「Google Play商店的APP評論」\n",
    "- 請依下列步驟練習：\n",
    "    - 打開Chrome瀏覽器，於網址列中輸入Google Play並進入其網站\n",
    "    - 於Google Play中搜尋「Whos call」並進入其App內頁\n",
    "    - 依照上述步驟將網頁GET下來"
   ]
  },
  {
   "cell_type": "markdown",
   "metadata": {},
   "source": [
    "### 取得POST資料\n",
    "\n",
    "- 開發人員工具\n",
    "    - 建議使用Chrome\n",
    "    - 滑鼠右鍵 -> 檢查\n",
    "\n",
    "<font size=6>Step 1 ------------------------</font>\n",
    "![](_img/post_1.png)\n",
    "\n",
    "<font size=6>Step 2 ------------------------</font>\n",
    "![](_img/post_2.png)\n",
    "\n",
    "<font size=6>Step 3 ------------------------</font>\n",
    "![](_img/post_3.png)"
   ]
  },
  {
   "cell_type": "markdown",
   "metadata": {},
   "source": [
    "<font size=6 style=\"text-shadow:0px 0px 15px #FF37FD;\">練習</font>\n",
    "- POST 「簡易網站」\n",
    "- 請依下列步驟練習：\n",
    "    - https://www.cs.tut.fi/~jkorpela/forms/testing.html\n",
    "    - 請見網頁中最下方的範例\n",
    "    - 依照上述步驟找出規則\n",
    "    - 用POST方法，傳送表單('Comments' : 'I love Python', 'hidden field':'R is nice also')\n",
    "    - print出server端回傳的response，並且透過HTML函數將其內容重現"
   ]
  },
  {
   "cell_type": "markdown",
   "metadata": {},
   "source": [
    "## 來個中等難度的POST「擷取Play商店評論」\n",
    "- 事實上，前面以GET擷取的Google Play頁面中，僅包含前40筆APP評論\n",
    "- 當User切換頁面直到看完前40筆時，才會發出新的POST request取得下一個40筆評論\n",
    "- 取得POST表單資訊步驟：\n",
    "    - 首先：打開「開發人員工具」\n",
    "    - 第二步：![](_img/gooplay_pager.png)\n",
    "    - 第三步：![](_img/POST_scrapingFlow.png)\n",
    "    - 最後：以上述相同方式，於Python中取得網頁資料\n",
    "    - 請觀察取得之response與GET方法取得之response有何不同？"
   ]
  },
  {
   "cell_type": "code",
   "execution_count": 50,
   "metadata": {
    "nbpresent": {
     "id": "123bcdf1-6d2a-4b57-9e60-25a8cd949d1c"
    },
    "scrolled": false
   },
   "outputs": [
    {
     "name": "stdout",
     "output_type": "stream",
     "text": [
      ")]}'\n",
      "\n",
      "[[\"ecr\",1,\" \\u003cdiv class\\u003d\\\"single-review\\\" tabindex\\u003d\\\"0\\\"\\u003e  \\u003cspan\\u003e \\u003cspan class\\u003d\\\"responsive-img-ldpi\\\"\\u003e \\u003cspan class\\u003d\\\"responsive-img author-image\\\" style\\u003d\\\"background-image:url(https://lh4.googleusercontent.com/-rvLlJRjA5jI/AAAAAAAAAAI/AAAAAAAAABE/wj8QZffZgtY/w48-h48-p/photo.jpg)\\\"\\u003e\\u003c/span\\u003e \\u003c/span\\u003e \\u003cspan class\\u003d\\\"responsive-img-hdpi\\\"\\u003e \\u003cspan class\\u003d\\\"responsive-img author-image\\\" style\\u003d\\\"background-image:url(https://lh4.googleusercontent.com/-rvLlJRjA5jI/AAAAAAAAAAI/AAAAAAAAABE/wj8QZffZgtY/w96-h96-p/photo.jpg)\\\"\\u003e\\u003c/span\\u003e \\u003c/span\\u003e \\u003c/span\\u003e  \\u003cdiv class\\u003d\\\"review-header\\\" data-expand-target\\u003d\\\"\\\" data-reviewid\\u003d\\\"gp:AOqpTOFVQ5c4ZbVY0ze4Xo29ts6T5R04PMVUbkc0rz6lIQ4wAPGnjlFyCJ4536-X-t6WRN6SWNMOhT5V6QFVfE4\\\"\\u003e \\u003cdiv class\\u003d\\\"review-info\\\"\\u003e \\u003cspan class\\u003d\\\"author-name\\\"\\u003e 潘歐元 \\u003c/span\\u003e  \\u003cspan class\\u003d\\\"review-date\\\"\\u003e2017年9月30日\\u003c/span\\u003e \\u003ca class\\u003d\\\"reviews-permalink\\\" href\\u003d\\\"/store/apps/details?id\\u003dgogolook.callgogolook2\\u0026amp;reviewId\\u003dZ3A6QU9xcFRPRlZRNWM0WmJWWTB6ZTRYbzI5dHM2VDVSMDRQTVZVYmtjMHJ6NmxJUTR3QVBHbmpsRnlDSjQ1MzYtWC10NldSTjZTV05NT2hUNVY2UUZWZkU0\\\" title\\u003d\\\"這則評論的連結\\\"\\u003e\\u003c/a\\u003e \\u003cdiv class\\u003d\\\"review-source\\\" style\\u003d\\\"display:none\\\"\\u003e\\u003c/div\\u003e \\u003cdiv class\\u003d\\\"review-info-star-rating\\\"\\u003e  \\u003cdiv class\\u003d\\\"tiny-star star-rating-non-editable-container\\\" aria-label\\u003d\\\"獲評為 5 顆星 (總分 5 顆星)\\\"\\u003e \\u003cdiv class\\u003d\\\"current-rating\\\" jsname\\u003d\\\"jIIjq\\\" style\\u003d\\\"width: 100%;\\\"\\u003e\\u003c/div\\u003e \\u003c/div\\u003e  \\u003c/div\\u003e \\u003c/div\\u003e \\u003cdiv class\\u003d\\\"rate-review-wrapper\\\"\\u003e \\u003cdiv class\\u003d\\\"play-button icon-button small rate-review\\\" title\\u003d\\\"垃圾內容\\\" data-rating\\u003d\\\"SPAM\\\"\\u003e \\u003cdiv class\\u003d\\\"icon spam-flag\\\"\\u003e\\u003\n"
     ]
    }
   ],
   "source": [
    "payload = {\n",
    " 'reviewType':0,\n",
    " 'pageNum':0,\n",
    " 'id':'gogolook.callgogolook2',\n",
    " 'reviewSortOrder':0,\n",
    " 'xhr':1,\n",
    " 'token':'f5SGT3uzjbPnw4UuG7wVijcgy8I:1484411541061',\n",
    " 'hl':'zh_TW'\n",
    "}\n",
    "\n",
    "res_gooplay_post = requests.post('https://play.google.com/store/getreviews?authuser=0', data = payload)\n",
    "print(res_gooplay_post.text[:2000])"
   ]
  },
  {
   "cell_type": "markdown",
   "metadata": {},
   "source": [
    "<font size=6 style=\"text-shadow:0px 0px 15px #FF37FD;\">練習</font>\n",
    "- POST 「擷取Play商店評論」\n",
    "- 請試著以其他的APP來練習擷取評論"
   ]
  },
  {
   "cell_type": "markdown",
   "metadata": {
    "nbpresent": {
     "id": "df8dc987-1a21-4872-9426-4237265b5e10"
    },
    "slideshow": {
     "slide_type": "subslide"
    }
   },
   "source": [
    "## HTML原始碼解析(BeautifulSoup)"
   ]
  },
  {
   "cell_type": "markdown",
   "metadata": {
    "nbpresent": {
     "id": "cebd56e3-07ba-430a-afc9-f676e2a0f7e0"
    }
   },
   "source": [
    "### BeautifulSoup簡介\n",
    "\n",
    "Beautiful Soup is a Python library for pulling data out of HTML and XML files. It works with your favorite parser to provide idiomatic ways of navigating, searching, and modifying the parse tree. It commonly saves programmers hours or days of work."
   ]
  },
  {
   "cell_type": "markdown",
   "metadata": {
    "nbpresent": {
     "id": "f7597b51-0389-42d3-b897-d3d555612c38"
    }
   },
   "source": [
    "- 所需套件安裝：\n",
    "    - !pip install beautifulsoup4\n",
    "    - !pip3 install lxml"
   ]
  },
  {
   "cell_type": "markdown",
   "metadata": {},
   "source": [
    "#### 從bs4(BeautifulSoup4)中載入BeautifulSoup函數\n",
    "- BeautifulSoup將複雜的HTML文檔轉換成一個樹形結構"
   ]
  },
  {
   "cell_type": "code",
   "execution_count": 159,
   "metadata": {
    "collapsed": true,
    "nbpresent": {
     "id": "3fd920a3-8770-4712-bee7-496a3c109efb"
    }
   },
   "outputs": [],
   "source": [
    "from bs4 import BeautifulSoup"
   ]
  },
  {
   "cell_type": "markdown",
   "metadata": {},
   "source": [
    "#### 回顧一下前面 www.example.com 的網頁原始碼"
   ]
  },
  {
   "cell_type": "code",
   "execution_count": 160,
   "metadata": {
    "scrolled": true
   },
   "outputs": [
    {
     "name": "stdout",
     "output_type": "stream",
     "text": [
      "<!doctype html>\n",
      "<html>\n",
      "<head>\n",
      "    <title>Example Domain</title>\n",
      "\n",
      "    <meta charset=\"utf-8\" />\n",
      "    <meta http-equiv=\"Content-type\" content=\"text/html; charset=utf-8\" />\n",
      "    <meta name=\"viewport\" content=\"width=device-width, initial-scale=1\" />\n",
      "    <style type=\"text/css\">\n",
      "    body {\n",
      "        background-color: #f0f0f2;\n",
      "        margin: 0;\n",
      "        padding: 0;\n",
      "        font-family: \"Open Sans\", \"Helvetica Neue\", Helvetica, Arial, sans-serif;\n",
      "        \n",
      "    }\n",
      "    div {\n",
      "        width: 600px;\n",
      "        margin: 5em auto;\n",
      "        padding: 50px;\n",
      "        background-color: #fff;\n",
      "        border-radius: 1em;\n",
      "    }\n",
      "    a:link, a:visited {\n",
      "        color: #38488f;\n",
      "        text-decoration: none;\n",
      "    }\n",
      "    @media (max-width: 700px) {\n",
      "        body {\n",
      "            background-color: #fff;\n",
      "        }\n",
      "        div {\n",
      "            width: auto;\n",
      "            margin: 0 auto;\n",
      "            border-radius: 0;\n",
      "            padding: 1em;\n",
      "        }\n",
      "    }\n",
      "    </style>    \n",
      "</head>\n",
      "\n",
      "<body>\n",
      "<div>\n",
      "    <h1>Example Domain</h1>\n",
      "    <p>This domain is established to be used for illustrative examples in documents. You may use this\n",
      "    domain in examples without prior coordination or asking for permission.</p>\n",
      "    <p><a href=\"http://www.iana.org/domains/example\">More information...</a></p>\n",
      "</div>\n",
      "</body>\n",
      "</html>\n",
      "\n"
     ]
    }
   ],
   "source": [
    "print(res_example.text)"
   ]
  },
  {
   "cell_type": "markdown",
   "metadata": {},
   "source": [
    "#### 瞭解下面執行BeautifulSoup函數時發生了什麼事？"
   ]
  },
  {
   "cell_type": "code",
   "execution_count": 161,
   "metadata": {
    "scrolled": false
   },
   "outputs": [
    {
     "name": "stderr",
     "output_type": "stream",
     "text": [
      "/Users/Andrew/anaconda/lib/python3.6/site-packages/bs4/__init__.py:181: UserWarning: No parser was explicitly specified, so I'm using the best available HTML parser for this system (\"lxml\"). This usually isn't a problem, but if you run this code on another system, or in a different virtual environment, it may use a different parser and behave differently.\n",
      "\n",
      "The code that caused this warning is on line 193 of the file /Users/Andrew/anaconda/lib/python3.6/runpy.py. To get rid of this warning, change code that looks like this:\n",
      "\n",
      " BeautifulSoup(YOUR_MARKUP})\n",
      "\n",
      "to this:\n",
      "\n",
      " BeautifulSoup(YOUR_MARKUP, \"lxml\")\n",
      "\n",
      "  markup_type=markup_type))\n"
     ]
    }
   ],
   "source": [
    "soup = BeautifulSoup(res_example.text)"
   ]
  },
  {
   "cell_type": "markdown",
   "metadata": {
    "nbpresent": {
     "id": "94eca8e0-cc52-409a-9a8a-0690fe420019"
    }
   },
   "source": [
    "下表列出了主要的解析器，以及它們的優缺點：\n",
    "\n",
    "| 解析器       | 使用方法                            | 優勢                                                 | 劣勢 |\n",
    "|--------------|-------------------------------------|------------------------------------------------------|------|\n",
    "| Python標準庫 | BeautifulSoup(markup,\"html.parser\") | <ul><li>Python的內建標準庫</li><li>執行速度適中</li><li>文檔容錯能力強</li></ul> | Python 2.7.3及3.2.2之前的版本中文檔容錯能力差   |\n",
    "| lxml HTML 解析器          | BeautifulSoup(markup, \"lxml\")                                | <ul><li>速度快</li><li>文檔容錯能力強</li></ul>                                   | 需要安装C语言库   |\n",
    "| xml XML 解析器           | BeautifulSoup(markup, \"xml\")                                | <ul><li>速度快</li><li>唯一支持XML的解析器</li></ul>                                             | 需要安装C语言库   |\n",
    "| html5lib          | BeautifulSoup(markup, \"html5lib\")                                | <ul><li>最好的容錯性</li><li>以瀏覽器的方式解析文檔</li><li>生成HTML5格式的文檔</li></ul>                                 | <ul><li>速度慢</li><li>不依賴外部擴展</li></ul>   |\n",
    "\n",
    "節錄自官網 - https://www.crummy.com/software/BeautifulSoup/bs4/doc.zh/ "
   ]
  },
  {
   "cell_type": "code",
   "execution_count": 162,
   "metadata": {
    "collapsed": true,
    "scrolled": true
   },
   "outputs": [],
   "source": [
    "soup = BeautifulSoup(res_example.text, \"lxml\")"
   ]
  },
  {
   "cell_type": "code",
   "execution_count": 163,
   "metadata": {
    "scrolled": true
   },
   "outputs": [
    {
     "data": {
      "text/plain": [
       "bs4.BeautifulSoup"
      ]
     },
     "execution_count": 163,
     "metadata": {},
     "output_type": "execute_result"
    }
   ],
   "source": [
    "type(soup)"
   ]
  },
  {
   "cell_type": "markdown",
   "metadata": {},
   "source": [
    "### CSS選擇器\n",
    "- 使用 `soup.select()`，返回類型是 list\n",
    "    - 以tag選擇：`soup.select('title')`\n",
    "    - 以class選擇：`soup.select('.review-header')`\n",
    "    - 以id選擇：`soup.select('#link1')`\n",
    "    - 組合選擇：`soup.select('div #link1')`, `soup.select('p > a')`\n",
    "    - 加入屬性元素：`soup.select('div[class=\"review-header\"]')`\n",
    "    - 以小遊戲瞭解何為**CSS Selector** (https://flukeout.github.io/)"
   ]
  },
  {
   "cell_type": "code",
   "execution_count": 164,
   "metadata": {
    "scrolled": false
   },
   "outputs": [
    {
     "data": {
      "text/plain": [
       "[<title>Example Domain</title>]"
      ]
     },
     "execution_count": 164,
     "metadata": {},
     "output_type": "execute_result"
    }
   ],
   "source": [
    "soup.select('title')"
   ]
  },
  {
   "cell_type": "code",
   "execution_count": 165,
   "metadata": {},
   "outputs": [
    {
     "data": {
      "text/plain": [
       "list"
      ]
     },
     "execution_count": 165,
     "metadata": {},
     "output_type": "execute_result"
    }
   ],
   "source": [
    "type(soup.select('title'))"
   ]
  },
  {
   "cell_type": "code",
   "execution_count": 166,
   "metadata": {
    "scrolled": false
   },
   "outputs": [
    {
     "data": {
      "text/plain": [
       "bs4.element.Tag"
      ]
     },
     "execution_count": 166,
     "metadata": {},
     "output_type": "execute_result"
    }
   ],
   "source": [
    "type(soup.select('title')[0])"
   ]
  },
  {
   "cell_type": "code",
   "execution_count": 167,
   "metadata": {
    "scrolled": true
   },
   "outputs": [
    {
     "data": {
      "text/plain": [
       "[<p>This domain is established to be used for illustrative examples in documents. You may use this\n",
       "     domain in examples without prior coordination or asking for permission.</p>,\n",
       " <p><a href=\"http://www.iana.org/domains/example\">More information...</a></p>]"
      ]
     },
     "execution_count": 167,
     "metadata": {},
     "output_type": "execute_result"
    }
   ],
   "source": [
    "soup.select('p')"
   ]
  },
  {
   "cell_type": "code",
   "execution_count": 168,
   "metadata": {
    "scrolled": true
   },
   "outputs": [
    {
     "data": {
      "text/plain": [
       "[<a href=\"http://www.iana.org/domains/example\">More information...</a>]"
      ]
     },
     "execution_count": 168,
     "metadata": {},
     "output_type": "execute_result"
    }
   ],
   "source": [
    "soup.select('p > a')"
   ]
  },
  {
   "cell_type": "markdown",
   "metadata": {
    "nbpresent": {
     "id": "0833486f-7996-4567-985c-fcfc7b423170"
    },
    "slideshow": {
     "slide_type": "subslide"
    }
   },
   "source": [
    "## 透過開發人員工具找出欲擷取資料之規則\n",
    "![開發人員工具介面及XPath尋找](_img/GET_POST_xpath.png)"
   ]
  },
  {
   "cell_type": "markdown",
   "metadata": {},
   "source": [
    "<font size=6 style=\"text-shadow:0px 0px 15px #FF37FD;\">練習</font>\n",
    "- 請依下列步驟練習：\n",
    "    - 透過GET取得Google play任一APP的網頁原始碼\n",
    "    - 轉換為`BeautifulSoup`物件\n",
    "    - 依照上述步驟找出規則並取得user評論的list\n",
    "    - 將list依序print出來"
   ]
  },
  {
   "cell_type": "markdown",
   "metadata": {},
   "source": [
    "### 若網頁中有表格，透過pandas套件輕鬆取得並轉換為DataFrame\n",
    "\n",
    "我們把網頁資訊讀入, pandas 會自己找出一個個表格!"
   ]
  },
  {
   "cell_type": "code",
   "execution_count": 51,
   "metadata": {
    "collapsed": true,
    "nbpresent": {
     "id": "62174254-34b7-4e15-b82a-ae732cd0b176"
    },
    "slideshow": {
     "slide_type": "-"
    }
   },
   "outputs": [],
   "source": [
    "import requests\n",
    "import pandas as pd\n",
    "payload = {\n",
    "    'Comments':'I love Python',\n",
    "    'hidden field':'R is nice also'\n",
    "}\n",
    "\n",
    "res_simple_post2 = requests.post('http://www.tipjar.com/cgi-bin/test', data = payload)\n",
    "dfs = pd.read_html(res_simple_post2.text)"
   ]
  },
  {
   "cell_type": "markdown",
   "metadata": {
    "nbpresent": {
     "id": "ab72d19b-ce68-41d4-b440-99f83a2713ec"
    }
   },
   "source": [
    "- If error about 'html5lib' not found\n",
    "    - https://anaconda.org/anaconda/html5lib"
   ]
  },
  {
   "cell_type": "code",
   "execution_count": 56,
   "metadata": {
    "nbpresent": {
     "id": "8109317f-390b-41be-be67-e645850b47bb"
    },
    "scrolled": true
   },
   "outputs": [
    {
     "data": {
      "text/html": [
       "<div>\n",
       "<style>\n",
       "    .dataframe thead tr:only-child th {\n",
       "        text-align: right;\n",
       "    }\n",
       "\n",
       "    .dataframe thead th {\n",
       "        text-align: left;\n",
       "    }\n",
       "\n",
       "    .dataframe tbody tr th {\n",
       "        vertical-align: top;\n",
       "    }\n",
       "</style>\n",
       "<table border=\"1\" class=\"dataframe\">\n",
       "  <thead>\n",
       "    <tr style=\"text-align: right;\">\n",
       "      <th></th>\n",
       "      <th>0</th>\n",
       "      <th>1</th>\n",
       "      <th>2</th>\n",
       "    </tr>\n",
       "  </thead>\n",
       "  <tbody>\n",
       "    <tr>\n",
       "      <th>0</th>\n",
       "      <td>KEY</td>\n",
       "      <td>VAL</td>\n",
       "      <td>DEPAQUED</td>\n",
       "    </tr>\n",
       "    <tr>\n",
       "      <th>1</th>\n",
       "      <td>Comments</td>\n",
       "      <td>I+love+Python</td>\n",
       "      <td>I love Python</td>\n",
       "    </tr>\n",
       "    <tr>\n",
       "      <th>2</th>\n",
       "      <td>hidden+field</td>\n",
       "      <td>R+is+nice+also</td>\n",
       "      <td>R is nice also</td>\n",
       "    </tr>\n",
       "  </tbody>\n",
       "</table>\n",
       "</div>"
      ],
      "text/plain": [
       "              0               1               2\n",
       "0           KEY             VAL        DEPAQUED\n",
       "1      Comments   I+love+Python   I love Python\n",
       "2  hidden+field  R+is+nice+also  R is nice also"
      ]
     },
     "execution_count": 56,
     "metadata": {},
     "output_type": "execute_result"
    }
   ],
   "source": [
    "dfs[0]"
   ]
  },
  {
   "cell_type": "markdown",
   "metadata": {},
   "source": [
    "<font size=6 style=\"text-shadow:0px 0px 15px #FF37FD;\">練習</font>\n",
    "- 將「mac-benchmarks」網頁原始碼parse出表格資料\n",
    "- 請依下列步驟練習：\n",
    "    - 以GET方法將網頁 https://browser.primatelabs.com/mac-benchmarks 原始碼讀入\n",
    "    - 依照上述步驟parse出表格資料\n",
    "    - 試著只取得其機型與分數欄位\n",
    "    - 以plot函數，繪製長條圖"
   ]
  },
  {
   "cell_type": "markdown",
   "metadata": {},
   "source": [
    "### 為何要加「;」，試試看不加。\n",
    "Suppress the output of a final function"
   ]
  },
  {
   "cell_type": "markdown",
   "metadata": {},
   "source": [
    "<font size=6 style=\"text-shadow:0px 0px 15px #FF37FD;\">練習</font>\n",
    "- 擷取並parse「批批踢JOKE版的一篇文章」\n",
    "- 請依下列步驟練習：\n",
    "    - 以GET方法將網頁 https://www.ptt.cc/bbs/joke/M.1464278893.A.2FE.html 原始碼讀入\n",
    "    - 依照上述步驟parse出推文內容及推文者\n",
    "    - 透過for迴圈，整齊印出"
   ]
  },
  {
   "cell_type": "markdown",
   "metadata": {},
   "source": [
    "# 探索式資料分析"
   ]
  },
  {
   "cell_type": "markdown",
   "metadata": {},
   "source": [
    "## 以NBA 2013-2014賽季的球員數據為例"
   ]
  },
  {
   "cell_type": "markdown",
   "metadata": {},
   "source": [
    "### 以pandas套件載入CSV資料"
   ]
  },
  {
   "cell_type": "code",
   "execution_count": 1,
   "metadata": {},
   "outputs": [
    {
     "name": "stdout",
     "output_type": "stream",
     "text": [
      "Populating the interactive namespace from numpy and matplotlib\n"
     ]
    }
   ],
   "source": [
    "import pandas as pd\n",
    "%pylab inline\n",
    "nba = pd.read_csv(\"_data/nba_2013.csv\")"
   ]
  },
  {
   "cell_type": "markdown",
   "metadata": {},
   "source": [
    "### 查看所有欄位名稱"
   ]
  },
  {
   "cell_type": "markdown",
   "metadata": {},
   "source": [
    "- 理解每個欄位代表的意義\n",
    "- 思考哪個欄位具有可預測性\n",
    "- 可能影響待預測欄位的欄位"
   ]
  },
  {
   "cell_type": "code",
   "execution_count": 181,
   "metadata": {
    "scrolled": true
   },
   "outputs": [
    {
     "data": {
      "text/plain": [
       "Index(['player', 'pos', 'age', 'bref_team_id', 'g', 'gs', 'mp', 'fg', 'fga',\n",
       "       'fg.', 'x3p', 'x3pa', 'x3p.', 'x2p', 'x2pa', 'x2p.', 'efg.', 'ft',\n",
       "       'fta', 'ft.', 'orb', 'drb', 'trb', 'ast', 'stl', 'blk', 'tov', 'pf',\n",
       "       'pts', 'season', 'season_end'],\n",
       "      dtype='object')"
      ]
     },
     "execution_count": 181,
     "metadata": {},
     "output_type": "execute_result"
    }
   ],
   "source": [
    "nba.columns"
   ]
  },
  {
   "cell_type": "markdown",
   "metadata": {},
   "source": [
    "### 常用NBA數據縮寫\n",
    "![](_img/nba-abb.png)"
   ]
  },
  {
   "cell_type": "markdown",
   "metadata": {},
   "source": [
    "- 大西洋組\n",
    "    - 波士頓塞爾蒂克\tBOS\tBoston Celtics\n",
    "    - 新澤西籃網\tNJ\tNew Jersey Nets\n",
    "    - 紐約尼克\tNY\tNew York Knicks\n",
    "    - 費城76人\tPHI\tPhiladelphia 76ers\n",
    "    - 多倫多暴龍\tTOR\tToronto Raptors\n",
    "- 中央組\n",
    "    - 芝加哥公牛\tCHI\tChicago Bulls\n",
    "    - 克里夫蘭騎士\tCLE\tCleveland Cavaliers\n",
    "    - 底特律活塞\tDET\tDetroit Pistons\n",
    "    - 印地安那溜馬\tIND\tIndiana Pacers\n",
    "    - 密爾瓦基公鹿\tMIL\tMilwaukee Bucks\n",
    "- 東南組\t\t\n",
    "    - 亞特蘭大老鷹\tATL\tAtlanta Hawks\n",
    "    - 夏洛特山貓\tCHA\tCharlotte Bobcats\n",
    "    - 邁阿密熱火\tMIA\tMiami Heat\n",
    "    - 奧蘭多魔術\tORL\tOrlando Magic\n",
    "    - 華盛頓巫師\tWAS\tWashington Wizards\t\n",
    "- 西南組\n",
    "    - 達拉斯小牛\tDAL\tDallas Mavericks\n",
    "    - 休士頓火箭\tHOU\tHouston Rockets\n",
    "    - 孟斐斯灰熊\tMEM\tMemphis Grizzlies\n",
    "    - 紐奧良黃蜂\tNO\tNew Orleans Hornets\n",
    "    - 聖安東尼奧馬刺\tSAS\tSan Antonio Spurs\n",
    "- 西北組\n",
    "    - 丹佛金塊\tDEN\tDenver Nuggets\n",
    "    - 明尼蘇達灰狼\tMIN\tMinnesota Timberwolves\n",
    "    - 波特蘭拓荒者\tPOR\tPortland Trail Blazers\n",
    "    - 西雅圖超音速\tSEA\tSeattle SuperSonics\n",
    "    - 猶他爵士\tUTA\tUtah Jazz\n",
    "- 太平洋組\n",
    "    - 金州勇士\tGS\tGolden State Warriors\n",
    "    - 洛杉磯快艇\tLAC\tLos Angeles Clippers\n",
    "    - 洛杉磯湖人\tLAL\tLos Angeles Lakers\n",
    "    - 鳳凰城太陽\tPHO\tPhoenix Suns\n",
    "    - 沙加緬度國王\tSAC\tSacramento Kings"
   ]
  },
  {
   "cell_type": "markdown",
   "metadata": {},
   "source": [
    "### 以DataFrame中的shape物件，列出球員數(row)及特徵數(col)"
   ]
  },
  {
   "cell_type": "code",
   "execution_count": 182,
   "metadata": {
    "scrolled": true
   },
   "outputs": [
    {
     "data": {
      "text/plain": [
       "(481, 31)"
      ]
     },
     "execution_count": 182,
     "metadata": {},
     "output_type": "execute_result"
    }
   ],
   "source": [
    "nba.shape"
   ]
  },
  {
   "cell_type": "markdown",
   "metadata": {},
   "source": [
    "### 列出前五筆(row)資料"
   ]
  },
  {
   "cell_type": "code",
   "execution_count": 183,
   "metadata": {
    "scrolled": false
   },
   "outputs": [
    {
     "data": {
      "text/html": [
       "<div>\n",
       "<style>\n",
       "    .dataframe thead tr:only-child th {\n",
       "        text-align: right;\n",
       "    }\n",
       "\n",
       "    .dataframe thead th {\n",
       "        text-align: left;\n",
       "    }\n",
       "\n",
       "    .dataframe tbody tr th {\n",
       "        vertical-align: top;\n",
       "    }\n",
       "</style>\n",
       "<table border=\"1\" class=\"dataframe\">\n",
       "  <thead>\n",
       "    <tr style=\"text-align: right;\">\n",
       "      <th></th>\n",
       "      <th>player</th>\n",
       "      <th>pos</th>\n",
       "      <th>age</th>\n",
       "      <th>bref_team_id</th>\n",
       "      <th>g</th>\n",
       "      <th>gs</th>\n",
       "      <th>mp</th>\n",
       "      <th>fg</th>\n",
       "      <th>fga</th>\n",
       "      <th>fg.</th>\n",
       "      <th>...</th>\n",
       "      <th>drb</th>\n",
       "      <th>trb</th>\n",
       "      <th>ast</th>\n",
       "      <th>stl</th>\n",
       "      <th>blk</th>\n",
       "      <th>tov</th>\n",
       "      <th>pf</th>\n",
       "      <th>pts</th>\n",
       "      <th>season</th>\n",
       "      <th>season_end</th>\n",
       "    </tr>\n",
       "  </thead>\n",
       "  <tbody>\n",
       "    <tr>\n",
       "      <th>0</th>\n",
       "      <td>Quincy Acy</td>\n",
       "      <td>SF</td>\n",
       "      <td>23</td>\n",
       "      <td>TOT</td>\n",
       "      <td>63</td>\n",
       "      <td>0</td>\n",
       "      <td>847</td>\n",
       "      <td>66</td>\n",
       "      <td>141</td>\n",
       "      <td>0.468</td>\n",
       "      <td>...</td>\n",
       "      <td>144</td>\n",
       "      <td>216</td>\n",
       "      <td>28</td>\n",
       "      <td>23</td>\n",
       "      <td>26</td>\n",
       "      <td>30</td>\n",
       "      <td>122</td>\n",
       "      <td>171</td>\n",
       "      <td>2013-2014</td>\n",
       "      <td>2013</td>\n",
       "    </tr>\n",
       "    <tr>\n",
       "      <th>1</th>\n",
       "      <td>Steven Adams</td>\n",
       "      <td>C</td>\n",
       "      <td>20</td>\n",
       "      <td>OKC</td>\n",
       "      <td>81</td>\n",
       "      <td>20</td>\n",
       "      <td>1197</td>\n",
       "      <td>93</td>\n",
       "      <td>185</td>\n",
       "      <td>0.503</td>\n",
       "      <td>...</td>\n",
       "      <td>190</td>\n",
       "      <td>332</td>\n",
       "      <td>43</td>\n",
       "      <td>40</td>\n",
       "      <td>57</td>\n",
       "      <td>71</td>\n",
       "      <td>203</td>\n",
       "      <td>265</td>\n",
       "      <td>2013-2014</td>\n",
       "      <td>2013</td>\n",
       "    </tr>\n",
       "    <tr>\n",
       "      <th>2</th>\n",
       "      <td>Jeff Adrien</td>\n",
       "      <td>PF</td>\n",
       "      <td>27</td>\n",
       "      <td>TOT</td>\n",
       "      <td>53</td>\n",
       "      <td>12</td>\n",
       "      <td>961</td>\n",
       "      <td>143</td>\n",
       "      <td>275</td>\n",
       "      <td>0.520</td>\n",
       "      <td>...</td>\n",
       "      <td>204</td>\n",
       "      <td>306</td>\n",
       "      <td>38</td>\n",
       "      <td>24</td>\n",
       "      <td>36</td>\n",
       "      <td>39</td>\n",
       "      <td>108</td>\n",
       "      <td>362</td>\n",
       "      <td>2013-2014</td>\n",
       "      <td>2013</td>\n",
       "    </tr>\n",
       "    <tr>\n",
       "      <th>3</th>\n",
       "      <td>Arron Afflalo</td>\n",
       "      <td>SG</td>\n",
       "      <td>28</td>\n",
       "      <td>ORL</td>\n",
       "      <td>73</td>\n",
       "      <td>73</td>\n",
       "      <td>2552</td>\n",
       "      <td>464</td>\n",
       "      <td>1011</td>\n",
       "      <td>0.459</td>\n",
       "      <td>...</td>\n",
       "      <td>230</td>\n",
       "      <td>262</td>\n",
       "      <td>248</td>\n",
       "      <td>35</td>\n",
       "      <td>3</td>\n",
       "      <td>146</td>\n",
       "      <td>136</td>\n",
       "      <td>1330</td>\n",
       "      <td>2013-2014</td>\n",
       "      <td>2013</td>\n",
       "    </tr>\n",
       "    <tr>\n",
       "      <th>4</th>\n",
       "      <td>Alexis Ajinca</td>\n",
       "      <td>C</td>\n",
       "      <td>25</td>\n",
       "      <td>NOP</td>\n",
       "      <td>56</td>\n",
       "      <td>30</td>\n",
       "      <td>951</td>\n",
       "      <td>136</td>\n",
       "      <td>249</td>\n",
       "      <td>0.546</td>\n",
       "      <td>...</td>\n",
       "      <td>183</td>\n",
       "      <td>277</td>\n",
       "      <td>40</td>\n",
       "      <td>23</td>\n",
       "      <td>46</td>\n",
       "      <td>63</td>\n",
       "      <td>187</td>\n",
       "      <td>328</td>\n",
       "      <td>2013-2014</td>\n",
       "      <td>2013</td>\n",
       "    </tr>\n",
       "  </tbody>\n",
       "</table>\n",
       "<p>5 rows × 31 columns</p>\n",
       "</div>"
      ],
      "text/plain": [
       "          player pos  age bref_team_id   g  gs    mp   fg   fga    fg.  \\\n",
       "0     Quincy Acy  SF   23          TOT  63   0   847   66   141  0.468   \n",
       "1   Steven Adams   C   20          OKC  81  20  1197   93   185  0.503   \n",
       "2    Jeff Adrien  PF   27          TOT  53  12   961  143   275  0.520   \n",
       "3  Arron Afflalo  SG   28          ORL  73  73  2552  464  1011  0.459   \n",
       "4  Alexis Ajinca   C   25          NOP  56  30   951  136   249  0.546   \n",
       "\n",
       "      ...      drb  trb  ast  stl  blk  tov   pf   pts     season  season_end  \n",
       "0     ...      144  216   28   23   26   30  122   171  2013-2014        2013  \n",
       "1     ...      190  332   43   40   57   71  203   265  2013-2014        2013  \n",
       "2     ...      204  306   38   24   36   39  108   362  2013-2014        2013  \n",
       "3     ...      230  262  248   35    3  146  136  1330  2013-2014        2013  \n",
       "4     ...      183  277   40   23   46   63  187   328  2013-2014        2013  \n",
       "\n",
       "[5 rows x 31 columns]"
      ]
     },
     "execution_count": 183,
     "metadata": {},
     "output_type": "execute_result"
    }
   ],
   "source": [
    "nba.head(5)"
   ]
  },
  {
   "cell_type": "markdown",
   "metadata": {},
   "source": [
    "- POS先發位置\n",
    "    - C即為中鋒，代表人物為歐肥\n",
    "    - PF是大前鋒，代表人物有鄧肯，賈奈特，韋伯，馬丁\n",
    "    - SF小前鋒，卡特，詹姆斯，史托傑維奇，路易斯\n",
    "    - SG得分後衛，KOBE，T-MAC，皮爾斯，理察森，艾倫 \n",
    "    - PG控球後衛，艾佛森，奈許，畢比，奇德"
   ]
  },
  {
   "cell_type": "markdown",
   "metadata": {},
   "source": [
    "- G: 出場\n",
    "- GS: 先發"
   ]
  },
  {
   "cell_type": "markdown",
   "metadata": {},
   "source": [
    "### 計算各特徵的平均值"
   ]
  },
  {
   "cell_type": "code",
   "execution_count": 184,
   "metadata": {
    "scrolled": false
   },
   "outputs": [
    {
     "data": {
      "text/plain": [
       "age             26.509356\n",
       "g               53.253638\n",
       "gs              25.571726\n",
       "mp            1237.386694\n",
       "fg             192.881497\n",
       "fga            424.463617\n",
       "fg.              0.436436\n",
       "x3p             39.613306\n",
       "x3pa           110.130977\n",
       "x3p.             0.285111\n",
       "x2p            153.268191\n",
       "x2pa           314.332640\n",
       "x2p.             0.466947\n",
       "efg.             0.480752\n",
       "ft              91.205821\n",
       "fta            120.642412\n",
       "ft.              0.722419\n",
       "orb             55.810811\n",
       "drb            162.817048\n",
       "trb            218.627859\n",
       "ast            112.536383\n",
       "stl             39.280665\n",
       "blk             24.103950\n",
       "tov             71.862786\n",
       "pf             105.869023\n",
       "pts            516.582121\n",
       "season_end    2013.000000\n",
       "dtype: float64"
      ]
     },
     "execution_count": 184,
     "metadata": {},
     "output_type": "execute_result"
    }
   ],
   "source": [
    "nba.mean()"
   ]
  },
  {
   "cell_type": "markdown",
   "metadata": {},
   "source": [
    "### 計算各欄位的敘述統計值\n",
    "- 並非每個欄位都是數值資料，pandas還是很聰明的只挑選了數值欄位\n",
    "- 警告出現是因為fg.及x3p.欄位中含有非數值資料，NaN\n",
    "    - 有些球員不只沒投過三分球，甚至沒投進過任何球"
   ]
  },
  {
   "cell_type": "code",
   "execution_count": 185,
   "metadata": {
    "scrolled": true
   },
   "outputs": [
    {
     "data": {
      "text/html": [
       "<div>\n",
       "<style>\n",
       "    .dataframe thead tr:only-child th {\n",
       "        text-align: right;\n",
       "    }\n",
       "\n",
       "    .dataframe thead th {\n",
       "        text-align: left;\n",
       "    }\n",
       "\n",
       "    .dataframe tbody tr th {\n",
       "        vertical-align: top;\n",
       "    }\n",
       "</style>\n",
       "<table border=\"1\" class=\"dataframe\">\n",
       "  <thead>\n",
       "    <tr style=\"text-align: right;\">\n",
       "      <th></th>\n",
       "      <th>age</th>\n",
       "      <th>g</th>\n",
       "      <th>gs</th>\n",
       "      <th>mp</th>\n",
       "      <th>fg</th>\n",
       "      <th>fga</th>\n",
       "      <th>fg.</th>\n",
       "      <th>x3p</th>\n",
       "      <th>x3pa</th>\n",
       "      <th>x3p.</th>\n",
       "      <th>...</th>\n",
       "      <th>orb</th>\n",
       "      <th>drb</th>\n",
       "      <th>trb</th>\n",
       "      <th>ast</th>\n",
       "      <th>stl</th>\n",
       "      <th>blk</th>\n",
       "      <th>tov</th>\n",
       "      <th>pf</th>\n",
       "      <th>pts</th>\n",
       "      <th>season_end</th>\n",
       "    </tr>\n",
       "  </thead>\n",
       "  <tbody>\n",
       "    <tr>\n",
       "      <th>count</th>\n",
       "      <td>481.000000</td>\n",
       "      <td>481.000000</td>\n",
       "      <td>481.000000</td>\n",
       "      <td>481.000000</td>\n",
       "      <td>481.000000</td>\n",
       "      <td>481.000000</td>\n",
       "      <td>479.000000</td>\n",
       "      <td>481.000000</td>\n",
       "      <td>481.000000</td>\n",
       "      <td>414.000000</td>\n",
       "      <td>...</td>\n",
       "      <td>481.000000</td>\n",
       "      <td>481.000000</td>\n",
       "      <td>481.000000</td>\n",
       "      <td>481.000000</td>\n",
       "      <td>481.000000</td>\n",
       "      <td>481.000000</td>\n",
       "      <td>481.000000</td>\n",
       "      <td>481.000000</td>\n",
       "      <td>481.000000</td>\n",
       "      <td>481.0</td>\n",
       "    </tr>\n",
       "    <tr>\n",
       "      <th>mean</th>\n",
       "      <td>26.509356</td>\n",
       "      <td>53.253638</td>\n",
       "      <td>25.571726</td>\n",
       "      <td>1237.386694</td>\n",
       "      <td>192.881497</td>\n",
       "      <td>424.463617</td>\n",
       "      <td>0.436436</td>\n",
       "      <td>39.613306</td>\n",
       "      <td>110.130977</td>\n",
       "      <td>0.285111</td>\n",
       "      <td>...</td>\n",
       "      <td>55.810811</td>\n",
       "      <td>162.817048</td>\n",
       "      <td>218.627859</td>\n",
       "      <td>112.536383</td>\n",
       "      <td>39.280665</td>\n",
       "      <td>24.103950</td>\n",
       "      <td>71.862786</td>\n",
       "      <td>105.869023</td>\n",
       "      <td>516.582121</td>\n",
       "      <td>2013.0</td>\n",
       "    </tr>\n",
       "    <tr>\n",
       "      <th>std</th>\n",
       "      <td>4.198265</td>\n",
       "      <td>25.322711</td>\n",
       "      <td>29.658465</td>\n",
       "      <td>897.258840</td>\n",
       "      <td>171.832793</td>\n",
       "      <td>368.850833</td>\n",
       "      <td>0.098672</td>\n",
       "      <td>50.855639</td>\n",
       "      <td>132.751732</td>\n",
       "      <td>0.157633</td>\n",
       "      <td>...</td>\n",
       "      <td>62.101191</td>\n",
       "      <td>145.348116</td>\n",
       "      <td>200.356507</td>\n",
       "      <td>131.019557</td>\n",
       "      <td>34.783590</td>\n",
       "      <td>30.875381</td>\n",
       "      <td>62.701690</td>\n",
       "      <td>71.213627</td>\n",
       "      <td>470.422228</td>\n",
       "      <td>0.0</td>\n",
       "    </tr>\n",
       "    <tr>\n",
       "      <th>min</th>\n",
       "      <td>19.000000</td>\n",
       "      <td>1.000000</td>\n",
       "      <td>0.000000</td>\n",
       "      <td>1.000000</td>\n",
       "      <td>0.000000</td>\n",
       "      <td>0.000000</td>\n",
       "      <td>0.000000</td>\n",
       "      <td>0.000000</td>\n",
       "      <td>0.000000</td>\n",
       "      <td>0.000000</td>\n",
       "      <td>...</td>\n",
       "      <td>0.000000</td>\n",
       "      <td>0.000000</td>\n",
       "      <td>0.000000</td>\n",
       "      <td>0.000000</td>\n",
       "      <td>0.000000</td>\n",
       "      <td>0.000000</td>\n",
       "      <td>0.000000</td>\n",
       "      <td>0.000000</td>\n",
       "      <td>0.000000</td>\n",
       "      <td>2013.0</td>\n",
       "    </tr>\n",
       "    <tr>\n",
       "      <th>25%</th>\n",
       "      <td>23.000000</td>\n",
       "      <td>32.000000</td>\n",
       "      <td>0.000000</td>\n",
       "      <td>388.000000</td>\n",
       "      <td>47.000000</td>\n",
       "      <td>110.000000</td>\n",
       "      <td>0.400500</td>\n",
       "      <td>0.000000</td>\n",
       "      <td>3.000000</td>\n",
       "      <td>0.234355</td>\n",
       "      <td>...</td>\n",
       "      <td>12.000000</td>\n",
       "      <td>43.000000</td>\n",
       "      <td>55.000000</td>\n",
       "      <td>20.000000</td>\n",
       "      <td>9.000000</td>\n",
       "      <td>4.000000</td>\n",
       "      <td>21.000000</td>\n",
       "      <td>44.000000</td>\n",
       "      <td>115.000000</td>\n",
       "      <td>2013.0</td>\n",
       "    </tr>\n",
       "    <tr>\n",
       "      <th>50%</th>\n",
       "      <td>26.000000</td>\n",
       "      <td>61.000000</td>\n",
       "      <td>10.000000</td>\n",
       "      <td>1141.000000</td>\n",
       "      <td>146.000000</td>\n",
       "      <td>332.000000</td>\n",
       "      <td>0.438000</td>\n",
       "      <td>16.000000</td>\n",
       "      <td>48.000000</td>\n",
       "      <td>0.330976</td>\n",
       "      <td>...</td>\n",
       "      <td>35.000000</td>\n",
       "      <td>135.000000</td>\n",
       "      <td>168.000000</td>\n",
       "      <td>65.000000</td>\n",
       "      <td>32.000000</td>\n",
       "      <td>14.000000</td>\n",
       "      <td>58.000000</td>\n",
       "      <td>104.000000</td>\n",
       "      <td>401.000000</td>\n",
       "      <td>2013.0</td>\n",
       "    </tr>\n",
       "    <tr>\n",
       "      <th>75%</th>\n",
       "      <td>29.000000</td>\n",
       "      <td>76.000000</td>\n",
       "      <td>54.000000</td>\n",
       "      <td>2016.000000</td>\n",
       "      <td>307.000000</td>\n",
       "      <td>672.000000</td>\n",
       "      <td>0.479500</td>\n",
       "      <td>68.000000</td>\n",
       "      <td>193.000000</td>\n",
       "      <td>0.375000</td>\n",
       "      <td>...</td>\n",
       "      <td>73.000000</td>\n",
       "      <td>230.000000</td>\n",
       "      <td>310.000000</td>\n",
       "      <td>152.000000</td>\n",
       "      <td>60.000000</td>\n",
       "      <td>32.000000</td>\n",
       "      <td>108.000000</td>\n",
       "      <td>158.000000</td>\n",
       "      <td>821.000000</td>\n",
       "      <td>2013.0</td>\n",
       "    </tr>\n",
       "    <tr>\n",
       "      <th>max</th>\n",
       "      <td>39.000000</td>\n",
       "      <td>83.000000</td>\n",
       "      <td>82.000000</td>\n",
       "      <td>3122.000000</td>\n",
       "      <td>849.000000</td>\n",
       "      <td>1688.000000</td>\n",
       "      <td>1.000000</td>\n",
       "      <td>261.000000</td>\n",
       "      <td>615.000000</td>\n",
       "      <td>1.000000</td>\n",
       "      <td>...</td>\n",
       "      <td>440.000000</td>\n",
       "      <td>783.000000</td>\n",
       "      <td>1114.000000</td>\n",
       "      <td>721.000000</td>\n",
       "      <td>191.000000</td>\n",
       "      <td>219.000000</td>\n",
       "      <td>295.000000</td>\n",
       "      <td>273.000000</td>\n",
       "      <td>2593.000000</td>\n",
       "      <td>2013.0</td>\n",
       "    </tr>\n",
       "  </tbody>\n",
       "</table>\n",
       "<p>8 rows × 27 columns</p>\n",
       "</div>"
      ],
      "text/plain": [
       "              age           g          gs           mp          fg  \\\n",
       "count  481.000000  481.000000  481.000000   481.000000  481.000000   \n",
       "mean    26.509356   53.253638   25.571726  1237.386694  192.881497   \n",
       "std      4.198265   25.322711   29.658465   897.258840  171.832793   \n",
       "min     19.000000    1.000000    0.000000     1.000000    0.000000   \n",
       "25%     23.000000   32.000000    0.000000   388.000000   47.000000   \n",
       "50%     26.000000   61.000000   10.000000  1141.000000  146.000000   \n",
       "75%     29.000000   76.000000   54.000000  2016.000000  307.000000   \n",
       "max     39.000000   83.000000   82.000000  3122.000000  849.000000   \n",
       "\n",
       "               fga         fg.         x3p        x3pa        x3p.  \\\n",
       "count   481.000000  479.000000  481.000000  481.000000  414.000000   \n",
       "mean    424.463617    0.436436   39.613306  110.130977    0.285111   \n",
       "std     368.850833    0.098672   50.855639  132.751732    0.157633   \n",
       "min       0.000000    0.000000    0.000000    0.000000    0.000000   \n",
       "25%     110.000000    0.400500    0.000000    3.000000    0.234355   \n",
       "50%     332.000000    0.438000   16.000000   48.000000    0.330976   \n",
       "75%     672.000000    0.479500   68.000000  193.000000    0.375000   \n",
       "max    1688.000000    1.000000  261.000000  615.000000    1.000000   \n",
       "\n",
       "          ...             orb         drb          trb         ast  \\\n",
       "count     ...      481.000000  481.000000   481.000000  481.000000   \n",
       "mean      ...       55.810811  162.817048   218.627859  112.536383   \n",
       "std       ...       62.101191  145.348116   200.356507  131.019557   \n",
       "min       ...        0.000000    0.000000     0.000000    0.000000   \n",
       "25%       ...       12.000000   43.000000    55.000000   20.000000   \n",
       "50%       ...       35.000000  135.000000   168.000000   65.000000   \n",
       "75%       ...       73.000000  230.000000   310.000000  152.000000   \n",
       "max       ...      440.000000  783.000000  1114.000000  721.000000   \n",
       "\n",
       "              stl         blk         tov          pf          pts  season_end  \n",
       "count  481.000000  481.000000  481.000000  481.000000   481.000000       481.0  \n",
       "mean    39.280665   24.103950   71.862786  105.869023   516.582121      2013.0  \n",
       "std     34.783590   30.875381   62.701690   71.213627   470.422228         0.0  \n",
       "min      0.000000    0.000000    0.000000    0.000000     0.000000      2013.0  \n",
       "25%      9.000000    4.000000   21.000000   44.000000   115.000000      2013.0  \n",
       "50%     32.000000   14.000000   58.000000  104.000000   401.000000      2013.0  \n",
       "75%     60.000000   32.000000  108.000000  158.000000   821.000000      2013.0  \n",
       "max    191.000000  219.000000  295.000000  273.000000  2593.000000      2013.0  \n",
       "\n",
       "[8 rows x 27 columns]"
      ]
     },
     "execution_count": 185,
     "metadata": {},
     "output_type": "execute_result"
    }
   ],
   "source": [
    "nba.describe()"
   ]
  },
  {
   "cell_type": "code",
   "execution_count": 186,
   "metadata": {
    "scrolled": true
   },
   "outputs": [
    {
     "data": {
      "text/html": [
       "<div>\n",
       "<style>\n",
       "    .dataframe thead tr:only-child th {\n",
       "        text-align: right;\n",
       "    }\n",
       "\n",
       "    .dataframe thead th {\n",
       "        text-align: left;\n",
       "    }\n",
       "\n",
       "    .dataframe tbody tr th {\n",
       "        vertical-align: top;\n",
       "    }\n",
       "</style>\n",
       "<table border=\"1\" class=\"dataframe\">\n",
       "  <thead>\n",
       "    <tr style=\"text-align: right;\">\n",
       "      <th></th>\n",
       "      <th>player</th>\n",
       "      <th>pos</th>\n",
       "      <th>age</th>\n",
       "      <th>bref_team_id</th>\n",
       "      <th>g</th>\n",
       "      <th>gs</th>\n",
       "      <th>mp</th>\n",
       "      <th>fg</th>\n",
       "      <th>fga</th>\n",
       "      <th>fg.</th>\n",
       "      <th>...</th>\n",
       "      <th>drb</th>\n",
       "      <th>trb</th>\n",
       "      <th>ast</th>\n",
       "      <th>stl</th>\n",
       "      <th>blk</th>\n",
       "      <th>tov</th>\n",
       "      <th>pf</th>\n",
       "      <th>pts</th>\n",
       "      <th>season</th>\n",
       "      <th>season_end</th>\n",
       "    </tr>\n",
       "  </thead>\n",
       "  <tbody>\n",
       "    <tr>\n",
       "      <th>16</th>\n",
       "      <td>Giannis Antetokounmpo</td>\n",
       "      <td>SF</td>\n",
       "      <td>19</td>\n",
       "      <td>MIL</td>\n",
       "      <td>77</td>\n",
       "      <td>23</td>\n",
       "      <td>1897</td>\n",
       "      <td>173</td>\n",
       "      <td>418</td>\n",
       "      <td>0.414</td>\n",
       "      <td>...</td>\n",
       "      <td>261</td>\n",
       "      <td>339</td>\n",
       "      <td>150</td>\n",
       "      <td>60</td>\n",
       "      <td>61</td>\n",
       "      <td>122</td>\n",
       "      <td>173</td>\n",
       "      <td>525</td>\n",
       "      <td>2013-2014</td>\n",
       "      <td>2013</td>\n",
       "    </tr>\n",
       "    <tr>\n",
       "      <th>168</th>\n",
       "      <td>Archie Goodwin</td>\n",
       "      <td>SG</td>\n",
       "      <td>19</td>\n",
       "      <td>PHO</td>\n",
       "      <td>52</td>\n",
       "      <td>0</td>\n",
       "      <td>533</td>\n",
       "      <td>76</td>\n",
       "      <td>167</td>\n",
       "      <td>0.455</td>\n",
       "      <td>...</td>\n",
       "      <td>62</td>\n",
       "      <td>87</td>\n",
       "      <td>20</td>\n",
       "      <td>20</td>\n",
       "      <td>11</td>\n",
       "      <td>44</td>\n",
       "      <td>45</td>\n",
       "      <td>194</td>\n",
       "      <td>2013-2014</td>\n",
       "      <td>2013</td>\n",
       "    </tr>\n",
       "    <tr>\n",
       "      <th>355</th>\n",
       "      <td>Otto Porter</td>\n",
       "      <td>SF</td>\n",
       "      <td>20</td>\n",
       "      <td>WAS</td>\n",
       "      <td>37</td>\n",
       "      <td>0</td>\n",
       "      <td>319</td>\n",
       "      <td>33</td>\n",
       "      <td>91</td>\n",
       "      <td>0.363</td>\n",
       "      <td>...</td>\n",
       "      <td>36</td>\n",
       "      <td>57</td>\n",
       "      <td>10</td>\n",
       "      <td>8</td>\n",
       "      <td>1</td>\n",
       "      <td>14</td>\n",
       "      <td>26</td>\n",
       "      <td>78</td>\n",
       "      <td>2013-2014</td>\n",
       "      <td>2013</td>\n",
       "    </tr>\n",
       "    <tr>\n",
       "      <th>115</th>\n",
       "      <td>Anthony Davis</td>\n",
       "      <td>C</td>\n",
       "      <td>20</td>\n",
       "      <td>NOP</td>\n",
       "      <td>67</td>\n",
       "      <td>66</td>\n",
       "      <td>2358</td>\n",
       "      <td>522</td>\n",
       "      <td>1005</td>\n",
       "      <td>0.519</td>\n",
       "      <td>...</td>\n",
       "      <td>466</td>\n",
       "      <td>673</td>\n",
       "      <td>105</td>\n",
       "      <td>89</td>\n",
       "      <td>189</td>\n",
       "      <td>109</td>\n",
       "      <td>200</td>\n",
       "      <td>1394</td>\n",
       "      <td>2013-2014</td>\n",
       "      <td>2013</td>\n",
       "    </tr>\n",
       "    <tr>\n",
       "      <th>422</th>\n",
       "      <td>Adonis Thomas</td>\n",
       "      <td>SF</td>\n",
       "      <td>20</td>\n",
       "      <td>TOT</td>\n",
       "      <td>6</td>\n",
       "      <td>1</td>\n",
       "      <td>37</td>\n",
       "      <td>6</td>\n",
       "      <td>14</td>\n",
       "      <td>0.429</td>\n",
       "      <td>...</td>\n",
       "      <td>3</td>\n",
       "      <td>3</td>\n",
       "      <td>3</td>\n",
       "      <td>0</td>\n",
       "      <td>0</td>\n",
       "      <td>1</td>\n",
       "      <td>6</td>\n",
       "      <td>14</td>\n",
       "      <td>2013-2014</td>\n",
       "      <td>2013</td>\n",
       "    </tr>\n",
       "  </tbody>\n",
       "</table>\n",
       "<p>5 rows × 31 columns</p>\n",
       "</div>"
      ],
      "text/plain": [
       "                    player pos  age bref_team_id   g  gs    mp   fg   fga  \\\n",
       "16   Giannis Antetokounmpo  SF   19          MIL  77  23  1897  173   418   \n",
       "168         Archie Goodwin  SG   19          PHO  52   0   533   76   167   \n",
       "355            Otto Porter  SF   20          WAS  37   0   319   33    91   \n",
       "115          Anthony Davis   C   20          NOP  67  66  2358  522  1005   \n",
       "422          Adonis Thomas  SF   20          TOT   6   1    37    6    14   \n",
       "\n",
       "       fg.     ...      drb  trb  ast  stl  blk  tov   pf   pts     season  \\\n",
       "16   0.414     ...      261  339  150   60   61  122  173   525  2013-2014   \n",
       "168  0.455     ...       62   87   20   20   11   44   45   194  2013-2014   \n",
       "355  0.363     ...       36   57   10    8    1   14   26    78  2013-2014   \n",
       "115  0.519     ...      466  673  105   89  189  109  200  1394  2013-2014   \n",
       "422  0.429     ...        3    3    3    0    0    1    6    14  2013-2014   \n",
       "\n",
       "     season_end  \n",
       "16         2013  \n",
       "168        2013  \n",
       "355        2013  \n",
       "115        2013  \n",
       "422        2013  \n",
       "\n",
       "[5 rows x 31 columns]"
      ]
     },
     "execution_count": 186,
     "metadata": {},
     "output_type": "execute_result"
    }
   ],
   "source": [
    "nba.sort_values(\"age\").head()"
   ]
  },
  {
   "cell_type": "code",
   "execution_count": 187,
   "metadata": {
    "scrolled": true
   },
   "outputs": [
    {
     "data": {
      "text/html": [
       "<div>\n",
       "<style>\n",
       "    .dataframe thead tr:only-child th {\n",
       "        text-align: right;\n",
       "    }\n",
       "\n",
       "    .dataframe thead th {\n",
       "        text-align: left;\n",
       "    }\n",
       "\n",
       "    .dataframe tbody tr th {\n",
       "        vertical-align: top;\n",
       "    }\n",
       "</style>\n",
       "<table border=\"1\" class=\"dataframe\">\n",
       "  <thead>\n",
       "    <tr style=\"text-align: right;\">\n",
       "      <th></th>\n",
       "      <th>player</th>\n",
       "      <th>pos</th>\n",
       "      <th>age</th>\n",
       "      <th>bref_team_id</th>\n",
       "      <th>g</th>\n",
       "      <th>gs</th>\n",
       "      <th>mp</th>\n",
       "      <th>fg</th>\n",
       "      <th>fga</th>\n",
       "      <th>fg.</th>\n",
       "      <th>...</th>\n",
       "      <th>drb</th>\n",
       "      <th>trb</th>\n",
       "      <th>ast</th>\n",
       "      <th>stl</th>\n",
       "      <th>blk</th>\n",
       "      <th>tov</th>\n",
       "      <th>pf</th>\n",
       "      <th>pts</th>\n",
       "      <th>season</th>\n",
       "      <th>season_end</th>\n",
       "    </tr>\n",
       "  </thead>\n",
       "  <tbody>\n",
       "    <tr>\n",
       "      <th>325</th>\n",
       "      <td>Steve Nash</td>\n",
       "      <td>PG</td>\n",
       "      <td>39</td>\n",
       "      <td>LAL</td>\n",
       "      <td>15</td>\n",
       "      <td>10</td>\n",
       "      <td>313</td>\n",
       "      <td>36</td>\n",
       "      <td>94</td>\n",
       "      <td>0.383</td>\n",
       "      <td>...</td>\n",
       "      <td>25</td>\n",
       "      <td>29</td>\n",
       "      <td>86</td>\n",
       "      <td>7</td>\n",
       "      <td>2</td>\n",
       "      <td>31</td>\n",
       "      <td>18</td>\n",
       "      <td>102</td>\n",
       "      <td>2013-2014</td>\n",
       "      <td>2013</td>\n",
       "    </tr>\n",
       "    <tr>\n",
       "      <th>148</th>\n",
       "      <td>Derek Fisher</td>\n",
       "      <td>SG</td>\n",
       "      <td>39</td>\n",
       "      <td>OKC</td>\n",
       "      <td>81</td>\n",
       "      <td>0</td>\n",
       "      <td>1428</td>\n",
       "      <td>141</td>\n",
       "      <td>361</td>\n",
       "      <td>0.391</td>\n",
       "      <td>...</td>\n",
       "      <td>110</td>\n",
       "      <td>122</td>\n",
       "      <td>117</td>\n",
       "      <td>70</td>\n",
       "      <td>3</td>\n",
       "      <td>49</td>\n",
       "      <td>157</td>\n",
       "      <td>425</td>\n",
       "      <td>2013-2014</td>\n",
       "      <td>2013</td>\n",
       "    </tr>\n",
       "    <tr>\n",
       "      <th>8</th>\n",
       "      <td>Ray Allen</td>\n",
       "      <td>SG</td>\n",
       "      <td>38</td>\n",
       "      <td>MIA</td>\n",
       "      <td>73</td>\n",
       "      <td>9</td>\n",
       "      <td>1936</td>\n",
       "      <td>240</td>\n",
       "      <td>543</td>\n",
       "      <td>0.442</td>\n",
       "      <td>...</td>\n",
       "      <td>182</td>\n",
       "      <td>205</td>\n",
       "      <td>143</td>\n",
       "      <td>54</td>\n",
       "      <td>8</td>\n",
       "      <td>84</td>\n",
       "      <td>115</td>\n",
       "      <td>701</td>\n",
       "      <td>2013-2014</td>\n",
       "      <td>2013</td>\n",
       "    </tr>\n",
       "    <tr>\n",
       "      <th>226</th>\n",
       "      <td>Mike James</td>\n",
       "      <td>PG</td>\n",
       "      <td>38</td>\n",
       "      <td>CHI</td>\n",
       "      <td>11</td>\n",
       "      <td>0</td>\n",
       "      <td>77</td>\n",
       "      <td>5</td>\n",
       "      <td>21</td>\n",
       "      <td>0.238</td>\n",
       "      <td>...</td>\n",
       "      <td>7</td>\n",
       "      <td>7</td>\n",
       "      <td>17</td>\n",
       "      <td>2</td>\n",
       "      <td>0</td>\n",
       "      <td>5</td>\n",
       "      <td>11</td>\n",
       "      <td>11</td>\n",
       "      <td>2013-2014</td>\n",
       "      <td>2013</td>\n",
       "    </tr>\n",
       "    <tr>\n",
       "      <th>131</th>\n",
       "      <td>Tim Duncan</td>\n",
       "      <td>C</td>\n",
       "      <td>37</td>\n",
       "      <td>SAS</td>\n",
       "      <td>74</td>\n",
       "      <td>74</td>\n",
       "      <td>2158</td>\n",
       "      <td>444</td>\n",
       "      <td>906</td>\n",
       "      <td>0.490</td>\n",
       "      <td>...</td>\n",
       "      <td>563</td>\n",
       "      <td>721</td>\n",
       "      <td>220</td>\n",
       "      <td>43</td>\n",
       "      <td>139</td>\n",
       "      <td>159</td>\n",
       "      <td>134</td>\n",
       "      <td>1119</td>\n",
       "      <td>2013-2014</td>\n",
       "      <td>2013</td>\n",
       "    </tr>\n",
       "  </tbody>\n",
       "</table>\n",
       "<p>5 rows × 31 columns</p>\n",
       "</div>"
      ],
      "text/plain": [
       "           player pos  age bref_team_id   g  gs    mp   fg  fga    fg.  \\\n",
       "325    Steve Nash  PG   39          LAL  15  10   313   36   94  0.383   \n",
       "148  Derek Fisher  SG   39          OKC  81   0  1428  141  361  0.391   \n",
       "8       Ray Allen  SG   38          MIA  73   9  1936  240  543  0.442   \n",
       "226    Mike James  PG   38          CHI  11   0    77    5   21  0.238   \n",
       "131    Tim Duncan   C   37          SAS  74  74  2158  444  906  0.490   \n",
       "\n",
       "        ...      drb  trb  ast  stl  blk  tov   pf   pts     season  \\\n",
       "325     ...       25   29   86    7    2   31   18   102  2013-2014   \n",
       "148     ...      110  122  117   70    3   49  157   425  2013-2014   \n",
       "8       ...      182  205  143   54    8   84  115   701  2013-2014   \n",
       "226     ...        7    7   17    2    0    5   11    11  2013-2014   \n",
       "131     ...      563  721  220   43  139  159  134  1119  2013-2014   \n",
       "\n",
       "     season_end  \n",
       "325        2013  \n",
       "148        2013  \n",
       "8          2013  \n",
       "226        2013  \n",
       "131        2013  \n",
       "\n",
       "[5 rows x 31 columns]"
      ]
     },
     "execution_count": 187,
     "metadata": {},
     "output_type": "execute_result"
    }
   ],
   "source": [
    "nba.sort_values(\"age\",ascending=False).head()"
   ]
  },
  {
   "cell_type": "code",
   "execution_count": 188,
   "metadata": {
    "scrolled": true
   },
   "outputs": [
    {
     "data": {
      "text/html": [
       "<div>\n",
       "<style>\n",
       "    .dataframe thead tr:only-child th {\n",
       "        text-align: right;\n",
       "    }\n",
       "\n",
       "    .dataframe thead th {\n",
       "        text-align: left;\n",
       "    }\n",
       "\n",
       "    .dataframe tbody tr th {\n",
       "        vertical-align: top;\n",
       "    }\n",
       "</style>\n",
       "<table border=\"1\" class=\"dataframe\">\n",
       "  <thead>\n",
       "    <tr style=\"text-align: right;\">\n",
       "      <th></th>\n",
       "      <th>player</th>\n",
       "      <th>pos</th>\n",
       "      <th>age</th>\n",
       "      <th>bref_team_id</th>\n",
       "      <th>g</th>\n",
       "      <th>gs</th>\n",
       "      <th>mp</th>\n",
       "      <th>fg</th>\n",
       "      <th>fga</th>\n",
       "      <th>fg.</th>\n",
       "      <th>...</th>\n",
       "      <th>drb</th>\n",
       "      <th>trb</th>\n",
       "      <th>ast</th>\n",
       "      <th>stl</th>\n",
       "      <th>blk</th>\n",
       "      <th>tov</th>\n",
       "      <th>pf</th>\n",
       "      <th>pts</th>\n",
       "      <th>season</th>\n",
       "      <th>season_end</th>\n",
       "    </tr>\n",
       "  </thead>\n",
       "  <tbody>\n",
       "    <tr>\n",
       "      <th>133</th>\n",
       "      <td>Kevin Durant</td>\n",
       "      <td>SF</td>\n",
       "      <td>25</td>\n",
       "      <td>OKC</td>\n",
       "      <td>81</td>\n",
       "      <td>81</td>\n",
       "      <td>3122</td>\n",
       "      <td>849</td>\n",
       "      <td>1688</td>\n",
       "      <td>0.503</td>\n",
       "      <td>...</td>\n",
       "      <td>540</td>\n",
       "      <td>598</td>\n",
       "      <td>445</td>\n",
       "      <td>103</td>\n",
       "      <td>59</td>\n",
       "      <td>285</td>\n",
       "      <td>174</td>\n",
       "      <td>2593</td>\n",
       "      <td>2013-2014</td>\n",
       "      <td>2013</td>\n",
       "    </tr>\n",
       "    <tr>\n",
       "      <th>225</th>\n",
       "      <td>LeBron James</td>\n",
       "      <td>PF</td>\n",
       "      <td>29</td>\n",
       "      <td>MIA</td>\n",
       "      <td>77</td>\n",
       "      <td>77</td>\n",
       "      <td>2902</td>\n",
       "      <td>767</td>\n",
       "      <td>1353</td>\n",
       "      <td>0.567</td>\n",
       "      <td>...</td>\n",
       "      <td>452</td>\n",
       "      <td>533</td>\n",
       "      <td>488</td>\n",
       "      <td>121</td>\n",
       "      <td>26</td>\n",
       "      <td>270</td>\n",
       "      <td>126</td>\n",
       "      <td>2089</td>\n",
       "      <td>2013-2014</td>\n",
       "      <td>2013</td>\n",
       "    </tr>\n",
       "    <tr>\n",
       "      <th>17</th>\n",
       "      <td>Carmelo Anthony</td>\n",
       "      <td>PF</td>\n",
       "      <td>29</td>\n",
       "      <td>NYK</td>\n",
       "      <td>77</td>\n",
       "      <td>77</td>\n",
       "      <td>2982</td>\n",
       "      <td>743</td>\n",
       "      <td>1643</td>\n",
       "      <td>0.452</td>\n",
       "      <td>...</td>\n",
       "      <td>477</td>\n",
       "      <td>622</td>\n",
       "      <td>242</td>\n",
       "      <td>95</td>\n",
       "      <td>51</td>\n",
       "      <td>198</td>\n",
       "      <td>224</td>\n",
       "      <td>2112</td>\n",
       "      <td>2013-2014</td>\n",
       "      <td>2013</td>\n",
       "    </tr>\n",
       "    <tr>\n",
       "      <th>179</th>\n",
       "      <td>Blake Griffin</td>\n",
       "      <td>PF</td>\n",
       "      <td>24</td>\n",
       "      <td>LAC</td>\n",
       "      <td>80</td>\n",
       "      <td>80</td>\n",
       "      <td>2863</td>\n",
       "      <td>718</td>\n",
       "      <td>1359</td>\n",
       "      <td>0.528</td>\n",
       "      <td>...</td>\n",
       "      <td>565</td>\n",
       "      <td>757</td>\n",
       "      <td>309</td>\n",
       "      <td>92</td>\n",
       "      <td>51</td>\n",
       "      <td>224</td>\n",
       "      <td>265</td>\n",
       "      <td>1930</td>\n",
       "      <td>2013-2014</td>\n",
       "      <td>2013</td>\n",
       "    </tr>\n",
       "    <tr>\n",
       "      <th>229</th>\n",
       "      <td>Al Jefferson</td>\n",
       "      <td>C</td>\n",
       "      <td>29</td>\n",
       "      <td>CHA</td>\n",
       "      <td>73</td>\n",
       "      <td>73</td>\n",
       "      <td>2553</td>\n",
       "      <td>700</td>\n",
       "      <td>1376</td>\n",
       "      <td>0.509</td>\n",
       "      <td>...</td>\n",
       "      <td>636</td>\n",
       "      <td>792</td>\n",
       "      <td>155</td>\n",
       "      <td>67</td>\n",
       "      <td>79</td>\n",
       "      <td>124</td>\n",
       "      <td>176</td>\n",
       "      <td>1594</td>\n",
       "      <td>2013-2014</td>\n",
       "      <td>2013</td>\n",
       "    </tr>\n",
       "  </tbody>\n",
       "</table>\n",
       "<p>5 rows × 31 columns</p>\n",
       "</div>"
      ],
      "text/plain": [
       "              player pos  age bref_team_id   g  gs    mp   fg   fga    fg.  \\\n",
       "133     Kevin Durant  SF   25          OKC  81  81  3122  849  1688  0.503   \n",
       "225     LeBron James  PF   29          MIA  77  77  2902  767  1353  0.567   \n",
       "17   Carmelo Anthony  PF   29          NYK  77  77  2982  743  1643  0.452   \n",
       "179    Blake Griffin  PF   24          LAC  80  80  2863  718  1359  0.528   \n",
       "229     Al Jefferson   C   29          CHA  73  73  2553  700  1376  0.509   \n",
       "\n",
       "        ...      drb  trb  ast  stl  blk  tov   pf   pts     season  \\\n",
       "133     ...      540  598  445  103   59  285  174  2593  2013-2014   \n",
       "225     ...      452  533  488  121   26  270  126  2089  2013-2014   \n",
       "17      ...      477  622  242   95   51  198  224  2112  2013-2014   \n",
       "179     ...      565  757  309   92   51  224  265  1930  2013-2014   \n",
       "229     ...      636  792  155   67   79  124  176  1594  2013-2014   \n",
       "\n",
       "     season_end  \n",
       "133        2013  \n",
       "225        2013  \n",
       "17         2013  \n",
       "179        2013  \n",
       "229        2013  \n",
       "\n",
       "[5 rows x 31 columns]"
      ]
     },
     "execution_count": 188,
     "metadata": {},
     "output_type": "execute_result"
    }
   ],
   "source": [
    "nba.sort_values(\"fg\",ascending=False).head()"
   ]
  },
  {
   "cell_type": "code",
   "execution_count": 189,
   "metadata": {},
   "outputs": [
    {
     "data": {
      "text/html": [
       "<div>\n",
       "<style>\n",
       "    .dataframe thead tr:only-child th {\n",
       "        text-align: right;\n",
       "    }\n",
       "\n",
       "    .dataframe thead th {\n",
       "        text-align: left;\n",
       "    }\n",
       "\n",
       "    .dataframe tbody tr th {\n",
       "        vertical-align: top;\n",
       "    }\n",
       "</style>\n",
       "<table border=\"1\" class=\"dataframe\">\n",
       "  <thead>\n",
       "    <tr style=\"text-align: right;\">\n",
       "      <th></th>\n",
       "      <th>player</th>\n",
       "      <th>pos</th>\n",
       "      <th>age</th>\n",
       "      <th>bref_team_id</th>\n",
       "      <th>g</th>\n",
       "      <th>gs</th>\n",
       "      <th>mp</th>\n",
       "      <th>fg</th>\n",
       "      <th>fga</th>\n",
       "      <th>fg.</th>\n",
       "      <th>...</th>\n",
       "      <th>drb</th>\n",
       "      <th>trb</th>\n",
       "      <th>ast</th>\n",
       "      <th>stl</th>\n",
       "      <th>blk</th>\n",
       "      <th>tov</th>\n",
       "      <th>pf</th>\n",
       "      <th>pts</th>\n",
       "      <th>season</th>\n",
       "      <th>season_end</th>\n",
       "    </tr>\n",
       "  </thead>\n",
       "  <tbody>\n",
       "    <tr>\n",
       "      <th>46</th>\n",
       "      <td>Andris Biedrins</td>\n",
       "      <td>C</td>\n",
       "      <td>27</td>\n",
       "      <td>UTA</td>\n",
       "      <td>6</td>\n",
       "      <td>0</td>\n",
       "      <td>45</td>\n",
       "      <td>1</td>\n",
       "      <td>1</td>\n",
       "      <td>1.000</td>\n",
       "      <td>...</td>\n",
       "      <td>15</td>\n",
       "      <td>17</td>\n",
       "      <td>0</td>\n",
       "      <td>0</td>\n",
       "      <td>0</td>\n",
       "      <td>2</td>\n",
       "      <td>6</td>\n",
       "      <td>3</td>\n",
       "      <td>2013-2014</td>\n",
       "      <td>2013</td>\n",
       "    </tr>\n",
       "    <tr>\n",
       "      <th>271</th>\n",
       "      <td>DeAndre Liggins</td>\n",
       "      <td>SG</td>\n",
       "      <td>25</td>\n",
       "      <td>MIA</td>\n",
       "      <td>1</td>\n",
       "      <td>0</td>\n",
       "      <td>1</td>\n",
       "      <td>1</td>\n",
       "      <td>1</td>\n",
       "      <td>1.000</td>\n",
       "      <td>...</td>\n",
       "      <td>0</td>\n",
       "      <td>1</td>\n",
       "      <td>0</td>\n",
       "      <td>0</td>\n",
       "      <td>0</td>\n",
       "      <td>0</td>\n",
       "      <td>0</td>\n",
       "      <td>2</td>\n",
       "      <td>2013-2014</td>\n",
       "      <td>2013</td>\n",
       "    </tr>\n",
       "    <tr>\n",
       "      <th>209</th>\n",
       "      <td>Ryan Hollins</td>\n",
       "      <td>PF</td>\n",
       "      <td>29</td>\n",
       "      <td>LAC</td>\n",
       "      <td>61</td>\n",
       "      <td>0</td>\n",
       "      <td>482</td>\n",
       "      <td>53</td>\n",
       "      <td>72</td>\n",
       "      <td>0.736</td>\n",
       "      <td>...</td>\n",
       "      <td>59</td>\n",
       "      <td>90</td>\n",
       "      <td>8</td>\n",
       "      <td>9</td>\n",
       "      <td>31</td>\n",
       "      <td>29</td>\n",
       "      <td>87</td>\n",
       "      <td>141</td>\n",
       "      <td>2013-2014</td>\n",
       "      <td>2013</td>\n",
       "    </tr>\n",
       "    <tr>\n",
       "      <th>473</th>\n",
       "      <td>Brandan Wright</td>\n",
       "      <td>C</td>\n",
       "      <td>26</td>\n",
       "      <td>DAL</td>\n",
       "      <td>58</td>\n",
       "      <td>0</td>\n",
       "      <td>1077</td>\n",
       "      <td>224</td>\n",
       "      <td>331</td>\n",
       "      <td>0.677</td>\n",
       "      <td>...</td>\n",
       "      <td>142</td>\n",
       "      <td>244</td>\n",
       "      <td>31</td>\n",
       "      <td>32</td>\n",
       "      <td>55</td>\n",
       "      <td>35</td>\n",
       "      <td>94</td>\n",
       "      <td>525</td>\n",
       "      <td>2013-2014</td>\n",
       "      <td>2013</td>\n",
       "    </tr>\n",
       "    <tr>\n",
       "      <th>245</th>\n",
       "      <td>DeAndre Jordan</td>\n",
       "      <td>C</td>\n",
       "      <td>25</td>\n",
       "      <td>LAC</td>\n",
       "      <td>82</td>\n",
       "      <td>82</td>\n",
       "      <td>2870</td>\n",
       "      <td>348</td>\n",
       "      <td>515</td>\n",
       "      <td>0.676</td>\n",
       "      <td>...</td>\n",
       "      <td>783</td>\n",
       "      <td>1114</td>\n",
       "      <td>74</td>\n",
       "      <td>80</td>\n",
       "      <td>203</td>\n",
       "      <td>123</td>\n",
       "      <td>264</td>\n",
       "      <td>856</td>\n",
       "      <td>2013-2014</td>\n",
       "      <td>2013</td>\n",
       "    </tr>\n",
       "  </tbody>\n",
       "</table>\n",
       "<p>5 rows × 31 columns</p>\n",
       "</div>"
      ],
      "text/plain": [
       "              player pos  age bref_team_id   g  gs    mp   fg  fga    fg.  \\\n",
       "46   Andris Biedrins   C   27          UTA   6   0    45    1    1  1.000   \n",
       "271  DeAndre Liggins  SG   25          MIA   1   0     1    1    1  1.000   \n",
       "209     Ryan Hollins  PF   29          LAC  61   0   482   53   72  0.736   \n",
       "473   Brandan Wright   C   26          DAL  58   0  1077  224  331  0.677   \n",
       "245   DeAndre Jordan   C   25          LAC  82  82  2870  348  515  0.676   \n",
       "\n",
       "        ...      drb   trb  ast  stl  blk  tov   pf  pts     season  \\\n",
       "46      ...       15    17    0    0    0    2    6    3  2013-2014   \n",
       "271     ...        0     1    0    0    0    0    0    2  2013-2014   \n",
       "209     ...       59    90    8    9   31   29   87  141  2013-2014   \n",
       "473     ...      142   244   31   32   55   35   94  525  2013-2014   \n",
       "245     ...      783  1114   74   80  203  123  264  856  2013-2014   \n",
       "\n",
       "     season_end  \n",
       "46         2013  \n",
       "271        2013  \n",
       "209        2013  \n",
       "473        2013  \n",
       "245        2013  \n",
       "\n",
       "[5 rows x 31 columns]"
      ]
     },
     "execution_count": 189,
     "metadata": {},
     "output_type": "execute_result"
    }
   ],
   "source": [
    "nba.sort_values(\"fg.\",ascending=False).head()"
   ]
  },
  {
   "cell_type": "code",
   "execution_count": 190,
   "metadata": {
    "scrolled": true
   },
   "outputs": [
    {
     "data": {
      "text/html": [
       "<div>\n",
       "<style>\n",
       "    .dataframe thead tr:only-child th {\n",
       "        text-align: right;\n",
       "    }\n",
       "\n",
       "    .dataframe thead th {\n",
       "        text-align: left;\n",
       "    }\n",
       "\n",
       "    .dataframe tbody tr th {\n",
       "        vertical-align: top;\n",
       "    }\n",
       "</style>\n",
       "<table border=\"1\" class=\"dataframe\">\n",
       "  <thead>\n",
       "    <tr style=\"text-align: right;\">\n",
       "      <th></th>\n",
       "      <th>player</th>\n",
       "      <th>pos</th>\n",
       "      <th>age</th>\n",
       "      <th>bref_team_id</th>\n",
       "      <th>g</th>\n",
       "      <th>gs</th>\n",
       "      <th>mp</th>\n",
       "      <th>fg</th>\n",
       "      <th>fga</th>\n",
       "      <th>fg.</th>\n",
       "      <th>...</th>\n",
       "      <th>drb</th>\n",
       "      <th>trb</th>\n",
       "      <th>ast</th>\n",
       "      <th>stl</th>\n",
       "      <th>blk</th>\n",
       "      <th>tov</th>\n",
       "      <th>pf</th>\n",
       "      <th>pts</th>\n",
       "      <th>season</th>\n",
       "      <th>season_end</th>\n",
       "    </tr>\n",
       "  </thead>\n",
       "  <tbody>\n",
       "    <tr>\n",
       "      <th>245</th>\n",
       "      <td>DeAndre Jordan</td>\n",
       "      <td>C</td>\n",
       "      <td>25</td>\n",
       "      <td>LAC</td>\n",
       "      <td>82</td>\n",
       "      <td>82</td>\n",
       "      <td>2870</td>\n",
       "      <td>348</td>\n",
       "      <td>515</td>\n",
       "      <td>0.676</td>\n",
       "      <td>...</td>\n",
       "      <td>783</td>\n",
       "      <td>1114</td>\n",
       "      <td>74</td>\n",
       "      <td>80</td>\n",
       "      <td>203</td>\n",
       "      <td>123</td>\n",
       "      <td>264</td>\n",
       "      <td>856</td>\n",
       "      <td>2013-2014</td>\n",
       "      <td>2013</td>\n",
       "    </tr>\n",
       "    <tr>\n",
       "      <th>129</th>\n",
       "      <td>Andre Drummond</td>\n",
       "      <td>C</td>\n",
       "      <td>20</td>\n",
       "      <td>DET</td>\n",
       "      <td>81</td>\n",
       "      <td>81</td>\n",
       "      <td>2619</td>\n",
       "      <td>479</td>\n",
       "      <td>769</td>\n",
       "      <td>0.623</td>\n",
       "      <td>...</td>\n",
       "      <td>631</td>\n",
       "      <td>1071</td>\n",
       "      <td>35</td>\n",
       "      <td>101</td>\n",
       "      <td>131</td>\n",
       "      <td>110</td>\n",
       "      <td>273</td>\n",
       "      <td>1095</td>\n",
       "      <td>2013-2014</td>\n",
       "      <td>2013</td>\n",
       "    </tr>\n",
       "    <tr>\n",
       "      <th>277</th>\n",
       "      <td>Kevin Love</td>\n",
       "      <td>PF</td>\n",
       "      <td>25</td>\n",
       "      <td>MIN</td>\n",
       "      <td>77</td>\n",
       "      <td>77</td>\n",
       "      <td>2797</td>\n",
       "      <td>650</td>\n",
       "      <td>1421</td>\n",
       "      <td>0.457</td>\n",
       "      <td>...</td>\n",
       "      <td>739</td>\n",
       "      <td>963</td>\n",
       "      <td>341</td>\n",
       "      <td>59</td>\n",
       "      <td>35</td>\n",
       "      <td>196</td>\n",
       "      <td>136</td>\n",
       "      <td>2010</td>\n",
       "      <td>2013-2014</td>\n",
       "      <td>2013</td>\n",
       "    </tr>\n",
       "    <tr>\n",
       "      <th>330</th>\n",
       "      <td>Joakim Noah</td>\n",
       "      <td>C</td>\n",
       "      <td>28</td>\n",
       "      <td>CHI</td>\n",
       "      <td>80</td>\n",
       "      <td>80</td>\n",
       "      <td>2820</td>\n",
       "      <td>380</td>\n",
       "      <td>800</td>\n",
       "      <td>0.475</td>\n",
       "      <td>...</td>\n",
       "      <td>618</td>\n",
       "      <td>900</td>\n",
       "      <td>431</td>\n",
       "      <td>99</td>\n",
       "      <td>121</td>\n",
       "      <td>194</td>\n",
       "      <td>245</td>\n",
       "      <td>1007</td>\n",
       "      <td>2013-2014</td>\n",
       "      <td>2013</td>\n",
       "    </tr>\n",
       "    <tr>\n",
       "      <th>212</th>\n",
       "      <td>Dwight Howard</td>\n",
       "      <td>C</td>\n",
       "      <td>28</td>\n",
       "      <td>HOU</td>\n",
       "      <td>71</td>\n",
       "      <td>71</td>\n",
       "      <td>2396</td>\n",
       "      <td>473</td>\n",
       "      <td>800</td>\n",
       "      <td>0.591</td>\n",
       "      <td>...</td>\n",
       "      <td>635</td>\n",
       "      <td>866</td>\n",
       "      <td>131</td>\n",
       "      <td>60</td>\n",
       "      <td>128</td>\n",
       "      <td>229</td>\n",
       "      <td>240</td>\n",
       "      <td>1297</td>\n",
       "      <td>2013-2014</td>\n",
       "      <td>2013</td>\n",
       "    </tr>\n",
       "  </tbody>\n",
       "</table>\n",
       "<p>5 rows × 31 columns</p>\n",
       "</div>"
      ],
      "text/plain": [
       "             player pos  age bref_team_id   g  gs    mp   fg   fga    fg.  \\\n",
       "245  DeAndre Jordan   C   25          LAC  82  82  2870  348   515  0.676   \n",
       "129  Andre Drummond   C   20          DET  81  81  2619  479   769  0.623   \n",
       "277      Kevin Love  PF   25          MIN  77  77  2797  650  1421  0.457   \n",
       "330     Joakim Noah   C   28          CHI  80  80  2820  380   800  0.475   \n",
       "212   Dwight Howard   C   28          HOU  71  71  2396  473   800  0.591   \n",
       "\n",
       "        ...      drb   trb  ast  stl  blk  tov   pf   pts     season  \\\n",
       "245     ...      783  1114   74   80  203  123  264   856  2013-2014   \n",
       "129     ...      631  1071   35  101  131  110  273  1095  2013-2014   \n",
       "277     ...      739   963  341   59   35  196  136  2010  2013-2014   \n",
       "330     ...      618   900  431   99  121  194  245  1007  2013-2014   \n",
       "212     ...      635   866  131   60  128  229  240  1297  2013-2014   \n",
       "\n",
       "     season_end  \n",
       "245        2013  \n",
       "129        2013  \n",
       "277        2013  \n",
       "330        2013  \n",
       "212        2013  \n",
       "\n",
       "[5 rows x 31 columns]"
      ]
     },
     "execution_count": 190,
     "metadata": {},
     "output_type": "execute_result"
    }
   ],
   "source": [
    "nba.sort_values(\"trb\",ascending=False).head()"
   ]
  },
  {
   "cell_type": "code",
   "execution_count": 191,
   "metadata": {},
   "outputs": [
    {
     "data": {
      "text/html": [
       "<div>\n",
       "<style>\n",
       "    .dataframe thead tr:only-child th {\n",
       "        text-align: right;\n",
       "    }\n",
       "\n",
       "    .dataframe thead th {\n",
       "        text-align: left;\n",
       "    }\n",
       "\n",
       "    .dataframe tbody tr th {\n",
       "        vertical-align: top;\n",
       "    }\n",
       "</style>\n",
       "<table border=\"1\" class=\"dataframe\">\n",
       "  <thead>\n",
       "    <tr style=\"text-align: right;\">\n",
       "      <th></th>\n",
       "      <th>player</th>\n",
       "      <th>pos</th>\n",
       "      <th>age</th>\n",
       "      <th>bref_team_id</th>\n",
       "      <th>g</th>\n",
       "      <th>gs</th>\n",
       "      <th>mp</th>\n",
       "      <th>fg</th>\n",
       "      <th>fga</th>\n",
       "      <th>fg.</th>\n",
       "      <th>...</th>\n",
       "      <th>drb</th>\n",
       "      <th>trb</th>\n",
       "      <th>ast</th>\n",
       "      <th>stl</th>\n",
       "      <th>blk</th>\n",
       "      <th>tov</th>\n",
       "      <th>pf</th>\n",
       "      <th>pts</th>\n",
       "      <th>season</th>\n",
       "      <th>season_end</th>\n",
       "    </tr>\n",
       "  </thead>\n",
       "  <tbody>\n",
       "    <tr>\n",
       "      <th>451</th>\n",
       "      <td>John Wall</td>\n",
       "      <td>PG</td>\n",
       "      <td>23</td>\n",
       "      <td>WAS</td>\n",
       "      <td>82</td>\n",
       "      <td>82</td>\n",
       "      <td>2980</td>\n",
       "      <td>579</td>\n",
       "      <td>1337</td>\n",
       "      <td>0.433</td>\n",
       "      <td>...</td>\n",
       "      <td>295</td>\n",
       "      <td>333</td>\n",
       "      <td>721</td>\n",
       "      <td>149</td>\n",
       "      <td>40</td>\n",
       "      <td>295</td>\n",
       "      <td>219</td>\n",
       "      <td>1583</td>\n",
       "      <td>2013-2014</td>\n",
       "      <td>2013</td>\n",
       "    </tr>\n",
       "    <tr>\n",
       "      <th>377</th>\n",
       "      <td>Ricky Rubio</td>\n",
       "      <td>PG</td>\n",
       "      <td>23</td>\n",
       "      <td>MIN</td>\n",
       "      <td>82</td>\n",
       "      <td>82</td>\n",
       "      <td>2638</td>\n",
       "      <td>255</td>\n",
       "      <td>670</td>\n",
       "      <td>0.381</td>\n",
       "      <td>...</td>\n",
       "      <td>281</td>\n",
       "      <td>342</td>\n",
       "      <td>704</td>\n",
       "      <td>191</td>\n",
       "      <td>11</td>\n",
       "      <td>221</td>\n",
       "      <td>218</td>\n",
       "      <td>781</td>\n",
       "      <td>2013-2014</td>\n",
       "      <td>2013</td>\n",
       "    </tr>\n",
       "    <tr>\n",
       "      <th>110</th>\n",
       "      <td>Stephen Curry</td>\n",
       "      <td>PG</td>\n",
       "      <td>25</td>\n",
       "      <td>GSW</td>\n",
       "      <td>78</td>\n",
       "      <td>78</td>\n",
       "      <td>2846</td>\n",
       "      <td>652</td>\n",
       "      <td>1383</td>\n",
       "      <td>0.471</td>\n",
       "      <td>...</td>\n",
       "      <td>288</td>\n",
       "      <td>334</td>\n",
       "      <td>666</td>\n",
       "      <td>128</td>\n",
       "      <td>14</td>\n",
       "      <td>294</td>\n",
       "      <td>194</td>\n",
       "      <td>1873</td>\n",
       "      <td>2013-2014</td>\n",
       "      <td>2013</td>\n",
       "    </tr>\n",
       "    <tr>\n",
       "      <th>347</th>\n",
       "      <td>Chris Paul</td>\n",
       "      <td>PG</td>\n",
       "      <td>28</td>\n",
       "      <td>LAC</td>\n",
       "      <td>62</td>\n",
       "      <td>62</td>\n",
       "      <td>2171</td>\n",
       "      <td>406</td>\n",
       "      <td>870</td>\n",
       "      <td>0.467</td>\n",
       "      <td>...</td>\n",
       "      <td>230</td>\n",
       "      <td>268</td>\n",
       "      <td>663</td>\n",
       "      <td>154</td>\n",
       "      <td>4</td>\n",
       "      <td>145</td>\n",
       "      <td>157</td>\n",
       "      <td>1185</td>\n",
       "      <td>2013-2014</td>\n",
       "      <td>2013</td>\n",
       "    </tr>\n",
       "    <tr>\n",
       "      <th>232</th>\n",
       "      <td>Brandon Jennings</td>\n",
       "      <td>PG</td>\n",
       "      <td>24</td>\n",
       "      <td>DET</td>\n",
       "      <td>80</td>\n",
       "      <td>79</td>\n",
       "      <td>2728</td>\n",
       "      <td>423</td>\n",
       "      <td>1135</td>\n",
       "      <td>0.373</td>\n",
       "      <td>...</td>\n",
       "      <td>185</td>\n",
       "      <td>244</td>\n",
       "      <td>609</td>\n",
       "      <td>101</td>\n",
       "      <td>8</td>\n",
       "      <td>215</td>\n",
       "      <td>157</td>\n",
       "      <td>1241</td>\n",
       "      <td>2013-2014</td>\n",
       "      <td>2013</td>\n",
       "    </tr>\n",
       "  </tbody>\n",
       "</table>\n",
       "<p>5 rows × 31 columns</p>\n",
       "</div>"
      ],
      "text/plain": [
       "               player pos  age bref_team_id   g  gs    mp   fg   fga    fg.  \\\n",
       "451         John Wall  PG   23          WAS  82  82  2980  579  1337  0.433   \n",
       "377       Ricky Rubio  PG   23          MIN  82  82  2638  255   670  0.381   \n",
       "110     Stephen Curry  PG   25          GSW  78  78  2846  652  1383  0.471   \n",
       "347        Chris Paul  PG   28          LAC  62  62  2171  406   870  0.467   \n",
       "232  Brandon Jennings  PG   24          DET  80  79  2728  423  1135  0.373   \n",
       "\n",
       "        ...      drb  trb  ast  stl  blk  tov   pf   pts     season  \\\n",
       "451     ...      295  333  721  149   40  295  219  1583  2013-2014   \n",
       "377     ...      281  342  704  191   11  221  218   781  2013-2014   \n",
       "110     ...      288  334  666  128   14  294  194  1873  2013-2014   \n",
       "347     ...      230  268  663  154    4  145  157  1185  2013-2014   \n",
       "232     ...      185  244  609  101    8  215  157  1241  2013-2014   \n",
       "\n",
       "     season_end  \n",
       "451        2013  \n",
       "377        2013  \n",
       "110        2013  \n",
       "347        2013  \n",
       "232        2013  \n",
       "\n",
       "[5 rows x 31 columns]"
      ]
     },
     "execution_count": 191,
     "metadata": {},
     "output_type": "execute_result"
    }
   ],
   "source": [
    "nba.sort_values(\"ast\",ascending=False).head()"
   ]
  },
  {
   "cell_type": "code",
   "execution_count": 192,
   "metadata": {
    "scrolled": false
   },
   "outputs": [
    {
     "data": {
      "text/html": [
       "<div>\n",
       "<style>\n",
       "    .dataframe thead tr:only-child th {\n",
       "        text-align: right;\n",
       "    }\n",
       "\n",
       "    .dataframe thead th {\n",
       "        text-align: left;\n",
       "    }\n",
       "\n",
       "    .dataframe tbody tr th {\n",
       "        vertical-align: top;\n",
       "    }\n",
       "</style>\n",
       "<table border=\"1\" class=\"dataframe\">\n",
       "  <thead>\n",
       "    <tr style=\"text-align: right;\">\n",
       "      <th></th>\n",
       "      <th>player</th>\n",
       "      <th>pos</th>\n",
       "      <th>age</th>\n",
       "      <th>bref_team_id</th>\n",
       "      <th>g</th>\n",
       "      <th>gs</th>\n",
       "      <th>mp</th>\n",
       "      <th>fg</th>\n",
       "      <th>fga</th>\n",
       "      <th>fg.</th>\n",
       "      <th>...</th>\n",
       "      <th>drb</th>\n",
       "      <th>trb</th>\n",
       "      <th>ast</th>\n",
       "      <th>stl</th>\n",
       "      <th>blk</th>\n",
       "      <th>tov</th>\n",
       "      <th>pf</th>\n",
       "      <th>pts</th>\n",
       "      <th>season</th>\n",
       "      <th>season_end</th>\n",
       "    </tr>\n",
       "  </thead>\n",
       "  <tbody>\n",
       "    <tr>\n",
       "      <th>133</th>\n",
       "      <td>Kevin Durant</td>\n",
       "      <td>SF</td>\n",
       "      <td>25</td>\n",
       "      <td>OKC</td>\n",
       "      <td>81</td>\n",
       "      <td>81</td>\n",
       "      <td>3122</td>\n",
       "      <td>849</td>\n",
       "      <td>1688</td>\n",
       "      <td>0.503</td>\n",
       "      <td>...</td>\n",
       "      <td>540</td>\n",
       "      <td>598</td>\n",
       "      <td>445</td>\n",
       "      <td>103</td>\n",
       "      <td>59</td>\n",
       "      <td>285</td>\n",
       "      <td>174</td>\n",
       "      <td>2593</td>\n",
       "      <td>2013-2014</td>\n",
       "      <td>2013</td>\n",
       "    </tr>\n",
       "    <tr>\n",
       "      <th>17</th>\n",
       "      <td>Carmelo Anthony</td>\n",
       "      <td>PF</td>\n",
       "      <td>29</td>\n",
       "      <td>NYK</td>\n",
       "      <td>77</td>\n",
       "      <td>77</td>\n",
       "      <td>2982</td>\n",
       "      <td>743</td>\n",
       "      <td>1643</td>\n",
       "      <td>0.452</td>\n",
       "      <td>...</td>\n",
       "      <td>477</td>\n",
       "      <td>622</td>\n",
       "      <td>242</td>\n",
       "      <td>95</td>\n",
       "      <td>51</td>\n",
       "      <td>198</td>\n",
       "      <td>224</td>\n",
       "      <td>2112</td>\n",
       "      <td>2013-2014</td>\n",
       "      <td>2013</td>\n",
       "    </tr>\n",
       "    <tr>\n",
       "      <th>225</th>\n",
       "      <td>LeBron James</td>\n",
       "      <td>PF</td>\n",
       "      <td>29</td>\n",
       "      <td>MIA</td>\n",
       "      <td>77</td>\n",
       "      <td>77</td>\n",
       "      <td>2902</td>\n",
       "      <td>767</td>\n",
       "      <td>1353</td>\n",
       "      <td>0.567</td>\n",
       "      <td>...</td>\n",
       "      <td>452</td>\n",
       "      <td>533</td>\n",
       "      <td>488</td>\n",
       "      <td>121</td>\n",
       "      <td>26</td>\n",
       "      <td>270</td>\n",
       "      <td>126</td>\n",
       "      <td>2089</td>\n",
       "      <td>2013-2014</td>\n",
       "      <td>2013</td>\n",
       "    </tr>\n",
       "    <tr>\n",
       "      <th>277</th>\n",
       "      <td>Kevin Love</td>\n",
       "      <td>PF</td>\n",
       "      <td>25</td>\n",
       "      <td>MIN</td>\n",
       "      <td>77</td>\n",
       "      <td>77</td>\n",
       "      <td>2797</td>\n",
       "      <td>650</td>\n",
       "      <td>1421</td>\n",
       "      <td>0.457</td>\n",
       "      <td>...</td>\n",
       "      <td>739</td>\n",
       "      <td>963</td>\n",
       "      <td>341</td>\n",
       "      <td>59</td>\n",
       "      <td>35</td>\n",
       "      <td>196</td>\n",
       "      <td>136</td>\n",
       "      <td>2010</td>\n",
       "      <td>2013-2014</td>\n",
       "      <td>2013</td>\n",
       "    </tr>\n",
       "    <tr>\n",
       "      <th>179</th>\n",
       "      <td>Blake Griffin</td>\n",
       "      <td>PF</td>\n",
       "      <td>24</td>\n",
       "      <td>LAC</td>\n",
       "      <td>80</td>\n",
       "      <td>80</td>\n",
       "      <td>2863</td>\n",
       "      <td>718</td>\n",
       "      <td>1359</td>\n",
       "      <td>0.528</td>\n",
       "      <td>...</td>\n",
       "      <td>565</td>\n",
       "      <td>757</td>\n",
       "      <td>309</td>\n",
       "      <td>92</td>\n",
       "      <td>51</td>\n",
       "      <td>224</td>\n",
       "      <td>265</td>\n",
       "      <td>1930</td>\n",
       "      <td>2013-2014</td>\n",
       "      <td>2013</td>\n",
       "    </tr>\n",
       "  </tbody>\n",
       "</table>\n",
       "<p>5 rows × 31 columns</p>\n",
       "</div>"
      ],
      "text/plain": [
       "              player pos  age bref_team_id   g  gs    mp   fg   fga    fg.  \\\n",
       "133     Kevin Durant  SF   25          OKC  81  81  3122  849  1688  0.503   \n",
       "17   Carmelo Anthony  PF   29          NYK  77  77  2982  743  1643  0.452   \n",
       "225     LeBron James  PF   29          MIA  77  77  2902  767  1353  0.567   \n",
       "277       Kevin Love  PF   25          MIN  77  77  2797  650  1421  0.457   \n",
       "179    Blake Griffin  PF   24          LAC  80  80  2863  718  1359  0.528   \n",
       "\n",
       "        ...      drb  trb  ast  stl  blk  tov   pf   pts     season  \\\n",
       "133     ...      540  598  445  103   59  285  174  2593  2013-2014   \n",
       "17      ...      477  622  242   95   51  198  224  2112  2013-2014   \n",
       "225     ...      452  533  488  121   26  270  126  2089  2013-2014   \n",
       "277     ...      739  963  341   59   35  196  136  2010  2013-2014   \n",
       "179     ...      565  757  309   92   51  224  265  1930  2013-2014   \n",
       "\n",
       "     season_end  \n",
       "133        2013  \n",
       "17         2013  \n",
       "225        2013  \n",
       "277        2013  \n",
       "179        2013  \n",
       "\n",
       "[5 rows x 31 columns]"
      ]
     },
     "execution_count": 192,
     "metadata": {},
     "output_type": "execute_result"
    }
   ],
   "source": [
    "nba.sort_values(\"pts\",ascending=False).head()"
   ]
  },
  {
   "cell_type": "markdown",
   "metadata": {},
   "source": [
    "### 繪製成對散點圖\n",
    "一個探索數據的常用方法是查看列與列之間有多相關。我們將會比較age(年齡),ast(助攻),fg(投籃命中),pts(得分)和trb(籃板球)。"
   ]
  },
  {
   "cell_type": "code",
   "execution_count": 6,
   "metadata": {
    "scrolled": true
   },
   "outputs": [
    {
     "data": {
      "text/plain": [
       "<seaborn.axisgrid.PairGrid at 0x11c840d68>"
      ]
     },
     "execution_count": 6,
     "metadata": {},
     "output_type": "execute_result"
    },
    {
     "data": {
      "image/png": "[encoded data removed]",
      "text/plain": [
       "<matplotlib.figure.Figure at 0x11c8401d0>"
      ]
     },
     "metadata": {},
     "output_type": "display_data"
    }
   ],
   "source": [
    "import seaborn as sns\n",
    "sns.pairplot(nba[[\"age\",\"ast\", \"fg\", \"trb\",\"pts\"]])\n",
    "# AST%（Assist Percentage）通常翻譯為助攻率，用來描述球員在場時，隊友的進球中大約有多少來自他的助攻。"
   ]
  },
  {
   "cell_type": "markdown",
   "metadata": {},
   "source": [
    "<font size=6 style=\"text-shadow:0px 0px 15px #FF37FD;\">練習</font>\n",
    "- 將「opendata103Y010.csv」資料讀入並進行摘要分析\n",
    "- 練習1：\n",
    "    - 載入資料\n",
    "    - 取得資料的維度狀況\n",
    "    - 預覽前5筆資料\n",
    "    - 計算各欄位摘要統計值\n",
    "\n",
    "- 練習2：\n",
    "    - 上面的練習面臨了什麼狀況呢？\n",
    "    - 請找出方法成功的計算，數值欄位的摘要統計值\n",
    "    - 語法上的不熟悉很正常，給自己3分鐘的時間Google\n"
   ]
  },
  {
   "cell_type": "code",
   "execution_count": 194,
   "metadata": {
    "scrolled": true
   },
   "outputs": [
    {
     "data": {
      "text/plain": [
       "90    NaN\n",
       "397   NaN\n",
       "Name: fg., dtype: float64"
      ]
     },
     "execution_count": 194,
     "metadata": {},
     "output_type": "execute_result"
    }
   ],
   "source": [
    "nba['fg.'][nba['fg.'].isnull()]"
   ]
  },
  {
   "cell_type": "code",
   "execution_count": 24,
   "metadata": {
    "scrolled": true
   },
   "outputs": [
    {
     "data": {
      "image/png": "[encoded data removed]",
      "text/plain": [
       "<matplotlib.figure.Figure at 0x12030cef0>"
      ]
     },
     "metadata": {},
     "output_type": "display_data"
    }
   ],
   "source": [
    "#box plot fg（投籃命中）/pos （位置）\n",
    "var = 'pos'\n",
    "data = pd.concat([nba['fg'], nba[var]], axis=1)\n",
    "# data = nba[['fg','pos']]\n",
    "# %pylab\n",
    "# matplotlib\n",
    "f, ax = plt.subplots(figsize=(8, 6))\n",
    "fig = sns.boxplot(x=var, y=\"fg\", data=data)\n",
    "fig.axis(ymin=0, ymax=1000);"
   ]
  },
  {
   "cell_type": "code",
   "execution_count": 196,
   "metadata": {
    "scrolled": true
   },
   "outputs": [
    {
     "data": {
      "text/html": [
       "<div>\n",
       "<style>\n",
       "    .dataframe thead tr:only-child th {\n",
       "        text-align: right;\n",
       "    }\n",
       "\n",
       "    .dataframe thead th {\n",
       "        text-align: left;\n",
       "    }\n",
       "\n",
       "    .dataframe tbody tr th {\n",
       "        vertical-align: top;\n",
       "    }\n",
       "</style>\n",
       "<table border=\"1\" class=\"dataframe\">\n",
       "  <thead>\n",
       "    <tr style=\"text-align: right;\">\n",
       "      <th></th>\n",
       "      <th>player</th>\n",
       "      <th>pos</th>\n",
       "      <th>age</th>\n",
       "      <th>bref_team_id</th>\n",
       "      <th>g</th>\n",
       "      <th>gs</th>\n",
       "      <th>mp</th>\n",
       "      <th>fg</th>\n",
       "      <th>fga</th>\n",
       "      <th>fg.</th>\n",
       "      <th>...</th>\n",
       "      <th>drb</th>\n",
       "      <th>trb</th>\n",
       "      <th>ast</th>\n",
       "      <th>stl</th>\n",
       "      <th>blk</th>\n",
       "      <th>tov</th>\n",
       "      <th>pf</th>\n",
       "      <th>pts</th>\n",
       "      <th>season</th>\n",
       "      <th>season_end</th>\n",
       "    </tr>\n",
       "  </thead>\n",
       "  <tbody>\n",
       "    <tr>\n",
       "      <th>356</th>\n",
       "      <td>Josh Powell</td>\n",
       "      <td>F</td>\n",
       "      <td>31</td>\n",
       "      <td>HOU</td>\n",
       "      <td>1</td>\n",
       "      <td>0</td>\n",
       "      <td>19</td>\n",
       "      <td>2</td>\n",
       "      <td>6</td>\n",
       "      <td>0.333</td>\n",
       "      <td>...</td>\n",
       "      <td>5</td>\n",
       "      <td>5</td>\n",
       "      <td>0</td>\n",
       "      <td>0</td>\n",
       "      <td>1</td>\n",
       "      <td>1</td>\n",
       "      <td>1</td>\n",
       "      <td>4</td>\n",
       "      <td>2013-2014</td>\n",
       "      <td>2013</td>\n",
       "    </tr>\n",
       "  </tbody>\n",
       "</table>\n",
       "<p>1 rows × 31 columns</p>\n",
       "</div>"
      ],
      "text/plain": [
       "          player pos  age bref_team_id  g  gs  mp  fg  fga    fg.     ...      \\\n",
       "356  Josh Powell   F   31          HOU  1   0  19   2    6  0.333     ...       \n",
       "\n",
       "     drb  trb  ast  stl  blk  tov  pf  pts     season  season_end  \n",
       "356    5    5    0    0    1    1   1    4  2013-2014        2013  \n",
       "\n",
       "[1 rows x 31 columns]"
      ]
     },
     "execution_count": 196,
     "metadata": {},
     "output_type": "execute_result"
    }
   ],
   "source": [
    "nba[nba['pos']=='F']"
   ]
  },
  {
   "cell_type": "code",
   "execution_count": 197,
   "metadata": {},
   "outputs": [
    {
     "data": {
      "text/html": [
       "<div>\n",
       "<style>\n",
       "    .dataframe thead tr:only-child th {\n",
       "        text-align: right;\n",
       "    }\n",
       "\n",
       "    .dataframe thead th {\n",
       "        text-align: left;\n",
       "    }\n",
       "\n",
       "    .dataframe tbody tr th {\n",
       "        vertical-align: top;\n",
       "    }\n",
       "</style>\n",
       "<table border=\"1\" class=\"dataframe\">\n",
       "  <thead>\n",
       "    <tr style=\"text-align: right;\">\n",
       "      <th></th>\n",
       "      <th>player</th>\n",
       "      <th>pos</th>\n",
       "      <th>age</th>\n",
       "      <th>bref_team_id</th>\n",
       "      <th>g</th>\n",
       "      <th>gs</th>\n",
       "      <th>mp</th>\n",
       "      <th>fg</th>\n",
       "      <th>fga</th>\n",
       "      <th>fg.</th>\n",
       "      <th>...</th>\n",
       "      <th>drb</th>\n",
       "      <th>trb</th>\n",
       "      <th>ast</th>\n",
       "      <th>stl</th>\n",
       "      <th>blk</th>\n",
       "      <th>tov</th>\n",
       "      <th>pf</th>\n",
       "      <th>pts</th>\n",
       "      <th>season</th>\n",
       "      <th>season_end</th>\n",
       "    </tr>\n",
       "  </thead>\n",
       "  <tbody>\n",
       "    <tr>\n",
       "      <th>224</th>\n",
       "      <td>Damion James</td>\n",
       "      <td>G</td>\n",
       "      <td>26</td>\n",
       "      <td>SAS</td>\n",
       "      <td>5</td>\n",
       "      <td>1</td>\n",
       "      <td>50</td>\n",
       "      <td>2</td>\n",
       "      <td>9</td>\n",
       "      <td>0.222</td>\n",
       "      <td>...</td>\n",
       "      <td>11</td>\n",
       "      <td>12</td>\n",
       "      <td>3</td>\n",
       "      <td>0</td>\n",
       "      <td>1</td>\n",
       "      <td>1</td>\n",
       "      <td>3</td>\n",
       "      <td>6</td>\n",
       "      <td>2013-2014</td>\n",
       "      <td>2013</td>\n",
       "    </tr>\n",
       "  </tbody>\n",
       "</table>\n",
       "<p>1 rows × 31 columns</p>\n",
       "</div>"
      ],
      "text/plain": [
       "           player pos  age bref_team_id  g  gs  mp  fg  fga    fg.  \\\n",
       "224  Damion James   G   26          SAS  5   1  50   2    9  0.222   \n",
       "\n",
       "        ...      drb  trb  ast  stl  blk  tov  pf  pts     season  season_end  \n",
       "224     ...       11   12    3    0    1    1   3    6  2013-2014        2013  \n",
       "\n",
       "[1 rows x 31 columns]"
      ]
     },
     "execution_count": 197,
     "metadata": {},
     "output_type": "execute_result"
    }
   ],
   "source": [
    "nba[nba['pos']=='G']"
   ]
  },
  {
   "cell_type": "code",
   "execution_count": 58,
   "metadata": {
    "scrolled": false
   },
   "outputs": [
    {
     "data": {
      "image/png": "[encoded data removed]",
      "text/plain": [
       "<matplotlib.figure.Figure at 0x11c7d70b8>"
      ]
     },
     "metadata": {},
     "output_type": "display_data"
    }
   ],
   "source": [
    "#correlation matrix\n",
    "corrmat = nba.corr()\n",
    "f, ax = plt.subplots(figsize=(12, 9))\n",
    "sns.heatmap(corrmat, vmax=.8, square=True);\n"
   ]
  },
  {
   "cell_type": "code",
   "execution_count": 36,
   "metadata": {
    "scrolled": true
   },
   "outputs": [
    {
     "data": {
      "image/png": "[encoded data removed]",
      "text/plain": [
       "<matplotlib.figure.Figure at 0x1214aec88>"
      ]
     },
     "metadata": {},
     "output_type": "display_data"
    }
   ],
   "source": [
    "#fg correlation matrix\n",
    "k = 10 #number of variables for heatmap\n",
    "cols = corrmat.nlargest(k, 'fg')['fg'].index\n",
    "cm = np.corrcoef(nba[cols].values.T)\n",
    "sns.set(font_scale=1.25)\n",
    "hm = sns.heatmap(cm, cbar=True, annot=True, square=True, fmt='.2f', annot_kws={'size': 10}, yticklabels=cols.values, xticklabels=cols.values)\n",
    "plt.show()"
   ]
  },
  {
   "cell_type": "markdown",
   "metadata": {},
   "source": [
    "<font size=6 style=\"text-shadow:0px 0px 15px #FF37FD;\">練習</font>\n",
    "\n",
    "- 任意挑選opendata103Y010資料的兩個數值欄位繪製成對散點圖"
   ]
  },
  {
   "cell_type": "markdown",
   "metadata": {},
   "source": [
    "### 遺缺值\n",
    "\n",
    "本來應該有值，卻遺失（缺少）了，就稱為遺缺值。實務上，資料中常有遺缺值存在，遺缺的狀況又分為兩種：\n",
    "\n",
    "1. MCAR(Missing Completely At Random)：完全隨機遺缺，這是資料遺失的理想狀況。\n",
    "\n",
    "1. MNAR(Missing Not At Random)：非隨機遺缺，在這種情况下，可能要檢查資料的收集過程是否有問題。例如問卷的遺缺值，可能是因為問題敏感讓受訪者不想回答。\n",
    "\n",
    "即使MCAR是理想狀況，若過多的資料遺缺也是問題。通常，一個可靠的最大閾值是資料集總數的5%。如果某些特徵或樣本遺失的資料超過了5%，忽略掉這些特徵或樣本可能是比較好的做法。"
   ]
  },
  {
   "cell_type": "code",
   "execution_count": 68,
   "metadata": {
    "scrolled": true
   },
   "outputs": [
    {
     "data": {
      "text/html": [
       "<div>\n",
       "<style>\n",
       "    .dataframe thead tr:only-child th {\n",
       "        text-align: right;\n",
       "    }\n",
       "\n",
       "    .dataframe thead th {\n",
       "        text-align: left;\n",
       "    }\n",
       "\n",
       "    .dataframe tbody tr th {\n",
       "        vertical-align: top;\n",
       "    }\n",
       "</style>\n",
       "<table border=\"1\" class=\"dataframe\">\n",
       "  <thead>\n",
       "    <tr style=\"text-align: right;\">\n",
       "      <th></th>\n",
       "      <th>Total</th>\n",
       "      <th>Percent</th>\n",
       "    </tr>\n",
       "  </thead>\n",
       "  <tbody>\n",
       "    <tr>\n",
       "      <th>x3p.</th>\n",
       "      <td>67</td>\n",
       "      <td>0.139293</td>\n",
       "    </tr>\n",
       "    <tr>\n",
       "      <th>ft.</th>\n",
       "      <td>20</td>\n",
       "      <td>0.041580</td>\n",
       "    </tr>\n",
       "    <tr>\n",
       "      <th>x2p.</th>\n",
       "      <td>3</td>\n",
       "      <td>0.006237</td>\n",
       "    </tr>\n",
       "    <tr>\n",
       "      <th>fg.</th>\n",
       "      <td>2</td>\n",
       "      <td>0.004158</td>\n",
       "    </tr>\n",
       "    <tr>\n",
       "      <th>efg.</th>\n",
       "      <td>2</td>\n",
       "      <td>0.004158</td>\n",
       "    </tr>\n",
       "    <tr>\n",
       "      <th>x2p</th>\n",
       "      <td>0</td>\n",
       "      <td>0.000000</td>\n",
       "    </tr>\n",
       "    <tr>\n",
       "      <th>pos</th>\n",
       "      <td>0</td>\n",
       "      <td>0.000000</td>\n",
       "    </tr>\n",
       "    <tr>\n",
       "      <th>age</th>\n",
       "      <td>0</td>\n",
       "      <td>0.000000</td>\n",
       "    </tr>\n",
       "    <tr>\n",
       "      <th>bref_team_id</th>\n",
       "      <td>0</td>\n",
       "      <td>0.000000</td>\n",
       "    </tr>\n",
       "    <tr>\n",
       "      <th>g</th>\n",
       "      <td>0</td>\n",
       "      <td>0.000000</td>\n",
       "    </tr>\n",
       "    <tr>\n",
       "      <th>gs</th>\n",
       "      <td>0</td>\n",
       "      <td>0.000000</td>\n",
       "    </tr>\n",
       "    <tr>\n",
       "      <th>mp</th>\n",
       "      <td>0</td>\n",
       "      <td>0.000000</td>\n",
       "    </tr>\n",
       "    <tr>\n",
       "      <th>fg</th>\n",
       "      <td>0</td>\n",
       "      <td>0.000000</td>\n",
       "    </tr>\n",
       "    <tr>\n",
       "      <th>fga</th>\n",
       "      <td>0</td>\n",
       "      <td>0.000000</td>\n",
       "    </tr>\n",
       "    <tr>\n",
       "      <th>x3p</th>\n",
       "      <td>0</td>\n",
       "      <td>0.000000</td>\n",
       "    </tr>\n",
       "    <tr>\n",
       "      <th>x3pa</th>\n",
       "      <td>0</td>\n",
       "      <td>0.000000</td>\n",
       "    </tr>\n",
       "    <tr>\n",
       "      <th>season_end</th>\n",
       "      <td>0</td>\n",
       "      <td>0.000000</td>\n",
       "    </tr>\n",
       "    <tr>\n",
       "      <th>x2pa</th>\n",
       "      <td>0</td>\n",
       "      <td>0.000000</td>\n",
       "    </tr>\n",
       "    <tr>\n",
       "      <th>season</th>\n",
       "      <td>0</td>\n",
       "      <td>0.000000</td>\n",
       "    </tr>\n",
       "    <tr>\n",
       "      <th>ft</th>\n",
       "      <td>0</td>\n",
       "      <td>0.000000</td>\n",
       "    </tr>\n",
       "  </tbody>\n",
       "</table>\n",
       "</div>"
      ],
      "text/plain": [
       "              Total   Percent\n",
       "x3p.             67  0.139293\n",
       "ft.              20  0.041580\n",
       "x2p.              3  0.006237\n",
       "fg.               2  0.004158\n",
       "efg.              2  0.004158\n",
       "x2p               0  0.000000\n",
       "pos               0  0.000000\n",
       "age               0  0.000000\n",
       "bref_team_id      0  0.000000\n",
       "g                 0  0.000000\n",
       "gs                0  0.000000\n",
       "mp                0  0.000000\n",
       "fg                0  0.000000\n",
       "fga               0  0.000000\n",
       "x3p               0  0.000000\n",
       "x3pa              0  0.000000\n",
       "season_end        0  0.000000\n",
       "x2pa              0  0.000000\n",
       "season            0  0.000000\n",
       "ft                0  0.000000"
      ]
     },
     "execution_count": 68,
     "metadata": {},
     "output_type": "execute_result"
    }
   ],
   "source": [
    "#missing data\n",
    "total = nba.isnull().sum().sort_values(ascending=False)\n",
    "percent = (nba.isnull().sum()/nba.isnull().count()).sort_values(ascending=False)\n",
    "missing_data = pd.concat([total, percent], axis=1, keys=['Total', 'Percent'])\n",
    "missing_data.head(20)"
   ]
  },
  {
   "cell_type": "code",
   "execution_count": 69,
   "metadata": {
    "scrolled": true
   },
   "outputs": [
    {
     "data": {
      "text/plain": [
       "0"
      ]
     },
     "execution_count": 69,
     "metadata": {},
     "output_type": "execute_result"
    }
   ],
   "source": [
    "#dealing with missing data\n",
    "nba = nba.drop((missing_data[missing_data['Total'] > 1]).index,1)\n",
    "nba.isnull().sum().max() #just checking that there's no missing data missing...\n"
   ]
  },
  {
   "cell_type": "markdown",
   "metadata": {},
   "source": [
    "#### 進階遺缺值處理\n",
    "\n",
    "- 遺缺變數太多，除了直接刪除該筆觀測值，是否有其它處理策略？\n",
    "- 常見的處理方式有三種：\n",
    "\n",
    "    1. 完整資料分析(complete case analysis)，亦即只使用個案中完整無缺失值的，才納入分析\n",
    "    1. 可用資料分析(available data analysis)，所有收集到的資料，即使僅有部份，也納入分析\n",
    "    1. 補值法(imputation)，對缺失值的部份先補值，再做分析，又可分爲單一補值(single imputation)及多重補值(multiple imputation)。"
   ]
  },
  {
   "cell_type": "markdown",
   "metadata": {},
   "source": [
    "### 將球員以k-means演算法集群(非監督式學習)\n",
    "\n",
    "- K-means背景知識\n",
    "    - K-平均值演算法是最早出現的集群分析演算法之一，它是一種快速分群方法，但對於異常值或極值敏感，穩定性差，因此較適合處理分佈集中的大樣本資料集。\n",
    "    - Select K points as the initial centroids(隨機選取K個初始群集中心點)\n",
    "    - repeat Form K clusters by assigning all points to the closest centroid (指派所有點之歸群)，Recompute the centroid of each cluster (更新各群中心)\n",
    "    - until The centroids don’t change\n",
    "    - Limitations of K-means\n",
    "    - Sizes (各群大小不同)\n",
    "    - Densities (密度不同)\n",
    "    - Non-globular shapes (非球形)\n",
    "    - Outliers (離群值)\n",
    "- Gaming source http://etrex.blogspot.tw/2008/05/k-mean-clustering.html"
   ]
  },
  {
   "cell_type": "code",
   "execution_count": 204,
   "metadata": {
    "scrolled": true
   },
   "outputs": [
    {
     "name": "stdout",
     "output_type": "stream",
     "text": [
      "[0 0 0 3 0 2 3 0 4 4 4 2 4 4 1 0 4 3 2 0 1 2 0 0 1 2 0 2 2 2 4 4 1 4 2 1 4\n",
      " 3 4 2 0 3 0 1 0 4 2 2 0 4 4 4 4 2 2 4 0 4 1 3 1 4 1 2 4 2 2 2 2 0 2 1 1 4\n",
      " 1 2 2 0 0 0 1 4 2 1 1 3 4 1 4 1 2 2 0 2 2 4 2 1 0 3 2 3 2 2 1 1 0 4 2 2 3\n",
      " 4 2 2 2 3 0 4 2 2 2 0 1 3 1 0 0 0 3 3 4 1 1 3 2 2 3 2 0 0 1 1 0 2 1 2 4 2\n",
      " 4 4 1 2 2 0 1 0 0 0 1 1 3 0 3 1 4 2 2 2 2 2 1 3 0 2 4 4 1 3 0 3 2 0 2 0 4\n",
      " 3 4 2 2 0 2 2 2 1 0 1 0 3 1 0 1 1 1 4 1 4 2 1 0 2 2 0 3 0 4 3 4 4 3 2 1 1\n",
      " 2 2 2 3 2 2 2 3 1 2 3 0 1 0 0 3 2 1 2 2 0 2 1 1 0 0 1 2 4 4 0 3 1 4 2 2 0\n",
      " 4 2 2 1 2 1 3 2 1 2 0 0 2 3 1 4 0 1 3 3 2 4 0 1 4 0 0 1 2 3 2 2 4 0 0 2 2\n",
      " 1 1 1 2 1 0 0 0 4 0 4 3 2 2 3 4 2 4 1 4 0 2 4 2 2 2 2 2 2 2 0 2 1 0 3 2 3\n",
      " 2 0 0 2 1 4 2 2 0 4 2 1 3 4 1 1 0 1 2 4 1 2 2 2 0 2 2 0 4 2 2 2 3 0 2 0 4\n",
      " 2 4 0 0 0 2 1 1 2 0 4 0 0 4 4 4 0 1 2 2 4 0 0 1 2 2 2 2 2 0 1 0 3 0 2 0 4\n",
      " 2 3 0 2 4 1 1 0 2 3 2 4 0 2 2 2 3 2 2 4 4 3 1 4 2 0 1 0 2 3 2 0 0 1 4 2 4\n",
      " 0 2 1 2 1 1 3 3 4 2 0 2 2 1 3 4 2 2 1 4 0 4 4 4 2 0 0 4 2 0 2 0 1 1 3 4 0]\n"
     ]
    }
   ],
   "source": [
    "from sklearn.cluster import KMeans\n",
    "kmeans_model = KMeans(n_clusters=5, random_state=1)\n",
    "good_columns = nba._get_numeric_data().dropna(axis=1) # 移除非數值及含有NA值的欄位\n",
    "kmeans_model.fit(good_columns)\n",
    "labels = kmeans_model.labels_\n",
    "print(labels)"
   ]
  },
  {
   "cell_type": "code",
   "execution_count": 205,
   "metadata": {},
   "outputs": [
    {
     "data": {
      "text/plain": [
       "(481, 22)"
      ]
     },
     "execution_count": 205,
     "metadata": {},
     "output_type": "execute_result"
    }
   ],
   "source": [
    "nba._get_numeric_data().shape"
   ]
  },
  {
   "cell_type": "code",
   "execution_count": 206,
   "metadata": {
    "scrolled": false
   },
   "outputs": [
    {
     "data": {
      "text/plain": [
       "(481, 22)"
      ]
     },
     "execution_count": 206,
     "metadata": {},
     "output_type": "execute_result"
    }
   ],
   "source": [
    "nba._get_numeric_data().dropna(axis=1).shape"
   ]
  },
  {
   "cell_type": "code",
   "execution_count": 207,
   "metadata": {
    "scrolled": false
   },
   "outputs": [
    {
     "name": "stdout",
     "output_type": "stream",
     "text": [
      "[3 0 0 2 0 3 4 0 1 0 1 3 0 0 1 0 0 4 3 0 2 3 0 0 1 3 0 3 3 3 1 0 1 1 3 1 0\n",
      " 2 1 3 0 2 0 1 3 0 3 3 0 0 0 1 1 3 3 1 3 0 2 2 1 0 1 3 1 3 3 3 3 0 3 1 2 1\n",
      " 1 3 3 3 0 0 1 0 3 1 1 2 0 1 0 1 3 3 0 3 3 0 3 1 0 2 3 4 3 3 2 1 0 0 3 3 4\n",
      " 1 3 3 3 2 0 1 3 3 3 0 2 4 1 0 3 0 4 2 0 2 1 4 3 3 4 3 0 0 2 2 0 3 2 3 1 3\n",
      " 0 1 2 3 3 3 1 0 0 3 1 2 2 0 4 2 1 3 3 3 3 3 1 2 0 3 1 0 2 2 0 4 3 0 3 0 1\n",
      " 4 1 3 3 0 3 3 3 1 3 2 3 2 2 0 1 1 1 1 1 1 3 1 0 3 3 0 2 3 1 2 1 1 2 3 1 2\n",
      " 3 3 3 4 3 3 3 4 1 3 2 0 1 3 0 2 3 1 3 3 3 3 2 2 0 0 2 3 0 0 3 2 1 0 3 3 3\n",
      " 1 3 3 2 3 1 2 3 1 3 0 0 3 4 1 1 0 2 4 2 3 0 0 1 0 0 3 2 3 2 3 3 1 3 0 3 3\n",
      " 1 1 2 3 2 0 0 3 0 0 1 2 3 3 2 0 3 1 2 1 0 3 1 3 3 3 3 3 3 3 0 3 1 0 2 3 4\n",
      " 3 0 0 3 2 1 3 3 0 0 3 2 2 1 2 2 0 2 3 0 1 3 3 3 3 3 3 0 0 3 3 3 2 0 3 0 0\n",
      " 3 1 0 0 0 3 1 1 3 0 0 3 3 1 1 0 0 1 3 3 0 3 0 1 3 3 3 3 3 0 2 0 2 0 3 0 0\n",
      " 3 2 3 3 1 1 2 3 3 2 3 1 3 3 3 3 2 3 3 0 1 2 2 1 3 0 1 3 3 2 3 3 3 2 1 3 1\n",
      " 3 3 1 3 2 2 2 4 0 3 0 3 3 1 2 1 3 3 1 1 0 1 1 1 3 3 3 0 3 0 3 0 1 2 2 0 0]\n"
     ]
    }
   ],
   "source": [
    "from sklearn.cluster import KMeans\n",
    "kmeans_model = KMeans(n_clusters=5, random_state=1)\n",
    "good_columns = nba._get_numeric_data().dropna(axis=1) # 移除非數值及含有NA值的欄位\n",
    "kmeans_model.fit(nba[[\"age\",\"fg\",\"trb\",\"pts\"]])\n",
    "labels = kmeans_model.labels_\n",
    "print(labels)"
   ]
  },
  {
   "cell_type": "code",
   "execution_count": 208,
   "metadata": {},
   "outputs": [
    {
     "data": {
      "text/html": [
       "<div>\n",
       "<style>\n",
       "    .dataframe thead tr:only-child th {\n",
       "        text-align: right;\n",
       "    }\n",
       "\n",
       "    .dataframe thead th {\n",
       "        text-align: left;\n",
       "    }\n",
       "\n",
       "    .dataframe tbody tr th {\n",
       "        vertical-align: top;\n",
       "    }\n",
       "</style>\n",
       "<table border=\"1\" class=\"dataframe\">\n",
       "  <thead>\n",
       "    <tr style=\"text-align: right;\">\n",
       "      <th></th>\n",
       "      <th>player</th>\n",
       "      <th>age</th>\n",
       "      <th>fg</th>\n",
       "      <th>trb</th>\n",
       "      <th>pts</th>\n",
       "    </tr>\n",
       "  </thead>\n",
       "  <tbody>\n",
       "    <tr>\n",
       "      <th>8</th>\n",
       "      <td>Ray Allen</td>\n",
       "      <td>38</td>\n",
       "      <td>240</td>\n",
       "      <td>205</td>\n",
       "      <td>701</td>\n",
       "    </tr>\n",
       "    <tr>\n",
       "      <th>10</th>\n",
       "      <td>Al-Farouq Aminu</td>\n",
       "      <td>23</td>\n",
       "      <td>234</td>\n",
       "      <td>496</td>\n",
       "      <td>572</td>\n",
       "    </tr>\n",
       "    <tr>\n",
       "      <th>14</th>\n",
       "      <td>James Anderson</td>\n",
       "      <td>24</td>\n",
       "      <td>309</td>\n",
       "      <td>300</td>\n",
       "      <td>810</td>\n",
       "    </tr>\n",
       "    <tr>\n",
       "      <th>24</th>\n",
       "      <td>D.J. Augustin</td>\n",
       "      <td>26</td>\n",
       "      <td>298</td>\n",
       "      <td>130</td>\n",
       "      <td>930</td>\n",
       "    </tr>\n",
       "    <tr>\n",
       "      <th>30</th>\n",
       "      <td>Jose Barea</td>\n",
       "      <td>29</td>\n",
       "      <td>254</td>\n",
       "      <td>154</td>\n",
       "      <td>660</td>\n",
       "    </tr>\n",
       "  </tbody>\n",
       "</table>\n",
       "</div>"
      ],
      "text/plain": [
       "             player  age   fg  trb  pts\n",
       "8         Ray Allen   38  240  205  701\n",
       "10  Al-Farouq Aminu   23  234  496  572\n",
       "14   James Anderson   24  309  300  810\n",
       "24    D.J. Augustin   26  298  130  930\n",
       "30       Jose Barea   29  254  154  660"
      ]
     },
     "execution_count": 208,
     "metadata": {},
     "output_type": "execute_result"
    }
   ],
   "source": [
    "nba.loc[labels == 1,[\"player\",\"age\",\"fg\",\"trb\",\"pts\"]].head()"
   ]
  },
  {
   "cell_type": "code",
   "execution_count": 209,
   "metadata": {
    "scrolled": true
   },
   "outputs": [
    {
     "data": {
      "text/html": [
       "<div>\n",
       "<style>\n",
       "    .dataframe thead tr:only-child th {\n",
       "        text-align: right;\n",
       "    }\n",
       "\n",
       "    .dataframe thead th {\n",
       "        text-align: left;\n",
       "    }\n",
       "\n",
       "    .dataframe tbody tr th {\n",
       "        vertical-align: top;\n",
       "    }\n",
       "</style>\n",
       "<table border=\"1\" class=\"dataframe\">\n",
       "  <thead>\n",
       "    <tr style=\"text-align: right;\">\n",
       "      <th></th>\n",
       "      <th>player</th>\n",
       "      <th>age</th>\n",
       "      <th>fg</th>\n",
       "      <th>trb</th>\n",
       "      <th>pts</th>\n",
       "    </tr>\n",
       "  </thead>\n",
       "  <tbody>\n",
       "    <tr>\n",
       "      <th>3</th>\n",
       "      <td>Arron Afflalo</td>\n",
       "      <td>28</td>\n",
       "      <td>464</td>\n",
       "      <td>262</td>\n",
       "      <td>1330</td>\n",
       "    </tr>\n",
       "    <tr>\n",
       "      <th>20</th>\n",
       "      <td>Trevor Ariza</td>\n",
       "      <td>28</td>\n",
       "      <td>389</td>\n",
       "      <td>475</td>\n",
       "      <td>1107</td>\n",
       "    </tr>\n",
       "    <tr>\n",
       "      <th>37</th>\n",
       "      <td>Nicolas Batum</td>\n",
       "      <td>25</td>\n",
       "      <td>381</td>\n",
       "      <td>611</td>\n",
       "      <td>1070</td>\n",
       "    </tr>\n",
       "    <tr>\n",
       "      <th>41</th>\n",
       "      <td>Bradley Beal</td>\n",
       "      <td>20</td>\n",
       "      <td>481</td>\n",
       "      <td>273</td>\n",
       "      <td>1249</td>\n",
       "    </tr>\n",
       "    <tr>\n",
       "      <th>58</th>\n",
       "      <td>Carlos Boozer</td>\n",
       "      <td>32</td>\n",
       "      <td>447</td>\n",
       "      <td>632</td>\n",
       "      <td>1042</td>\n",
       "    </tr>\n",
       "  </tbody>\n",
       "</table>\n",
       "</div>"
      ],
      "text/plain": [
       "           player  age   fg  trb   pts\n",
       "3   Arron Afflalo   28  464  262  1330\n",
       "20   Trevor Ariza   28  389  475  1107\n",
       "37  Nicolas Batum   25  381  611  1070\n",
       "41   Bradley Beal   20  481  273  1249\n",
       "58  Carlos Boozer   32  447  632  1042"
      ]
     },
     "execution_count": 209,
     "metadata": {},
     "output_type": "execute_result"
    }
   ],
   "source": [
    "nba.loc[labels == 2,[\"player\",\"age\",\"fg\",\"trb\",\"pts\"]].head()"
   ]
  },
  {
   "cell_type": "code",
   "execution_count": 210,
   "metadata": {
    "scrolled": true
   },
   "outputs": [
    {
     "data": {
      "text/html": [
       "<div>\n",
       "<style>\n",
       "    .dataframe thead tr:only-child th {\n",
       "        text-align: right;\n",
       "    }\n",
       "\n",
       "    .dataframe thead th {\n",
       "        text-align: left;\n",
       "    }\n",
       "\n",
       "    .dataframe tbody tr th {\n",
       "        vertical-align: top;\n",
       "    }\n",
       "</style>\n",
       "<table border=\"1\" class=\"dataframe\">\n",
       "  <thead>\n",
       "    <tr style=\"text-align: right;\">\n",
       "      <th></th>\n",
       "      <th>player</th>\n",
       "      <th>age</th>\n",
       "      <th>fg</th>\n",
       "      <th>trb</th>\n",
       "      <th>pts</th>\n",
       "    </tr>\n",
       "  </thead>\n",
       "  <tbody>\n",
       "    <tr>\n",
       "      <th>0</th>\n",
       "      <td>Quincy Acy</td>\n",
       "      <td>23</td>\n",
       "      <td>66</td>\n",
       "      <td>216</td>\n",
       "      <td>171</td>\n",
       "    </tr>\n",
       "    <tr>\n",
       "      <th>5</th>\n",
       "      <td>Cole Aldrich</td>\n",
       "      <td>25</td>\n",
       "      <td>33</td>\n",
       "      <td>129</td>\n",
       "      <td>92</td>\n",
       "    </tr>\n",
       "    <tr>\n",
       "      <th>11</th>\n",
       "      <td>Louis Amundson</td>\n",
       "      <td>31</td>\n",
       "      <td>16</td>\n",
       "      <td>55</td>\n",
       "      <td>38</td>\n",
       "    </tr>\n",
       "    <tr>\n",
       "      <th>18</th>\n",
       "      <td>Joel Anthony</td>\n",
       "      <td>31</td>\n",
       "      <td>12</td>\n",
       "      <td>38</td>\n",
       "      <td>28</td>\n",
       "    </tr>\n",
       "    <tr>\n",
       "      <th>21</th>\n",
       "      <td>Hilton Armstrong</td>\n",
       "      <td>29</td>\n",
       "      <td>9</td>\n",
       "      <td>47</td>\n",
       "      <td>25</td>\n",
       "    </tr>\n",
       "  </tbody>\n",
       "</table>\n",
       "</div>"
      ],
      "text/plain": [
       "              player  age  fg  trb  pts\n",
       "0         Quincy Acy   23  66  216  171\n",
       "5       Cole Aldrich   25  33  129   92\n",
       "11    Louis Amundson   31  16   55   38\n",
       "18      Joel Anthony   31  12   38   28\n",
       "21  Hilton Armstrong   29   9   47   25"
      ]
     },
     "execution_count": 210,
     "metadata": {},
     "output_type": "execute_result"
    }
   ],
   "source": [
    "nba.loc[labels == 3,[\"player\",\"age\",\"fg\",\"trb\",\"pts\"]].head()"
   ]
  },
  {
   "cell_type": "markdown",
   "metadata": {},
   "source": [
    "### 按類別繪製球員分佈圖\n",
    "- 首先使用PCA將資料降至2維，然後畫圖，用不同標記或深淺的點標誌類別。"
   ]
  },
  {
   "cell_type": "code",
   "execution_count": 211,
   "metadata": {},
   "outputs": [
    {
     "name": "stdout",
     "output_type": "stream",
     "text": [
      "Populating the interactive namespace from numpy and matplotlib\n"
     ]
    },
    {
     "data": {
      "image/png": "[encoded data removed]",
      "text/plain": [
       "<matplotlib.figure.Figure at 0x117e86c50>"
      ]
     },
     "metadata": {},
     "output_type": "display_data"
    }
   ],
   "source": [
    "%pylab inline\n",
    "from sklearn.decomposition import PCA\n",
    "pca_2 = PCA(2)\n",
    "plot_columns = pca_2.fit_transform(good_columns)\n",
    "plt.scatter(x=plot_columns[:,0], y=plot_columns[:,1], c=labels)\n",
    "plt.show()"
   ]
  },
  {
   "cell_type": "markdown",
   "metadata": {},
   "source": [
    "<font size=6 style=\"text-shadow:0px 0px 15px #FF37FD;\">練習</font>\n",
    "\n",
    "- 練習1：\n",
    "    - 將opendata103Y010資料以k-means的**列**集為5群\n",
    "    - 依照上述步驟將其視覺化\n",
    "    - 提示：透過`apply(pd.to_numeric)`一次將多欄位轉換為數值資料\n",
    "    - 將labels對應地名(區域別+村里名稱)"
   ]
  },
  {
   "cell_type": "markdown",
   "metadata": {},
   "source": [
    "# ANOVA 變異數分析 (Analysis of Variance) - 1\n",
    "\n",
    "雖然叫做變異數分析\n",
    "\n",
    "但他比較的仍然是組與組之間對於某一個依變數的**「平均數」**是否有顯著的差異\n",
    "\n",
    "那到底要怎樣才算是有「顯著差異」？\n",
    "\n",
    "實作[Belleaya 部落格](http://belleaya.pixnet.net/blog/post/30754486)的有趣範例"
   ]
  },
  {
   "cell_type": "markdown",
   "metadata": {},
   "source": [
    "### 這兩組的曲線長這樣子\n",
    "![](_img/anova_1.png)\n",
    "\n",
    "### 所有樣本的平均值(總平均)大約在中間\n",
    "![](_img/anova_2.png)\n",
    "\n",
    "### 假想我們在第2組挑一個樣本\n",
    "![](_img/anova_3.png)\n",
    "\n",
    "### 組內、組間及總變異示意圖\n",
    "![](_img/anova_4.png)\n",
    "\n",
    "## 最後的關鍵是F值\n",
    "\n",
    "- F值的大小，決定了組跟組之間是否有顯著的差異\n",
    "- F值越大代表：\n",
    "    - 組跟組之間差異越大\n",
    "    - 組內差異越小\n",
    "- 針對自由度來查表，看看F值是否大到超過顯著的臨界值，則代表組與組之間有顯著的差異"
   ]
  },
  {
   "cell_type": "code",
   "execution_count": 212,
   "metadata": {
    "scrolled": false
   },
   "outputs": [
    {
     "data": {
      "image/png": "[encoded data removed]",
      "text/plain": [
       "<matplotlib.figure.Figure at 0x1174185c0>"
      ]
     },
     "metadata": {},
     "output_type": "display_data"
    }
   ],
   "source": [
    "import pandas as pd\n",
    "datafile=\"_data/noodle.csv\"\n",
    "data_noodle = pd.read_csv(datafile)\n",
    " \n",
    "#Create a boxplot\n",
    "data_noodle.boxplot('score', by='group', figsize=(8, 5));"
   ]
  },
  {
   "cell_type": "markdown",
   "metadata": {},
   "source": [
    "## ANOVA表格\n",
    "\n",
    "基本上是先看後面顯著性(PR, p值)這邊很顯然是非常顯著(比.001還要小)\n",
    "\n",
    "> p值定義：實際上沒有差異，卻因誤差或偶發而產生資料差距（嚴格來說，更極端的差距也包含在內）的機率，依慣例要在5%以下。"
   ]
  },
  {
   "cell_type": "code",
   "execution_count": 213,
   "metadata": {
    "scrolled": true
   },
   "outputs": [
    {
     "name": "stdout",
     "output_type": "stream",
     "text": [
      "          sum_sq    df          F    PR(>F)\n",
      "group      48.05   1.0  31.223827  0.000026\n",
      "Residual   27.70  18.0        NaN       NaN\n"
     ]
    }
   ],
   "source": [
    "import statsmodels.api as sm\n",
    "from statsmodels.formula.api import ols\n",
    " # ordinary least squares\n",
    "mod = ols('score ~ group',\n",
    "                data=data_noodle).fit()\n",
    "                \n",
    "aov_table = sm.stats.anova_lm(mod, typ=2)\n",
    "print(aov_table)"
   ]
  },
  {
   "cell_type": "code",
   "execution_count": 214,
   "metadata": {},
   "outputs": [
    {
     "name": "stdout",
     "output_type": "stream",
     "text": [
      "分析結果顯示為顯著(F( 1 , 18 ,)= 31.2238267148 ，p<.001)，故拒絕虛無假設，即兩組麵食的得分具有顯著差異，豚骨拉麵得分顯著高於奶油烏龍麵。\n"
     ]
    }
   ],
   "source": [
    "SS_B = aov_table['df'][0].astype(np.int64)\n",
    "SS_W = aov_table['df'][1].astype(np.int64)\n",
    "F = aov_table['F'][0]\n",
    "\n",
    "print('分析結果顯示為顯著(F(',\n",
    "      SS_B,\n",
    "      ',',\n",
    "      SS_W,\n",
    "      ',)=',\n",
    "      F,\n",
    "      '，p<.001)，故拒絕虛無假設，即兩組麵食的得分具有顯著差異，豚骨拉麵得分顯著高於奶油烏龍麵。')"
   ]
  },
  {
   "cell_type": "markdown",
   "metadata": {},
   "source": [
    "## ANOVA -2\n",
    "- 參考：https://youtu.be/DW0TnDYb82M?t=18m11s\n",
    "- 我們想了解學生對不同教學法喜愛程度是否有差異，A組以PPT教學，B組直接黑板演練，C組使用線上教學，隨機抽取三種教學法學生各5個人，以1-10的分數請他們評分如下："
   ]
  },
  {
   "cell_type": "code",
   "execution_count": 72,
   "metadata": {
    "scrolled": true
   },
   "outputs": [
    {
     "name": "stdout",
     "output_type": "stream",
     "text": [
      "組平均：  [5.2000000000000002, 7.5999999999999996, 5.0]\n",
      "總平均：  5.93333333333\n"
     ]
    }
   ],
   "source": [
    "score = [[8,4,5,5,4], # A組\n",
    "         [8,5,9,7,9], # B組\n",
    "         [4,4,6,6,5]]  # C組\n",
    "group_mean = [sum(i)/len(i) for i in score]\n",
    "total_mean = sum(group_mean)/len(score)\n",
    "print(\"組平均： \",group_mean)\n",
    "print(\"總平均： \", total_mean)"
   ]
  },
  {
   "cell_type": "code",
   "execution_count": 73,
   "metadata": {
    "collapsed": true
   },
   "outputs": [],
   "source": [
    "import pandas as pd\n",
    "group_mean = pd.Series(group_mean)"
   ]
  },
  {
   "attachments": {
    "image.png": {
     "image/png": "[encoded data removed]"
    }
   },
   "cell_type": "markdown",
   "metadata": {},
   "source": [
    "![image.png](attachment:image.png)"
   ]
  },
  {
   "cell_type": "code",
   "execution_count": 217,
   "metadata": {
    "collapsed": true
   },
   "outputs": [],
   "source": [
    "SSB=sum(5*(group_mean-total_mean)**2) #組間變異，自由度 （3-1=2)\n",
    "SSW=sum([sum((pd.Series(score[i])-group_mean[i])**2) for i in range(3)]) #組內變異，自由度15-3=12\n",
    "SST=SSB+SSW\n",
    "MSB=SSB/2\n",
    "MSW=SSW/12"
   ]
  },
  {
   "cell_type": "code",
   "execution_count": 218,
   "metadata": {
    "scrolled": true
   },
   "outputs": [
    {
     "name": "stdout",
     "output_type": "stream",
     "text": [
      "SSB: 20.933333333333326 , 自由度: 2 , MSB: 10.466666666666663\n",
      "SSE: 26.0 , 自由度: 12 , MSW: 2.16666666667\n",
      "F: 4.83076923077\n"
     ]
    }
   ],
   "source": [
    "print(\"SSB:\" ,SSB, \", 自由度:\", 2, \", MSB:\" , MSB)\n",
    "print(\"SSE:\" ,SSW, \", 自由度:\", 12, \", MSW:\" ,MSW)\n",
    "print(\"F:\", MSB/MSW)"
   ]
  },
  {
   "cell_type": "code",
   "execution_count": 219,
   "metadata": {
    "scrolled": true
   },
   "outputs": [
    {
     "data": {
      "text/plain": [
       "0.028903583292032731"
      ]
     },
     "execution_count": 219,
     "metadata": {},
     "output_type": "execute_result"
    }
   ],
   "source": [
    "import scipy\n",
    "scipy.stats.f.sf(MSB/MSW, 2, 12) # p-value"
   ]
  },
  {
   "cell_type": "markdown",
   "metadata": {},
   "source": [
    "### 使用statsmodel計算前，先進行資料變形"
   ]
  },
  {
   "cell_type": "code",
   "execution_count": 74,
   "metadata": {},
   "outputs": [
    {
     "data": {
      "text/html": [
       "<div>\n",
       "<style>\n",
       "    .dataframe thead tr:only-child th {\n",
       "        text-align: right;\n",
       "    }\n",
       "\n",
       "    .dataframe thead th {\n",
       "        text-align: left;\n",
       "    }\n",
       "\n",
       "    .dataframe tbody tr th {\n",
       "        vertical-align: top;\n",
       "    }\n",
       "</style>\n",
       "<table border=\"1\" class=\"dataframe\">\n",
       "  <thead>\n",
       "    <tr style=\"text-align: right;\">\n",
       "      <th></th>\n",
       "      <th>variable</th>\n",
       "      <th>value</th>\n",
       "    </tr>\n",
       "  </thead>\n",
       "  <tbody>\n",
       "    <tr>\n",
       "      <th>0</th>\n",
       "      <td>A</td>\n",
       "      <td>8</td>\n",
       "    </tr>\n",
       "    <tr>\n",
       "      <th>1</th>\n",
       "      <td>A</td>\n",
       "      <td>4</td>\n",
       "    </tr>\n",
       "    <tr>\n",
       "      <th>2</th>\n",
       "      <td>A</td>\n",
       "      <td>5</td>\n",
       "    </tr>\n",
       "    <tr>\n",
       "      <th>3</th>\n",
       "      <td>A</td>\n",
       "      <td>5</td>\n",
       "    </tr>\n",
       "    <tr>\n",
       "      <th>4</th>\n",
       "      <td>A</td>\n",
       "      <td>4</td>\n",
       "    </tr>\n",
       "    <tr>\n",
       "      <th>5</th>\n",
       "      <td>B</td>\n",
       "      <td>8</td>\n",
       "    </tr>\n",
       "    <tr>\n",
       "      <th>6</th>\n",
       "      <td>B</td>\n",
       "      <td>5</td>\n",
       "    </tr>\n",
       "    <tr>\n",
       "      <th>7</th>\n",
       "      <td>B</td>\n",
       "      <td>9</td>\n",
       "    </tr>\n",
       "    <tr>\n",
       "      <th>8</th>\n",
       "      <td>B</td>\n",
       "      <td>7</td>\n",
       "    </tr>\n",
       "    <tr>\n",
       "      <th>9</th>\n",
       "      <td>B</td>\n",
       "      <td>9</td>\n",
       "    </tr>\n",
       "    <tr>\n",
       "      <th>10</th>\n",
       "      <td>C</td>\n",
       "      <td>4</td>\n",
       "    </tr>\n",
       "    <tr>\n",
       "      <th>11</th>\n",
       "      <td>C</td>\n",
       "      <td>4</td>\n",
       "    </tr>\n",
       "    <tr>\n",
       "      <th>12</th>\n",
       "      <td>C</td>\n",
       "      <td>6</td>\n",
       "    </tr>\n",
       "    <tr>\n",
       "      <th>13</th>\n",
       "      <td>C</td>\n",
       "      <td>6</td>\n",
       "    </tr>\n",
       "    <tr>\n",
       "      <th>14</th>\n",
       "      <td>C</td>\n",
       "      <td>5</td>\n",
       "    </tr>\n",
       "  </tbody>\n",
       "</table>\n",
       "</div>"
      ],
      "text/plain": [
       "   variable  value\n",
       "0         A      8\n",
       "1         A      4\n",
       "2         A      5\n",
       "3         A      5\n",
       "4         A      4\n",
       "5         B      8\n",
       "6         B      5\n",
       "7         B      9\n",
       "8         B      7\n",
       "9         B      9\n",
       "10        C      4\n",
       "11        C      4\n",
       "12        C      6\n",
       "13        C      6\n",
       "14        C      5"
      ]
     },
     "execution_count": 74,
     "metadata": {},
     "output_type": "execute_result"
    }
   ],
   "source": [
    "score_df = pd.DataFrame(score).transpose()\n",
    "score_df.columns = [\"A\",\"B\",\"C\"]\n",
    "score_df = score_df.melt()\n",
    "score_df"
   ]
  },
  {
   "cell_type": "code",
   "execution_count": 221,
   "metadata": {
    "scrolled": true
   },
   "outputs": [
    {
     "name": "stdout",
     "output_type": "stream",
     "text": [
      "Populating the interactive namespace from numpy and matplotlib\n"
     ]
    },
    {
     "name": "stderr",
     "output_type": "stream",
     "text": [
      "/Users/Andrew/anaconda/lib/python3.6/site-packages/IPython/core/magics/pylab.py:161: UserWarning: pylab import has clobbered these variables: ['mod']\n",
      "`%matplotlib` prevents importing * from pylab and numpy\n",
      "  \"\\n`%matplotlib` prevents importing * from pylab and numpy\"\n"
     ]
    }
   ],
   "source": [
    "%pylab inline"
   ]
  },
  {
   "cell_type": "markdown",
   "metadata": {},
   "source": [
    "### 使用boxplot感受一下組與組之間的變異"
   ]
  },
  {
   "cell_type": "code",
   "execution_count": 222,
   "metadata": {},
   "outputs": [
    {
     "data": {
      "image/png": "[encoded data removed]",
      "text/plain": [
       "<matplotlib.figure.Figure at 0x117d5b2b0>"
      ]
     },
     "metadata": {},
     "output_type": "display_data"
    }
   ],
   "source": [
    "score_df.boxplot('value', by='variable', figsize=(10, 7));"
   ]
  },
  {
   "cell_type": "code",
   "execution_count": 223,
   "metadata": {
    "scrolled": true
   },
   "outputs": [
    {
     "name": "stdout",
     "output_type": "stream",
     "text": [
      "             sum_sq    df         F    PR(>F)\n",
      "variable  20.933333   2.0  4.830769  0.028904\n",
      "Residual  26.000000  12.0       NaN       NaN\n"
     ]
    }
   ],
   "source": [
    "import statsmodels.api as sm\n",
    "from statsmodels.formula.api import ols\n",
    " \n",
    "mod = ols('value ~ variable',\n",
    "                data=score_df).fit()\n",
    "                \n",
    "aov_table = sm.stats.anova_lm(mod, typ=2)\n",
    "print(aov_table)"
   ]
  },
  {
   "cell_type": "markdown",
   "metadata": {},
   "source": [
    "# 線性迴歸(Linear Regression)\n",
    "\n",
    "||連續(continuous)|類別(categorical)|\n",
    "|---|---|---|\n",
    "|**監督式學習(supervised)**|**迴歸(regression)**|分類(classification)|\n",
    "|**非監督式學習(unsupervised)**|降維(dimension reduction)|集群(clustering)|\n",
    "\n",
    "## 為何學習線性迴歸？\n",
    "\n",
    "- 使用範圍廣泛\n",
    "- 計算效率高\n",
    "- 使用難度低(沒有許多參數需調校)\n",
    "- 容易解釋\n",
    "- 為許多方法的基礎\n",
    "\n",
    "## 相關套件\n",
    "\n",
    "- [Statsmodels](http://statsmodels.sourceforge.net/) \n",
    "- [scikit-learn](http://scikit-learn.org/stable/)\n",
    "- [SciPy](https://www.scipy.org/)"
   ]
  },
  {
   "cell_type": "markdown",
   "metadata": {},
   "source": [
    "## 透過虛擬案例學習"
   ]
  },
  {
   "cell_type": "markdown",
   "metadata": {
    "slideshow": {
     "slide_type": "subslide"
    }
   },
   "source": [
    "### 先有個假設\n",
    "\n",
    "* 1.假設平均日休閒時間透過**神秘函數**能夠預測結婚的年齡：\n",
    "    - f(休閒時間) = 結婚年齡  \n",
    "* 2.假設輸入x,y兩個人的BMI值，透過**神秘函數**可以預測他們的速配指數：\n",
    "    - f(BMI_x, BMI_y) = x與y的速配指數"
   ]
  },
  {
   "cell_type": "markdown",
   "metadata": {
    "slideshow": {
     "slide_type": "subslide"
    }
   },
   "source": [
    "### 來學這個函數\n",
    "\n",
    "我們假設真實世界某個現象(例如上述假設1)的「理想函數」長這樣:\n",
    "\n",
    "$$f(x) = -7.7x + 55$$"
   ]
  },
  {
   "cell_type": "markdown",
   "metadata": {
    "slideshow": {
     "slide_type": "subslide"
    }
   },
   "source": [
    "### 模擬 50 個學習數據\n",
    "\n",
    "就像真實的世界, 我們加入 noise。"
   ]
  },
  {
   "cell_type": "code",
   "execution_count": 224,
   "metadata": {
    "collapsed": true
   },
   "outputs": [],
   "source": [
    "x = np.linspace(0,5,50)\n",
    "y = -7.7*x + 55 + randn(50)*10"
   ]
  },
  {
   "cell_type": "markdown",
   "metadata": {
    "slideshow": {
     "slide_type": "subslide"
    }
   },
   "source": [
    "### 看看我們的數據\n",
    "\n",
    "看看我們目前取的點, 附上「完全正確的」函數。"
   ]
  },
  {
   "cell_type": "code",
   "execution_count": 225,
   "metadata": {},
   "outputs": [
    {
     "data": {
      "image/png": "[encoded data removed]",
      "text/plain": [
       "<matplotlib.figure.Figure at 0x11c000f98>"
      ]
     },
     "metadata": {},
     "output_type": "display_data"
    }
   ],
   "source": [
    "scatter(x,y)\n",
    "plot(x, -7.7*x + 55,'b');"
   ]
  },
  {
   "cell_type": "markdown",
   "metadata": {
    "slideshow": {
     "slide_type": "subslide"
    }
   },
   "source": [
    "### 用 SciPy 來迴歸\n",
    "\n",
    "- SciPy的好處是只要預想好這些資料長得很像什麼函數, 我們都可以迴歸! 不一定要線性函數!\n",
    "- 以下使用線性函數為例，先做一個目標函數\n",
    "\n",
    "$$f(x) = ax + b$$\n",
    "\n",
    "再來算 a, b 這樣。"
   ]
  },
  {
   "cell_type": "code",
   "execution_count": 226,
   "metadata": {
    "collapsed": true
   },
   "outputs": [],
   "source": [
    "from scipy.optimize import curve_fit"
   ]
  },
  {
   "cell_type": "code",
   "execution_count": 227,
   "metadata": {
    "collapsed": true
   },
   "outputs": [],
   "source": [
    "def f(x, a, b):\n",
    "    return a*x + b"
   ]
  },
  {
   "cell_type": "markdown",
   "metadata": {
    "slideshow": {
     "slide_type": "subslide"
    }
   },
   "source": [
    "### 開始迴歸\n",
    "\n",
    "- 我們「學習的資料」就是剛剛的 x, y\n",
    "    - 若以一開始的假設來說，x就是某個人的平均日休閒時間，y就是他的實際結婚年齡\n",
    "    - 並且我們有50個實際案例(模擬的)\n",
    "- 傳回的 popt 是以最小平方法下得到的 a, b"
   ]
  },
  {
   "cell_type": "code",
   "execution_count": 228,
   "metadata": {
    "collapsed": true
   },
   "outputs": [],
   "source": [
    "popt, pcov = curve_fit(f, x, y)"
   ]
  },
  {
   "cell_type": "code",
   "execution_count": 229,
   "metadata": {},
   "outputs": [
    {
     "data": {
      "text/plain": [
       "array([[ 0.69878558, -1.74696395],\n",
       "       [-1.74696395,  5.8826337 ]])"
      ]
     },
     "execution_count": 229,
     "metadata": {},
     "output_type": "execute_result"
    }
   ],
   "source": [
    "pcov"
   ]
  },
  {
   "cell_type": "code",
   "execution_count": 230,
   "metadata": {},
   "outputs": [
    {
     "data": {
      "text/plain": [
       "array([ -6.98537651,  50.23959013])"
      ]
     },
     "execution_count": 230,
     "metadata": {},
     "output_type": "execute_result"
    }
   ],
   "source": [
    "popt"
   ]
  },
  {
   "cell_type": "code",
   "execution_count": 231,
   "metadata": {
    "collapsed": true
   },
   "outputs": [],
   "source": [
    "a, b = popt"
   ]
  },
  {
   "cell_type": "markdown",
   "metadata": {
    "slideshow": {
     "slide_type": "subslide"
    }
   },
   "source": [
    "### 畫出結果\n",
    "\n",
    "紅色是我們模擬出來的, 藍色是「理想狀況函數」。"
   ]
  },
  {
   "cell_type": "code",
   "execution_count": 232,
   "metadata": {
    "scrolled": false
   },
   "outputs": [
    {
     "data": {
      "image/png": "[encoded data removed]",
      "text/plain": [
       "<matplotlib.figure.Figure at 0x11c091780>"
      ]
     },
     "metadata": {},
     "output_type": "display_data"
    }
   ],
   "source": [
    "scatter(x,y)\n",
    "plot(x,-7.7*x + 55,'b',label=\"original\")\n",
    "plot(x, a*x + b, 'r',label=\"fit\")\n",
    "ax = gca()\n",
    "ax.legend();"
   ]
  },
  {
   "cell_type": "markdown",
   "metadata": {},
   "source": [
    "<font size=6 style=\"text-shadow:0px 0px 15px #FF37FD;\">練習</font>\n",
    "- 將「alligator.csv」資料讀入並進行線性迴歸分析\n",
    "- 練習1：\n",
    "    - 載入資料\n",
    "    - 取得資料的維度狀況\n",
    "    - 試以長度為自變數(x)，重量為應變數(y)，配適迴歸模型\n",
    "    - 繪製散點圖並將迴歸直線一同畫上"
   ]
  },
  {
   "cell_type": "markdown",
   "metadata": {},
   "source": [
    "## 案例實作：廣告資料\n",
    "\n",
    "試著理解資料、提出問題並且透過迴歸模型去回答問題"
   ]
  },
  {
   "cell_type": "code",
   "execution_count": 233,
   "metadata": {
    "collapsed": true
   },
   "outputs": [],
   "source": [
    "# 套件載入\n",
    "import pandas as pd"
   ]
  },
  {
   "cell_type": "code",
   "execution_count": 234,
   "metadata": {},
   "outputs": [
    {
     "data": {
      "text/html": [
       "<div>\n",
       "<style>\n",
       "    .dataframe thead tr:only-child th {\n",
       "        text-align: right;\n",
       "    }\n",
       "\n",
       "    .dataframe thead th {\n",
       "        text-align: left;\n",
       "    }\n",
       "\n",
       "    .dataframe tbody tr th {\n",
       "        vertical-align: top;\n",
       "    }\n",
       "</style>\n",
       "<table border=\"1\" class=\"dataframe\">\n",
       "  <thead>\n",
       "    <tr style=\"text-align: right;\">\n",
       "      <th></th>\n",
       "      <th>TV</th>\n",
       "      <th>Radio</th>\n",
       "      <th>Newspaper</th>\n",
       "      <th>Sales</th>\n",
       "    </tr>\n",
       "  </thead>\n",
       "  <tbody>\n",
       "    <tr>\n",
       "      <th>1</th>\n",
       "      <td>230.1</td>\n",
       "      <td>37.8</td>\n",
       "      <td>69.2</td>\n",
       "      <td>22.1</td>\n",
       "    </tr>\n",
       "    <tr>\n",
       "      <th>2</th>\n",
       "      <td>44.5</td>\n",
       "      <td>39.3</td>\n",
       "      <td>45.1</td>\n",
       "      <td>10.4</td>\n",
       "    </tr>\n",
       "    <tr>\n",
       "      <th>3</th>\n",
       "      <td>17.2</td>\n",
       "      <td>45.9</td>\n",
       "      <td>69.3</td>\n",
       "      <td>9.3</td>\n",
       "    </tr>\n",
       "    <tr>\n",
       "      <th>4</th>\n",
       "      <td>151.5</td>\n",
       "      <td>41.3</td>\n",
       "      <td>58.5</td>\n",
       "      <td>18.5</td>\n",
       "    </tr>\n",
       "    <tr>\n",
       "      <th>5</th>\n",
       "      <td>180.8</td>\n",
       "      <td>10.8</td>\n",
       "      <td>58.4</td>\n",
       "      <td>12.9</td>\n",
       "    </tr>\n",
       "  </tbody>\n",
       "</table>\n",
       "</div>"
      ],
      "text/plain": [
       "      TV  Radio  Newspaper  Sales\n",
       "1  230.1   37.8       69.2   22.1\n",
       "2   44.5   39.3       45.1   10.4\n",
       "3   17.2   45.9       69.3    9.3\n",
       "4  151.5   41.3       58.5   18.5\n",
       "5  180.8   10.8       58.4   12.9"
      ]
     },
     "execution_count": 234,
     "metadata": {},
     "output_type": "execute_result"
    }
   ],
   "source": [
    "# 讀取資料為DataFrame物件\n",
    "data = pd.read_csv('_data/Advertising.csv', index_col=0)\n",
    "data.head()"
   ]
  },
  {
   "cell_type": "markdown",
   "metadata": {},
   "source": [
    "**特徵(features)，自變數**：\n",
    "- TV：某產品投入於電視廣告的金額\n",
    "- Radio：某產品投入於廣播廣告的金額\n",
    "- Newspaper：某產品投入於報紙廣告的金額\n",
    "\n",
    "**反應(response)，應變數**：\n",
    "- Sales: 於給定的市場範圍中，某產品的銷售狀況"
   ]
  },
  {
   "cell_type": "code",
   "execution_count": 235,
   "metadata": {},
   "outputs": [
    {
     "data": {
      "text/plain": [
       "(200, 4)"
      ]
     },
     "execution_count": 235,
     "metadata": {},
     "output_type": "execute_result"
    }
   ],
   "source": [
    "# print the shape of the DataFrame\n",
    "data.shape"
   ]
  },
  {
   "cell_type": "markdown",
   "metadata": {},
   "source": [
    "- 200個**觀測值(observations)**\n",
    "- 4個**變數(variable)**"
   ]
  },
  {
   "cell_type": "code",
   "execution_count": 236,
   "metadata": {},
   "outputs": [
    {
     "data": {
      "text/plain": [
       "<matplotlib.axes._subplots.AxesSubplot at 0x11c0d4c18>"
      ]
     },
     "execution_count": 236,
     "metadata": {},
     "output_type": "execute_result"
    },
    {
     "data": {
      "image/png": "[encoded data removed]",
      "text/plain": [
       "<matplotlib.figure.Figure at 0x11c09e7b8>"
      ]
     },
     "metadata": {},
     "output_type": "display_data"
    }
   ],
   "source": [
    "# 以散點圖呈現特徵與回應之間的關係\n",
    "fig, axs = plt.subplots(1, 3, sharey=True)\n",
    "data.plot(kind='scatter', x='TV', y='Sales', ax=axs[0], figsize=(16, 8))\n",
    "data.plot(kind='scatter', x='Radio', y='Sales', ax=axs[1])\n",
    "data.plot(kind='scatter', x='Newspaper', y='Sales', ax=axs[2])"
   ]
  },
  {
   "cell_type": "markdown",
   "metadata": {},
   "source": [
    "### Questions About the Advertising Data\n",
    "\n",
    "想像你在這間生產並營銷此產品的公司上班，公司可能問你：如何透過這份資料去規劃廣告預算？\n",
    "\n",
    "更具體的來說，可以列出以下問題：\n",
    "1. 廣告與銷售之間有關係嗎？\n",
    "2. 關係的強度？\n",
    "3. 哪種廣告類型比較有貢獻？\n",
    "4. 每種廣告類型對於銷售的影響如何？\n",
    "5. 可以依據投入的廣告預算，預測銷售狀況嗎？\n"
   ]
  },
  {
   "cell_type": "markdown",
   "metadata": {},
   "source": [
    "### 簡單線性迴歸(Simple Linear Regression)\n",
    "\n",
    "透過單一特徵(**single feature**)或稱自變數(independent variable)、預測變數(predictor)，預測一個**值**(**quantitative response**)或稱依變數(dependent variable)、反應變數(response variable)。公式如下：\n",
    "\n",
    "$y = \\beta_0 + \\beta_1x$\n",
    "\n",
    "定義如下：\n",
    "- $y$ is the response\n",
    "- $x$ is the feature\n",
    "- $\\beta_0$ is the intercept(截距)\n",
    "- $\\beta_1$ is the coefficient(係數) for x\n",
    "- $\\beta_0$與$\\beta_1$稱**模型係數(model coefficients)**\n",
    "\n",
    "為了建立(配適)此迴歸模型，我們必須把模型係數**\"學\"**出來，學成後就可以預測銷售了！"
   ]
  },
  {
   "cell_type": "markdown",
   "metadata": {},
   "source": [
    "### 如何估計(\"學\") 模型係數？\n",
    "\n",
    "常見的方法為**最小平方法(least squares criterion)**，其代表的意義是要找到一條**殘差總和(sum of squared residuals)**最小的**線**，殘差也就是誤差(error):"
   ]
  },
  {
   "cell_type": "markdown",
   "metadata": {},
   "source": [
    "<img src=\"_img/estimating_coefficients.png\">"
   ]
  },
  {
   "cell_type": "markdown",
   "metadata": {},
   "source": [
    "左圖解釋如下：\n",
    "- 黑點表示**觀測值(observed values)**，一個x(自變數，投入廣告成本)與一個y(應變數，銷售狀況)\n",
    "- 藍線表示**最小平方線(least squares line)**\n",
    "- 紅線表示**殘差(residuals)**\n",
    "\n",
    "模型係數與最小平方線的關係為何？\n",
    "- $\\beta_0$為**截距(intercept)** (當$x$=0時的$y$)\n",
    "- $\\beta_1$為**斜率(slope)** (當$x$變動時，$y$改變的量)"
   ]
  },
  {
   "cell_type": "markdown",
   "metadata": {},
   "source": [
    "<img src=\"_img/slope_intercept.png\">"
   ]
  },
  {
   "cell_type": "markdown",
   "metadata": {},
   "source": [
    "以下透過 **Statsmodels** 套件來估計此廣告資料的模型係數："
   ]
  },
  {
   "cell_type": "code",
   "execution_count": 237,
   "metadata": {},
   "outputs": [
    {
     "data": {
      "text/plain": [
       "Intercept    7.032594\n",
       "TV           0.047537\n",
       "dtype: float64"
      ]
     },
     "execution_count": 237,
     "metadata": {},
     "output_type": "execute_result"
    }
   ],
   "source": [
    "# this is the standard import if you're using \"formula notation\" \n",
    "import statsmodels.formula.api as smf\n",
    "\n",
    "# create a fitted model in one line\n",
    "# 這邊以Sales為y也就是response，TV為x也就是feature\n",
    "# ordinary least squares\n",
    "lm = smf.ols(formula='Sales ~ TV', data=data).fit()\n",
    "\n",
    "# print the coefficients\n",
    "lm.params"
   ]
  },
  {
   "cell_type": "markdown",
   "metadata": {},
   "source": [
    "### 模型係數解釋\n",
    "\n",
    "如何解釋TV係數($\\beta_1$)?\n",
    "- 每增加一個單位的TV廣告成本相當於增加0.047537個\"unit\"的銷售量\n",
    "- 白話來說，每花1000元廣告費會多銷售47.537個產品\n",
    "\n",
    "注意：若$\\beta_1$為負數，表示增加廣告費用，反而會降低銷售量"
   ]
  },
  {
   "cell_type": "markdown",
   "metadata": {},
   "source": [
    "### 使用此模型進行預測\n",
    "\n",
    "當模型係數已經**\"學\"**成，我們就可以透過新的廣告預算進行銷售預測，假設我們投入的TV廣告預算為**$50,000**。\n",
    "\n",
    "$$y = \\beta_0 + \\beta_1x$$\n",
    "$$y = 7.032594 + 0.047537 \\times 50$$"
   ]
  },
  {
   "cell_type": "code",
   "execution_count": 238,
   "metadata": {},
   "outputs": [
    {
     "data": {
      "text/plain": [
       "9.409444"
      ]
     },
     "execution_count": 238,
     "metadata": {},
     "output_type": "execute_result"
    }
   ],
   "source": [
    "# manually calculate the prediction\n",
    "7.032594 + 0.047537*50"
   ]
  },
  {
   "cell_type": "markdown",
   "metadata": {},
   "source": [
    "預測的銷售量為**9,409**個產品\n",
    "\n",
    "當然，我們也可以透過Statsmodels的函數幫助我們更方便地進行預測："
   ]
  },
  {
   "cell_type": "code",
   "execution_count": 239,
   "metadata": {},
   "outputs": [
    {
     "data": {
      "text/html": [
       "<div>\n",
       "<style>\n",
       "    .dataframe thead tr:only-child th {\n",
       "        text-align: right;\n",
       "    }\n",
       "\n",
       "    .dataframe thead th {\n",
       "        text-align: left;\n",
       "    }\n",
       "\n",
       "    .dataframe tbody tr th {\n",
       "        vertical-align: top;\n",
       "    }\n",
       "</style>\n",
       "<table border=\"1\" class=\"dataframe\">\n",
       "  <thead>\n",
       "    <tr style=\"text-align: right;\">\n",
       "      <th></th>\n",
       "      <th>TV</th>\n",
       "    </tr>\n",
       "  </thead>\n",
       "  <tbody>\n",
       "    <tr>\n",
       "      <th>0</th>\n",
       "      <td>50</td>\n",
       "    </tr>\n",
       "  </tbody>\n",
       "</table>\n",
       "</div>"
      ],
      "text/plain": [
       "   TV\n",
       "0  50"
      ]
     },
     "execution_count": 239,
     "metadata": {},
     "output_type": "execute_result"
    }
   ],
   "source": [
    "# you have to create a DataFrame since the Statsmodels formula interface expects it\n",
    "X_new = pd.DataFrame({'TV': [50]})\n",
    "X_new.head()"
   ]
  },
  {
   "cell_type": "code",
   "execution_count": 240,
   "metadata": {},
   "outputs": [
    {
     "data": {
      "text/plain": [
       "0    9.409426\n",
       "dtype: float64"
      ]
     },
     "execution_count": 240,
     "metadata": {},
     "output_type": "execute_result"
    }
   ],
   "source": [
    "# use the model to make predictions on a new value\n",
    "lm.predict(X_new)"
   ]
  },
  {
   "cell_type": "markdown",
   "metadata": {},
   "source": [
    "### 繪製最小平方線\n",
    "\n",
    "已經有了二元一次方程式，透過兩點一線的概念即可繪製該直線，這邊我們透過TV觀測值中的最小值及最大值及它們對應的預測值來繪製："
   ]
  },
  {
   "cell_type": "code",
   "execution_count": 241,
   "metadata": {},
   "outputs": [
    {
     "data": {
      "text/html": [
       "<div>\n",
       "<style>\n",
       "    .dataframe thead tr:only-child th {\n",
       "        text-align: right;\n",
       "    }\n",
       "\n",
       "    .dataframe thead th {\n",
       "        text-align: left;\n",
       "    }\n",
       "\n",
       "    .dataframe tbody tr th {\n",
       "        vertical-align: top;\n",
       "    }\n",
       "</style>\n",
       "<table border=\"1\" class=\"dataframe\">\n",
       "  <thead>\n",
       "    <tr style=\"text-align: right;\">\n",
       "      <th></th>\n",
       "      <th>TV</th>\n",
       "    </tr>\n",
       "  </thead>\n",
       "  <tbody>\n",
       "    <tr>\n",
       "      <th>0</th>\n",
       "      <td>0.7</td>\n",
       "    </tr>\n",
       "    <tr>\n",
       "      <th>1</th>\n",
       "      <td>296.4</td>\n",
       "    </tr>\n",
       "  </tbody>\n",
       "</table>\n",
       "</div>"
      ],
      "text/plain": [
       "      TV\n",
       "0    0.7\n",
       "1  296.4"
      ]
     },
     "execution_count": 241,
     "metadata": {},
     "output_type": "execute_result"
    }
   ],
   "source": [
    "# create a DataFrame with the minimum and maximum values of TV\n",
    "X_new = pd.DataFrame({'TV': [data.TV.min(), data.TV.max()]})\n",
    "X_new.head()"
   ]
  },
  {
   "cell_type": "code",
   "execution_count": 242,
   "metadata": {},
   "outputs": [
    {
     "data": {
      "text/plain": [
       "0     7.065869\n",
       "1    21.122454\n",
       "dtype: float64"
      ]
     },
     "execution_count": 242,
     "metadata": {},
     "output_type": "execute_result"
    }
   ],
   "source": [
    "# make predictions for those x values and store them\n",
    "preds = lm.predict(X_new)\n",
    "preds"
   ]
  },
  {
   "cell_type": "code",
   "execution_count": 243,
   "metadata": {
    "scrolled": true
   },
   "outputs": [
    {
     "data": {
      "text/plain": [
       "[<matplotlib.lines.Line2D at 0x11c35c438>]"
      ]
     },
     "execution_count": 243,
     "metadata": {},
     "output_type": "execute_result"
    },
    {
     "data": {
      "image/png": "[encoded data removed]",
      "text/plain": [
       "<matplotlib.figure.Figure at 0x11c2c7f98>"
      ]
     },
     "metadata": {},
     "output_type": "display_data"
    }
   ],
   "source": [
    "# first, plot the observed data\n",
    "data.plot(kind='scatter', x='TV', y='Sales')\n",
    "\n",
    "# then, plot the least squares line\n",
    "plt.plot(X_new, preds, c='red', linewidth=2)"
   ]
  },
  {
   "cell_type": "markdown",
   "metadata": {},
   "source": [
    "<font size=6 style=\"text-shadow:0px 0px 15px #FF37FD;\">練習</font>\n",
    "- 以Radio為自變數進行單變量線性迴歸\n",
    "- 假設一個新的Radio投入成本為30，請預測其銷售量\n",
    "- 繪製散點圖與迴歸直線"
   ]
  },
  {
   "cell_type": "markdown",
   "metadata": {},
   "source": [
    "### 模型的可信程度？\n",
    "\n",
    "- 相關的概念為**信賴區間(confidence intervals)**\n",
    "- Statsmodels預設的信賴區間為95%，這表示：\n",
    "    - If the population(母體) from which this sample(抽樣) was drawn was **sampled 100 times**, approximately **95 of those confidence intervals** would contain the \"true\"(真正?) coefficient."
   ]
  },
  {
   "cell_type": "code",
   "execution_count": 244,
   "metadata": {},
   "outputs": [
    {
     "data": {
      "text/html": [
       "<div>\n",
       "<style>\n",
       "    .dataframe thead tr:only-child th {\n",
       "        text-align: right;\n",
       "    }\n",
       "\n",
       "    .dataframe thead th {\n",
       "        text-align: left;\n",
       "    }\n",
       "\n",
       "    .dataframe tbody tr th {\n",
       "        vertical-align: top;\n",
       "    }\n",
       "</style>\n",
       "<table border=\"1\" class=\"dataframe\">\n",
       "  <thead>\n",
       "    <tr style=\"text-align: right;\">\n",
       "      <th></th>\n",
       "      <th>0</th>\n",
       "      <th>1</th>\n",
       "    </tr>\n",
       "  </thead>\n",
       "  <tbody>\n",
       "    <tr>\n",
       "      <th>Intercept</th>\n",
       "      <td>6.129719</td>\n",
       "      <td>7.935468</td>\n",
       "    </tr>\n",
       "    <tr>\n",
       "      <th>TV</th>\n",
       "      <td>0.042231</td>\n",
       "      <td>0.052843</td>\n",
       "    </tr>\n",
       "  </tbody>\n",
       "</table>\n",
       "</div>"
      ],
      "text/plain": [
       "                  0         1\n",
       "Intercept  6.129719  7.935468\n",
       "TV         0.042231  0.052843"
      ]
     },
     "execution_count": 244,
     "metadata": {},
     "output_type": "execute_result"
    }
   ],
   "source": [
    "# print the confidence intervals for the model coefficients\n",
    "# 係數的區間\n",
    "lm.conf_int()"
   ]
  },
  {
   "cell_type": "markdown",
   "metadata": {},
   "source": [
    "- 很難有辦法取得整個母體的資料，通常是以樣本資料進行係數估計\n",
    "- \"真正的\"係數是否在我們估計的區間之中呢？there's no way to actually know\n",
    "- 我們透過僅有的資料進行估計，並且用一個範圍來表示這個\"真正的\"係數**可能**在其中\n",
    "- 95%的信賴區間只是一個慣例，實際上可以依照我們的需求去決定，要了解的是：\n",
    "    - 信賴區間定的越小(假設90%)，係數的範圍就會越小\n",
    "    - 信賴區間定的越大(假設99%)，係數的範圍就會越大\n",
    "    - 就好像賭神說：\n",
    "        - 我這副牌有20%的信心能贏1000-1200元之間(係數範圍小)\n",
    "        - 我這副牌有99%的信心，輸贏會介於賠1000跟賺2000元之間(係數範圍大)\n"
   ]
  },
  {
   "cell_type": "markdown",
   "metadata": {},
   "source": [
    "### 假設檢定及p值(p-values)\n",
    "\n",
    "與信賴區間密切相關的是**假設檢定(hypothesis testing)**。廣義來說，我們會假設一個**虛無假設(null hypothesis)**與一個跟虛無假設相反的**對立假設(alternative hypothesis)**。接著，透過手上的資料去評估，**拒絕虛無假設(rejecting the null hypothesis)**或者是**不拒絕虛無假設(failing to reject the null hypothesis)**.\n",
    "\n",
    "(Note that \"failing to reject\" the null is not the same as \"accepting\"(我不拒絕你不表示接受你...) the null hypothesis. The alternative hypothesis may indeed be true, except that you just don't have enough data to show that.)\n",
    "\n",
    "用於模型係數上，慣例使用下列假設檢定：\n",
    "- **虛無假設:** 電視廣告與銷售不相關( $\\beta_1 = 0$)\n",
    "- **對立假設:** 電視廣告與銷售相關 ( $\\beta_1 \\neq 0$)\n",
    "\n",
    "如何檢定呢？\n",
    "- 就是看95%的信賴區間中，是否不包含0\n",
    "- **p值(p-value)**表示，該係數為0的機率\n"
   ]
  },
  {
   "cell_type": "code",
   "execution_count": 245,
   "metadata": {},
   "outputs": [
    {
     "data": {
      "text/plain": [
       "Intercept    1.406300e-35\n",
       "TV           1.467390e-42\n",
       "dtype: float64"
      ]
     },
     "execution_count": 245,
     "metadata": {},
     "output_type": "execute_result"
    }
   ],
   "source": [
    "# print the p-values for the model coefficients\n",
    "lm.pvalues"
   ]
  },
  {
   "cell_type": "markdown",
   "metadata": {},
   "source": [
    "- 若95%的信賴區間**包含0**，則p值將會大於0.05，反之，小於0.05。\n",
    "- 再次提醒，0.05只是一個慣例\n",
    "- 通常會忽略截距的p值\n",
    "- 以此案例來說，p值遠小於0.05，所以我們**相信**電視廣告與銷售量是有關係的。\n"
   ]
  },
  {
   "cell_type": "markdown",
   "metadata": {},
   "source": [
    "### 模型的配適程度如何？\n",
    "\n",
    "- 普遍使用的方法是透過**決定係數(R-squared)**或稱R平方、迴歸可解釋變異量比\n",
    "- 決定係數是指此迴歸模型可以解釋這些樣本資料的變異量比例\n",
    "- 決定係數是介於0到1之間，越大越好，表示越多的變異量被此模型解釋\n",
    "- 用下圖可以更好理解"
   ]
  },
  {
   "cell_type": "markdown",
   "metadata": {},
   "source": [
    "<img src=\"_img/r_squared.png\">"
   ]
  },
  {
   "cell_type": "markdown",
   "metadata": {},
   "source": [
    "- 藍線：解釋了部分的變異量，其決定係數為0.54\n",
    "- 綠線：解釋了更多的變異量，其決定係數為0.64\n",
    "- 紅線：解釋了的變異量更多且更深入，其決定係數為0.66(是否可能過度配適?)\n",
    "    - ![](_img/overfitting.png)\n",
    "\n",
    "以下計算方才模型的決定係數："
   ]
  },
  {
   "cell_type": "code",
   "execution_count": 246,
   "metadata": {},
   "outputs": [
    {
     "data": {
      "text/plain": [
       "0.61187505085007099"
      ]
     },
     "execution_count": 246,
     "metadata": {},
     "output_type": "execute_result"
    }
   ],
   "source": [
    "# print the R-squared value for the model\n",
    "lm.rsquared"
   ]
  },
  {
   "cell_type": "markdown",
   "metadata": {},
   "source": [
    "- 這樣的決定係數是否好呢？其實很難說！\n",
    "- 一個好的決定係數，取決於應用情境，例如：\n",
    "    - 儀器的精確度校正，通常決定係數要高達0.999\n",
    "    - 社會科學的研究，通常決定係數在0.6-0.7\n",
    "- 所以，決定係數更好的用法是在於**比較不同的模型**時"
   ]
  },
  {
   "cell_type": "markdown",
   "metadata": {},
   "source": [
    "### 多變量迴歸\n",
    "\n",
    "- 簡單線性迴歸可以簡單的擴展為多特徵(自變量)\n",
    "- $y = \\beta_0 + \\beta_1x_1 + ... + \\beta_nx_n$\n",
    "- 每個$x$表示不同的特徵且各有其係數：\n",
    "    - $y = \\beta_0 + \\beta_1 \\times TV + \\beta_2 \\times Radio + \\beta_3 \\times Newspaper$"
   ]
  },
  {
   "cell_type": "code",
   "execution_count": 247,
   "metadata": {},
   "outputs": [
    {
     "data": {
      "text/plain": [
       "Intercept    2.938889\n",
       "TV           0.045765\n",
       "Radio        0.188530\n",
       "Newspaper   -0.001037\n",
       "dtype: float64"
      ]
     },
     "execution_count": 247,
     "metadata": {},
     "output_type": "execute_result"
    }
   ],
   "source": [
    "# create a fitted model with all three features\n",
    "lm = smf.ols(formula='Sales ~ TV + Radio + Newspaper', data=data).fit()\n",
    "\n",
    "# print the coefficients\n",
    "lm.params"
   ]
  },
  {
   "cell_type": "markdown",
   "metadata": {},
   "source": [
    "解釋：\n",
    "\n",
    "- 在給定的Radio及Newspaper廣告投入成本下，每增加1000元的TV廣告，可以提高45.765單位的銷售量\n",
    "- 透過summary可以取得更多的模型資訊："
   ]
  },
  {
   "cell_type": "code",
   "execution_count": 248,
   "metadata": {},
   "outputs": [
    {
     "data": {
      "text/html": [
       "<table class=\"simpletable\">\n",
       "<caption>OLS Regression Results</caption>\n",
       "<tr>\n",
       "  <th>Dep. Variable:</th>          <td>Sales</td>      <th>  R-squared:         </th> <td>   0.897</td>\n",
       "</tr>\n",
       "<tr>\n",
       "  <th>Model:</th>                   <td>OLS</td>       <th>  Adj. R-squared:    </th> <td>   0.896</td>\n",
       "</tr>\n",
       "<tr>\n",
       "  <th>Method:</th>             <td>Least Squares</td>  <th>  F-statistic:       </th> <td>   570.3</td>\n",
       "</tr>\n",
       "<tr>\n",
       "  <th>Date:</th>             <td>Wed, 27 Sep 2017</td> <th>  Prob (F-statistic):</th> <td>1.58e-96</td>\n",
       "</tr>\n",
       "<tr>\n",
       "  <th>Time:</th>                 <td>09:14:42</td>     <th>  Log-Likelihood:    </th> <td> -386.18</td>\n",
       "</tr>\n",
       "<tr>\n",
       "  <th>No. Observations:</th>      <td>   200</td>      <th>  AIC:               </th> <td>   780.4</td>\n",
       "</tr>\n",
       "<tr>\n",
       "  <th>Df Residuals:</th>          <td>   196</td>      <th>  BIC:               </th> <td>   793.6</td>\n",
       "</tr>\n",
       "<tr>\n",
       "  <th>Df Model:</th>              <td>     3</td>      <th>                     </th>     <td> </td>   \n",
       "</tr>\n",
       "<tr>\n",
       "  <th>Covariance Type:</th>      <td>nonrobust</td>    <th>                     </th>     <td> </td>   \n",
       "</tr>\n",
       "</table>\n",
       "<table class=\"simpletable\">\n",
       "<tr>\n",
       "      <td></td>         <th>coef</th>     <th>std err</th>      <th>t</th>      <th>P>|t|</th>  <th>[0.025</th>    <th>0.975]</th>  \n",
       "</tr>\n",
       "<tr>\n",
       "  <th>Intercept</th> <td>    2.9389</td> <td>    0.312</td> <td>    9.422</td> <td> 0.000</td> <td>    2.324</td> <td>    3.554</td>\n",
       "</tr>\n",
       "<tr>\n",
       "  <th>TV</th>        <td>    0.0458</td> <td>    0.001</td> <td>   32.809</td> <td> 0.000</td> <td>    0.043</td> <td>    0.049</td>\n",
       "</tr>\n",
       "<tr>\n",
       "  <th>Radio</th>     <td>    0.1885</td> <td>    0.009</td> <td>   21.893</td> <td> 0.000</td> <td>    0.172</td> <td>    0.206</td>\n",
       "</tr>\n",
       "<tr>\n",
       "  <th>Newspaper</th> <td>   -0.0010</td> <td>    0.006</td> <td>   -0.177</td> <td> 0.860</td> <td>   -0.013</td> <td>    0.011</td>\n",
       "</tr>\n",
       "</table>\n",
       "<table class=\"simpletable\">\n",
       "<tr>\n",
       "  <th>Omnibus:</th>       <td>60.414</td> <th>  Durbin-Watson:     </th> <td>   2.084</td>\n",
       "</tr>\n",
       "<tr>\n",
       "  <th>Prob(Omnibus):</th> <td> 0.000</td> <th>  Jarque-Bera (JB):  </th> <td> 151.241</td>\n",
       "</tr>\n",
       "<tr>\n",
       "  <th>Skew:</th>          <td>-1.327</td> <th>  Prob(JB):          </th> <td>1.44e-33</td>\n",
       "</tr>\n",
       "<tr>\n",
       "  <th>Kurtosis:</th>      <td> 6.332</td> <th>  Cond. No.          </th> <td>    454.</td>\n",
       "</tr>\n",
       "</table>"
      ],
      "text/plain": [
       "<class 'statsmodels.iolib.summary.Summary'>\n",
       "\"\"\"\n",
       "                            OLS Regression Results                            \n",
       "==============================================================================\n",
       "Dep. Variable:                  Sales   R-squared:                       0.897\n",
       "Model:                            OLS   Adj. R-squared:                  0.896\n",
       "Method:                 Least Squares   F-statistic:                     570.3\n",
       "Date:                Wed, 27 Sep 2017   Prob (F-statistic):           1.58e-96\n",
       "Time:                        09:14:42   Log-Likelihood:                -386.18\n",
       "No. Observations:                 200   AIC:                             780.4\n",
       "Df Residuals:                     196   BIC:                             793.6\n",
       "Df Model:                           3                                         \n",
       "Covariance Type:            nonrobust                                         \n",
       "==============================================================================\n",
       "                 coef    std err          t      P>|t|      [0.025      0.975]\n",
       "------------------------------------------------------------------------------\n",
       "Intercept      2.9389      0.312      9.422      0.000       2.324       3.554\n",
       "TV             0.0458      0.001     32.809      0.000       0.043       0.049\n",
       "Radio          0.1885      0.009     21.893      0.000       0.172       0.206\n",
       "Newspaper     -0.0010      0.006     -0.177      0.860      -0.013       0.011\n",
       "==============================================================================\n",
       "Omnibus:                       60.414   Durbin-Watson:                   2.084\n",
       "Prob(Omnibus):                  0.000   Jarque-Bera (JB):              151.241\n",
       "Skew:                          -1.327   Prob(JB):                     1.44e-33\n",
       "Kurtosis:                       6.332   Cond. No.                         454.\n",
       "==============================================================================\n",
       "\n",
       "Warnings:\n",
       "[1] Standard Errors assume that the covariance matrix of the errors is correctly specified.\n",
       "\"\"\""
      ]
     },
     "execution_count": 248,
     "metadata": {},
     "output_type": "execute_result"
    }
   ],
   "source": [
    "# print a summary of the fitted model\n",
    "lm.summary()"
   ]
  },
  {
   "cell_type": "markdown",
   "metadata": {},
   "source": [
    "以下就一些比較關鍵的部分說明：\n",
    "\n",
    "- TV及Radio有顯著的**p值**，反觀Newspaper沒有。因此我們拒絕TV及Radio的虛無假設，不拒絕Newspaper的虛無假設。\n",
    "- TV及Radio的廣告投入成本與銷售量為正相關，而Newspaper的部分為(微微的)負相關，不過那已經不要緊，我們已經\"不拒絕其虛無假設\"\n",
    "- 此模型的決定係數高達0.897，比前一個模型還高，這表示三個特徵納入時，模型比只考慮TV時有更好的配適"
   ]
  },
  {
   "cell_type": "markdown",
   "metadata": {},
   "source": [
    "### 特徵挑選(Feature Selection)\n",
    "\n",
    "如何決定哪些要挑選哪些特徵來進行線性模型配適呢？：\n",
    "- 都試試看，並且保留p值比較小的模型\n",
    "- 檢查每次新增新的特徵值，是否決策係數將會提高\n",
    "\n",
    "此方法的缺點為何？\n",
    "- 線性模型依賴於許多假設，例如特徵之間要各自獨立，若是違反了這些假設決定係數及p值就會降低可性度\n",
    "- 決定係數容易造成**過度配適(overfitting)**，因此沒辦法保證模型的決定係數越高一定越好。以下為例：\n"
   ]
  },
  {
   "cell_type": "code",
   "execution_count": 249,
   "metadata": {},
   "outputs": [
    {
     "data": {
      "text/plain": [
       "0.89719426108289568"
      ]
     },
     "execution_count": 249,
     "metadata": {},
     "output_type": "execute_result"
    }
   ],
   "source": [
    "# only include TV and Radio in the model\n",
    "lm = smf.ols(formula='Sales ~ TV + Radio', data=data).fit()\n",
    "lm.rsquared"
   ]
  },
  {
   "cell_type": "code",
   "execution_count": 250,
   "metadata": {},
   "outputs": [
    {
     "data": {
      "text/plain": [
       "0.89721063817895219"
      ]
     },
     "execution_count": 250,
     "metadata": {},
     "output_type": "execute_result"
    }
   ],
   "source": [
    "# add Newspaper to the model (which we believe has no association with Sales)\n",
    "lm = smf.ols(formula='Sales ~ TV + Radio + Newspaper', data=data).fit()\n",
    "lm.rsquared"
   ]
  },
  {
   "cell_type": "markdown",
   "metadata": {},
   "source": [
    "**R-squared will always increase as you add more features to the model**, even if they are unrelated to the response. Thus, selecting the model with the highest R-squared is not a reliable approach for choosing the best linear model.\n",
    "\n",
    "更好的特徵挑選方法，**交叉驗證(Cross-validation, CV)**，能夠更好的估計樣本外誤差(out-of-sample error)，scikit-learn套件有相關方法，可以善用其達到更好的特徵挑選及參數調校，更重要的是CV能夠被應用在任何模型。\n",
    "\n",
    "#### ++++++秒懂交叉驗證\n",
    "![](_img/10fold-cv.png)\n",
    "http://scikit-learn.org/stable/modules/cross_validation.html"
   ]
  },
  {
   "cell_type": "markdown",
   "metadata": {},
   "source": [
    "### Linear Regression in scikit-learn\n",
    "\n",
    "Let's redo some of the Statsmodels code above in scikit-learn:"
   ]
  },
  {
   "cell_type": "code",
   "execution_count": 251,
   "metadata": {},
   "outputs": [
    {
     "name": "stdout",
     "output_type": "stream",
     "text": [
      "2.93888936946\n",
      "[ 0.04576465  0.18853002 -0.00103749]\n"
     ]
    }
   ],
   "source": [
    "# create x and y\n",
    "feature_cols = ['TV', 'Radio', 'Newspaper']\n",
    "x = data[feature_cols]\n",
    "y = data.Sales\n",
    "\n",
    "# follow the usual sklearn pattern: import, instantiate, fit\n",
    "from sklearn.linear_model import LinearRegression\n",
    "lm = LinearRegression()\n",
    "lm.fit(x, y)\n",
    "\n",
    "# print intercept and coefficients\n",
    "print(lm.intercept_)\n",
    "print(lm.coef_)"
   ]
  },
  {
   "cell_type": "code",
   "execution_count": 252,
   "metadata": {
    "scrolled": true
   },
   "outputs": [
    {
     "data": {
      "text/plain": [
       "[('TV', 0.045764645455397608),\n",
       " ('Radio', 0.18853001691820462),\n",
       " ('Newspaper', -0.0010374930424762972)]"
      ]
     },
     "execution_count": 252,
     "metadata": {},
     "output_type": "execute_result"
    }
   ],
   "source": [
    "# pair the feature names with the coefficients\n",
    "list(zip(feature_cols, lm.coef_))"
   ]
  },
  {
   "cell_type": "code",
   "execution_count": 253,
   "metadata": {
    "scrolled": true
   },
   "outputs": [
    {
     "name": "stderr",
     "output_type": "stream",
     "text": [
      "/Users/Andrew/anaconda/lib/python3.6/site-packages/ipykernel_launcher.py:2: FutureWarning: reshape is deprecated and will raise in a subsequent release. Please use .values.reshape(...) instead\n",
      "  \n"
     ]
    },
    {
     "data": {
      "text/plain": [
       "array([ 12.20266701])"
      ]
     },
     "execution_count": 253,
     "metadata": {},
     "output_type": "execute_result"
    }
   ],
   "source": [
    "# predict for a new observation\n",
    "lm.predict(pd.Series([100, 25, 25]).reshape(1, -1))"
   ]
  },
  {
   "cell_type": "code",
   "execution_count": 254,
   "metadata": {},
   "outputs": [
    {
     "data": {
      "text/plain": [
       "0.89721063817895208"
      ]
     },
     "execution_count": 254,
     "metadata": {},
     "output_type": "execute_result"
    }
   ],
   "source": [
    "# calculate the R-squared\n",
    "lm.score(x, y)"
   ]
  },
  {
   "cell_type": "markdown",
   "metadata": {},
   "source": [
    "比較可惜的是**p-values**及**confidence intervals**在scikit-learn上取得有些不方便\n",
    "\n",
    "有興趣的請參考[HERE](http://scikit-learn.org/stable/modules/generated/sklearn.feature_selection.f_regression.html)"
   ]
  },
  {
   "cell_type": "markdown",
   "metadata": {},
   "source": [
    "## 再次以NBA資料為例(sklearn套件)\n",
    "### 將資料劃分為訓練集與測試集\n",
    "- 將資料劃分為訓練集和測試集是避免過擬合的辦法之一"
   ]
  },
  {
   "cell_type": "code",
   "execution_count": 84,
   "metadata": {
    "collapsed": true
   },
   "outputs": [],
   "source": [
    "train = nba.sample(frac=0.8, random_state=1)\n",
    "test = nba.loc[~nba.index.isin(train.index)]\n"
   ]
  },
  {
   "cell_type": "markdown",
   "metadata": {},
   "source": [
    "### 假設我們希望通過球員的投籃命中預測其助攻次數"
   ]
  },
  {
   "cell_type": "code",
   "execution_count": 87,
   "metadata": {},
   "outputs": [],
   "source": [
    "from sklearn.linear_model import LinearRegression\n",
    "lr = LinearRegression()\n",
    "lr.fit(train[[\"fg\"]], train[\"ast\"])\n",
    "predictions = lr.predict(test[[\"fg\"]])"
   ]
  },
  {
   "cell_type": "markdown",
   "metadata": {},
   "source": [
    "### 將原始值與預估值以DataFrame共同列出\n",
    "- test[['ast']]為DataFrame\n",
    "- test['ast']為Series\n",
    "- test['ast'].values為ndarray"
   ]
  },
  {
   "cell_type": "code",
   "execution_count": 257,
   "metadata": {
    "scrolled": false
   },
   "outputs": [
    {
     "name": "stdout",
     "output_type": "stream",
     "text": [
      "<class 'pandas.core.frame.DataFrame'>\n",
      "<class 'pandas.core.series.Series'>\n",
      "<class 'numpy.ndarray'>\n"
     ]
    }
   ],
   "source": [
    "print(type(test[['ast']]))\n",
    "print(type(test['ast']))\n",
    "print(type(test['ast'].values))"
   ]
  },
  {
   "cell_type": "markdown",
   "metadata": {},
   "source": [
    "### 以Series合併的話，可能會有index的錯亂，故以ndarray合併"
   ]
  },
  {
   "cell_type": "code",
   "execution_count": 258,
   "metadata": {
    "scrolled": false
   },
   "outputs": [
    {
     "data": {
      "text/plain": [
       "1      43\n",
       "3     248\n",
       "7      71\n",
       "15     17\n",
       "22     61\n",
       "Name: ast, dtype: int64"
      ]
     },
     "execution_count": 258,
     "metadata": {},
     "output_type": "execute_result"
    }
   ],
   "source": [
    "test['ast'].head()"
   ]
  },
  {
   "cell_type": "code",
   "execution_count": 259,
   "metadata": {
    "scrolled": false
   },
   "outputs": [
    {
     "data": {
      "text/html": [
       "<div>\n",
       "<style>\n",
       "    .dataframe thead tr:only-child th {\n",
       "        text-align: right;\n",
       "    }\n",
       "\n",
       "    .dataframe thead th {\n",
       "        text-align: left;\n",
       "    }\n",
       "\n",
       "    .dataframe tbody tr th {\n",
       "        vertical-align: top;\n",
       "    }\n",
       "</style>\n",
       "<table border=\"1\" class=\"dataframe\">\n",
       "  <thead>\n",
       "    <tr style=\"text-align: right;\">\n",
       "      <th></th>\n",
       "      <th>ast</th>\n",
       "      <th>pred</th>\n",
       "    </tr>\n",
       "  </thead>\n",
       "  <tbody>\n",
       "    <tr>\n",
       "      <th>0</th>\n",
       "      <td>43</td>\n",
       "      <td>57.207644</td>\n",
       "    </tr>\n",
       "    <tr>\n",
       "      <th>1</th>\n",
       "      <td>248</td>\n",
       "      <td>264.850225</td>\n",
       "    </tr>\n",
       "    <tr>\n",
       "      <th>2</th>\n",
       "      <td>71</td>\n",
       "      <td>80.154667</td>\n",
       "    </tr>\n",
       "    <tr>\n",
       "      <th>3</th>\n",
       "      <td>17</td>\n",
       "      <td>91.908021</td>\n",
       "    </tr>\n",
       "    <tr>\n",
       "      <th>4</th>\n",
       "      <td>61</td>\n",
       "      <td>95.825806</td>\n",
       "    </tr>\n",
       "    <tr>\n",
       "      <th>5</th>\n",
       "      <td>28</td>\n",
       "      <td>34.260620</td>\n",
       "    </tr>\n",
       "    <tr>\n",
       "      <th>6</th>\n",
       "      <td>60</td>\n",
       "      <td>61.685112</td>\n",
       "    </tr>\n",
       "    <tr>\n",
       "      <th>7</th>\n",
       "      <td>303</td>\n",
       "      <td>147.316688</td>\n",
       "    </tr>\n",
       "    <tr>\n",
       "      <th>8</th>\n",
       "      <td>420</td>\n",
       "      <td>218.396494</td>\n",
       "    </tr>\n",
       "    <tr>\n",
       "      <th>9</th>\n",
       "      <td>179</td>\n",
       "      <td>193.770419</td>\n",
       "    </tr>\n",
       "  </tbody>\n",
       "</table>\n",
       "</div>"
      ],
      "text/plain": [
       "   ast        pred\n",
       "0   43   57.207644\n",
       "1  248  264.850225\n",
       "2   71   80.154667\n",
       "3   17   91.908021\n",
       "4   61   95.825806\n",
       "5   28   34.260620\n",
       "6   60   61.685112\n",
       "7  303  147.316688\n",
       "8  420  218.396494\n",
       "9  179  193.770419"
      ]
     },
     "execution_count": 259,
     "metadata": {},
     "output_type": "execute_result"
    }
   ],
   "source": [
    "pd.DataFrame({'ast':test['ast'].values,'pred':predictions}).head(10)\n"
   ]
  },
  {
   "cell_type": "markdown",
   "metadata": {},
   "source": [
    "### 計算此模型的統計摘要"
   ]
  },
  {
   "cell_type": "code",
   "execution_count": 260,
   "metadata": {
    "scrolled": true
   },
   "outputs": [
    {
     "data": {
      "text/html": [
       "<table class=\"simpletable\">\n",
       "<caption>OLS Regression Results</caption>\n",
       "<tr>\n",
       "  <th>Dep. Variable:</th>           <td>ast</td>       <th>  R-squared:         </th> <td>   0.562</td>\n",
       "</tr>\n",
       "<tr>\n",
       "  <th>Model:</th>                   <td>OLS</td>       <th>  Adj. R-squared:    </th> <td>   0.561</td>\n",
       "</tr>\n",
       "<tr>\n",
       "  <th>Method:</th>             <td>Least Squares</td>  <th>  F-statistic:       </th> <td>   492.1</td>\n",
       "</tr>\n",
       "<tr>\n",
       "  <th>Date:</th>             <td>Wed, 27 Sep 2017</td> <th>  Prob (F-statistic):</th> <td>1.03e-70</td>\n",
       "</tr>\n",
       "<tr>\n",
       "  <th>Time:</th>                 <td>09:14:43</td>     <th>  Log-Likelihood:    </th> <td> -2273.3</td>\n",
       "</tr>\n",
       "<tr>\n",
       "  <th>No. Observations:</th>      <td>   385</td>      <th>  AIC:               </th> <td>   4551.</td>\n",
       "</tr>\n",
       "<tr>\n",
       "  <th>Df Residuals:</th>          <td>   383</td>      <th>  BIC:               </th> <td>   4559.</td>\n",
       "</tr>\n",
       "<tr>\n",
       "  <th>Df Model:</th>              <td>     1</td>      <th>                     </th>     <td> </td>   \n",
       "</tr>\n",
       "<tr>\n",
       "  <th>Covariance Type:</th>      <td>nonrobust</td>    <th>                     </th>     <td> </td>   \n",
       "</tr>\n",
       "</table>\n",
       "<table class=\"simpletable\">\n",
       "<tr>\n",
       "      <td></td>         <th>coef</th>     <th>std err</th>      <th>t</th>      <th>P>|t|</th>  <th>[0.025</th>    <th>0.975]</th>  \n",
       "</tr>\n",
       "<tr>\n",
       "  <th>Intercept</th> <td>   -2.3302</td> <td>    6.855</td> <td>   -0.340</td> <td> 0.734</td> <td>  -15.808</td> <td>   11.147</td>\n",
       "</tr>\n",
       "<tr>\n",
       "  <th>fga</th>       <td>    0.2712</td> <td>    0.012</td> <td>   22.183</td> <td> 0.000</td> <td>    0.247</td> <td>    0.295</td>\n",
       "</tr>\n",
       "</table>\n",
       "<table class=\"simpletable\">\n",
       "<tr>\n",
       "  <th>Omnibus:</th>       <td>162.497</td> <th>  Durbin-Watson:     </th> <td>   1.990</td> \n",
       "</tr>\n",
       "<tr>\n",
       "  <th>Prob(Omnibus):</th> <td> 0.000</td>  <th>  Jarque-Bera (JB):  </th> <td> 849.356</td> \n",
       "</tr>\n",
       "<tr>\n",
       "  <th>Skew:</th>          <td> 1.744</td>  <th>  Prob(JB):          </th> <td>3.67e-185</td>\n",
       "</tr>\n",
       "<tr>\n",
       "  <th>Kurtosis:</th>      <td> 9.386</td>  <th>  Cond. No.          </th> <td>    847.</td> \n",
       "</tr>\n",
       "</table>"
      ],
      "text/plain": [
       "<class 'statsmodels.iolib.summary.Summary'>\n",
       "\"\"\"\n",
       "                            OLS Regression Results                            \n",
       "==============================================================================\n",
       "Dep. Variable:                    ast   R-squared:                       0.562\n",
       "Model:                            OLS   Adj. R-squared:                  0.561\n",
       "Method:                 Least Squares   F-statistic:                     492.1\n",
       "Date:                Wed, 27 Sep 2017   Prob (F-statistic):           1.03e-70\n",
       "Time:                        09:14:43   Log-Likelihood:                -2273.3\n",
       "No. Observations:                 385   AIC:                             4551.\n",
       "Df Residuals:                     383   BIC:                             4559.\n",
       "Df Model:                           1                                         \n",
       "Covariance Type:            nonrobust                                         \n",
       "==============================================================================\n",
       "                 coef    std err          t      P>|t|      [0.025      0.975]\n",
       "------------------------------------------------------------------------------\n",
       "Intercept     -2.3302      6.855     -0.340      0.734     -15.808      11.147\n",
       "fga            0.2712      0.012     22.183      0.000       0.247       0.295\n",
       "==============================================================================\n",
       "Omnibus:                      162.497   Durbin-Watson:                   1.990\n",
       "Prob(Omnibus):                  0.000   Jarque-Bera (JB):              849.356\n",
       "Skew:                           1.744   Prob(JB):                    3.67e-185\n",
       "Kurtosis:                       9.386   Cond. No.                         847.\n",
       "==============================================================================\n",
       "\n",
       "Warnings:\n",
       "[1] Standard Errors assume that the covariance matrix of the errors is correctly specified.\n",
       "\"\"\""
      ]
     },
     "execution_count": 260,
     "metadata": {},
     "output_type": "execute_result"
    }
   ],
   "source": [
    "import statsmodels.formula.api as sm\n",
    "model = sm.ols(formula='ast ~ fga', data=train)\n",
    "fitted = model.fit()\n",
    "fitted.summary()"
   ]
  },
  {
   "cell_type": "markdown",
   "metadata": {},
   "source": [
    "### +++++計算誤差，這邊使用MSE(Mean Squared Error)"
   ]
  },
  {
   "cell_type": "code",
   "execution_count": 261,
   "metadata": {
    "scrolled": true
   },
   "outputs": [
    {
     "data": {
      "text/plain": [
       "7618.6862376310555"
      ]
     },
     "execution_count": 261,
     "metadata": {},
     "output_type": "execute_result"
    }
   ],
   "source": [
    "from sklearn.metrics import mean_squared_error\n",
    "mean_squared_error(test[\"ast\"], predictions)\n",
    "      "
   ]
  },
  {
   "cell_type": "markdown",
   "metadata": {},
   "source": [
    "# References\n",
    "\n",
    "[1] Vik P. (2015), [Python vs R: head to head data analysis](https://www.dataquest.io/blog/python-vs-r/)\n",
    "\n",
    "[2] 蔡炎龍, [Python 與數據分析](http://u.camdemy.com/course/122/intro)\n",
    "\n",
    "[3] David, C. [大數學堂](http://www.largitdata.com/)\n",
    "\n",
    "[4] http://belleaya.pixnet.net/blog/post/30754486\n",
    "\n",
    "[5] [Four ways to conduct one-way ANOVAs with Python](http://www.marsja.se/four-ways-to-conduct-one-way-anovas-using-python/)\n",
    "\n",
    "[6] [Simple Linear Regression]https://www.r-bloggers.com/simple-linear-regression-2/\n",
    "\n",
    "[7] [Github: justmarkham/DAT4](https://github.com/justmarkham/DAT4)\n",
    "\n",
    "[8] Gareth J., Daniela W., Trevor H. and Robert T. (2015), [An Introduction to Statistical Learning](http://www-bcf.usc.edu/~gareth/ISL/)"
   ]
  },
  {
   "cell_type": "markdown",
   "metadata": {
    "nbpresent": {
     "id": "19d4907f-f028-44ec-a86f-e09a319b8dfd"
    },
    "slideshow": {
     "slide_type": "slide"
    }
   },
   "source": [
    "![問題](_img/any-questions.jpg)\n",
    "\n",
    "<img src=\"_img/line.jpg\" style=\"width:150px;\">"
   ]
  }
 ],
 "metadata": {
  "anaconda-cloud": {},
  "kernelspec": {
   "display_name": "Python 3",
   "language": "python",
   "name": "python3"
  },
  "language_info": {
   "codemirror_mode": {
    "name": "ipython",
    "version": 3
   },
   "file_extension": ".py",
   "mimetype": "text/x-python",
   "name": "python",
   "nbconvert_exporter": "python",
   "pygments_lexer": "ipython3",
   "version": "3.6.1"
  },
  "toc": {
   "colors": {
    "hover_highlight": "#DAA520",
    "navigate_num": "#000000",
    "navigate_text": "#333333",
    "running_highlight": "#FF0000",
    "selected_highlight": "#FFD700",
    "sidebar_border": "#EEEEEE",
    "wrapper_background": "#FFFFFF"
   },
   "moveMenuLeft": true,
   "nav_menu": {
    "height": "512px",
    "width": "252px"
   },
   "navigate_menu": true,
   "number_sections": true,
   "sideBar": true,
   "skip_h1_title": false,
   "threshold": 4,
   "toc_cell": true,
   "toc_position": {
    "height": "552px",
    "left": "0px",
    "right": "948.821px",
    "top": "106px",
    "width": "256px"
   },
   "toc_section_display": "block",
   "toc_window_display": false,
   "widenNotebook": false
  },
  "varInspector": {
   "cols": {
    "lenName": 16,
    "lenType": 16,
    "lenVar": 40
   },
   "kernels_config": {
    "python": {
     "delete_cmd_postfix": "",
     "delete_cmd_prefix": "del ",
     "library": "var_list.py",
     "varRefreshCmd": "print(var_dic_list())"
    },
    "r": {
     "delete_cmd_postfix": ") ",
     "delete_cmd_prefix": "rm(",
     "library": "var_list.r",
     "varRefreshCmd": "cat(var_dic_list()) "
    }
   },
   "types_to_exclude": [
    "module",
    "function",
    "builtin_function_or_method",
    "instance",
    "_Feature"
   ],
   "window_display": false
  }
 },
 "nbformat": 4,
 "nbformat_minor": 1
}
